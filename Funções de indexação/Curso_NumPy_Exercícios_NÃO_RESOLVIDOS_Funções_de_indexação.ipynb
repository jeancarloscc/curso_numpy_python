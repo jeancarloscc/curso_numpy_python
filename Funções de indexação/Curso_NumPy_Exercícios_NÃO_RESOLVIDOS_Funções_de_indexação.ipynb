{
  "nbformat": 4,
  "nbformat_minor": 0,
  "metadata": {
    "colab": {
      "provenance": []
    },
    "kernelspec": {
      "name": "python3",
      "display_name": "Python 3"
    },
    "language_info": {
      "name": "python"
    }
  },
  "cells": [
    {
      "cell_type": "code",
      "execution_count": null,
      "metadata": {
        "colab": {
          "base_uri": "https://localhost:8080/",
          "height": 35
        },
        "id": "IBRti16i-IgV",
        "outputId": "e880fe8f-04be-442e-f625-d6de744bccc0"
      },
      "outputs": [
        {
          "output_type": "execute_result",
          "data": {
            "text/plain": [
              "'1.25.2'"
            ],
            "application/vnd.google.colaboratory.intrinsic+json": {
              "type": "string"
            }
          },
          "metadata": {},
          "execution_count": 1
        }
      ],
      "source": [
        "import numpy as np\n",
        "np.__version__"
      ]
    },
    {
      "cell_type": "code",
      "source": [
        "import matplotlib\n",
        "import matplotlib.pyplot as plt\n",
        "matplotlib.__version__"
      ],
      "metadata": {
        "colab": {
          "base_uri": "https://localhost:8080/",
          "height": 35
        },
        "id": "XYa6AvznM1qh",
        "outputId": "e2504709-d79d-4e9e-a377-82c395249c37"
      },
      "execution_count": null,
      "outputs": [
        {
          "output_type": "execute_result",
          "data": {
            "text/plain": [
              "'3.7.1'"
            ],
            "application/vnd.google.colaboratory.intrinsic+json": {
              "type": "string"
            }
          },
          "metadata": {},
          "execution_count": 2
        }
      ]
    },
    {
      "cell_type": "code",
      "source": [
        "import sklearn\n",
        "from sklearn.metrics import pairwise_distances\n",
        "sklearn.__version__"
      ],
      "metadata": {
        "colab": {
          "base_uri": "https://localhost:8080/",
          "height": 35
        },
        "id": "HAvpkZ-aPG8l",
        "outputId": "95a02226-4883-4a2d-f0ae-400fdc635bb9"
      },
      "execution_count": null,
      "outputs": [
        {
          "output_type": "execute_result",
          "data": {
            "text/plain": [
              "'1.2.2'"
            ],
            "application/vnd.google.colaboratory.intrinsic+json": {
              "type": "string"
            }
          },
          "metadata": {},
          "execution_count": 3
        }
      ]
    },
    {
      "cell_type": "markdown",
      "source": [
        "#### `np.nonzero`"
      ],
      "metadata": {
        "id": "9D9XlJHBRtOF"
      }
    },
    {
      "cell_type": "markdown",
      "source": [
        "Vamos começar gerando um array de números inteiros aleatórios onde alguns certamente vão ser iguais a 0."
      ],
      "metadata": {
        "id": "ilkL-AjHDWtt"
      }
    },
    {
      "cell_type": "markdown",
      "source": [
        "Instancie um gerador de números aleatórios com `np.random.default_rng` e `seed=60`."
      ],
      "metadata": {
        "id": "047LdnVDDcV0"
      }
    },
    {
      "cell_type": "code",
      "source": [
        "rng = ..."
      ],
      "metadata": {
        "id": "e0AwEZUxDpRF"
      },
      "execution_count": null,
      "outputs": []
    },
    {
      "cell_type": "markdown",
      "source": [
        "Agora, com `rng.integers`, obtenha 50 valores inteiros aleatórios no intervalo [0, 7). Use `reshape` para que este array seja apresentado no formato (2, 5, 5)."
      ],
      "metadata": {
        "id": "Bkz5JyFkDo6Z"
      }
    },
    {
      "cell_type": "code",
      "source": [
        "array = ..."
      ],
      "metadata": {
        "id": "SsSeFi-BD_XE"
      },
      "execution_count": null,
      "outputs": []
    },
    {
      "cell_type": "code",
      "source": [
        "array"
      ],
      "metadata": {
        "colab": {
          "base_uri": "https://localhost:8080/"
        },
        "id": "10GRj4hFEJhT",
        "outputId": "7550f3bb-511d-40d9-b843-0e3729724ff3"
      },
      "execution_count": null,
      "outputs": [
        {
          "output_type": "execute_result",
          "data": {
            "text/plain": [
              "array([[[1, 2, 2, 0, 6],\n",
              "        [0, 6, 6, 6, 6],\n",
              "        [6, 3, 1, 6, 6],\n",
              "        [6, 0, 2, 3, 2],\n",
              "        [6, 4, 4, 0, 2]],\n",
              "\n",
              "       [[3, 3, 5, 2, 4],\n",
              "        [0, 4, 2, 3, 5],\n",
              "        [1, 6, 3, 5, 0],\n",
              "        [5, 2, 0, 3, 2],\n",
              "        [0, 1, 3, 0, 6]]])"
            ]
          },
          "metadata": {},
          "execution_count": 6
        }
      ]
    },
    {
      "cell_type": "markdown",
      "source": [
        "Com `np.nonzero`, recupere os índices necessários para filtrar os valores diferentes de 0."
      ],
      "metadata": {
        "id": "XiTxyBzqENio"
      }
    },
    {
      "cell_type": "code",
      "source": [
        "indices = ..."
      ],
      "metadata": {
        "id": "zEJGm12oEST0"
      },
      "execution_count": null,
      "outputs": []
    },
    {
      "cell_type": "code",
      "source": [
        "indices"
      ],
      "metadata": {
        "colab": {
          "base_uri": "https://localhost:8080/"
        },
        "id": "jXd2-9T4EWPC",
        "outputId": "e0b63ba1-d80c-4959-ebd2-f39fb3b771aa"
      },
      "execution_count": null,
      "outputs": [
        {
          "output_type": "execute_result",
          "data": {
            "text/plain": [
              "(array([0, 0, 0, 0, 0, 0, 0, 0, 0, 0, 0, 0, 0, 0, 0, 0, 0, 0, 0, 0, 0, 1,\n",
              "        1, 1, 1, 1, 1, 1, 1, 1, 1, 1, 1, 1, 1, 1, 1, 1, 1, 1, 1]),\n",
              " array([0, 0, 0, 0, 1, 1, 1, 1, 2, 2, 2, 2, 2, 3, 3, 3, 3, 4, 4, 4, 4, 0,\n",
              "        0, 0, 0, 0, 1, 1, 1, 1, 2, 2, 2, 2, 3, 3, 3, 3, 4, 4, 4]),\n",
              " array([0, 1, 2, 4, 1, 2, 3, 4, 0, 1, 2, 3, 4, 0, 2, 3, 4, 0, 1, 2, 4, 0,\n",
              "        1, 2, 3, 4, 1, 2, 3, 4, 0, 1, 2, 3, 0, 1, 3, 4, 1, 2, 4]))"
            ]
          },
          "metadata": {},
          "execution_count": 8
        }
      ]
    },
    {
      "cell_type": "markdown",
      "source": [
        "👆 Como `array` tem 3 eixos, `np.nonzero` retorna uma tupla com 3 elementos: os índices no eixo 0, os índices no eixo 1 e os índices no eixo 2."
      ],
      "metadata": {
        "id": "3Gj3YiPdfFKb"
      }
    },
    {
      "cell_type": "markdown",
      "source": [
        "Utilize `indices` para recuperar, por indexação, os valores diferentes de 0 de `array`."
      ],
      "metadata": {
        "id": "eKuNb-UwEX27"
      }
    },
    {
      "cell_type": "code",
      "source": [
        "..."
      ],
      "metadata": {
        "colab": {
          "base_uri": "https://localhost:8080/"
        },
        "id": "BlRsnWoEEeTp",
        "outputId": "26435da5-24f1-4dec-e8cf-34aa77f4bd79"
      },
      "execution_count": null,
      "outputs": [
        {
          "output_type": "execute_result",
          "data": {
            "text/plain": [
              "array([1, 2, 2, 6, 6, 6, 6, 6, 6, 3, 1, 6, 6, 6, 2, 3, 2, 6, 4, 4, 2, 3,\n",
              "       3, 5, 2, 4, 4, 2, 3, 5, 1, 6, 3, 5, 5, 2, 3, 2, 1, 3, 6])"
            ]
          },
          "metadata": {},
          "execution_count": 9
        }
      ]
    },
    {
      "cell_type": "markdown",
      "source": [
        "#### `np.where`"
      ],
      "metadata": {
        "id": "5VT4hTMaSXh2"
      }
    },
    {
      "cell_type": "markdown",
      "source": [
        "Com `np.where`, substitua os valores de `array` iguais a 0 por `np.nan`; para os demais valores, substitua por seu dobro."
      ],
      "metadata": {
        "id": "JLOktx-aEoyQ"
      }
    },
    {
      "cell_type": "code",
      "source": [
        "array_where = ..."
      ],
      "metadata": {
        "id": "tinfDahQE0Y4"
      },
      "execution_count": null,
      "outputs": []
    },
    {
      "cell_type": "code",
      "source": [
        "array_where"
      ],
      "metadata": {
        "colab": {
          "base_uri": "https://localhost:8080/"
        },
        "id": "B0hgTObbE4zt",
        "outputId": "db2edfcd-f6b5-4b6a-bd1a-e9a138414b57"
      },
      "execution_count": null,
      "outputs": [
        {
          "output_type": "execute_result",
          "data": {
            "text/plain": [
              "array([[[ 2.,  4.,  4., nan, 12.],\n",
              "        [nan, 12., 12., 12., 12.],\n",
              "        [12.,  6.,  2., 12., 12.],\n",
              "        [12., nan,  4.,  6.,  4.],\n",
              "        [12.,  8.,  8., nan,  4.]],\n",
              "\n",
              "       [[ 6.,  6., 10.,  4.,  8.],\n",
              "        [nan,  8.,  4.,  6., 10.],\n",
              "        [ 2., 12.,  6., 10., nan],\n",
              "        [10.,  4., nan,  6.,  4.],\n",
              "        [nan,  2.,  6., nan, 12.]]])"
            ]
          },
          "metadata": {},
          "execution_count": 11
        }
      ]
    },
    {
      "cell_type": "markdown",
      "source": [
        "#### `np.argwhere`"
      ],
      "metadata": {
        "id": "AmbMGz3cT1Lu"
      }
    },
    {
      "cell_type": "markdown",
      "source": [
        "Utilize `np.argwhere` para recuperar os índices dos valores de `array` que são diferentes de 0."
      ],
      "metadata": {
        "id": "tPKWZs4YFEkG"
      }
    },
    {
      "cell_type": "code",
      "source": [
        "indices = ..."
      ],
      "metadata": {
        "id": "tEGlE7bUFJz8"
      },
      "execution_count": null,
      "outputs": []
    },
    {
      "cell_type": "code",
      "source": [
        "indices"
      ],
      "metadata": {
        "colab": {
          "base_uri": "https://localhost:8080/"
        },
        "id": "H-ZG1Jn3FM_Z",
        "outputId": "0565be4a-17af-4bd1-88c5-9b3e2979b40b"
      },
      "execution_count": null,
      "outputs": [
        {
          "output_type": "execute_result",
          "data": {
            "text/plain": [
              "array([[0, 0, 0],\n",
              "       [0, 0, 1],\n",
              "       [0, 0, 2],\n",
              "       [0, 0, 4],\n",
              "       [0, 1, 1],\n",
              "       [0, 1, 2],\n",
              "       [0, 1, 3],\n",
              "       [0, 1, 4],\n",
              "       [0, 2, 0],\n",
              "       [0, 2, 1],\n",
              "       [0, 2, 2],\n",
              "       [0, 2, 3],\n",
              "       [0, 2, 4],\n",
              "       [0, 3, 0],\n",
              "       [0, 3, 2],\n",
              "       [0, 3, 3],\n",
              "       [0, 3, 4],\n",
              "       [0, 4, 0],\n",
              "       [0, 4, 1],\n",
              "       [0, 4, 2],\n",
              "       [0, 4, 4],\n",
              "       [1, 0, 0],\n",
              "       [1, 0, 1],\n",
              "       [1, 0, 2],\n",
              "       [1, 0, 3],\n",
              "       [1, 0, 4],\n",
              "       [1, 1, 1],\n",
              "       [1, 1, 2],\n",
              "       [1, 1, 3],\n",
              "       [1, 1, 4],\n",
              "       [1, 2, 0],\n",
              "       [1, 2, 1],\n",
              "       [1, 2, 2],\n",
              "       [1, 2, 3],\n",
              "       [1, 3, 0],\n",
              "       [1, 3, 1],\n",
              "       [1, 3, 3],\n",
              "       [1, 3, 4],\n",
              "       [1, 4, 1],\n",
              "       [1, 4, 2],\n",
              "       [1, 4, 4]])"
            ]
          },
          "metadata": {},
          "execution_count": 13
        }
      ]
    },
    {
      "cell_type": "markdown",
      "source": [
        "👆 Observe que, para esta condição (valores diferentes de 0), `np.argwhere` retorna os mesmos índices que `np.nonzero`, mas organizados de forma diferente. Enquanto que `nonzero` retorna 3 arrays, cada um representando as posições dentro de um eixo do array, `np.argwhere` retorna os próprios índices organizados como um array único."
      ],
      "metadata": {
        "id": "sZKZ3gMzFSoD"
      }
    },
    {
      "cell_type": "markdown",
      "source": [
        "#### `np.select`"
      ],
      "metadata": {
        "id": "Ck1fwH_DZTCq"
      }
    },
    {
      "cell_type": "markdown",
      "source": [
        "Repita o exercício de `np.where`, mas com a função `np.select`. Neste caso, a segunda condição será `array != 0`. Como as duas condiçoes cobrem 100% das possibilidades, não há necessidade de informar um valor para o parâmetro `default`."
      ],
      "metadata": {
        "id": "veV02BjdF6Xw"
      }
    },
    {
      "cell_type": "code",
      "source": [
        "array_select = ..."
      ],
      "metadata": {
        "id": "fNhd2vaeGFWs"
      },
      "execution_count": null,
      "outputs": []
    },
    {
      "cell_type": "code",
      "source": [
        "array_select"
      ],
      "metadata": {
        "colab": {
          "base_uri": "https://localhost:8080/"
        },
        "id": "LQq9Wq8KGc_6",
        "outputId": "ab3feb13-11a6-46b5-de78-1a82572218c0"
      },
      "execution_count": null,
      "outputs": [
        {
          "output_type": "execute_result",
          "data": {
            "text/plain": [
              "array([[[ 2.,  4.,  4., nan, 12.],\n",
              "        [nan, 12., 12., 12., 12.],\n",
              "        [12.,  6.,  2., 12., 12.],\n",
              "        [12., nan,  4.,  6.,  4.],\n",
              "        [12.,  8.,  8., nan,  4.]],\n",
              "\n",
              "       [[ 6.,  6., 10.,  4.,  8.],\n",
              "        [nan,  8.,  4.,  6., 10.],\n",
              "        [ 2., 12.,  6., 10., nan],\n",
              "        [10.,  4., nan,  6.,  4.],\n",
              "        [nan,  2.,  6., nan, 12.]]])"
            ]
          },
          "metadata": {},
          "execution_count": 15
        }
      ]
    },
    {
      "cell_type": "markdown",
      "source": [
        "#### `np.unravel_index`"
      ],
      "metadata": {
        "id": "DwCt7BjVV5GE"
      }
    },
    {
      "cell_type": "markdown",
      "source": [
        "Recupere o índice correspondente ao valor de número 35 de `array`. Você pode utilizar `array.shape` para informar `shape` na chamada da função."
      ],
      "metadata": {
        "id": "bfl271lkGhyM"
      }
    },
    {
      "cell_type": "code",
      "source": [
        "index = ..."
      ],
      "metadata": {
        "id": "eKNhx5hNGqaX"
      },
      "execution_count": null,
      "outputs": []
    },
    {
      "cell_type": "code",
      "source": [
        "index"
      ],
      "metadata": {
        "colab": {
          "base_uri": "https://localhost:8080/"
        },
        "id": "h0TvqYFqG2gt",
        "outputId": "cdb8bbce-3a9f-4113-8bf5-e21356bb380f"
      },
      "execution_count": null,
      "outputs": [
        {
          "output_type": "execute_result",
          "data": {
            "text/plain": [
              "(1, 2, 0)"
            ]
          },
          "metadata": {},
          "execution_count": 17
        }
      ]
    },
    {
      "cell_type": "markdown",
      "source": [
        "#### `np.diag_indices` / `np.tril_indices` / `np.triu_indices`"
      ],
      "metadata": {
        "id": "H_MpAy0NW_lR"
      }
    },
    {
      "cell_type": "markdown",
      "source": [
        "Estas funções se aplicam a matrizes quadradas.\n",
        "\n",
        "Comece gerando um array 2D de números inteiros aleatórios, amostrados no intervalo [0, 50), no formato 6x2."
      ],
      "metadata": {
        "id": "2ySchkTWLS_G"
      }
    },
    {
      "cell_type": "code",
      "source": [
        "array = ..."
      ],
      "metadata": {
        "id": "BHJsJr93Ll1f"
      },
      "execution_count": null,
      "outputs": []
    },
    {
      "cell_type": "code",
      "source": [
        "array"
      ],
      "metadata": {
        "colab": {
          "base_uri": "https://localhost:8080/"
        },
        "id": "GQcM3ciRMNlw",
        "outputId": "489db06f-6762-4f86-f295-7412e46221ca"
      },
      "execution_count": null,
      "outputs": [
        {
          "output_type": "execute_result",
          "data": {
            "text/plain": [
              "array([[29, 45],\n",
              "       [31, 49],\n",
              "       [37, 47],\n",
              "       [32, 23],\n",
              "       [39, 28],\n",
              "       [17,  3]])"
            ]
          },
          "metadata": {},
          "execution_count": 19
        }
      ]
    },
    {
      "cell_type": "markdown",
      "source": [
        "Esta é uma forma bastante comum pra representar pontos em um plano cartesiano; cada linha representa um ponto, a primeira coluna é a coordenada x e a segunda é a coordenada y. No nosso exemplo, são 6 pontos.\n",
        "\n",
        "Com o auxílio da biblioteca `matplotlib`, vamos visualizar esses pontos."
      ],
      "metadata": {
        "id": "gdkbcxjUMoeg"
      }
    },
    {
      "cell_type": "code",
      "source": [
        "plt.scatter(array[:, 0], array[:, 1]);"
      ],
      "metadata": {
        "colab": {
          "base_uri": "https://localhost:8080/",
          "height": 430
        },
        "id": "kujuuBElNBx8",
        "outputId": "c82b2ea0-3f9f-46c2-f127-1cf3455b71ab"
      },
      "execution_count": null,
      "outputs": [
        {
          "output_type": "display_data",
          "data": {
            "text/plain": [
              "<Figure size 640x480 with 1 Axes>"
            ],
            "image/png": "[encoded data removed]"
          },
          "metadata": {}
        }
      ]
    },
    {
      "cell_type": "markdown",
      "source": [
        "Às vezes nós queremos calcular a distância, par a par, entre todos os pontos de um banco de dados. Para isso, vamos usar uma função da biblioteca `sklearn`."
      ],
      "metadata": {
        "id": "w_nKztEmNgFG"
      }
    },
    {
      "cell_type": "code",
      "source": [
        "dist = pairwise_distances(array, array)"
      ],
      "metadata": {
        "id": "8CufJ0CpOfmF"
      },
      "execution_count": null,
      "outputs": []
    },
    {
      "cell_type": "code",
      "source": [
        "dist"
      ],
      "metadata": {
        "colab": {
          "base_uri": "https://localhost:8080/"
        },
        "id": "lLzcxjszPwAZ",
        "outputId": "3cb83509-a804-4cfa-cd9c-25c243dbc07a"
      },
      "execution_count": null,
      "outputs": [
        {
          "output_type": "execute_result",
          "data": {
            "text/plain": [
              "array([[ 0.        ,  4.47213595,  8.24621125, 22.20360331, 19.72308292,\n",
              "        43.68065934],\n",
              "       [ 4.47213595,  0.        ,  6.32455532, 26.01922366, 22.47220505,\n",
              "        48.08326112],\n",
              "       [ 8.24621125,  6.32455532,  0.        , 24.51530134, 19.10497317,\n",
              "        48.33218389],\n",
              "       [22.20360331, 26.01922366, 24.51530134,  0.        ,  8.60232527,\n",
              "        25.        ],\n",
              "       [19.72308292, 22.47220505, 19.10497317,  8.60232527,  0.        ,\n",
              "        33.30165161],\n",
              "       [43.68065934, 48.08326112, 48.33218389, 25.        , 33.30165161,\n",
              "         0.        ]])"
            ]
          },
          "metadata": {},
          "execution_count": 22
        }
      ]
    },
    {
      "cell_type": "code",
      "source": [
        "dist.shape"
      ],
      "metadata": {
        "colab": {
          "base_uri": "https://localhost:8080/"
        },
        "id": "9za09ABVPyGh",
        "outputId": "5886bdc3-56ff-49de-8400-4d2c54215209"
      },
      "execution_count": null,
      "outputs": [
        {
          "output_type": "execute_result",
          "data": {
            "text/plain": [
              "(6, 6)"
            ]
          },
          "metadata": {},
          "execution_count": 23
        }
      ]
    },
    {
      "cell_type": "markdown",
      "source": [
        "Observe que a matriz de distâncias tem formato 6x6. Isso porque ela representa a distância dos 6 pontos entre si. A ordem dos pontos é a mesma do array: a primeira linha/coluna representa o primeiro ponto (primeira linha de `array`), a segunda linha/coluna representa o segundo ponto, e assim por diante."
      ],
      "metadata": {
        "id": "njHVugOVP1Ox"
      }
    },
    {
      "cell_type": "markdown",
      "source": [
        "Também observe que os valores na diagonal principal são todos iguais a 0. Isto ocorre porque esta diagonal representa a distância de cada ponto para si mesmo, que é obviamente zero."
      ],
      "metadata": {
        "id": "dbHdZ2BmQJ26"
      }
    },
    {
      "cell_type": "markdown",
      "source": [
        "Neste caso, como temos poucos pontos, é fácil verificar visualmente esta propriedade da matriz de distâncias. Mas suponha que você tenha uma matriz enorme, correspondente a milhares de pontos. Como pode ser feita essa verificação?"
      ],
      "metadata": {
        "id": "gU1CQxa7Qa4n"
      }
    },
    {
      "cell_type": "markdown",
      "source": [
        "Utilize `np.diag_indices` para recuperar os índices da diagonal desta matriz."
      ],
      "metadata": {
        "id": "lyKMdEUtHubT"
      }
    },
    {
      "cell_type": "code",
      "source": [
        "indices = ..."
      ],
      "metadata": {
        "id": "8ka8m-XdH4f2"
      },
      "execution_count": null,
      "outputs": []
    },
    {
      "cell_type": "code",
      "source": [
        "indices"
      ],
      "metadata": {
        "colab": {
          "base_uri": "https://localhost:8080/"
        },
        "id": "6Yk32kEiH8_U",
        "outputId": "d0762dfb-d4e2-42ff-cab9-8363b9ce85bf"
      },
      "execution_count": null,
      "outputs": [
        {
          "output_type": "execute_result",
          "data": {
            "text/plain": [
              "(array([0, 1, 2, 3, 4, 5]), array([0, 1, 2, 3, 4, 5]))"
            ]
          },
          "metadata": {},
          "execution_count": 25
        }
      ]
    },
    {
      "cell_type": "markdown",
      "source": [
        "Agora, utilizando `indices`, recupere os valores de `dist` na diagonal, usando indexação."
      ],
      "metadata": {
        "id": "SO3zm37iQqzX"
      }
    },
    {
      "cell_type": "code",
      "source": [
        "values_diag = ..."
      ],
      "metadata": {
        "id": "1lpYXfHKQzo_"
      },
      "execution_count": null,
      "outputs": []
    },
    {
      "cell_type": "code",
      "source": [
        "values_diag"
      ],
      "metadata": {
        "colab": {
          "base_uri": "https://localhost:8080/"
        },
        "id": "3WLyKNZvQ3lI",
        "outputId": "0d824545-7cd4-40da-e43a-a5c3532bc0aa"
      },
      "execution_count": null,
      "outputs": [
        {
          "output_type": "execute_result",
          "data": {
            "text/plain": [
              "array([0., 0., 0., 0., 0., 0.])"
            ]
          },
          "metadata": {},
          "execution_count": 27
        }
      ]
    },
    {
      "cell_type": "markdown",
      "source": [
        "Crie uma máscara booleana para verificar quais valores de `values_diag` são iguais a 0."
      ],
      "metadata": {
        "id": "GZczkJ7eQ5bC"
      }
    },
    {
      "cell_type": "code",
      "source": [
        "mask = ..."
      ],
      "metadata": {
        "id": "rlshsOr7Q-c3"
      },
      "execution_count": null,
      "outputs": []
    },
    {
      "cell_type": "code",
      "source": [
        "mask"
      ],
      "metadata": {
        "colab": {
          "base_uri": "https://localhost:8080/"
        },
        "id": "Cg84W9mSRBMN",
        "outputId": "ffa73e8a-5722-4839-a119-24129e13322f"
      },
      "execution_count": null,
      "outputs": [
        {
          "output_type": "execute_result",
          "data": {
            "text/plain": [
              "array([ True,  True,  True,  True,  True,  True])"
            ]
          },
          "metadata": {},
          "execution_count": 29
        }
      ]
    },
    {
      "cell_type": "markdown",
      "source": [
        "Agora utilize o método `all` para verificar que todos os valores de `mask` são realmente iguais a `True`."
      ],
      "metadata": {
        "id": "SPYGAb6mRCuR"
      }
    },
    {
      "cell_type": "code",
      "source": [
        "..."
      ],
      "metadata": {
        "colab": {
          "base_uri": "https://localhost:8080/"
        },
        "id": "9vh4Kbr0RIY0",
        "outputId": "276d192e-8a60-4926-a200-fbeaa3db4e1d"
      },
      "execution_count": null,
      "outputs": [
        {
          "output_type": "execute_result",
          "data": {
            "text/plain": [
              "True"
            ]
          },
          "metadata": {},
          "execution_count": 30
        }
      ]
    },
    {
      "cell_type": "markdown",
      "source": [
        "Isto confirma que todos os valores da diagonal principal de `dist` são mesmo 0."
      ],
      "metadata": {
        "id": "wkmgApDMQ2xb"
      }
    },
    {
      "cell_type": "markdown",
      "source": [
        "Vamos exibir a matriz `dist` de novo."
      ],
      "metadata": {
        "id": "NnIzV6fHQyX5"
      }
    },
    {
      "cell_type": "code",
      "source": [
        "dist"
      ],
      "metadata": {
        "id": "B_CE61U3JJkO",
        "colab": {
          "base_uri": "https://localhost:8080/"
        },
        "outputId": "6837390a-be73-4057-dcce-35b389835dfc"
      },
      "execution_count": null,
      "outputs": [
        {
          "output_type": "execute_result",
          "data": {
            "text/plain": [
              "array([[ 0.        ,  4.47213595,  8.24621125, 22.20360331, 19.72308292,\n",
              "        43.68065934],\n",
              "       [ 4.47213595,  0.        ,  6.32455532, 26.01922366, 22.47220505,\n",
              "        48.08326112],\n",
              "       [ 8.24621125,  6.32455532,  0.        , 24.51530134, 19.10497317,\n",
              "        48.33218389],\n",
              "       [22.20360331, 26.01922366, 24.51530134,  0.        ,  8.60232527,\n",
              "        25.        ],\n",
              "       [19.72308292, 22.47220505, 19.10497317,  8.60232527,  0.        ,\n",
              "        33.30165161],\n",
              "       [43.68065934, 48.08326112, 48.33218389, 25.        , 33.30165161,\n",
              "         0.        ]])"
            ]
          },
          "metadata": {},
          "execution_count": 31
        }
      ]
    },
    {
      "cell_type": "markdown",
      "source": [
        "Agora observe que essa matriz é espelhada. O valor no índice [1, 2]  é igual ao valor no índice [2, 1]; o valor no índice [1, 3] é igual a [3, 1]; [4, 5] é igual a [5, 4] e assim por diante. Isso acontece porque, obviamente, a distância entre os pontos 1 e 2 é igual à distância entre os pontos 2 e 1."
      ],
      "metadata": {
        "id": "dBOq3XL1RVQb"
      }
    },
    {
      "cell_type": "markdown",
      "source": [
        "Por isso, para economizar memória, é comum que as matrizes de distância tenham os valores no triângulo inferior zerados, já que ela contém valores redundantes."
      ],
      "metadata": {
        "id": "HEdxKmtxRkBu"
      }
    },
    {
      "cell_type": "markdown",
      "source": [
        "Utilize `np.tril_indices` para recuperar os índices do triângulo inferior da matriz `dist`."
      ],
      "metadata": {
        "id": "E899kVmOR7cy"
      }
    },
    {
      "cell_type": "code",
      "source": [
        "indices = ..."
      ],
      "metadata": {
        "id": "uTjXYjA3II4e"
      },
      "execution_count": null,
      "outputs": []
    },
    {
      "cell_type": "code",
      "source": [
        "indices"
      ],
      "metadata": {
        "colab": {
          "base_uri": "https://localhost:8080/"
        },
        "id": "U6BFB8mTSIqm",
        "outputId": "b68b7fa1-2220-4e51-a71e-0791efe83b82"
      },
      "execution_count": null,
      "outputs": [
        {
          "output_type": "execute_result",
          "data": {
            "text/plain": [
              "(array([0, 1, 1, 2, 2, 2, 3, 3, 3, 3, 4, 4, 4, 4, 4, 5, 5, 5, 5, 5, 5]),\n",
              " array([0, 0, 1, 0, 1, 2, 0, 1, 2, 3, 0, 1, 2, 3, 4, 0, 1, 2, 3, 4, 5]))"
            ]
          },
          "metadata": {},
          "execution_count": 33
        }
      ]
    },
    {
      "cell_type": "markdown",
      "source": [
        "Agora utilize `indices` como índices de indexação para mudar estes valores de `dist` para serem iguais a 0."
      ],
      "metadata": {
        "id": "oTOimF6_SNVD"
      }
    },
    {
      "cell_type": "code",
      "source": [
        "..."
      ],
      "metadata": {
        "id": "jVohb0yCScEk"
      },
      "execution_count": null,
      "outputs": []
    },
    {
      "cell_type": "code",
      "source": [
        "dist"
      ],
      "metadata": {
        "colab": {
          "base_uri": "https://localhost:8080/"
        },
        "id": "XjSg1-doSq7H",
        "outputId": "a8c425af-43fc-4513-f493-67ba776f06c5"
      },
      "execution_count": null,
      "outputs": [
        {
          "output_type": "execute_result",
          "data": {
            "text/plain": [
              "array([[ 0.        ,  4.47213595,  8.24621125, 22.20360331, 19.72308292,\n",
              "        43.68065934],\n",
              "       [ 0.        ,  0.        ,  6.32455532, 26.01922366, 22.47220505,\n",
              "        48.08326112],\n",
              "       [ 0.        ,  0.        ,  0.        , 24.51530134, 19.10497317,\n",
              "        48.33218389],\n",
              "       [ 0.        ,  0.        ,  0.        ,  0.        ,  8.60232527,\n",
              "        25.        ],\n",
              "       [ 0.        ,  0.        ,  0.        ,  0.        ,  0.        ,\n",
              "        33.30165161],\n",
              "       [ 0.        ,  0.        ,  0.        ,  0.        ,  0.        ,\n",
              "         0.        ]])"
            ]
          },
          "metadata": {},
          "execution_count": 35
        }
      ]
    },
    {
      "cell_type": "markdown",
      "source": [
        "Esta é uma das aplicações práticas das funções de indexação do NumPy voltadas a matrizes quadradas. Se você quiser, pode refazer o exercício, agora zerando o triângulo superior ao invés do inferior."
      ],
      "metadata": {
        "id": "1dC7JmERS33z"
      }
    }
  ]
}