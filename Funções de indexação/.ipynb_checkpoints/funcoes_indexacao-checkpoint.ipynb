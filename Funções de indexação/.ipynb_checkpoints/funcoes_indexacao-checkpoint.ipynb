{
 "cells": [
  {
   "cell_type": "code",
   "execution_count": 2,
   "id": "a4932dc5-6a2c-4cba-b979-e777807d94f0",
   "metadata": {},
   "outputs": [],
   "source": [
    "import numpy as np"
   ]
  },
  {
   "cell_type": "markdown",
   "id": "298977c5-6ad4-4392-a571-7d2149954009",
   "metadata": {},
   "source": [
    "# Funções de indexação"
   ]
  },
  {
   "cell_type": "markdown",
   "id": "43e60890-90c6-43b2-ab52-ef28aae22ba1",
   "metadata": {},
   "source": [
    "## `np.nonzero`"
   ]
  },
  {
   "cell_type": "code",
   "execution_count": 3,
   "id": "6545f875-7807-4221-8e50-4c89c6eca756",
   "metadata": {},
   "outputs": [],
   "source": [
    "array = np.array([[1,0,0],\n",
    "                  [0,2,0],\n",
    "                  [3,4,0]])"
   ]
  },
  {
   "cell_type": "code",
   "execution_count": 4,
   "id": "7aa07aad-b59f-462e-9748-c69a8c175f92",
   "metadata": {},
   "outputs": [
    {
     "data": {
      "text/plain": [
       "(array([0, 1, 2, 2]), array([0, 1, 0, 1]))"
      ]
     },
     "execution_count": 4,
     "metadata": {},
     "output_type": "execute_result"
    }
   ],
   "source": [
    "indices = np.nonzero(array)\n",
    "indices"
   ]
  },
  {
   "cell_type": "code",
   "execution_count": 5,
   "id": "85766443-0e29-4576-aa38-1f92d9399040",
   "metadata": {},
   "outputs": [
    {
     "data": {
      "text/plain": [
       "array([1, 2, 3, 4])"
      ]
     },
     "execution_count": 5,
     "metadata": {},
     "output_type": "execute_result"
    }
   ],
   "source": [
    "array[indices]"
   ]
  },
  {
   "cell_type": "markdown",
   "id": "ebbbddc8-2af0-4e65-b147-69a9088aee64",
   "metadata": {},
   "source": [
    "## `np.where`"
   ]
  },
  {
   "cell_type": "code",
   "execution_count": 6,
   "id": "b2f9dbeb-a592-4dc1-8242-6df6254461b8",
   "metadata": {},
   "outputs": [
    {
     "data": {
      "text/plain": [
       "array([0, 1, 2, 3, 4, 5, 6, 7, 8, 9])"
      ]
     },
     "execution_count": 6,
     "metadata": {},
     "output_type": "execute_result"
    }
   ],
   "source": [
    "array_1d = np.arange(10)\n",
    "array_1d"
   ]
  },
  {
   "cell_type": "code",
   "execution_count": 7,
   "id": "3a19a58b-e97c-487d-90d2-cec97347ee01",
   "metadata": {},
   "outputs": [
    {
     "data": {
      "text/plain": [
       "(array([0, 1, 2, 3]),)"
      ]
     },
     "execution_count": 7,
     "metadata": {},
     "output_type": "execute_result"
    }
   ],
   "source": [
    "np.where(array_1d < 4)"
   ]
  },
  {
   "cell_type": "code",
   "execution_count": 8,
   "id": "bbddbe31-8fe6-437f-94c2-49d675150c89",
   "metadata": {},
   "outputs": [
    {
     "data": {
      "text/plain": [
       "array([0, 0, 0, 0, 1, 1, 1, 1, 1, 1])"
      ]
     },
     "execution_count": 8,
     "metadata": {},
     "output_type": "execute_result"
    }
   ],
   "source": [
    "np.where(array_1d < 4, 0, 1)"
   ]
  },
  {
   "cell_type": "code",
   "execution_count": 10,
   "id": "110059e2-1faf-4086-9882-3080f5c73360",
   "metadata": {},
   "outputs": [
    {
     "data": {
      "text/plain": [
       "array([ 0,  1,  2,  3, 14, 15, 16, 17, 18, 19])"
      ]
     },
     "execution_count": 10,
     "metadata": {},
     "output_type": "execute_result"
    }
   ],
   "source": [
    "np.where(array_1d < 4, array_1d, array_1d + 10)"
   ]
  },
  {
   "cell_type": "code",
   "execution_count": 11,
   "id": "a350adc2-001d-45b4-87e6-f002518d74da",
   "metadata": {},
   "outputs": [
    {
     "data": {
      "text/plain": [
       "array([50, 51, 52, 53, 54, 55, 56, 57, 58, 59])"
      ]
     },
     "execution_count": 11,
     "metadata": {},
     "output_type": "execute_result"
    }
   ],
   "source": [
    "other_array_1d = np.arange(50, 60)\n",
    "other_array_1d"
   ]
  },
  {
   "cell_type": "code",
   "execution_count": 12,
   "id": "8f6b186e-c4da-4f93-9e8b-2bedb4eee53f",
   "metadata": {},
   "outputs": [
    {
     "data": {
      "text/plain": [
       "array([ 0,  1,  2,  3, 54, 55, 56, 57, 58, 59])"
      ]
     },
     "execution_count": 12,
     "metadata": {},
     "output_type": "execute_result"
    }
   ],
   "source": [
    "np.where(array_1d < 4, array_1d, other_array_1d)"
   ]
  },
  {
   "cell_type": "code",
   "execution_count": 13,
   "id": "c61344f6-fae2-4201-b8d1-c5ab55723928",
   "metadata": {},
   "outputs": [
    {
     "data": {
      "text/plain": [
       "array([[ 0,  1,  2,  3,  4],\n",
       "       [ 5,  6,  7,  8,  9],\n",
       "       [10, 11, 12, 13, 14],\n",
       "       [15, 16, 17, 18, 19]])"
      ]
     },
     "execution_count": 13,
     "metadata": {},
     "output_type": "execute_result"
    }
   ],
   "source": [
    "array_2d = np.arange(0, 20).reshape(4, 5)\n",
    "array_2d"
   ]
  },
  {
   "cell_type": "code",
   "execution_count": 14,
   "id": "61fd5b4b-915b-44f8-8af3-8317200e940b",
   "metadata": {},
   "outputs": [
    {
     "data": {
      "text/plain": [
       "array([[ 0, -1,  2, -1,  4],\n",
       "       [-1,  6, -1,  8, -1],\n",
       "       [10, -1, 12, -1, 14],\n",
       "       [-1, 16, -1, 18, -1]])"
      ]
     },
     "execution_count": 14,
     "metadata": {},
     "output_type": "execute_result"
    }
   ],
   "source": [
    "np.where(array_2d % 2 == 0, array_2d, -1)"
   ]
  },
  {
   "cell_type": "markdown",
   "id": "f709e324-f09a-4528-8f41-4a8b7d2635e3",
   "metadata": {},
   "source": [
    "## `np.argwere`"
   ]
  },
  {
   "cell_type": "code",
   "execution_count": 15,
   "id": "d64f278a-27f2-4f18-9edb-bc8bcdc38d1d",
   "metadata": {},
   "outputs": [
    {
     "data": {
      "text/plain": [
       "array([[ 0,  1,  2,  3,  4],\n",
       "       [ 5,  6,  7,  8,  9],\n",
       "       [10, 11, 12, 13, 14],\n",
       "       [15, 16, 17, 18, 19]])"
      ]
     },
     "execution_count": 15,
     "metadata": {},
     "output_type": "execute_result"
    }
   ],
   "source": [
    "array_2d"
   ]
  },
  {
   "cell_type": "code",
   "execution_count": 16,
   "id": "932538a0-204f-41b1-a0a6-c8d80175ae11",
   "metadata": {},
   "outputs": [
    {
     "data": {
      "text/plain": [
       "array([[0, 0],\n",
       "       [0, 2],\n",
       "       [0, 4],\n",
       "       [1, 1],\n",
       "       [1, 3],\n",
       "       [2, 0],\n",
       "       [2, 2],\n",
       "       [2, 4],\n",
       "       [3, 1],\n",
       "       [3, 3]])"
      ]
     },
     "execution_count": 16,
     "metadata": {},
     "output_type": "execute_result"
    }
   ],
   "source": [
    "np.argwhere(array_2d % 2 == 0)"
   ]
  },
  {
   "cell_type": "markdown",
   "id": "be4dcb2c-6d6e-4b14-b142-4c2988ac3c25",
   "metadata": {},
   "source": [
    "## `np.selectc`"
   ]
  },
  {
   "cell_type": "code",
   "execution_count": 17,
   "id": "424d52fc-a04d-4ee1-8368-af467c770e66",
   "metadata": {},
   "outputs": [
    {
     "data": {
      "text/plain": [
       "array([0, 1, 2, 3, 4, 5, 6, 7, 8, 9])"
      ]
     },
     "execution_count": 17,
     "metadata": {},
     "output_type": "execute_result"
    }
   ],
   "source": [
    "array_1d"
   ]
  },
  {
   "cell_type": "code",
   "execution_count": 18,
   "id": "f1328b3c-be57-44d3-ad14-a8001d3f309a",
   "metadata": {},
   "outputs": [
    {
     "data": {
      "text/plain": [
       "array([10, 11, 12, 13, -1, -1, -1, -1, 28, 29])"
      ]
     },
     "execution_count": 18,
     "metadata": {},
     "output_type": "execute_result"
    }
   ],
   "source": [
    "np.select(condlist=[array_1d < 4, array_1d > 7], choicelist=[array_1d + 10, array_1d + 20], default=-1)"
   ]
  },
  {
   "cell_type": "markdown",
   "id": "5dd0e796-faec-4284-8635-9db7e628c1a5",
   "metadata": {},
   "source": [
    "## `np.unravel_index`"
   ]
  },
  {
   "cell_type": "code",
   "execution_count": 19,
   "id": "5c9879ea-a8f1-4e8a-ae75-47489ad2825d",
   "metadata": {},
   "outputs": [
    {
     "data": {
      "text/plain": [
       "array([[ 0,  1,  2,  3,  4],\n",
       "       [ 5,  6,  7,  8,  9],\n",
       "       [10, 11, 12, 13, 14],\n",
       "       [15, 16, 17, 18, 19]])"
      ]
     },
     "execution_count": 19,
     "metadata": {},
     "output_type": "execute_result"
    }
   ],
   "source": [
    "shape = (4, 5)\n",
    "array = np.arange(20).reshape(shape)\n",
    "array"
   ]
  },
  {
   "cell_type": "code",
   "execution_count": 20,
   "id": "29ab18ce-146e-4851-a50e-b76c80f44bc9",
   "metadata": {},
   "outputs": [
    {
     "data": {
      "text/plain": [
       "(np.int64(2), np.int64(2))"
      ]
     },
     "execution_count": 20,
     "metadata": {},
     "output_type": "execute_result"
    }
   ],
   "source": [
    "np.unravel_index(indices = 12, shape = shape)"
   ]
  },
  {
   "cell_type": "markdown",
   "id": "ddc2c7d7-c0d0-4346-a06a-d3f1ee51a7e4",
   "metadata": {},
   "source": [
    "## `np.diag_indices`"
   ]
  },
  {
   "cell_type": "code",
   "execution_count": 21,
   "id": "3c5e406a-a8bc-4a6b-99f0-b9b768e5aa2d",
   "metadata": {},
   "outputs": [
    {
     "data": {
      "text/plain": [
       "(array([0, 1, 2]), array([0, 1, 2]))"
      ]
     },
     "execution_count": 21,
     "metadata": {},
     "output_type": "execute_result"
    }
   ],
   "source": [
    "indices = np.diag_indices(n = 3, ndim = 2)\n",
    "indices"
   ]
  },
  {
   "cell_type": "code",
   "execution_count": 22,
   "id": "dd5b91a5-208b-4666-bb85-9b9b5bba98d7",
   "metadata": {},
   "outputs": [
    {
     "data": {
      "text/plain": [
       "array([[0, 1, 2],\n",
       "       [3, 4, 5],\n",
       "       [6, 7, 8]])"
      ]
     },
     "execution_count": 22,
     "metadata": {},
     "output_type": "execute_result"
    }
   ],
   "source": [
    "array = np.arange(0,9).reshape(3, 3)\n",
    "array"
   ]
  },
  {
   "cell_type": "code",
   "execution_count": 23,
   "id": "349937f8-6726-487e-9f63-c1f0a6253df8",
   "metadata": {},
   "outputs": [
    {
     "data": {
      "text/plain": [
       "array([[-1,  1,  2],\n",
       "       [ 3, -1,  5],\n",
       "       [ 6,  7, -1]])"
      ]
     },
     "execution_count": 23,
     "metadata": {},
     "output_type": "execute_result"
    }
   ],
   "source": [
    "array[indices] = -1\n",
    "array"
   ]
  },
  {
   "cell_type": "markdown",
   "id": "de6f27b6-13e9-4af6-84c9-b9ac11d10c7a",
   "metadata": {},
   "source": [
    "## `np.tril_indices`"
   ]
  },
  {
   "cell_type": "code",
   "execution_count": 24,
   "id": "baf76959-a9bb-4cf2-94af-5d5aca32ef6c",
   "metadata": {},
   "outputs": [
    {
     "data": {
      "text/plain": [
       "(array([0, 1, 1, 2, 2, 2]), array([0, 0, 1, 0, 1, 2]))"
      ]
     },
     "execution_count": 24,
     "metadata": {},
     "output_type": "execute_result"
    }
   ],
   "source": [
    "indices = np.tril_indices(n = 3, m = 3)\n",
    "indices"
   ]
  },
  {
   "cell_type": "code",
   "execution_count": 25,
   "id": "6ef7bdb2-f5b1-446d-9132-0cee3b5d90c5",
   "metadata": {},
   "outputs": [
    {
     "data": {
      "text/plain": [
       "array([[0, 1, 2],\n",
       "       [3, 4, 5],\n",
       "       [6, 7, 8]])"
      ]
     },
     "execution_count": 25,
     "metadata": {},
     "output_type": "execute_result"
    }
   ],
   "source": [
    "array = np.arange(0,9).reshape(3, 3)\n",
    "array"
   ]
  },
  {
   "cell_type": "code",
   "execution_count": 26,
   "id": "62de9d68-779e-4371-8f21-367af4a3ee07",
   "metadata": {},
   "outputs": [
    {
     "data": {
      "text/plain": [
       "array([[-1,  1,  2],\n",
       "       [-1, -1,  5],\n",
       "       [-1, -1, -1]])"
      ]
     },
     "execution_count": 26,
     "metadata": {},
     "output_type": "execute_result"
    }
   ],
   "source": [
    "array[indices] = -1\n",
    "array"
   ]
  },
  {
   "cell_type": "markdown",
   "id": "bfeabd64-83a9-411b-8b3c-2c7c562e3a09",
   "metadata": {},
   "source": [
    "## `np.triu_indices`"
   ]
  },
  {
   "cell_type": "code",
   "execution_count": 27,
   "id": "2fd1da83-8d88-4694-8987-1a9cbdd334a8",
   "metadata": {},
   "outputs": [
    {
     "data": {
      "text/plain": [
       "(array([0, 0, 0, 1, 1, 2]), array([0, 1, 2, 1, 2, 2]))"
      ]
     },
     "execution_count": 27,
     "metadata": {},
     "output_type": "execute_result"
    }
   ],
   "source": [
    "indices = np.triu_indices(n = 3, m = 3)\n",
    "indices"
   ]
  },
  {
   "cell_type": "code",
   "execution_count": 28,
   "id": "eab4ad49-2de6-4ef6-840e-5dcf26f1bc39",
   "metadata": {},
   "outputs": [
    {
     "data": {
      "text/plain": [
       "array([[0, 1, 2],\n",
       "       [3, 4, 5],\n",
       "       [6, 7, 8]])"
      ]
     },
     "execution_count": 28,
     "metadata": {},
     "output_type": "execute_result"
    }
   ],
   "source": [
    "array = np.arange(0,9).reshape(3, 3)\n",
    "array"
   ]
  },
  {
   "cell_type": "code",
   "execution_count": 29,
   "id": "3c89ea05-19fc-4563-b644-f15768c2b7ab",
   "metadata": {},
   "outputs": [
    {
     "data": {
      "text/plain": [
       "array([[-1, -1, -1],\n",
       "       [ 3, -1, -1],\n",
       "       [ 6,  7, -1]])"
      ]
     },
     "execution_count": 29,
     "metadata": {},
     "output_type": "execute_result"
    }
   ],
   "source": [
    "array[indices] = -1\n",
    "array"
   ]
  },
  {
   "cell_type": "markdown",
   "id": "2627750b-e731-474d-97f1-4a58f5b3ff62",
   "metadata": {},
   "source": [
    "## `np.diag_indices_from, np.tril_indices_from, np.triu_indices_from`"
   ]
  },
  {
   "cell_type": "code",
   "execution_count": 30,
   "id": "f1cb654a-20a6-4e26-b352-6d40601619a8",
   "metadata": {},
   "outputs": [
    {
     "data": {
      "text/plain": [
       "(array([0, 1, 2]), array([0, 1, 2]))"
      ]
     },
     "execution_count": 30,
     "metadata": {},
     "output_type": "execute_result"
    }
   ],
   "source": [
    "np.diag_indices_from(array)"
   ]
  },
  {
   "cell_type": "code",
   "execution_count": 31,
   "id": "53ace699-f5ff-4ba1-9c48-1699fc625107",
   "metadata": {},
   "outputs": [
    {
     "data": {
      "text/plain": [
       "(array([0, 1, 1, 2, 2, 2]), array([0, 0, 1, 0, 1, 2]))"
      ]
     },
     "execution_count": 31,
     "metadata": {},
     "output_type": "execute_result"
    }
   ],
   "source": [
    "np.tril_indices_from(array)"
   ]
  },
  {
   "cell_type": "code",
   "execution_count": 32,
   "id": "7e3e0c5b-01ec-4925-b5a3-7b0e6645de55",
   "metadata": {},
   "outputs": [
    {
     "data": {
      "text/plain": [
       "(array([0, 0, 0, 1, 1, 2]), array([0, 1, 2, 1, 2, 2]))"
      ]
     },
     "execution_count": 32,
     "metadata": {},
     "output_type": "execute_result"
    }
   ],
   "source": [
    "np.triu_indices_from(array)"
   ]
  },
  {
   "cell_type": "code",
   "execution_count": null,
   "id": "5ceefdf1-c7e6-49c8-a7ce-35c778999b91",
   "metadata": {},
   "outputs": [],
   "source": []
  }
 ],
 "metadata": {
  "kernelspec": {
   "display_name": "Python 3 (ipykernel)",
   "language": "python",
   "name": "python3"
  },
  "language_info": {
   "codemirror_mode": {
    "name": "ipython",
    "version": 3
   },
   "file_extension": ".py",
   "mimetype": "text/x-python",
   "name": "python",
   "nbconvert_exporter": "python",
   "pygments_lexer": "ipython3",
   "version": "3.12.8"
  }
 },
 "nbformat": 4,
 "nbformat_minor": 5
}
