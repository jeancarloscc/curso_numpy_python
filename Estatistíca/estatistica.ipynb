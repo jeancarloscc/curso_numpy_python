{
 "cells": [
  {
   "cell_type": "code",
   "execution_count": 1,
   "id": "196d663c-e93e-44dc-a5a5-801d188e2d26",
   "metadata": {},
   "outputs": [],
   "source": [
    "import numpy as np"
   ]
  },
  {
   "cell_type": "markdown",
   "id": "b2b0b53c-c428-4d99-bde8-bfb47116686f",
   "metadata": {},
   "source": [
    "# Estatística"
   ]
  },
  {
   "cell_type": "code",
   "execution_count": 2,
   "id": "185f4a7a-ae9a-484c-aa02-1b25f38dd2bd",
   "metadata": {},
   "outputs": [],
   "source": [
    "rng = np.random.default_rng(seed = 5)"
   ]
  },
  {
   "cell_type": "code",
   "execution_count": 4,
   "id": "460ccb85-ae8b-4c92-9d59-0d16728356ff",
   "metadata": {},
   "outputs": [
    {
     "data": {
      "text/plain": [
       "array([-1,  0,  2, -5])"
      ]
     },
     "execution_count": 4,
     "metadata": {},
     "output_type": "execute_result"
    }
   ],
   "source": [
    "vector_1 = rng.integers(low=-10, high=10, size=4)\n",
    "vector_1"
   ]
  },
  {
   "cell_type": "code",
   "execution_count": 5,
   "id": "03d17d12-40ae-4eed-b110-02e54adb6131",
   "metadata": {},
   "outputs": [
    {
     "data": {
      "text/plain": [
       "array([[  9,  -9,  -5],\n",
       "       [ -3,   1,  -2],\n",
       "       [ -8, -10, -10],\n",
       "       [-10,  -8,   9]])"
      ]
     },
     "execution_count": 5,
     "metadata": {},
     "output_type": "execute_result"
    }
   ],
   "source": [
    "matrix_1 = rng.integers(low=-10, high=10, size=12).reshape(4,3)\n",
    "matrix_1"
   ]
  },
  {
   "cell_type": "markdown",
   "id": "1cf152e0-5e9f-4ca1-b389-331dcbc4c38a",
   "metadata": {},
   "source": [
    "`np.percentile`"
   ]
  },
  {
   "cell_type": "code",
   "execution_count": 6,
   "id": "a5f26e9e-afcf-4759-9024-829ec3b081e7",
   "metadata": {},
   "outputs": [
    {
     "data": {
      "text/plain": [
       "np.float64(-3.8)"
      ]
     },
     "execution_count": 6,
     "metadata": {},
     "output_type": "execute_result"
    }
   ],
   "source": [
    "np.percentile(a = vector_1, q = 10)"
   ]
  },
  {
   "cell_type": "code",
   "execution_count": 7,
   "id": "353cc6f7-251d-40c2-98f1-2036d6d4965d",
   "metadata": {},
   "outputs": [
    {
     "data": {
      "text/plain": [
       "np.float64(-0.5)"
      ]
     },
     "execution_count": 7,
     "metadata": {},
     "output_type": "execute_result"
    }
   ],
   "source": [
    "np.percentile(a = vector_1, q = 50) #mediana"
   ]
  },
  {
   "cell_type": "code",
   "execution_count": 8,
   "id": "8ce8f715-38d1-4821-9ec2-ea7ae976648c",
   "metadata": {},
   "outputs": [
    {
     "data": {
      "text/plain": [
       "np.float64(1.4000000000000004)"
      ]
     },
     "execution_count": 8,
     "metadata": {},
     "output_type": "execute_result"
    }
   ],
   "source": [
    "np.percentile(a = vector_1, q = 90) "
   ]
  },
  {
   "cell_type": "code",
   "execution_count": 9,
   "id": "fff1242d-66fc-464f-aa6c-2382481cfec9",
   "metadata": {},
   "outputs": [
    {
     "data": {
      "text/plain": [
       "np.float64(-6.5)"
      ]
     },
     "execution_count": 9,
     "metadata": {},
     "output_type": "execute_result"
    }
   ],
   "source": [
    "np.percentile(a = matrix_1, q = 50)"
   ]
  },
  {
   "cell_type": "markdown",
   "id": "c3afbfbb-ede3-4d76-9665-9742d9b5e857",
   "metadata": {},
   "source": [
    "`np.quantile`"
   ]
  },
  {
   "cell_type": "code",
   "execution_count": 10,
   "id": "ffac4f94-ccf0-4081-ae8f-c34ec3807838",
   "metadata": {},
   "outputs": [
    {
     "data": {
      "text/plain": [
       "np.float64(-3.8)"
      ]
     },
     "execution_count": 10,
     "metadata": {},
     "output_type": "execute_result"
    }
   ],
   "source": [
    "np.quantile(a = vector_1, q = 0.1)"
   ]
  },
  {
   "cell_type": "code",
   "execution_count": 11,
   "id": "49fe42e8-0095-44c0-867e-3d258c9ab123",
   "metadata": {},
   "outputs": [
    {
     "data": {
      "text/plain": [
       "np.float64(-0.5)"
      ]
     },
     "execution_count": 11,
     "metadata": {},
     "output_type": "execute_result"
    }
   ],
   "source": [
    "np.quantile(a = vector_1, q = 0.5)"
   ]
  },
  {
   "cell_type": "code",
   "execution_count": 12,
   "id": "b1aa8add-7ae3-4bf4-b329-0c222c8cdd45",
   "metadata": {},
   "outputs": [
    {
     "data": {
      "text/plain": [
       "np.float64(-6.5)"
      ]
     },
     "execution_count": 12,
     "metadata": {},
     "output_type": "execute_result"
    }
   ],
   "source": [
    "np.quantile(a = matrix_1, q = 0.5)"
   ]
  },
  {
   "cell_type": "code",
   "execution_count": 13,
   "id": "3efd7420-8496-4bca-920a-2786e339b780",
   "metadata": {},
   "outputs": [
    {
     "data": {
      "text/plain": [
       "array([ -5.,  -2., -10.,  -8.])"
      ]
     },
     "execution_count": 13,
     "metadata": {},
     "output_type": "execute_result"
    }
   ],
   "source": [
    "np.quantile(a = matrix_1, q = 0.5, axis=1)"
   ]
  },
  {
   "cell_type": "markdown",
   "id": "c618c29c-20fa-4640-a0ea-ec4830dacd99",
   "metadata": {},
   "source": [
    "`np.percentile`"
   ]
  },
  {
   "cell_type": "markdown",
   "id": "f3b02b82-06bd-4307-bc6b-c903c852486b",
   "metadata": {},
   "source": [
    "`np.percentile`"
   ]
  },
  {
   "cell_type": "markdown",
   "id": "bdece28f-231e-457c-89c8-e93e4037005a",
   "metadata": {},
   "source": [
    "`np.percentile`"
   ]
  },
  {
   "cell_type": "markdown",
   "id": "2737cabb-bf7c-48fc-8ae4-631361978e7c",
   "metadata": {},
   "source": [
    "`np.percentile`"
   ]
  },
  {
   "cell_type": "markdown",
   "id": "bc9b453b-9a67-4c25-9df4-e86af368af1e",
   "metadata": {},
   "source": [
    "`np.percentile`"
   ]
  }
 ],
 "metadata": {
  "kernelspec": {
   "display_name": "Python 3 (ipykernel)",
   "language": "python",
   "name": "python3"
  },
  "language_info": {
   "codemirror_mode": {
    "name": "ipython",
    "version": 3
   },
   "file_extension": ".py",
   "mimetype": "text/x-python",
   "name": "python",
   "nbconvert_exporter": "python",
   "pygments_lexer": "ipython3",
   "version": "3.12.8"
  }
 },
 "nbformat": 4,
 "nbformat_minor": 5
}
