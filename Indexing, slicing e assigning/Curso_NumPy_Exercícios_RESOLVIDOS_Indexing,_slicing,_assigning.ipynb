{
  "nbformat": 4,
  "nbformat_minor": 0,
  "metadata": {
    "colab": {
      "provenance": []
    },
    "kernelspec": {
      "name": "python3",
      "display_name": "Python 3"
    },
    "language_info": {
      "name": "python"
    }
  },
  "cells": [
    {
      "cell_type": "code",
      "execution_count": null,
      "metadata": {
        "id": "sgYgpXPEmTmW"
      },
      "outputs": [],
      "source": [
        "import numpy as np"
      ]
    },
    {
      "cell_type": "code",
      "source": [
        "np.__version__"
      ],
      "metadata": {
        "colab": {
          "base_uri": "https://localhost:8080/",
          "height": 56
        },
        "id": "WToUoFxfmkqS",
        "outputId": "ac07975a-ba0c-4299-d0c9-16c1baa5d8f1"
      },
      "execution_count": null,
      "outputs": [
        {
          "output_type": "execute_result",
          "data": {
            "text/plain": [
              "'1.25.2'"
            ],
            "application/vnd.google.colaboratory.intrinsic+json": {
              "type": "string"
            }
          },
          "metadata": {},
          "execution_count": 3
        }
      ]
    },
    {
      "cell_type": "markdown",
      "source": [
        "Neste módulo, vamos trabalhar com um array 3-D, que representa o desempenho de atletas de corrida.\n",
        "\n",
        "Na primeira dimensão (profundidade), vamos representar 3 dias de avaliação diferentes. Na segunda dimensão (linhas), cada um dos 5 atletas. Na terceira dimensão (colunas), cada uma das 4 voltas da pista de corrida. Os valores serão dados em segundos.\n",
        "\n",
        "Estes dados serão simulados com o código abaixo, mas não se preocupe em entendê-lo por enquanto, os detalhes destas funções serão apresentados nas próximas aulas."
      ],
      "metadata": {
        "id": "RCspxELbx7AT"
      }
    },
    {
      "cell_type": "code",
      "source": [
        "rng = np.random.default_rng(seed=1)"
      ],
      "metadata": {
        "id": "5l8ZK_5Vwnyt"
      },
      "execution_count": null,
      "outputs": []
    },
    {
      "cell_type": "code",
      "source": [
        "rng"
      ],
      "metadata": {
        "colab": {
          "base_uri": "https://localhost:8080/"
        },
        "id": "pS4R7GYe_lPh",
        "outputId": "3bb0309b-0f7b-4ea1-88c6-5f603a88e4e7"
      },
      "execution_count": null,
      "outputs": [
        {
          "output_type": "execute_result",
          "data": {
            "text/plain": [
              "Generator(PCG64) at 0x7F2590D1B4C0"
            ]
          },
          "metadata": {},
          "execution_count": 5
        }
      ]
    },
    {
      "cell_type": "code",
      "source": [
        "array = rng.normal(loc=50, scale=3, size=60).reshape(3, 5, 4).round(3)"
      ],
      "metadata": {
        "id": "Lsr9gyhCw9P0"
      },
      "execution_count": null,
      "outputs": []
    },
    {
      "cell_type": "code",
      "source": [
        "array"
      ],
      "metadata": {
        "colab": {
          "base_uri": "https://localhost:8080/"
        },
        "id": "jcAN-BeKTbY3",
        "outputId": "0b91f6fd-1ec7-41c7-afe0-692f5a00cef7"
      },
      "execution_count": null,
      "outputs": [
        {
          "output_type": "execute_result",
          "data": {
            "text/plain": [
              "array([[[51.037, 52.465, 50.991, 46.091],\n",
              "        [52.716, 51.339, 48.389, 51.743],\n",
              "        [51.094, 50.882, 50.085, 51.64 ],\n",
              "        [47.791, 49.511, 48.554, 51.797],\n",
              "        [50.119, 49.123, 47.654, 49.228]],\n",
              "\n",
              "       [[50.024, 49.173, 53.882, 53.02 ],\n",
              "        [41.867, 44.333, 49.476, 48.733],\n",
              "        [50.641, 50.652, 56.354, 46.664],\n",
              "        [48.867, 56.128, 51.94 , 51.989],\n",
              "        [48.458, 45.056, 50.502, 50.327]],\n",
              "\n",
              "       [[46.318, 47.95 , 49.784, 47.166],\n",
              "        [49.705, 50.286, 50.107, 48.481],\n",
              "        [51.781, 52.674, 50.963, 47.545],\n",
              "        [52.195, 48.496, 52.637, 46.785],\n",
              "        [52.743, 49.94 , 46.254, 49.058]]])"
            ]
          },
          "metadata": {},
          "execution_count": 7
        }
      ]
    },
    {
      "cell_type": "code",
      "source": [
        "array.shape"
      ],
      "metadata": {
        "colab": {
          "base_uri": "https://localhost:8080/"
        },
        "id": "I9R09UU_12NX",
        "outputId": "db43d503-2005-41ee-9a94-57b35a45a60c"
      },
      "execution_count": null,
      "outputs": [
        {
          "output_type": "execute_result",
          "data": {
            "text/plain": [
              "(3, 5, 4)"
            ]
          },
          "metadata": {},
          "execution_count": 8
        }
      ]
    },
    {
      "cell_type": "code",
      "source": [
        "3 * 5 * 4"
      ],
      "metadata": {
        "colab": {
          "base_uri": "https://localhost:8080/"
        },
        "id": "dAGPNs7NAHAV",
        "outputId": "aa10f566-ec42-417b-e8b9-3b959142462d"
      },
      "execution_count": null,
      "outputs": [
        {
          "output_type": "execute_result",
          "data": {
            "text/plain": [
              "60"
            ]
          },
          "metadata": {},
          "execution_count": 10
        }
      ]
    },
    {
      "cell_type": "code",
      "source": [
        "array.size"
      ],
      "metadata": {
        "colab": {
          "base_uri": "https://localhost:8080/"
        },
        "id": "QZfaCx5kAFFr",
        "outputId": "b6d91103-4ac6-4d29-f398-5500c93abc31"
      },
      "execution_count": null,
      "outputs": [
        {
          "output_type": "execute_result",
          "data": {
            "text/plain": [
              "60"
            ]
          },
          "metadata": {},
          "execution_count": 9
        }
      ]
    },
    {
      "cell_type": "markdown",
      "source": [
        "👆 Observe pelo `shape` que são 3 dias, 5 atletas e 4 voltas."
      ],
      "metadata": {
        "id": "b-gCnp1i14PC"
      }
    },
    {
      "cell_type": "markdown",
      "source": [
        "Dada a definição deste array apresentada acima, você pode entender a primeira linha:\n",
        "```\n",
        "[51.037, 52.465, 50.991, 46.091]\n",
        "```\n",
        "como o desempenho do primeiro atleta, no primeiro dia, nas 4 voltas da pista.\n",
        "\n",
        "A sétima linha:\n",
        "```\n",
        "[41.867, 44.333, 49.476, 48.733]\n",
        "```\n",
        "é o desempenho do segundo atleta no segundo dia, nas 4 voltas da pista."
      ],
      "metadata": {
        "id": "SlPrp9CJymmf"
      }
    },
    {
      "cell_type": "markdown",
      "source": [
        "### Indexing"
      ],
      "metadata": {
        "id": "jNlDbFlxO8kC"
      }
    },
    {
      "cell_type": "markdown",
      "source": [
        "Dado o array acima, utilize indexação para recuperar o desempenho do terceiro atleta no segundo dia.\n",
        "\n",
        "Lembre-se que, no Python, a indexação começa em 0!"
      ],
      "metadata": {
        "id": "CBWibvL0ztkV"
      }
    },
    {
      "cell_type": "code",
      "source": [
        "array"
      ],
      "metadata": {
        "colab": {
          "base_uri": "https://localhost:8080/"
        },
        "id": "lAEGNcZyAdZG",
        "outputId": "1d5b4117-5843-44a6-c167-2ebada4f52a1"
      },
      "execution_count": null,
      "outputs": [
        {
          "output_type": "execute_result",
          "data": {
            "text/plain": [
              "array([[[51.037, 52.465, 50.991, 46.091],\n",
              "        [52.716, 51.339, 48.389, 51.743],\n",
              "        [51.094, 50.882, 50.085, 51.64 ],\n",
              "        [47.791, 49.511, 48.554, 51.797],\n",
              "        [50.119, 49.123, 47.654, 49.228]],\n",
              "\n",
              "       [[50.024, 49.173, 53.882, 53.02 ],\n",
              "        [41.867, 44.333, 49.476, 48.733],\n",
              "        [50.641, 50.652, 56.354, 46.664],\n",
              "        [48.867, 56.128, 51.94 , 51.989],\n",
              "        [48.458, 45.056, 50.502, 50.327]],\n",
              "\n",
              "       [[46.318, 47.95 , 49.784, 47.166],\n",
              "        [49.705, 50.286, 50.107, 48.481],\n",
              "        [51.781, 52.674, 50.963, 47.545],\n",
              "        [52.195, 48.496, 52.637, 46.785],\n",
              "        [52.743, 49.94 , 46.254, 49.058]]])"
            ]
          },
          "metadata": {},
          "execution_count": 11
        }
      ]
    },
    {
      "cell_type": "code",
      "source": [
        "array[1, 2]"
      ],
      "metadata": {
        "colab": {
          "base_uri": "https://localhost:8080/"
        },
        "id": "YkF_OXS0x3Sn",
        "outputId": "462f820a-9c99-45f2-c5e9-9b01e574522d"
      },
      "execution_count": null,
      "outputs": [
        {
          "output_type": "execute_result",
          "data": {
            "text/plain": [
              "array([50.641, 50.652, 56.354, 46.664])"
            ]
          },
          "metadata": {},
          "execution_count": 12
        }
      ]
    },
    {
      "cell_type": "markdown",
      "source": [
        "Agora recupere o desempenho de todos os atletas na última volta do primeiro dia. Use indexação negativa para acessar a última volta."
      ],
      "metadata": {
        "id": "Vlqnhes20DBy"
      }
    },
    {
      "cell_type": "code",
      "source": [
        "array[0, :, -1]"
      ],
      "metadata": {
        "colab": {
          "base_uri": "https://localhost:8080/"
        },
        "id": "fCSIhUlzz_Qo",
        "outputId": "9eff0f57-25bd-4a90-c198-b8fecb20730a"
      },
      "execution_count": null,
      "outputs": [
        {
          "output_type": "execute_result",
          "data": {
            "text/plain": [
              "array([46.091, 51.743, 51.64 , 51.797, 49.228])"
            ]
          },
          "metadata": {},
          "execution_count": 17
        }
      ]
    },
    {
      "cell_type": "markdown",
      "source": [
        "Agora recupere o desempenho do segundo e do quarto atletas, no terceiro dia, na segunda volta."
      ],
      "metadata": {
        "id": "mSyNY84Y0Qtw"
      }
    },
    {
      "cell_type": "code",
      "source": [
        "array[2, [1, 3], 1]"
      ],
      "metadata": {
        "colab": {
          "base_uri": "https://localhost:8080/"
        },
        "id": "q-2Gvl120OwQ",
        "outputId": "0bf5c1e7-0c15-4669-e08f-0d2e11dbd453"
      },
      "execution_count": null,
      "outputs": [
        {
          "output_type": "execute_result",
          "data": {
            "text/plain": [
              "array([50.286, 48.496])"
            ]
          },
          "metadata": {},
          "execution_count": 18
        }
      ]
    },
    {
      "cell_type": "markdown",
      "source": [
        "Usando indexação negativa, recupere o desempenho de todos os atletas em todos os dias, na penúltima volta."
      ],
      "metadata": {
        "id": "1eYa1Enf0qsy"
      }
    },
    {
      "cell_type": "code",
      "source": [
        "array[:, :, -2]"
      ],
      "metadata": {
        "colab": {
          "base_uri": "https://localhost:8080/"
        },
        "id": "2PtR2pMc0xi8",
        "outputId": "81cc4bca-9734-4895-a2d7-e9ecbbdb3f73"
      },
      "execution_count": null,
      "outputs": [
        {
          "output_type": "execute_result",
          "data": {
            "text/plain": [
              "array([[50.991, 48.389, 50.085, 48.554, 47.654],\n",
              "       [53.882, 49.476, 56.354, 51.94 , 50.502],\n",
              "       [49.784, 50.107, 50.963, 52.637, 46.254]])"
            ]
          },
          "metadata": {},
          "execution_count": 22
        }
      ]
    },
    {
      "cell_type": "markdown",
      "source": [
        "Crie uma máscara booleana para representar somente os resultados menores que 46. Depois utilize esta máscara para filtrar do array os resultados que atendem a esta condição."
      ],
      "metadata": {
        "id": "-FzvBagY063F"
      }
    },
    {
      "cell_type": "code",
      "source": [
        "mask = array < 46"
      ],
      "metadata": {
        "id": "ut8AziU20zON"
      },
      "execution_count": null,
      "outputs": []
    },
    {
      "cell_type": "code",
      "source": [
        "mask"
      ],
      "metadata": {
        "colab": {
          "base_uri": "https://localhost:8080/"
        },
        "id": "ROmjFOJSBnRh",
        "outputId": "82ceb5f8-6f9d-4cec-b577-243adea99212"
      },
      "execution_count": null,
      "outputs": [
        {
          "output_type": "execute_result",
          "data": {
            "text/plain": [
              "array([[[False, False, False, False],\n",
              "        [False, False, False, False],\n",
              "        [False, False, False, False],\n",
              "        [False, False, False, False],\n",
              "        [False, False, False, False]],\n",
              "\n",
              "       [[False, False, False, False],\n",
              "        [ True,  True, False, False],\n",
              "        [False, False, False, False],\n",
              "        [False, False, False, False],\n",
              "        [False,  True, False, False]],\n",
              "\n",
              "       [[False, False, False, False],\n",
              "        [False, False, False, False],\n",
              "        [False, False, False, False],\n",
              "        [False, False, False, False],\n",
              "        [False, False, False, False]]])"
            ]
          },
          "metadata": {},
          "execution_count": 24
        }
      ]
    },
    {
      "cell_type": "code",
      "source": [
        "array[mask]"
      ],
      "metadata": {
        "colab": {
          "base_uri": "https://localhost:8080/"
        },
        "id": "3JLJhvoyT4Sa",
        "outputId": "271e0eef-b7d4-4017-eb74-bd63b73daa99"
      },
      "execution_count": null,
      "outputs": [
        {
          "output_type": "execute_result",
          "data": {
            "text/plain": [
              "array([41.867, 44.333, 45.056])"
            ]
          },
          "metadata": {},
          "execution_count": 25
        }
      ]
    },
    {
      "cell_type": "markdown",
      "source": [
        "### Slicing"
      ],
      "metadata": {
        "id": "GkP0fj36ZkxU"
      }
    },
    {
      "cell_type": "markdown",
      "source": [
        "Utilize fatiamento para recuperar o desempenho do quarto atleta nas duas primeiras voltas, em todos os dias."
      ],
      "metadata": {
        "id": "baaYuC8v1MOM"
      }
    },
    {
      "cell_type": "code",
      "source": [
        "array[:, 3, 0:2]"
      ],
      "metadata": {
        "colab": {
          "base_uri": "https://localhost:8080/"
        },
        "id": "Y1_xrgmk1aCX",
        "outputId": "49658fd0-9f47-4835-c93d-4234c562b7da"
      },
      "execution_count": null,
      "outputs": [
        {
          "output_type": "execute_result",
          "data": {
            "text/plain": [
              "array([[47.791, 49.511],\n",
              "       [48.867, 56.128],\n",
              "       [52.195, 48.496]])"
            ]
          },
          "metadata": {},
          "execution_count": 26
        }
      ]
    },
    {
      "cell_type": "markdown",
      "source": [
        "Agora recupere o desempenho de todos os atletas nos dois primeiros dias, da segunda volta em diante."
      ],
      "metadata": {
        "id": "gqZb5v8c1ll-"
      }
    },
    {
      "cell_type": "code",
      "source": [
        "array[0:2, :, 1:]"
      ],
      "metadata": {
        "colab": {
          "base_uri": "https://localhost:8080/"
        },
        "id": "95v217aX1cDP",
        "outputId": "480720f5-98b9-4ec0-a837-aa336f627226"
      },
      "execution_count": null,
      "outputs": [
        {
          "output_type": "execute_result",
          "data": {
            "text/plain": [
              "array([[[52.465, 50.991, 46.091],\n",
              "        [51.339, 48.389, 51.743],\n",
              "        [50.882, 50.085, 51.64 ],\n",
              "        [49.511, 48.554, 51.797],\n",
              "        [49.123, 47.654, 49.228]],\n",
              "\n",
              "       [[49.173, 53.882, 53.02 ],\n",
              "        [44.333, 49.476, 48.733],\n",
              "        [50.652, 56.354, 46.664],\n",
              "        [56.128, 51.94 , 51.989],\n",
              "        [45.056, 50.502, 50.327]]])"
            ]
          },
          "metadata": {},
          "execution_count": 28
        }
      ]
    },
    {
      "cell_type": "markdown",
      "source": [
        "Utilize a notação negativa e a notação de \"passo\" para recuperar os desempenhos dos dois últimos atletas, no segundo dia, nas voltas de índice ímpar."
      ],
      "metadata": {
        "id": "3e0GDUSa2E06"
      }
    },
    {
      "cell_type": "code",
      "source": [
        "array[1, -2:, 1::2]"
      ],
      "metadata": {
        "colab": {
          "base_uri": "https://localhost:8080/"
        },
        "id": "J4N1eZKG2WQQ",
        "outputId": "869c5f37-1481-40d8-854d-f306fee80142"
      },
      "execution_count": null,
      "outputs": [
        {
          "output_type": "execute_result",
          "data": {
            "text/plain": [
              "array([[56.128, 51.989],\n",
              "       [45.056, 50.327]])"
            ]
          },
          "metadata": {},
          "execution_count": 29
        }
      ]
    },
    {
      "cell_type": "markdown",
      "source": [
        "### Assigning"
      ],
      "metadata": {
        "id": "qzLbKjz6gW6r"
      }
    },
    {
      "cell_type": "markdown",
      "source": [
        "Suponha que o segundo atleta tenha sido desclassificado na prova do terceiro dia, e você deve demonstrar isso no array mudando todos os valores de suas voltas para o número 99.\n",
        "\n",
        "Utilize a técnica de assigning para fazer esta correção, e exiba o array modificado."
      ],
      "metadata": {
        "id": "h6piUvIJ2hzR"
      }
    },
    {
      "cell_type": "code",
      "source": [
        "array[2, 1] = 99"
      ],
      "metadata": {
        "id": "kSd_FgK-2y9v"
      },
      "execution_count": null,
      "outputs": []
    },
    {
      "cell_type": "code",
      "source": [
        "array"
      ],
      "metadata": {
        "colab": {
          "base_uri": "https://localhost:8080/"
        },
        "id": "c_GOGtEHULGD",
        "outputId": "7c39a664-5420-484a-bc55-2686e559956a"
      },
      "execution_count": null,
      "outputs": [
        {
          "output_type": "execute_result",
          "data": {
            "text/plain": [
              "array([[[51.037, 52.465, 50.991, 46.091],\n",
              "        [52.716, 51.339, 48.389, 51.743],\n",
              "        [51.094, 50.882, 50.085, 51.64 ],\n",
              "        [47.791, 49.511, 48.554, 51.797],\n",
              "        [50.119, 49.123, 47.654, 49.228]],\n",
              "\n",
              "       [[50.024, 49.173, 53.882, 53.02 ],\n",
              "        [41.867, 44.333, 49.476, 48.733],\n",
              "        [50.641, 50.652, 56.354, 46.664],\n",
              "        [48.867, 56.128, 51.94 , 51.989],\n",
              "        [48.458, 45.056, 50.502, 50.327]],\n",
              "\n",
              "       [[46.318, 47.95 , 49.784, 47.166],\n",
              "        [99.   , 99.   , 99.   , 99.   ],\n",
              "        [51.781, 52.674, 50.963, 47.545],\n",
              "        [52.195, 48.496, 52.637, 46.785],\n",
              "        [52.743, 49.94 , 46.254, 49.058]]])"
            ]
          },
          "metadata": {},
          "execution_count": 31
        }
      ]
    },
    {
      "cell_type": "markdown",
      "source": [
        "Foi descoberto que o cronômetro utilizado no primeiro dia de prova estava descalibrado, e por isso, todos os tempos correspondentes devem ser acrescidos em 0.05 segundos. Realize a correção e exiba o array modificado.\n",
        "\n",
        "Lembre-se que você pode adicionar valores a um objeto do Python com a notação `+=`."
      ],
      "metadata": {
        "id": "vAXSTYPE3DNv"
      }
    },
    {
      "cell_type": "code",
      "source": [
        "array[0]"
      ],
      "metadata": {
        "colab": {
          "base_uri": "https://localhost:8080/"
        },
        "id": "UO-wPTWJCk7_",
        "outputId": "8254d855-709d-45ba-d873-9265b0270e80"
      },
      "execution_count": null,
      "outputs": [
        {
          "output_type": "execute_result",
          "data": {
            "text/plain": [
              "array([[51.037, 52.465, 50.991, 46.091],\n",
              "       [52.716, 51.339, 48.389, 51.743],\n",
              "       [51.094, 50.882, 50.085, 51.64 ],\n",
              "       [47.791, 49.511, 48.554, 51.797],\n",
              "       [50.119, 49.123, 47.654, 49.228]])"
            ]
          },
          "metadata": {},
          "execution_count": 32
        }
      ]
    },
    {
      "cell_type": "code",
      "source": [
        "array[0] += 0.05"
      ],
      "metadata": {
        "id": "y3ZasmLl3fL5"
      },
      "execution_count": null,
      "outputs": []
    },
    {
      "cell_type": "code",
      "source": [
        "array"
      ],
      "metadata": {
        "colab": {
          "base_uri": "https://localhost:8080/"
        },
        "id": "on8GQk1IUTvQ",
        "outputId": "c5ca03ab-e37f-47a7-bab5-a72d935eb4e4"
      },
      "execution_count": null,
      "outputs": [
        {
          "output_type": "execute_result",
          "data": {
            "text/plain": [
              "array([[[51.087, 52.515, 51.041, 46.141],\n",
              "        [52.766, 51.389, 48.439, 51.793],\n",
              "        [51.144, 50.932, 50.135, 51.69 ],\n",
              "        [47.841, 49.561, 48.604, 51.847],\n",
              "        [50.169, 49.173, 47.704, 49.278]],\n",
              "\n",
              "       [[50.024, 49.173, 53.882, 53.02 ],\n",
              "        [41.867, 44.333, 49.476, 48.733],\n",
              "        [50.641, 50.652, 56.354, 46.664],\n",
              "        [48.867, 56.128, 51.94 , 51.989],\n",
              "        [48.458, 45.056, 50.502, 50.327]],\n",
              "\n",
              "       [[46.318, 47.95 , 49.784, 47.166],\n",
              "        [99.   , 99.   , 99.   , 99.   ],\n",
              "        [51.781, 52.674, 50.963, 47.545],\n",
              "        [52.195, 48.496, 52.637, 46.785],\n",
              "        [52.743, 49.94 , 46.254, 49.058]]])"
            ]
          },
          "metadata": {},
          "execution_count": 34
        }
      ]
    },
    {
      "cell_type": "markdown",
      "source": [
        "A terceira volta dos dois primeiros atletas no segundo dia foi registrada errada, os valores corretos são 53.872 e 49.479. Faça a correção e exiba o array modificado."
      ],
      "metadata": {
        "id": "gEqydkBb3tUL"
      }
    },
    {
      "cell_type": "code",
      "source": [
        "array[1, 0:2, 2] = [53.872, 49.479]"
      ],
      "metadata": {
        "id": "kCDKasIU4G9f"
      },
      "execution_count": null,
      "outputs": []
    },
    {
      "cell_type": "code",
      "source": [
        "array"
      ],
      "metadata": {
        "colab": {
          "base_uri": "https://localhost:8080/"
        },
        "id": "5wqqN_lNUY8B",
        "outputId": "b8cdea20-8510-40c3-bd1b-089c0b5d76e7"
      },
      "execution_count": null,
      "outputs": [
        {
          "output_type": "execute_result",
          "data": {
            "text/plain": [
              "array([[[51.087, 52.515, 51.041, 46.141],\n",
              "        [52.766, 51.389, 48.439, 51.793],\n",
              "        [51.144, 50.932, 50.135, 51.69 ],\n",
              "        [47.841, 49.561, 48.604, 51.847],\n",
              "        [50.169, 49.173, 47.704, 49.278]],\n",
              "\n",
              "       [[50.024, 49.173, 53.872, 53.02 ],\n",
              "        [41.867, 44.333, 49.479, 48.733],\n",
              "        [50.641, 50.652, 56.354, 46.664],\n",
              "        [48.867, 56.128, 51.94 , 51.989],\n",
              "        [48.458, 45.056, 50.502, 50.327]],\n",
              "\n",
              "       [[46.318, 47.95 , 49.784, 47.166],\n",
              "        [99.   , 99.   , 99.   , 99.   ],\n",
              "        [51.781, 52.674, 50.963, 47.545],\n",
              "        [52.195, 48.496, 52.637, 46.785],\n",
              "        [52.743, 49.94 , 46.254, 49.058]]])"
            ]
          },
          "metadata": {},
          "execution_count": 36
        }
      ]
    }
  ]
}