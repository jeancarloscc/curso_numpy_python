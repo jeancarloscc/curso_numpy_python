{
  "nbformat": 4,
  "nbformat_minor": 0,
  "metadata": {
    "colab": {
      "provenance": []
    },
    "kernelspec": {
      "name": "python3",
      "display_name": "Python 3"
    },
    "language_info": {
      "name": "python"
    }
  },
  "cells": [
    {
      "cell_type": "code",
      "execution_count": null,
      "metadata": {
        "id": "sgYgpXPEmTmW"
      },
      "outputs": [],
      "source": [
        "import numpy as np"
      ]
    },
    {
      "cell_type": "code",
      "source": [
        "np.__version__"
      ],
      "metadata": {
        "colab": {
          "base_uri": "https://localhost:8080/",
          "height": 35
        },
        "id": "WToUoFxfmkqS",
        "outputId": "c6d8c796-db82-4c5a-aaac-072837e92c99"
      },
      "execution_count": null,
      "outputs": [
        {
          "output_type": "execute_result",
          "data": {
            "text/plain": [
              "'1.25.2'"
            ],
            "application/vnd.google.colaboratory.intrinsic+json": {
              "type": "string"
            }
          },
          "metadata": {},
          "execution_count": 2
        }
      ]
    },
    {
      "cell_type": "markdown",
      "source": [
        "Neste módulo, vamos trabalhar com um array 3-D, que representa o desempenho de atletas de corrida.\n",
        "\n",
        "Na primeira dimensão (profundidade), vamos representar 3 dias de avaliação diferentes. Na segunda dimensão (linhas), cada um dos 5 atletas. Na terceira dimensão (colunas), cada uma das 4 voltas da pista de corrida. Os valores serão dados em segundos.\n",
        "\n",
        "Estes dados serão simulados com o código abaixo, mas não se preocupe em entendê-lo por enquanto, os detalhes destas funções serão apresentados nas próximas aulas."
      ],
      "metadata": {
        "id": "RCspxELbx7AT"
      }
    },
    {
      "cell_type": "code",
      "source": [
        "rng = np.random.default_rng(seed=1)"
      ],
      "metadata": {
        "id": "5l8ZK_5Vwnyt"
      },
      "execution_count": null,
      "outputs": []
    },
    {
      "cell_type": "code",
      "source": [
        "array = rng.normal(loc=50, scale=3, size=60).reshape(3, 5, 4).round(3)"
      ],
      "metadata": {
        "id": "Lsr9gyhCw9P0"
      },
      "execution_count": null,
      "outputs": []
    },
    {
      "cell_type": "code",
      "source": [
        "array"
      ],
      "metadata": {
        "colab": {
          "base_uri": "https://localhost:8080/"
        },
        "id": "jcAN-BeKTbY3",
        "outputId": "83174f78-2fbd-4c94-ec10-a6bb91befe61"
      },
      "execution_count": null,
      "outputs": [
        {
          "output_type": "execute_result",
          "data": {
            "text/plain": [
              "array([[[51.037, 52.465, 50.991, 46.091],\n",
              "        [52.716, 51.339, 48.389, 51.743],\n",
              "        [51.094, 50.882, 50.085, 51.64 ],\n",
              "        [47.791, 49.511, 48.554, 51.797],\n",
              "        [50.119, 49.123, 47.654, 49.228]],\n",
              "\n",
              "       [[50.024, 49.173, 53.882, 53.02 ],\n",
              "        [41.867, 44.333, 49.476, 48.733],\n",
              "        [50.641, 50.652, 56.354, 46.664],\n",
              "        [48.867, 56.128, 51.94 , 51.989],\n",
              "        [48.458, 45.056, 50.502, 50.327]],\n",
              "\n",
              "       [[46.318, 47.95 , 49.784, 47.166],\n",
              "        [49.705, 50.286, 50.107, 48.481],\n",
              "        [51.781, 52.674, 50.963, 47.545],\n",
              "        [52.195, 48.496, 52.637, 46.785],\n",
              "        [52.743, 49.94 , 46.254, 49.058]]])"
            ]
          },
          "metadata": {},
          "execution_count": 5
        }
      ]
    },
    {
      "cell_type": "code",
      "source": [
        "array.shape"
      ],
      "metadata": {
        "colab": {
          "base_uri": "https://localhost:8080/"
        },
        "id": "I9R09UU_12NX",
        "outputId": "1b672a2e-9932-410e-843c-e2d850d44d7c"
      },
      "execution_count": null,
      "outputs": [
        {
          "output_type": "execute_result",
          "data": {
            "text/plain": [
              "(3, 5, 4)"
            ]
          },
          "metadata": {},
          "execution_count": 6
        }
      ]
    },
    {
      "cell_type": "markdown",
      "source": [
        "👆 Observe pelo `shape` que são 3 dias, 5 atletas e 4 voltas."
      ],
      "metadata": {
        "id": "b-gCnp1i14PC"
      }
    },
    {
      "cell_type": "markdown",
      "source": [
        "Dada a definição deste array apresentada acima, você pode entender a primeira linha:\n",
        "```\n",
        "[51.037, 52.465, 50.991, 46.091]\n",
        "```\n",
        "como o desempenho do primeiro atleta, no primeiro dia, nas 4 voltas da pista.\n",
        "\n",
        "A sétima linha:\n",
        "```\n",
        "[41.867, 44.333, 49.476, 48.733]\n",
        "```\n",
        "é o desempenho do segundo atleta no segundo dia, nas 4 voltas da pista."
      ],
      "metadata": {
        "id": "SlPrp9CJymmf"
      }
    },
    {
      "cell_type": "markdown",
      "source": [
        "### Indexing"
      ],
      "metadata": {
        "id": "jNlDbFlxO8kC"
      }
    },
    {
      "cell_type": "markdown",
      "source": [
        "Dado o array acima, utilize indexação para recuperar o desempenho do terceiro atleta no segundo dia.\n",
        "\n",
        "Lembre-se que, no Python, a indexação começa em 0!"
      ],
      "metadata": {
        "id": "CBWibvL0ztkV"
      }
    },
    {
      "cell_type": "code",
      "source": [
        "array[...]"
      ],
      "metadata": {
        "colab": {
          "base_uri": "https://localhost:8080/"
        },
        "id": "YkF_OXS0x3Sn",
        "outputId": "dc17fd41-e49f-4723-caa4-d7871792c6d6"
      },
      "execution_count": null,
      "outputs": [
        {
          "output_type": "execute_result",
          "data": {
            "text/plain": [
              "array([50.641, 50.652, 56.354, 46.664])"
            ]
          },
          "metadata": {},
          "execution_count": 7
        }
      ]
    },
    {
      "cell_type": "markdown",
      "source": [
        "Agora recupere o desempenho de todos os atletas na última volta do primeiro dia. Use indexação negativa para acessar a última volta."
      ],
      "metadata": {
        "id": "Vlqnhes20DBy"
      }
    },
    {
      "cell_type": "code",
      "source": [
        "..."
      ],
      "metadata": {
        "colab": {
          "base_uri": "https://localhost:8080/"
        },
        "id": "fCSIhUlzz_Qo",
        "outputId": "f0af6b31-fd2e-4aae-cfc0-29ff5d642577"
      },
      "execution_count": null,
      "outputs": [
        {
          "output_type": "execute_result",
          "data": {
            "text/plain": [
              "array([46.091, 51.743, 51.64 , 51.797, 49.228])"
            ]
          },
          "metadata": {},
          "execution_count": 8
        }
      ]
    },
    {
      "cell_type": "markdown",
      "source": [
        "Agora recupere o desempenho do segundo e do quarto atletas, no terceiro dia, na segunda volta."
      ],
      "metadata": {
        "id": "mSyNY84Y0Qtw"
      }
    },
    {
      "cell_type": "code",
      "source": [
        "..."
      ],
      "metadata": {
        "colab": {
          "base_uri": "https://localhost:8080/"
        },
        "id": "q-2Gvl120OwQ",
        "outputId": "26b5b21b-87bd-4178-fe63-a0bc0d4fc070"
      },
      "execution_count": null,
      "outputs": [
        {
          "output_type": "execute_result",
          "data": {
            "text/plain": [
              "array([50.286, 48.496])"
            ]
          },
          "metadata": {},
          "execution_count": 9
        }
      ]
    },
    {
      "cell_type": "markdown",
      "source": [
        "Usando indexação negativa, recupere o desempenho de todos os atletas em todos os dias, na penúltima volta."
      ],
      "metadata": {
        "id": "1eYa1Enf0qsy"
      }
    },
    {
      "cell_type": "code",
      "source": [
        "..."
      ],
      "metadata": {
        "colab": {
          "base_uri": "https://localhost:8080/"
        },
        "id": "2PtR2pMc0xi8",
        "outputId": "2a2163fb-db80-4484-9b8f-9b4dc76e625c"
      },
      "execution_count": null,
      "outputs": [
        {
          "output_type": "execute_result",
          "data": {
            "text/plain": [
              "array([[50.991, 48.389, 50.085, 48.554, 47.654],\n",
              "       [53.882, 49.476, 56.354, 51.94 , 50.502],\n",
              "       [49.784, 50.107, 50.963, 52.637, 46.254]])"
            ]
          },
          "metadata": {},
          "execution_count": 10
        }
      ]
    },
    {
      "cell_type": "markdown",
      "source": [
        "Crie uma máscara booleana para representar somente os resultados menores que 46. Depois utilize esta máscara para filtrar do array os resultados que atendem a esta condição."
      ],
      "metadata": {
        "id": "-FzvBagY063F"
      }
    },
    {
      "cell_type": "code",
      "source": [
        "mask = ..."
      ],
      "metadata": {
        "id": "ut8AziU20zON"
      },
      "execution_count": null,
      "outputs": []
    },
    {
      "cell_type": "code",
      "source": [
        "..."
      ],
      "metadata": {
        "colab": {
          "base_uri": "https://localhost:8080/"
        },
        "id": "3JLJhvoyT4Sa",
        "outputId": "f5150e5c-dd6c-48f4-b1d4-ca7743f75d81"
      },
      "execution_count": null,
      "outputs": [
        {
          "output_type": "execute_result",
          "data": {
            "text/plain": [
              "array([41.867, 44.333, 45.056])"
            ]
          },
          "metadata": {},
          "execution_count": 12
        }
      ]
    },
    {
      "cell_type": "markdown",
      "source": [
        "### Slicing"
      ],
      "metadata": {
        "id": "GkP0fj36ZkxU"
      }
    },
    {
      "cell_type": "markdown",
      "source": [
        "Utilize fatiamento para recuperar o desempenho do quarto atleta nas duas primeiras voltas, em todos os dias."
      ],
      "metadata": {
        "id": "baaYuC8v1MOM"
      }
    },
    {
      "cell_type": "code",
      "source": [
        "..."
      ],
      "metadata": {
        "colab": {
          "base_uri": "https://localhost:8080/"
        },
        "id": "Y1_xrgmk1aCX",
        "outputId": "c2a2f835-9248-4066-e94d-8f605167b6ac"
      },
      "execution_count": null,
      "outputs": [
        {
          "output_type": "execute_result",
          "data": {
            "text/plain": [
              "array([[47.791, 49.511],\n",
              "       [48.867, 56.128],\n",
              "       [52.195, 48.496]])"
            ]
          },
          "metadata": {},
          "execution_count": 13
        }
      ]
    },
    {
      "cell_type": "markdown",
      "source": [
        "Agora recupere o desempenho de todos os atletas nos dois primeiros dias, da segunda volta em diante."
      ],
      "metadata": {
        "id": "gqZb5v8c1ll-"
      }
    },
    {
      "cell_type": "code",
      "source": [
        "..."
      ],
      "metadata": {
        "colab": {
          "base_uri": "https://localhost:8080/"
        },
        "id": "95v217aX1cDP",
        "outputId": "b609aaf7-dbe8-4846-a23d-9f83f13e1455"
      },
      "execution_count": null,
      "outputs": [
        {
          "output_type": "execute_result",
          "data": {
            "text/plain": [
              "array([[[52.465, 50.991, 46.091],\n",
              "        [51.339, 48.389, 51.743],\n",
              "        [50.882, 50.085, 51.64 ],\n",
              "        [49.511, 48.554, 51.797],\n",
              "        [49.123, 47.654, 49.228]],\n",
              "\n",
              "       [[49.173, 53.882, 53.02 ],\n",
              "        [44.333, 49.476, 48.733],\n",
              "        [50.652, 56.354, 46.664],\n",
              "        [56.128, 51.94 , 51.989],\n",
              "        [45.056, 50.502, 50.327]]])"
            ]
          },
          "metadata": {},
          "execution_count": 14
        }
      ]
    },
    {
      "cell_type": "markdown",
      "source": [
        "Utilize a notação negativa e a notação de \"passo\" para recuperar os desempenhos dos dois últimos atletas, no segundo dia, nas voltas de índice ímpar."
      ],
      "metadata": {
        "id": "3e0GDUSa2E06"
      }
    },
    {
      "cell_type": "code",
      "source": [
        "..."
      ],
      "metadata": {
        "colab": {
          "base_uri": "https://localhost:8080/"
        },
        "id": "J4N1eZKG2WQQ",
        "outputId": "e797f434-1936-48c5-9e4e-108d1fe22faf"
      },
      "execution_count": null,
      "outputs": [
        {
          "output_type": "execute_result",
          "data": {
            "text/plain": [
              "array([[56.128, 51.989],\n",
              "       [45.056, 50.327]])"
            ]
          },
          "metadata": {},
          "execution_count": 15
        }
      ]
    },
    {
      "cell_type": "markdown",
      "source": [
        "### Assigning"
      ],
      "metadata": {
        "id": "qzLbKjz6gW6r"
      }
    },
    {
      "cell_type": "markdown",
      "source": [
        "Suponha que o segundo atleta tenha sido desclassificado na prova do terceiro dia, e você deve demonstrar isso no array mudando todos os valores de suas voltas para o número 99.\n",
        "\n",
        "Utilize a técnica de assigning para fazer esta correção, e exiba o array modificado."
      ],
      "metadata": {
        "id": "h6piUvIJ2hzR"
      }
    },
    {
      "cell_type": "code",
      "source": [
        "array[...] = ..."
      ],
      "metadata": {
        "id": "kSd_FgK-2y9v"
      },
      "execution_count": null,
      "outputs": []
    },
    {
      "cell_type": "code",
      "source": [
        "array"
      ],
      "metadata": {
        "colab": {
          "base_uri": "https://localhost:8080/"
        },
        "id": "c_GOGtEHULGD",
        "outputId": "61ad333d-8b89-43e9-dc39-60a981b7603f"
      },
      "execution_count": null,
      "outputs": [
        {
          "output_type": "execute_result",
          "data": {
            "text/plain": [
              "array([[[51.037, 52.465, 50.991, 46.091],\n",
              "        [52.716, 51.339, 48.389, 51.743],\n",
              "        [51.094, 50.882, 50.085, 51.64 ],\n",
              "        [47.791, 49.511, 48.554, 51.797],\n",
              "        [50.119, 49.123, 47.654, 49.228]],\n",
              "\n",
              "       [[50.024, 49.173, 53.882, 53.02 ],\n",
              "        [41.867, 44.333, 49.476, 48.733],\n",
              "        [50.641, 50.652, 56.354, 46.664],\n",
              "        [48.867, 56.128, 51.94 , 51.989],\n",
              "        [48.458, 45.056, 50.502, 50.327]],\n",
              "\n",
              "       [[46.318, 47.95 , 49.784, 47.166],\n",
              "        [99.   , 99.   , 99.   , 99.   ],\n",
              "        [51.781, 52.674, 50.963, 47.545],\n",
              "        [52.195, 48.496, 52.637, 46.785],\n",
              "        [52.743, 49.94 , 46.254, 49.058]]])"
            ]
          },
          "metadata": {},
          "execution_count": 17
        }
      ]
    },
    {
      "cell_type": "markdown",
      "source": [
        "Foi descoberto que o cronômetro utilizado no primeiro dia de prova estava descalibrado, e por isso, todos os tempos correspondentes devem ser acrescidos em 0.05 segundos. Realize a correção e exiba o array modificado.\n",
        "\n",
        "Lembre-se que você pode adicionar valores a um objeto do Python com a notação `+=`."
      ],
      "metadata": {
        "id": "vAXSTYPE3DNv"
      }
    },
    {
      "cell_type": "code",
      "source": [
        "..."
      ],
      "metadata": {
        "id": "y3ZasmLl3fL5"
      },
      "execution_count": null,
      "outputs": []
    },
    {
      "cell_type": "code",
      "source": [
        "array"
      ],
      "metadata": {
        "colab": {
          "base_uri": "https://localhost:8080/"
        },
        "id": "on8GQk1IUTvQ",
        "outputId": "6605e706-c3a3-484a-dcfe-8a0957ec60f0"
      },
      "execution_count": null,
      "outputs": [
        {
          "output_type": "execute_result",
          "data": {
            "text/plain": [
              "array([[[51.087, 52.515, 51.041, 46.141],\n",
              "        [52.766, 51.389, 48.439, 51.793],\n",
              "        [51.144, 50.932, 50.135, 51.69 ],\n",
              "        [47.841, 49.561, 48.604, 51.847],\n",
              "        [50.169, 49.173, 47.704, 49.278]],\n",
              "\n",
              "       [[50.024, 49.173, 53.882, 53.02 ],\n",
              "        [41.867, 44.333, 49.476, 48.733],\n",
              "        [50.641, 50.652, 56.354, 46.664],\n",
              "        [48.867, 56.128, 51.94 , 51.989],\n",
              "        [48.458, 45.056, 50.502, 50.327]],\n",
              "\n",
              "       [[46.318, 47.95 , 49.784, 47.166],\n",
              "        [99.   , 99.   , 99.   , 99.   ],\n",
              "        [51.781, 52.674, 50.963, 47.545],\n",
              "        [52.195, 48.496, 52.637, 46.785],\n",
              "        [52.743, 49.94 , 46.254, 49.058]]])"
            ]
          },
          "metadata": {},
          "execution_count": 19
        }
      ]
    },
    {
      "cell_type": "markdown",
      "source": [
        "A terceira volta dos dois primeiros atletas no segundo dia foi registrada errada, os valores corretos são 53.872 e 49.479. Faça a correção e exiba o array modificado."
      ],
      "metadata": {
        "id": "gEqydkBb3tUL"
      }
    },
    {
      "cell_type": "code",
      "source": [
        "..."
      ],
      "metadata": {
        "id": "kCDKasIU4G9f"
      },
      "execution_count": null,
      "outputs": []
    },
    {
      "cell_type": "code",
      "source": [
        "array"
      ],
      "metadata": {
        "colab": {
          "base_uri": "https://localhost:8080/"
        },
        "id": "5wqqN_lNUY8B",
        "outputId": "3d6b75c6-1d84-42fa-d325-f3b1bc125082"
      },
      "execution_count": null,
      "outputs": [
        {
          "output_type": "execute_result",
          "data": {
            "text/plain": [
              "array([[[51.087, 52.515, 51.041, 46.141],\n",
              "        [52.766, 51.389, 48.439, 51.793],\n",
              "        [51.144, 50.932, 50.135, 51.69 ],\n",
              "        [47.841, 49.561, 48.604, 51.847],\n",
              "        [50.169, 49.173, 47.704, 49.278]],\n",
              "\n",
              "       [[50.024, 49.173, 53.872, 53.02 ],\n",
              "        [41.867, 44.333, 49.479, 48.733],\n",
              "        [50.641, 50.652, 56.354, 46.664],\n",
              "        [48.867, 56.128, 51.94 , 51.989],\n",
              "        [48.458, 45.056, 50.502, 50.327]],\n",
              "\n",
              "       [[46.318, 47.95 , 49.784, 47.166],\n",
              "        [99.   , 99.   , 99.   , 99.   ],\n",
              "        [51.781, 52.674, 50.963, 47.545],\n",
              "        [52.195, 48.496, 52.637, 46.785],\n",
              "        [52.743, 49.94 , 46.254, 49.058]]])"
            ]
          },
          "metadata": {},
          "execution_count": 21
        }
      ]
    }
  ]
}