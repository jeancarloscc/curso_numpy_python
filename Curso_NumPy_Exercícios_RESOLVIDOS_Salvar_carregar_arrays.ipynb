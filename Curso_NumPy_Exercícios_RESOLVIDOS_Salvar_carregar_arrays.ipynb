{
  "nbformat": 4,
  "nbformat_minor": 0,
  "metadata": {
    "colab": {
      "provenance": []
    },
    "kernelspec": {
      "name": "python3",
      "display_name": "Python 3"
    },
    "language_info": {
      "name": "python"
    }
  },
  "cells": [
    {
      "cell_type": "code",
      "execution_count": null,
      "metadata": {
        "colab": {
          "base_uri": "https://localhost:8080/",
          "height": 56
        },
        "id": "B_QjRskl420r",
        "outputId": "33007957-910d-4e9f-f806-93d10cdcb2d9"
      },
      "outputs": [
        {
          "output_type": "execute_result",
          "data": {
            "text/plain": [
              "'1.25.2'"
            ],
            "application/vnd.google.colaboratory.intrinsic+json": {
              "type": "string"
            }
          },
          "metadata": {},
          "execution_count": 1
        }
      ],
      "source": [
        "import numpy as np\n",
        "np.__version__"
      ]
    },
    {
      "cell_type": "markdown",
      "source": [
        "Comece gerando dois arrays:\n",
        "- o primeiro através de amostragem de uma distribuição normal com média 10 e desvio-padrão 2, no formato 5x3.\n",
        "- o segundo através de amostragem de uma distribuição uniforme com mínimo 25 e máximo 50, no formato 3x4x2.\n",
        "\n",
        "Para garantir a reprodutibilidade, utilize seed igual a 10."
      ],
      "metadata": {
        "id": "Uzp92Udl5-Dx"
      }
    },
    {
      "cell_type": "code",
      "source": [
        "rng = np.random.default_rng(seed=10)"
      ],
      "metadata": {
        "id": "XD28BKC268Mn"
      },
      "execution_count": null,
      "outputs": []
    },
    {
      "cell_type": "code",
      "source": [
        "array_1 = rng.normal(loc=10, scale=2, size=5*3).reshape(5, 3)"
      ],
      "metadata": {
        "id": "DcxArQaW7D0b"
      },
      "execution_count": null,
      "outputs": []
    },
    {
      "cell_type": "code",
      "source": [
        "array_1"
      ],
      "metadata": {
        "colab": {
          "base_uri": "https://localhost:8080/"
        },
        "id": "DBixaCCZ7Mem",
        "outputId": "a49d5046-d155-4c6a-beca-0af0cde55c8e"
      },
      "execution_count": null,
      "outputs": [
        {
          "output_type": "execute_result",
          "data": {
            "text/plain": [
              "array([[ 7.7933231 ,  8.54995072,  8.43638949],\n",
              "       [10.53395171,  9.50283854, 10.2529661 ],\n",
              "       [11.68608514, 11.7158731 , 10.95036728],\n",
              "       [ 9.0984628 ,  8.49013544,  8.37037179],\n",
              "       [ 9.31229028,  9.89723981,  8.05545265]])"
            ]
          },
          "metadata": {},
          "execution_count": 4
        }
      ]
    },
    {
      "cell_type": "code",
      "source": [
        "array_2 = rng.uniform(low=25, high=50, size=3*4*2).reshape(3, 4, 2)"
      ],
      "metadata": {
        "id": "3Wi5rg307a1g"
      },
      "execution_count": null,
      "outputs": []
    },
    {
      "cell_type": "code",
      "source": [
        "array_2"
      ],
      "metadata": {
        "colab": {
          "base_uri": "https://localhost:8080/"
        },
        "id": "BiFLqO1f78md",
        "outputId": "c44ca938-acc1-4cdf-935a-8ea15462b44a"
      },
      "execution_count": null,
      "outputs": [
        {
          "output_type": "execute_result",
          "data": {
            "text/plain": [
              "array([[[48.33596177, 28.62486737],\n",
              "        [43.63950528, 28.48378485],\n",
              "        [47.6632189 , 30.65286084],\n",
              "        [46.33099375, 32.65794664]],\n",
              "\n",
              "       [[49.24575921, 37.94585534],\n",
              "        [33.06186397, 32.06083793],\n",
              "        [40.1466249 , 33.34411142],\n",
              "        [41.96621934, 28.86062676]],\n",
              "\n",
              "       [[31.24438798, 46.74735615],\n",
              "        [40.00919551, 31.5495764 ],\n",
              "        [28.73537251, 28.41972874],\n",
              "        [31.22302344, 34.57061666]]])"
            ]
          },
          "metadata": {},
          "execution_count": 6
        }
      ]
    },
    {
      "cell_type": "markdown",
      "source": [
        "#### `np.save`, `np.load`"
      ],
      "metadata": {
        "id": "_9t141SbMit8"
      }
    },
    {
      "cell_type": "markdown",
      "source": [
        "Salve `array_1` no arquivo `array_1_file`."
      ],
      "metadata": {
        "id": "qQFsvYdpvn3F"
      }
    },
    {
      "cell_type": "code",
      "source": [
        "np.save(file='array_1_file', arr=array_1)"
      ],
      "metadata": {
        "id": "qlg03WAV791M"
      },
      "execution_count": null,
      "outputs": []
    },
    {
      "cell_type": "markdown",
      "source": [
        "Recarregue o array salvo."
      ],
      "metadata": {
        "id": "xf7dANhwvt1_"
      }
    },
    {
      "cell_type": "code",
      "source": [
        "array_1_loaded = np.load(file='array_1_file.npy')"
      ],
      "metadata": {
        "id": "RJKq08Gs-rp1"
      },
      "execution_count": null,
      "outputs": []
    },
    {
      "cell_type": "code",
      "source": [
        "array_1_loaded"
      ],
      "metadata": {
        "colab": {
          "base_uri": "https://localhost:8080/"
        },
        "id": "NR3ICzwu-xWd",
        "outputId": "79cb642b-c81a-40d1-dc21-40454943ebc5"
      },
      "execution_count": null,
      "outputs": [
        {
          "output_type": "execute_result",
          "data": {
            "text/plain": [
              "array([[ 7.7933231 ,  8.54995072,  8.43638949],\n",
              "       [10.53395171,  9.50283854, 10.2529661 ],\n",
              "       [11.68608514, 11.7158731 , 10.95036728],\n",
              "       [ 9.0984628 ,  8.49013544,  8.37037179],\n",
              "       [ 9.31229028,  9.89723981,  8.05545265]])"
            ]
          },
          "metadata": {},
          "execution_count": 10
        }
      ]
    },
    {
      "cell_type": "markdown",
      "source": [
        "Verifique que os dois arrays são iguais com `np.array_equal`."
      ],
      "metadata": {
        "id": "WdzLqyIT-46Y"
      }
    },
    {
      "cell_type": "code",
      "source": [
        "np.array_equal(array_1, array_1_loaded)"
      ],
      "metadata": {
        "colab": {
          "base_uri": "https://localhost:8080/"
        },
        "id": "mY5wvwD4-yOH",
        "outputId": "46c6e8be-fc4f-4bb7-bc51-6ad37352454d"
      },
      "execution_count": null,
      "outputs": [
        {
          "output_type": "execute_result",
          "data": {
            "text/plain": [
              "True"
            ]
          },
          "metadata": {},
          "execution_count": 11
        }
      ]
    },
    {
      "cell_type": "markdown",
      "source": [
        "#### `np.savez`"
      ],
      "metadata": {
        "id": "Qck4SQ9INRh-"
      }
    },
    {
      "cell_type": "markdown",
      "source": [
        "Salve os dois arrays em um único arquivo `npz`."
      ],
      "metadata": {
        "id": "f-kTrcIg_B76"
      }
    },
    {
      "cell_type": "code",
      "source": [
        "np.savez('arrays_savez', array_1, array_2)"
      ],
      "metadata": {
        "id": "N8IHLg42_BDG"
      },
      "execution_count": null,
      "outputs": []
    },
    {
      "cell_type": "markdown",
      "source": [
        "Recarregue o arquivo e restaure os dois arrays."
      ],
      "metadata": {
        "id": "CQOoMiYYAjTk"
      }
    },
    {
      "cell_type": "code",
      "source": [
        "arrays_loaded = np.load('arrays_savez.npz')"
      ],
      "metadata": {
        "id": "WdOBiuQb_Ue_"
      },
      "execution_count": null,
      "outputs": []
    },
    {
      "cell_type": "code",
      "source": [
        "arrays_loaded"
      ],
      "metadata": {
        "colab": {
          "base_uri": "https://localhost:8080/"
        },
        "id": "Q2e4Eg_JAsdf",
        "outputId": "1c00565b-d234-46d4-8a37-e12563d6bf0d"
      },
      "execution_count": null,
      "outputs": [
        {
          "output_type": "execute_result",
          "data": {
            "text/plain": [
              "NpzFile 'arrays_savez.npz' with keys: arr_0, arr_1"
            ]
          },
          "metadata": {},
          "execution_count": 14
        }
      ]
    },
    {
      "cell_type": "code",
      "source": [
        "array_1_loaded = arrays_loaded['arr_0']"
      ],
      "metadata": {
        "id": "AhBzQza6ApCj"
      },
      "execution_count": null,
      "outputs": []
    },
    {
      "cell_type": "code",
      "source": [
        "array_1_loaded"
      ],
      "metadata": {
        "colab": {
          "base_uri": "https://localhost:8080/"
        },
        "id": "p26xDtsTA5IW",
        "outputId": "7c15cf76-32c6-47c6-eaa5-36ac93023d1b"
      },
      "execution_count": null,
      "outputs": [
        {
          "output_type": "execute_result",
          "data": {
            "text/plain": [
              "array([[ 7.7933231 ,  8.54995072,  8.43638949],\n",
              "       [10.53395171,  9.50283854, 10.2529661 ],\n",
              "       [11.68608514, 11.7158731 , 10.95036728],\n",
              "       [ 9.0984628 ,  8.49013544,  8.37037179],\n",
              "       [ 9.31229028,  9.89723981,  8.05545265]])"
            ]
          },
          "metadata": {},
          "execution_count": 16
        }
      ]
    },
    {
      "cell_type": "code",
      "source": [
        "array_2_loaded = arrays_loaded['arr_1']"
      ],
      "metadata": {
        "id": "9trj2m2bA6e6"
      },
      "execution_count": null,
      "outputs": []
    },
    {
      "cell_type": "code",
      "source": [
        "array_2_loaded"
      ],
      "metadata": {
        "colab": {
          "base_uri": "https://localhost:8080/"
        },
        "id": "gyKQFhVYA-hj",
        "outputId": "8332e117-c6a7-44f3-a829-bc97c053d506"
      },
      "execution_count": null,
      "outputs": [
        {
          "output_type": "execute_result",
          "data": {
            "text/plain": [
              "array([[[48.33596177, 28.62486737],\n",
              "        [43.63950528, 28.48378485],\n",
              "        [47.6632189 , 30.65286084],\n",
              "        [46.33099375, 32.65794664]],\n",
              "\n",
              "       [[49.24575921, 37.94585534],\n",
              "        [33.06186397, 32.06083793],\n",
              "        [40.1466249 , 33.34411142],\n",
              "        [41.96621934, 28.86062676]],\n",
              "\n",
              "       [[31.24438798, 46.74735615],\n",
              "        [40.00919551, 31.5495764 ],\n",
              "        [28.73537251, 28.41972874],\n",
              "        [31.22302344, 34.57061666]]])"
            ]
          },
          "metadata": {},
          "execution_count": 18
        }
      ]
    },
    {
      "cell_type": "markdown",
      "source": [
        "#### `np.savez_compressed`"
      ],
      "metadata": {
        "id": "ObIRWwGxN_3H"
      }
    },
    {
      "cell_type": "markdown",
      "source": [
        "Salve e recarregue os dois arrays em um único arquivo compactado."
      ],
      "metadata": {
        "id": "3106hhYMBi6d"
      }
    },
    {
      "cell_type": "code",
      "source": [
        "np.savez_compressed('arrays_compacted', array_1, array_2)"
      ],
      "metadata": {
        "id": "IrDOUsPcBbHZ"
      },
      "execution_count": null,
      "outputs": []
    },
    {
      "cell_type": "code",
      "source": [
        "arrays_compacted_loaded = np.load('arrays_compacted.npz')"
      ],
      "metadata": {
        "id": "hMPcOq45Brci"
      },
      "execution_count": null,
      "outputs": []
    },
    {
      "cell_type": "code",
      "source": [
        "arrays_compacted_loaded"
      ],
      "metadata": {
        "colab": {
          "base_uri": "https://localhost:8080/"
        },
        "id": "Zz1XUKKzBsKw",
        "outputId": "67097736-b75c-4bf0-9130-905b259cd591"
      },
      "execution_count": null,
      "outputs": [
        {
          "output_type": "execute_result",
          "data": {
            "text/plain": [
              "NpzFile 'arrays_compacted.npz' with keys: arr_0, arr_1"
            ]
          },
          "metadata": {},
          "execution_count": 21
        }
      ]
    },
    {
      "cell_type": "markdown",
      "source": [
        "#### `np.savetxt`, `np.loadtxt`"
      ],
      "metadata": {
        "id": "QxqW6WfoOe6x"
      }
    },
    {
      "cell_type": "markdown",
      "source": [
        "Salve `array_1` em formato `csv`."
      ],
      "metadata": {
        "id": "9NAnbJ1PDCSW"
      }
    },
    {
      "cell_type": "code",
      "source": [
        "np.savetxt(fname='array_csv.csv', X=array_1)"
      ],
      "metadata": {
        "id": "2BfhByq2DBHX"
      },
      "execution_count": null,
      "outputs": []
    },
    {
      "cell_type": "markdown",
      "source": [
        "Use o comando do Linux abaixo para visualizar como os dados foram salvos no arquivo."
      ],
      "metadata": {
        "id": "s9uoj8BQDPCo"
      }
    },
    {
      "cell_type": "code",
      "source": [
        "!head array_csv.csv"
      ],
      "metadata": {
        "colab": {
          "base_uri": "https://localhost:8080/"
        },
        "id": "uaatiOUhDIYa",
        "outputId": "81424df2-360a-4259-f850-abeb5c9dc65f"
      },
      "execution_count": null,
      "outputs": [
        {
          "output_type": "stream",
          "name": "stdout",
          "text": [
            "7.793323101868935510e+00 8.549950719511119956e+00 8.436389485363886109e+00\n",
            "1.053395171278878450e+01 9.502838541122217819e+00 1.025296610302370048e+01\n",
            "1.168608514160867529e+01 1.171587309895153695e+01 1.095036728389717062e+01\n",
            "9.098462803835166923e+00 8.490135436352497678e+00 8.370371785321818692e+00\n",
            "9.312290284411478325e+00 9.897239812426132488e+00 8.055452645251286015e+00\n"
          ]
        }
      ]
    },
    {
      "cell_type": "markdown",
      "source": [
        "Recarregue este array a partir do arquivo."
      ],
      "metadata": {
        "id": "r5wTONgFDg-_"
      }
    },
    {
      "cell_type": "code",
      "source": [
        "array_1_loaded = np.loadtxt(fname='array_csv.csv')"
      ],
      "metadata": {
        "id": "lhU88slXDjXZ"
      },
      "execution_count": null,
      "outputs": []
    },
    {
      "cell_type": "code",
      "source": [
        "array_1_loaded"
      ],
      "metadata": {
        "colab": {
          "base_uri": "https://localhost:8080/"
        },
        "id": "cehhP4RODnNs",
        "outputId": "8d528384-817b-4bd8-94f8-aff0f18ef242"
      },
      "execution_count": null,
      "outputs": [
        {
          "output_type": "execute_result",
          "data": {
            "text/plain": [
              "array([[ 7.7933231 ,  8.54995072,  8.43638949],\n",
              "       [10.53395171,  9.50283854, 10.2529661 ],\n",
              "       [11.68608514, 11.7158731 , 10.95036728],\n",
              "       [ 9.0984628 ,  8.49013544,  8.37037179],\n",
              "       [ 9.31229028,  9.89723981,  8.05545265]])"
            ]
          },
          "metadata": {},
          "execution_count": 25
        }
      ]
    },
    {
      "cell_type": "markdown",
      "source": [
        "Use `np.array_equal` para verificar que, mesmo quando salvo como `csv`, o array recarregado é igual ao array original."
      ],
      "metadata": {
        "id": "KvtZmShhE5Pf"
      }
    },
    {
      "cell_type": "code",
      "source": [
        "np.array_equal(array_1, array_1_loaded)"
      ],
      "metadata": {
        "colab": {
          "base_uri": "https://localhost:8080/"
        },
        "id": "95UxEIS3Dwrg",
        "outputId": "77d12204-ea55-4433-baa0-f2d5a6156699"
      },
      "execution_count": null,
      "outputs": [
        {
          "output_type": "execute_result",
          "data": {
            "text/plain": [
              "True"
            ]
          },
          "metadata": {},
          "execution_count": 26
        }
      ]
    }
  ]
}