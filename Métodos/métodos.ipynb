{
 "cells": [
  {
   "cell_type": "markdown",
   "id": "a93491de-c1b1-469d-a636-29baa51c34de",
   "metadata": {
    "jp-MarkdownHeadingCollapsed": true
   },
   "source": [
    "# Métodos de Conversão"
   ]
  },
  {
   "cell_type": "code",
   "execution_count": 2,
   "id": "03fe3894-7c80-4676-af26-d4c08824021e",
   "metadata": {},
   "outputs": [],
   "source": [
    "import numpy as np"
   ]
  },
  {
   "cell_type": "code",
   "execution_count": 4,
   "id": "a00daf17-70df-4441-b0f3-1947c8d770bd",
   "metadata": {},
   "outputs": [
    {
     "data": {
      "text/plain": [
       "array([ 1,  2,  3,  4,  5,  6,  7,  8,  9, 10, 11, 12, 13, 14, 15, 16, 17,\n",
       "       18, 19, 20, 21, 22, 23, 24])"
      ]
     },
     "execution_count": 4,
     "metadata": {},
     "output_type": "execute_result"
    }
   ],
   "source": [
    "np.arange(1,25)"
   ]
  },
  {
   "cell_type": "code",
   "execution_count": 5,
   "id": "5ea28718-efb2-413f-a9d2-565d4adf839d",
   "metadata": {},
   "outputs": [
    {
     "data": {
      "text/plain": [
       "array([[[ 1,  2,  3],\n",
       "        [ 4,  5,  6],\n",
       "        [ 7,  8,  9],\n",
       "        [10, 11, 12]],\n",
       "\n",
       "       [[13, 14, 15],\n",
       "        [16, 17, 18],\n",
       "        [19, 20, 21],\n",
       "        [22, 23, 24]]])"
      ]
     },
     "execution_count": 5,
     "metadata": {},
     "output_type": "execute_result"
    }
   ],
   "source": [
    "array_3d = np.arange(1, 25).reshape(2, 4, 3)\n",
    "array_3d"
   ]
  },
  {
   "cell_type": "markdown",
   "id": "c3cf1420-e05f-4d4e-a701-aab5de65d2dc",
   "metadata": {},
   "source": [
    "## tolist"
   ]
  },
  {
   "cell_type": "code",
   "execution_count": 6,
   "id": "1d9d946e-a24c-49aa-8aab-8d450c18d1f5",
   "metadata": {},
   "outputs": [
    {
     "data": {
      "text/plain": [
       "[[[1, 2, 3], [4, 5, 6], [7, 8, 9], [10, 11, 12]],\n",
       " [[13, 14, 15], [16, 17, 18], [19, 20, 21], [22, 23, 24]]]"
      ]
     },
     "execution_count": 6,
     "metadata": {},
     "output_type": "execute_result"
    }
   ],
   "source": [
    "array_3d.tolist()"
   ]
  },
  {
   "cell_type": "code",
   "execution_count": 7,
   "id": "c1be8971-ecff-4d06-98a7-e623ae5acbbf",
   "metadata": {},
   "outputs": [
    {
     "data": {
      "text/plain": [
       "list"
      ]
     },
     "execution_count": 7,
     "metadata": {},
     "output_type": "execute_result"
    }
   ],
   "source": [
    "type(array_3d.tolist())"
   ]
  },
  {
   "cell_type": "markdown",
   "id": "977790cf-e572-40d9-b2f5-87e00cc98e44",
   "metadata": {},
   "source": [
    "## item"
   ]
  },
  {
   "cell_type": "code",
   "execution_count": 8,
   "id": "762d4d71-e923-406a-9d18-0a565de578ca",
   "metadata": {},
   "outputs": [
    {
     "data": {
      "text/plain": [
       "np.int64(15)"
      ]
     },
     "execution_count": 8,
     "metadata": {},
     "output_type": "execute_result"
    }
   ],
   "source": [
    "array_3d[1, 0, 2]"
   ]
  },
  {
   "cell_type": "code",
   "execution_count": 9,
   "id": "4b50b3c4-c122-4967-9ddc-7acd5896546e",
   "metadata": {},
   "outputs": [
    {
     "data": {
      "text/plain": [
       "15"
      ]
     },
     "execution_count": 9,
     "metadata": {},
     "output_type": "execute_result"
    }
   ],
   "source": [
    "array_3d.item((1, 0, 2))"
   ]
  },
  {
   "cell_type": "code",
   "execution_count": 10,
   "id": "1ec277da-d407-4ba2-a483-54a26a110569",
   "metadata": {},
   "outputs": [
    {
     "data": {
      "text/plain": [
       "15"
      ]
     },
     "execution_count": 10,
     "metadata": {},
     "output_type": "execute_result"
    }
   ],
   "source": [
    "array_3d.item((14))"
   ]
  },
  {
   "cell_type": "markdown",
   "id": "9b5d5990-24b2-4260-beeb-9913be2e4290",
   "metadata": {},
   "source": [
    "## view"
   ]
  },
  {
   "cell_type": "code",
   "execution_count": 16,
   "id": "bcfaa3af-cbde-4488-865c-ade6f5daeffd",
   "metadata": {},
   "outputs": [
    {
     "data": {
      "text/plain": [
       "array([[[ 1,  2,  3],\n",
       "        [ 4,  5,  6],\n",
       "        [ 7,  8,  9],\n",
       "        [10, 11, 12]],\n",
       "\n",
       "       [[13, 14, 15],\n",
       "        [16, 17, 18],\n",
       "        [19, 20, 21],\n",
       "        [22, 23, 24]]])"
      ]
     },
     "execution_count": 16,
     "metadata": {},
     "output_type": "execute_result"
    }
   ],
   "source": [
    "array_3d = np.arange(1, 25).reshape(2,4,3)\n",
    "array_3d"
   ]
  },
  {
   "cell_type": "code",
   "execution_count": 17,
   "id": "bc1c9152-9afb-44f5-bd61-b5b65fc805dc",
   "metadata": {},
   "outputs": [
    {
     "data": {
      "text/plain": [
       "array([[[ 1,  2,  3],\n",
       "        [ 4,  5,  6],\n",
       "        [ 7,  8,  9],\n",
       "        [10, 11, 12]],\n",
       "\n",
       "       [[13, 14, 15],\n",
       "        [16, 17, 18],\n",
       "        [19, 20, 21],\n",
       "        [22, 23, 24]]])"
      ]
     },
     "execution_count": 17,
     "metadata": {},
     "output_type": "execute_result"
    }
   ],
   "source": [
    "array_view = array_3d.view()\n",
    "array_view"
   ]
  },
  {
   "cell_type": "code",
   "execution_count": 18,
   "id": "46255920-b091-4c59-b56d-72c2955d5e91",
   "metadata": {},
   "outputs": [
    {
     "data": {
      "text/plain": [
       "array([[[ 0,  2,  3],\n",
       "        [ 4,  5,  6],\n",
       "        [ 7,  8,  9],\n",
       "        [10, 11, 12]],\n",
       "\n",
       "       [[13, 14, 15],\n",
       "        [16, 17, 18],\n",
       "        [19, 20, 21],\n",
       "        [22, 23, 24]]])"
      ]
     },
     "execution_count": 18,
     "metadata": {},
     "output_type": "execute_result"
    }
   ],
   "source": [
    "array_view[0,0,0] = 0\n",
    "array_view"
   ]
  },
  {
   "cell_type": "code",
   "execution_count": 19,
   "id": "575084b6-c1ac-4617-9557-0239164c652c",
   "metadata": {},
   "outputs": [
    {
     "data": {
      "text/plain": [
       "array([[[ 0,  2,  3],\n",
       "        [ 4,  5,  6],\n",
       "        [ 7,  8,  9],\n",
       "        [10, 11, 12]],\n",
       "\n",
       "       [[13, 14, 15],\n",
       "        [16, 17, 18],\n",
       "        [19, 20, 21],\n",
       "        [22, 23, 24]]])"
      ]
     },
     "execution_count": 19,
     "metadata": {},
     "output_type": "execute_result"
    }
   ],
   "source": [
    "array_3d"
   ]
  },
  {
   "cell_type": "markdown",
   "id": "386bf0ac-db4c-4d81-8571-7452e5fb6380",
   "metadata": {},
   "source": [
    "## copy"
   ]
  },
  {
   "cell_type": "code",
   "execution_count": 20,
   "id": "f09e22a3-048e-4cab-810a-4246a1a6b567",
   "metadata": {},
   "outputs": [
    {
     "data": {
      "text/plain": [
       "array([[[ 1,  2,  3],\n",
       "        [ 4,  5,  6],\n",
       "        [ 7,  8,  9],\n",
       "        [10, 11, 12]],\n",
       "\n",
       "       [[13, 14, 15],\n",
       "        [16, 17, 18],\n",
       "        [19, 20, 21],\n",
       "        [22, 23, 24]]])"
      ]
     },
     "execution_count": 20,
     "metadata": {},
     "output_type": "execute_result"
    }
   ],
   "source": [
    "array_3d = np.arange(1, 25).reshape(2,4,3)\n",
    "array_copy = array_3d.copy()\n",
    "array_copy"
   ]
  },
  {
   "cell_type": "code",
   "execution_count": 21,
   "id": "c0ef1b64-8f68-4eb6-844f-dd6f111beb68",
   "metadata": {},
   "outputs": [
    {
     "data": {
      "text/plain": [
       "array([[[99,  2,  3],\n",
       "        [ 4,  5,  6],\n",
       "        [ 7,  8,  9],\n",
       "        [10, 11, 12]],\n",
       "\n",
       "       [[13, 14, 15],\n",
       "        [16, 17, 18],\n",
       "        [19, 20, 21],\n",
       "        [22, 23, 24]]])"
      ]
     },
     "execution_count": 21,
     "metadata": {},
     "output_type": "execute_result"
    }
   ],
   "source": [
    "array_copy[0,0,0] = 99\n",
    "array_copy"
   ]
  },
  {
   "cell_type": "code",
   "execution_count": 22,
   "id": "33ac3fed-d4ba-44d7-b323-b2b740ed5e04",
   "metadata": {},
   "outputs": [
    {
     "data": {
      "text/plain": [
       "array([[[ 1,  2,  3],\n",
       "        [ 4,  5,  6],\n",
       "        [ 7,  8,  9],\n",
       "        [10, 11, 12]],\n",
       "\n",
       "       [[13, 14, 15],\n",
       "        [16, 17, 18],\n",
       "        [19, 20, 21],\n",
       "        [22, 23, 24]]])"
      ]
     },
     "execution_count": 22,
     "metadata": {},
     "output_type": "execute_result"
    }
   ],
   "source": [
    "array_3d"
   ]
  },
  {
   "cell_type": "markdown",
   "id": "736ccc3e-d8a7-49d1-aba3-41e4223607ab",
   "metadata": {},
   "source": [
    "## fill"
   ]
  },
  {
   "cell_type": "code",
   "execution_count": 23,
   "id": "452502f5-acac-4fbd-a5de-57068d8ad0be",
   "metadata": {},
   "outputs": [
    {
     "data": {
      "text/plain": [
       "array([[[55, 55, 55],\n",
       "        [55, 55, 55],\n",
       "        [55, 55, 55],\n",
       "        [55, 55, 55]],\n",
       "\n",
       "       [[55, 55, 55],\n",
       "        [55, 55, 55],\n",
       "        [55, 55, 55],\n",
       "        [55, 55, 55]]])"
      ]
     },
     "execution_count": 23,
     "metadata": {},
     "output_type": "execute_result"
    }
   ],
   "source": [
    "array_3d = np.arange(1, 25).reshape(2,4,3)\n",
    "array_3d.fill(55)\n",
    "array_3d"
   ]
  },
  {
   "cell_type": "markdown",
   "id": "d962ccb7-930a-4794-84e2-8f24b6e5177d",
   "metadata": {
    "jp-MarkdownHeadingCollapsed": true
   },
   "source": [
    "# Métodos de manipulação de `shape`"
   ]
  },
  {
   "cell_type": "code",
   "execution_count": 24,
   "id": "29d3d79a-0af9-4178-a444-062fd3f4dd17",
   "metadata": {},
   "outputs": [
    {
     "data": {
      "text/plain": [
       "array([[[ 1,  2,  3],\n",
       "        [ 4,  5,  6],\n",
       "        [ 7,  8,  9],\n",
       "        [10, 11, 12]],\n",
       "\n",
       "       [[13, 14, 15],\n",
       "        [16, 17, 18],\n",
       "        [19, 20, 21],\n",
       "        [22, 23, 24]]])"
      ]
     },
     "execution_count": 24,
     "metadata": {},
     "output_type": "execute_result"
    }
   ],
   "source": [
    "array_3d = np.arange(1, 25).reshape(2,4,3)\n",
    "array_3d"
   ]
  },
  {
   "cell_type": "code",
   "execution_count": 25,
   "id": "971e18c7-8675-4911-b84f-190e7686bb75",
   "metadata": {},
   "outputs": [
    {
     "data": {
      "text/plain": [
       "(2, 4, 3)"
      ]
     },
     "execution_count": 25,
     "metadata": {},
     "output_type": "execute_result"
    }
   ],
   "source": [
    "array_3d.shape"
   ]
  },
  {
   "cell_type": "code",
   "execution_count": 26,
   "id": "3a00bbc0-c02c-4fb2-9054-5f365938c57b",
   "metadata": {},
   "outputs": [
    {
     "data": {
      "text/plain": [
       "array([[[ 1,  2],\n",
       "        [ 3,  4],\n",
       "        [ 5,  6]],\n",
       "\n",
       "       [[ 7,  8],\n",
       "        [ 9, 10],\n",
       "        [11, 12]],\n",
       "\n",
       "       [[13, 14],\n",
       "        [15, 16],\n",
       "        [17, 18]],\n",
       "\n",
       "       [[19, 20],\n",
       "        [21, 22],\n",
       "        [23, 24]]])"
      ]
     },
     "execution_count": 26,
     "metadata": {},
     "output_type": "execute_result"
    }
   ],
   "source": [
    "array_3d.reshape(4, 3, 2)"
   ]
  },
  {
   "cell_type": "code",
   "execution_count": 28,
   "id": "b763d31c-3bc6-4f4b-b2a1-8e8f5911b3a7",
   "metadata": {},
   "outputs": [
    {
     "ename": "ValueError",
     "evalue": "cannot reshape array of size 24 into shape (5,2,1)",
     "output_type": "error",
     "traceback": [
      "\u001b[0;31m---------------------------------------------------------------------------\u001b[0m",
      "\u001b[0;31mValueError\u001b[0m                                Traceback (most recent call last)",
      "Cell \u001b[0;32mIn[28], line 1\u001b[0m\n\u001b[0;32m----> 1\u001b[0m \u001b[43marray_3d\u001b[49m\u001b[38;5;241;43m.\u001b[39;49m\u001b[43mreshape\u001b[49m\u001b[43m(\u001b[49m\u001b[38;5;241;43m5\u001b[39;49m\u001b[43m,\u001b[49m\u001b[43m \u001b[49m\u001b[38;5;241;43m2\u001b[39;49m\u001b[43m,\u001b[49m\u001b[43m \u001b[49m\u001b[38;5;241;43m1\u001b[39;49m\u001b[43m)\u001b[49m\n",
      "\u001b[0;31mValueError\u001b[0m: cannot reshape array of size 24 into shape (5,2,1)"
     ]
    }
   ],
   "source": [
    "array_3d.reshape(5, 2, 1)"
   ]
  },
  {
   "cell_type": "code",
   "execution_count": 29,
   "id": "a1b1ecfa-f1c7-4745-9c79-d42a20d9e9d2",
   "metadata": {},
   "outputs": [
    {
     "data": {
      "text/plain": [
       "array([[[ 1,  2],\n",
       "        [ 3,  4],\n",
       "        [ 5,  6]],\n",
       "\n",
       "       [[ 7,  8],\n",
       "        [ 9, 10],\n",
       "        [11, 12]],\n",
       "\n",
       "       [[13, 14],\n",
       "        [15, 16],\n",
       "        [17, 18]],\n",
       "\n",
       "       [[19, 20],\n",
       "        [21, 22],\n",
       "        [23, 24]]])"
      ]
     },
     "execution_count": 29,
     "metadata": {},
     "output_type": "execute_result"
    }
   ],
   "source": [
    "array_3d.reshape(4, 3, -1)"
   ]
  },
  {
   "cell_type": "code",
   "execution_count": 30,
   "id": "cbe4497f-5018-4b0e-9f10-66f213f76889",
   "metadata": {},
   "outputs": [
    {
     "data": {
      "text/plain": [
       "array([[[ 1,  2],\n",
       "        [ 3,  4],\n",
       "        [ 5,  6]],\n",
       "\n",
       "       [[ 7,  8],\n",
       "        [ 9, 10],\n",
       "        [11, 12]],\n",
       "\n",
       "       [[13, 14],\n",
       "        [15, 16],\n",
       "        [17, 18]],\n",
       "\n",
       "       [[19, 20],\n",
       "        [21, 22],\n",
       "        [23, 24]]])"
      ]
     },
     "execution_count": 30,
     "metadata": {},
     "output_type": "execute_result"
    }
   ],
   "source": [
    "array_3d.reshape(4, -1, 2)"
   ]
  },
  {
   "cell_type": "markdown",
   "id": "954e9f5f-11dd-4d76-8a25-c6ca47ac158e",
   "metadata": {},
   "source": [
    "## transpose"
   ]
  },
  {
   "cell_type": "code",
   "execution_count": 31,
   "id": "76c442a3-085c-4efe-ae9d-9f2f583f4bd4",
   "metadata": {},
   "outputs": [
    {
     "data": {
      "text/plain": [
       "array([[[ 1,  2,  3],\n",
       "        [13, 14, 15]],\n",
       "\n",
       "       [[ 4,  5,  6],\n",
       "        [16, 17, 18]],\n",
       "\n",
       "       [[ 7,  8,  9],\n",
       "        [19, 20, 21]],\n",
       "\n",
       "       [[10, 11, 12],\n",
       "        [22, 23, 24]]])"
      ]
     },
     "execution_count": 31,
     "metadata": {},
     "output_type": "execute_result"
    }
   ],
   "source": [
    "array_transpose = array_3d.transpose((1,0,2))\n",
    "array_transpose"
   ]
  },
  {
   "cell_type": "markdown",
   "id": "cba6b49f-2a76-4170-8cf0-612978123abb",
   "metadata": {},
   "source": [
    "## swapaxes"
   ]
  },
  {
   "cell_type": "code",
   "execution_count": 32,
   "id": "b9c6f67a-c117-492e-a197-904452aeac73",
   "metadata": {},
   "outputs": [
    {
     "data": {
      "text/plain": [
       "array([[[ 1,  2,  3],\n",
       "        [ 4,  5,  6],\n",
       "        [ 7,  8,  9],\n",
       "        [10, 11, 12]],\n",
       "\n",
       "       [[13, 14, 15],\n",
       "        [16, 17, 18],\n",
       "        [19, 20, 21],\n",
       "        [22, 23, 24]]])"
      ]
     },
     "execution_count": 32,
     "metadata": {},
     "output_type": "execute_result"
    }
   ],
   "source": [
    "array_3d = np.arange(1, 25).reshape(2,4,3)\n",
    "array_3d"
   ]
  },
  {
   "cell_type": "code",
   "execution_count": 33,
   "id": "55f8598f-863d-4cd8-81f6-606d7a07970a",
   "metadata": {},
   "outputs": [
    {
     "data": {
      "text/plain": [
       "array([[[ 1,  2,  3],\n",
       "        [13, 14, 15]],\n",
       "\n",
       "       [[ 4,  5,  6],\n",
       "        [16, 17, 18]],\n",
       "\n",
       "       [[ 7,  8,  9],\n",
       "        [19, 20, 21]],\n",
       "\n",
       "       [[10, 11, 12],\n",
       "        [22, 23, 24]]])"
      ]
     },
     "execution_count": 33,
     "metadata": {},
     "output_type": "execute_result"
    }
   ],
   "source": [
    "array_3d.swapaxes(1, 0)"
   ]
  },
  {
   "cell_type": "markdown",
   "id": "6cbfd33a-5d8c-4f56-a466-f19a46cd4ab9",
   "metadata": {},
   "source": [
    "## flatten"
   ]
  },
  {
   "cell_type": "code",
   "execution_count": 34,
   "id": "a262fb6a-9bcb-422f-8056-898ec69edfe3",
   "metadata": {},
   "outputs": [
    {
     "data": {
      "text/plain": [
       "array([ 1,  2,  3,  4,  5,  6,  7,  8,  9, 10, 11, 12, 13, 14, 15, 16, 17,\n",
       "       18, 19, 20, 21, 22, 23, 24])"
      ]
     },
     "execution_count": 34,
     "metadata": {},
     "output_type": "execute_result"
    }
   ],
   "source": [
    "array_3d.flatten() # copy"
   ]
  },
  {
   "cell_type": "markdown",
   "id": "6d9ca40b-774b-45ea-b752-8b78c988622b",
   "metadata": {},
   "source": [
    "## ravel"
   ]
  },
  {
   "cell_type": "code",
   "execution_count": 35,
   "id": "2fdb7ab5-5d85-427a-83c9-9c70dfac94ee",
   "metadata": {},
   "outputs": [
    {
     "data": {
      "text/plain": [
       "array([ 1,  2,  3,  4,  5,  6,  7,  8,  9, 10, 11, 12, 13, 14, 15, 16, 17,\n",
       "       18, 19, 20, 21, 22, 23, 24])"
      ]
     },
     "execution_count": 35,
     "metadata": {},
     "output_type": "execute_result"
    }
   ],
   "source": [
    "array_3d.ravel() # view"
   ]
  },
  {
   "cell_type": "code",
   "execution_count": 36,
   "id": "83a2fae5-ed9a-4e0f-b649-db3672698c3a",
   "metadata": {},
   "outputs": [
    {
     "data": {
      "text/plain": [
       "array([ 1,  2,  3,  4,  5,  6,  7,  8,  9, 10, 11, 12, 13, 14, 15, 16, 17,\n",
       "       18, 19, 20, 21, 22, 23, 24])"
      ]
     },
     "execution_count": 36,
     "metadata": {},
     "output_type": "execute_result"
    }
   ],
   "source": [
    "array_3d.reshape(-1)"
   ]
  },
  {
   "cell_type": "markdown",
   "id": "a4c75bd0-9ba1-4062-84c7-68e062430d50",
   "metadata": {},
   "source": [
    "## squeeze"
   ]
  },
  {
   "cell_type": "code",
   "execution_count": 37,
   "id": "ee91e77b-0f68-4505-9678-c0e24d24f44e",
   "metadata": {},
   "outputs": [
    {
     "data": {
      "text/plain": [
       "array([[[ 1,  2,  3]],\n",
       "\n",
       "       [[ 4,  5,  6]],\n",
       "\n",
       "       [[ 7,  8,  9]],\n",
       "\n",
       "       [[10, 11, 12]],\n",
       "\n",
       "       [[13, 14, 15]],\n",
       "\n",
       "       [[16, 17, 18]],\n",
       "\n",
       "       [[19, 20, 21]],\n",
       "\n",
       "       [[22, 23, 24]]])"
      ]
     },
     "execution_count": 37,
     "metadata": {},
     "output_type": "execute_result"
    }
   ],
   "source": [
    "array_axis_size_1 = array_3d.reshape(8, 1, 3)\n",
    "array_axis_size_1"
   ]
  },
  {
   "cell_type": "code",
   "execution_count": 38,
   "id": "2211d5de-fa9b-4c8c-91d2-56278910da98",
   "metadata": {},
   "outputs": [
    {
     "data": {
      "text/plain": [
       "(8, 1, 3)"
      ]
     },
     "execution_count": 38,
     "metadata": {},
     "output_type": "execute_result"
    }
   ],
   "source": [
    "array_axis_size_1.shape"
   ]
  },
  {
   "cell_type": "code",
   "execution_count": 39,
   "id": "9b742815-a033-4534-bbd9-110d4c258413",
   "metadata": {},
   "outputs": [],
   "source": [
    "array_squeeze = array_axis_size_1.squeeze()"
   ]
  },
  {
   "cell_type": "markdown",
   "id": "6d4d311f-86c7-4c54-ab1a-6b9e736cbf73",
   "metadata": {},
   "source": [
    "# Método de seleção e manipulação de itens"
   ]
  },
  {
   "cell_type": "markdown",
   "id": "3f469146-6e69-4cb8-9a3c-16b7e660d536",
   "metadata": {},
   "source": [
    "## `take`"
   ]
  },
  {
   "cell_type": "code",
   "execution_count": 41,
   "id": "a2618c34-c11d-4887-b168-4142c4e8d45b",
   "metadata": {},
   "outputs": [
    {
     "data": {
      "text/plain": [
       "array([[[ 1,  2,  3],\n",
       "        [ 4,  5,  6],\n",
       "        [ 7,  8,  9],\n",
       "        [10, 11, 12]],\n",
       "\n",
       "       [[13, 14, 15],\n",
       "        [16, 17, 18],\n",
       "        [19, 20, 21],\n",
       "        [22, 23, 24]]])"
      ]
     },
     "execution_count": 41,
     "metadata": {},
     "output_type": "execute_result"
    }
   ],
   "source": [
    "array_3d = np.arange(1, 25).reshape(2,4,3)\n",
    "array_3d"
   ]
  },
  {
   "cell_type": "code",
   "execution_count": 42,
   "id": "5150aba2-afee-43c4-aa03-52341a943b2c",
   "metadata": {},
   "outputs": [
    {
     "data": {
      "text/plain": [
       "array([ 2,  6, 11, 13])"
      ]
     },
     "execution_count": 42,
     "metadata": {},
     "output_type": "execute_result"
    }
   ],
   "source": [
    "array_3d.take(indices = [1, 5, 10, 12])"
   ]
  },
  {
   "cell_type": "code",
   "execution_count": 43,
   "id": "8dfdc027-6468-470b-b016-400bc3e82329",
   "metadata": {},
   "outputs": [
    {
     "data": {
      "text/plain": [
       "array([[ 2,  6],\n",
       "       [11, 13]])"
      ]
     },
     "execution_count": 43,
     "metadata": {},
     "output_type": "execute_result"
    }
   ],
   "source": [
    "array_3d.take(indices = [[1, 5], [10, 12]])"
   ]
  },
  {
   "cell_type": "markdown",
   "id": "207a049c-a250-4632-9764-d35d9f98d9d1",
   "metadata": {},
   "source": [
    "## `put`"
   ]
  },
  {
   "cell_type": "code",
   "execution_count": 45,
   "id": "f61f48f1-dda9-4371-8b4e-52633a2a782e",
   "metadata": {},
   "outputs": [
    {
     "data": {
      "text/plain": [
       "array([[[ 1, 50,  3],\n",
       "        [ 4,  5, 56],\n",
       "        [ 7,  8,  9],\n",
       "        [10, 61, 12]],\n",
       "\n",
       "       [[63, 14, 15],\n",
       "        [16, 17, 18],\n",
       "        [19, 20, 21],\n",
       "        [22, 23, 24]]])"
      ]
     },
     "execution_count": 45,
     "metadata": {},
     "output_type": "execute_result"
    }
   ],
   "source": [
    "array_3d.put(indices = [1, 5, 10, 12], values = [50,56,61,63])\n",
    "array_3d"
   ]
  },
  {
   "cell_type": "markdown",
   "id": "4c204908-d6fb-46db-b10e-f2140f3d2f78",
   "metadata": {},
   "source": [
    "## `repeat`"
   ]
  },
  {
   "cell_type": "code",
   "execution_count": 46,
   "id": "996e55b0-3124-48f2-bbf5-bb1fbc2c6cfc",
   "metadata": {},
   "outputs": [
    {
     "data": {
      "text/plain": [
       "array([[[ 1,  2,  3],\n",
       "        [ 4,  5,  6],\n",
       "        [ 7,  8,  9],\n",
       "        [10, 11, 12]],\n",
       "\n",
       "       [[13, 14, 15],\n",
       "        [16, 17, 18],\n",
       "        [19, 20, 21],\n",
       "        [22, 23, 24]]])"
      ]
     },
     "execution_count": 46,
     "metadata": {},
     "output_type": "execute_result"
    }
   ],
   "source": [
    "array_3d = np.arange(1, 25).reshape(2,4,3)\n",
    "array_3d"
   ]
  },
  {
   "cell_type": "code",
   "execution_count": 48,
   "id": "deb285a4-0913-4e65-9111-99b158394726",
   "metadata": {},
   "outputs": [
    {
     "data": {
      "text/plain": [
       "array([ 1,  1,  1,  2,  2,  2,  3,  3,  3,  4,  4,  4,  5,  5,  5,  6,  6,\n",
       "        6,  7,  7,  7,  8,  8,  8,  9,  9,  9, 10, 10, 10, 11, 11, 11, 12,\n",
       "       12, 12, 13, 13, 13, 14, 14, 14, 15, 15, 15, 16, 16, 16, 17, 17, 17,\n",
       "       18, 18, 18, 19, 19, 19, 20, 20, 20, 21, 21, 21, 22, 22, 22, 23, 23,\n",
       "       23, 24, 24, 24])"
      ]
     },
     "execution_count": 48,
     "metadata": {},
     "output_type": "execute_result"
    }
   ],
   "source": [
    "array_3d.repeat(repeats = 3)"
   ]
  },
  {
   "cell_type": "markdown",
   "id": "3641d772-8a6b-4538-b6ca-d7bd82cdca7f",
   "metadata": {},
   "source": [
    "## `sort`"
   ]
  },
  {
   "cell_type": "markdown",
   "id": "7d6e35ed-b9ef-4a81-b139-282d2f6fabea",
   "metadata": {},
   "source": [
    "## `argsort`"
   ]
  },
  {
   "cell_type": "markdown",
   "id": "b47600b1-8ff3-40ea-b864-155f059d21f3",
   "metadata": {},
   "source": [
    "## `take`"
   ]
  },
  {
   "cell_type": "markdown",
   "id": "2175fda9-aa00-49b6-921f-bacb86d94664",
   "metadata": {},
   "source": [
    "## `take`"
   ]
  },
  {
   "cell_type": "markdown",
   "id": "71eab022-4650-435d-bc46-8495ac4e9aef",
   "metadata": {},
   "source": [
    "## `take`"
   ]
  },
  {
   "cell_type": "markdown",
   "id": "b8d6bcef-247f-4d41-acc1-ee89666845ed",
   "metadata": {},
   "source": [
    "## `take`"
   ]
  },
  {
   "cell_type": "markdown",
   "id": "a57a91fc-455c-4e9a-9968-3a63f325c063",
   "metadata": {},
   "source": [
    "## `take`"
   ]
  },
  {
   "cell_type": "markdown",
   "id": "2a5554a4-8bf2-44e1-a1f9-e43e47803f10",
   "metadata": {},
   "source": [
    "## `take`"
   ]
  },
  {
   "cell_type": "markdown",
   "id": "39dc271a-0fc7-487f-9140-ef3e42ad8fca",
   "metadata": {},
   "source": [
    "## `take`"
   ]
  },
  {
   "cell_type": "markdown",
   "id": "f4ad2abc-3df1-4fe2-8cd0-362c3008c6ae",
   "metadata": {},
   "source": [
    "## `take`"
   ]
  }
 ],
 "metadata": {
  "kernelspec": {
   "display_name": "Python 3 (ipykernel)",
   "language": "python",
   "name": "python3"
  },
  "language_info": {
   "codemirror_mode": {
    "name": "ipython",
    "version": 3
   },
   "file_extension": ".py",
   "mimetype": "text/x-python",
   "name": "python",
   "nbconvert_exporter": "python",
   "pygments_lexer": "ipython3",
   "version": "3.12.8"
  }
 },
 "nbformat": 4,
 "nbformat_minor": 5
}
