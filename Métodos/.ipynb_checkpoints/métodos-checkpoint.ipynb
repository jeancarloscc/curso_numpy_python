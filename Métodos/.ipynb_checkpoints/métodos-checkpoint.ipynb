{
 "cells": [
  {
   "cell_type": "markdown",
   "id": "a93491de-c1b1-469d-a636-29baa51c34de",
   "metadata": {},
   "source": [
    "# Métodos de Conversão"
   ]
  },
  {
   "cell_type": "code",
   "execution_count": 1,
   "id": "03fe3894-7c80-4676-af26-d4c08824021e",
   "metadata": {},
   "outputs": [],
   "source": [
    "import numpy as np"
   ]
  },
  {
   "cell_type": "code",
   "execution_count": 2,
   "id": "a00daf17-70df-4441-b0f3-1947c8d770bd",
   "metadata": {},
   "outputs": [
    {
     "data": {
      "text/plain": [
       "array([ 1,  2,  3,  4,  5,  6,  7,  8,  9, 10, 11, 12, 13, 14, 15, 16, 17,\n",
       "       18, 19, 20, 21, 22, 23, 24])"
      ]
     },
     "execution_count": 2,
     "metadata": {},
     "output_type": "execute_result"
    }
   ],
   "source": [
    "np.arange(1,25)"
   ]
  },
  {
   "cell_type": "code",
   "execution_count": 3,
   "id": "5ea28718-efb2-413f-a9d2-565d4adf839d",
   "metadata": {},
   "outputs": [
    {
     "data": {
      "text/plain": [
       "array([[[ 1,  2,  3],\n",
       "        [ 4,  5,  6],\n",
       "        [ 7,  8,  9],\n",
       "        [10, 11, 12]],\n",
       "\n",
       "       [[13, 14, 15],\n",
       "        [16, 17, 18],\n",
       "        [19, 20, 21],\n",
       "        [22, 23, 24]]])"
      ]
     },
     "execution_count": 3,
     "metadata": {},
     "output_type": "execute_result"
    }
   ],
   "source": [
    "array_3d = np.arange(1, 25).reshape(2, 4, 3)\n",
    "array_3d"
   ]
  },
  {
   "cell_type": "markdown",
   "id": "c3cf1420-e05f-4d4e-a701-aab5de65d2dc",
   "metadata": {},
   "source": [
    "## tolist"
   ]
  },
  {
   "cell_type": "code",
   "execution_count": 4,
   "id": "1d9d946e-a24c-49aa-8aab-8d450c18d1f5",
   "metadata": {},
   "outputs": [
    {
     "data": {
      "text/plain": [
       "[[[1, 2, 3], [4, 5, 6], [7, 8, 9], [10, 11, 12]],\n",
       " [[13, 14, 15], [16, 17, 18], [19, 20, 21], [22, 23, 24]]]"
      ]
     },
     "execution_count": 4,
     "metadata": {},
     "output_type": "execute_result"
    }
   ],
   "source": [
    "array_3d.tolist()"
   ]
  },
  {
   "cell_type": "code",
   "execution_count": 5,
   "id": "c1be8971-ecff-4d06-98a7-e623ae5acbbf",
   "metadata": {},
   "outputs": [
    {
     "data": {
      "text/plain": [
       "list"
      ]
     },
     "execution_count": 5,
     "metadata": {},
     "output_type": "execute_result"
    }
   ],
   "source": [
    "type(array_3d.tolist())"
   ]
  },
  {
   "cell_type": "markdown",
   "id": "977790cf-e572-40d9-b2f5-87e00cc98e44",
   "metadata": {},
   "source": [
    "## item"
   ]
  },
  {
   "cell_type": "code",
   "execution_count": 6,
   "id": "762d4d71-e923-406a-9d18-0a565de578ca",
   "metadata": {},
   "outputs": [
    {
     "data": {
      "text/plain": [
       "np.int64(15)"
      ]
     },
     "execution_count": 6,
     "metadata": {},
     "output_type": "execute_result"
    }
   ],
   "source": [
    "array_3d[1, 0, 2]"
   ]
  },
  {
   "cell_type": "code",
   "execution_count": 7,
   "id": "4b50b3c4-c122-4967-9ddc-7acd5896546e",
   "metadata": {},
   "outputs": [
    {
     "data": {
      "text/plain": [
       "15"
      ]
     },
     "execution_count": 7,
     "metadata": {},
     "output_type": "execute_result"
    }
   ],
   "source": [
    "array_3d.item((1, 0, 2))"
   ]
  },
  {
   "cell_type": "code",
   "execution_count": 8,
   "id": "1ec277da-d407-4ba2-a483-54a26a110569",
   "metadata": {},
   "outputs": [
    {
     "data": {
      "text/plain": [
       "15"
      ]
     },
     "execution_count": 8,
     "metadata": {},
     "output_type": "execute_result"
    }
   ],
   "source": [
    "array_3d.item((14))"
   ]
  },
  {
   "cell_type": "markdown",
   "id": "9b5d5990-24b2-4260-beeb-9913be2e4290",
   "metadata": {},
   "source": [
    "## view"
   ]
  },
  {
   "cell_type": "code",
   "execution_count": 9,
   "id": "bcfaa3af-cbde-4488-865c-ade6f5daeffd",
   "metadata": {},
   "outputs": [
    {
     "data": {
      "text/plain": [
       "array([[[ 1,  2,  3],\n",
       "        [ 4,  5,  6],\n",
       "        [ 7,  8,  9],\n",
       "        [10, 11, 12]],\n",
       "\n",
       "       [[13, 14, 15],\n",
       "        [16, 17, 18],\n",
       "        [19, 20, 21],\n",
       "        [22, 23, 24]]])"
      ]
     },
     "execution_count": 9,
     "metadata": {},
     "output_type": "execute_result"
    }
   ],
   "source": [
    "array_3d = np.arange(1, 25).reshape(2,4,3)\n",
    "array_3d"
   ]
  },
  {
   "cell_type": "code",
   "execution_count": 10,
   "id": "bc1c9152-9afb-44f5-bd61-b5b65fc805dc",
   "metadata": {},
   "outputs": [
    {
     "data": {
      "text/plain": [
       "array([[[ 1,  2,  3],\n",
       "        [ 4,  5,  6],\n",
       "        [ 7,  8,  9],\n",
       "        [10, 11, 12]],\n",
       "\n",
       "       [[13, 14, 15],\n",
       "        [16, 17, 18],\n",
       "        [19, 20, 21],\n",
       "        [22, 23, 24]]])"
      ]
     },
     "execution_count": 10,
     "metadata": {},
     "output_type": "execute_result"
    }
   ],
   "source": [
    "array_view = array_3d.view()\n",
    "array_view"
   ]
  },
  {
   "cell_type": "code",
   "execution_count": 11,
   "id": "46255920-b091-4c59-b56d-72c2955d5e91",
   "metadata": {},
   "outputs": [
    {
     "data": {
      "text/plain": [
       "array([[[ 0,  2,  3],\n",
       "        [ 4,  5,  6],\n",
       "        [ 7,  8,  9],\n",
       "        [10, 11, 12]],\n",
       "\n",
       "       [[13, 14, 15],\n",
       "        [16, 17, 18],\n",
       "        [19, 20, 21],\n",
       "        [22, 23, 24]]])"
      ]
     },
     "execution_count": 11,
     "metadata": {},
     "output_type": "execute_result"
    }
   ],
   "source": [
    "array_view[0,0,0] = 0\n",
    "array_view"
   ]
  },
  {
   "cell_type": "code",
   "execution_count": 12,
   "id": "575084b6-c1ac-4617-9557-0239164c652c",
   "metadata": {},
   "outputs": [
    {
     "data": {
      "text/plain": [
       "array([[[ 0,  2,  3],\n",
       "        [ 4,  5,  6],\n",
       "        [ 7,  8,  9],\n",
       "        [10, 11, 12]],\n",
       "\n",
       "       [[13, 14, 15],\n",
       "        [16, 17, 18],\n",
       "        [19, 20, 21],\n",
       "        [22, 23, 24]]])"
      ]
     },
     "execution_count": 12,
     "metadata": {},
     "output_type": "execute_result"
    }
   ],
   "source": [
    "array_3d"
   ]
  },
  {
   "cell_type": "markdown",
   "id": "386bf0ac-db4c-4d81-8571-7452e5fb6380",
   "metadata": {},
   "source": [
    "## copy"
   ]
  },
  {
   "cell_type": "code",
   "execution_count": 13,
   "id": "f09e22a3-048e-4cab-810a-4246a1a6b567",
   "metadata": {},
   "outputs": [
    {
     "data": {
      "text/plain": [
       "array([[[ 1,  2,  3],\n",
       "        [ 4,  5,  6],\n",
       "        [ 7,  8,  9],\n",
       "        [10, 11, 12]],\n",
       "\n",
       "       [[13, 14, 15],\n",
       "        [16, 17, 18],\n",
       "        [19, 20, 21],\n",
       "        [22, 23, 24]]])"
      ]
     },
     "execution_count": 13,
     "metadata": {},
     "output_type": "execute_result"
    }
   ],
   "source": [
    "array_3d = np.arange(1, 25).reshape(2,4,3)\n",
    "array_copy = array_3d.copy()\n",
    "array_copy"
   ]
  },
  {
   "cell_type": "code",
   "execution_count": 14,
   "id": "c0ef1b64-8f68-4eb6-844f-dd6f111beb68",
   "metadata": {},
   "outputs": [
    {
     "data": {
      "text/plain": [
       "array([[[99,  2,  3],\n",
       "        [ 4,  5,  6],\n",
       "        [ 7,  8,  9],\n",
       "        [10, 11, 12]],\n",
       "\n",
       "       [[13, 14, 15],\n",
       "        [16, 17, 18],\n",
       "        [19, 20, 21],\n",
       "        [22, 23, 24]]])"
      ]
     },
     "execution_count": 14,
     "metadata": {},
     "output_type": "execute_result"
    }
   ],
   "source": [
    "array_copy[0,0,0] = 99\n",
    "array_copy"
   ]
  },
  {
   "cell_type": "code",
   "execution_count": 15,
   "id": "33ac3fed-d4ba-44d7-b323-b2b740ed5e04",
   "metadata": {},
   "outputs": [
    {
     "data": {
      "text/plain": [
       "array([[[ 1,  2,  3],\n",
       "        [ 4,  5,  6],\n",
       "        [ 7,  8,  9],\n",
       "        [10, 11, 12]],\n",
       "\n",
       "       [[13, 14, 15],\n",
       "        [16, 17, 18],\n",
       "        [19, 20, 21],\n",
       "        [22, 23, 24]]])"
      ]
     },
     "execution_count": 15,
     "metadata": {},
     "output_type": "execute_result"
    }
   ],
   "source": [
    "array_3d"
   ]
  },
  {
   "cell_type": "markdown",
   "id": "736ccc3e-d8a7-49d1-aba3-41e4223607ab",
   "metadata": {},
   "source": [
    "## fill"
   ]
  },
  {
   "cell_type": "code",
   "execution_count": 16,
   "id": "452502f5-acac-4fbd-a5de-57068d8ad0be",
   "metadata": {},
   "outputs": [
    {
     "data": {
      "text/plain": [
       "array([[[55, 55, 55],\n",
       "        [55, 55, 55],\n",
       "        [55, 55, 55],\n",
       "        [55, 55, 55]],\n",
       "\n",
       "       [[55, 55, 55],\n",
       "        [55, 55, 55],\n",
       "        [55, 55, 55],\n",
       "        [55, 55, 55]]])"
      ]
     },
     "execution_count": 16,
     "metadata": {},
     "output_type": "execute_result"
    }
   ],
   "source": [
    "array_3d = np.arange(1, 25).reshape(2,4,3)\n",
    "array_3d.fill(55)\n",
    "array_3d"
   ]
  },
  {
   "cell_type": "markdown",
   "id": "d962ccb7-930a-4794-84e2-8f24b6e5177d",
   "metadata": {
    "jp-MarkdownHeadingCollapsed": true
   },
   "source": [
    "# Métodos de manipulação de `shape`"
   ]
  },
  {
   "cell_type": "code",
   "execution_count": 17,
   "id": "29d3d79a-0af9-4178-a444-062fd3f4dd17",
   "metadata": {},
   "outputs": [
    {
     "data": {
      "text/plain": [
       "array([[[ 1,  2,  3],\n",
       "        [ 4,  5,  6],\n",
       "        [ 7,  8,  9],\n",
       "        [10, 11, 12]],\n",
       "\n",
       "       [[13, 14, 15],\n",
       "        [16, 17, 18],\n",
       "        [19, 20, 21],\n",
       "        [22, 23, 24]]])"
      ]
     },
     "execution_count": 17,
     "metadata": {},
     "output_type": "execute_result"
    }
   ],
   "source": [
    "array_3d = np.arange(1, 25).reshape(2,4,3)\n",
    "array_3d"
   ]
  },
  {
   "cell_type": "code",
   "execution_count": 18,
   "id": "971e18c7-8675-4911-b84f-190e7686bb75",
   "metadata": {},
   "outputs": [
    {
     "data": {
      "text/plain": [
       "(2, 4, 3)"
      ]
     },
     "execution_count": 18,
     "metadata": {},
     "output_type": "execute_result"
    }
   ],
   "source": [
    "array_3d.shape"
   ]
  },
  {
   "cell_type": "code",
   "execution_count": 19,
   "id": "3a00bbc0-c02c-4fb2-9054-5f365938c57b",
   "metadata": {},
   "outputs": [
    {
     "data": {
      "text/plain": [
       "array([[[ 1,  2],\n",
       "        [ 3,  4],\n",
       "        [ 5,  6]],\n",
       "\n",
       "       [[ 7,  8],\n",
       "        [ 9, 10],\n",
       "        [11, 12]],\n",
       "\n",
       "       [[13, 14],\n",
       "        [15, 16],\n",
       "        [17, 18]],\n",
       "\n",
       "       [[19, 20],\n",
       "        [21, 22],\n",
       "        [23, 24]]])"
      ]
     },
     "execution_count": 19,
     "metadata": {},
     "output_type": "execute_result"
    }
   ],
   "source": [
    "array_3d.reshape(4, 3, 2)"
   ]
  },
  {
   "cell_type": "code",
   "execution_count": 20,
   "id": "b763d31c-3bc6-4f4b-b2a1-8e8f5911b3a7",
   "metadata": {},
   "outputs": [
    {
     "ename": "ValueError",
     "evalue": "cannot reshape array of size 24 into shape (5,2,1)",
     "output_type": "error",
     "traceback": [
      "\u001b[0;31m---------------------------------------------------------------------------\u001b[0m",
      "\u001b[0;31mValueError\u001b[0m                                Traceback (most recent call last)",
      "Cell \u001b[0;32mIn[20], line 1\u001b[0m\n\u001b[0;32m----> 1\u001b[0m \u001b[43marray_3d\u001b[49m\u001b[38;5;241;43m.\u001b[39;49m\u001b[43mreshape\u001b[49m\u001b[43m(\u001b[49m\u001b[38;5;241;43m5\u001b[39;49m\u001b[43m,\u001b[49m\u001b[43m \u001b[49m\u001b[38;5;241;43m2\u001b[39;49m\u001b[43m,\u001b[49m\u001b[43m \u001b[49m\u001b[38;5;241;43m1\u001b[39;49m\u001b[43m)\u001b[49m\n",
      "\u001b[0;31mValueError\u001b[0m: cannot reshape array of size 24 into shape (5,2,1)"
     ]
    }
   ],
   "source": [
    "array_3d.reshape(5, 2, 1)"
   ]
  },
  {
   "cell_type": "code",
   "execution_count": null,
   "id": "a1b1ecfa-f1c7-4745-9c79-d42a20d9e9d2",
   "metadata": {},
   "outputs": [],
   "source": [
    "array_3d.reshape(4, 3, -1)"
   ]
  },
  {
   "cell_type": "code",
   "execution_count": null,
   "id": "cbe4497f-5018-4b0e-9f10-66f213f76889",
   "metadata": {},
   "outputs": [],
   "source": [
    "array_3d.reshape(4, -1, 2)"
   ]
  },
  {
   "cell_type": "markdown",
   "id": "954e9f5f-11dd-4d76-8a25-c6ca47ac158e",
   "metadata": {},
   "source": [
    "## transpose"
   ]
  },
  {
   "cell_type": "code",
   "execution_count": null,
   "id": "76c442a3-085c-4efe-ae9d-9f2f583f4bd4",
   "metadata": {},
   "outputs": [],
   "source": [
    "array_transpose = array_3d.transpose((1,0,2))\n",
    "array_transpose"
   ]
  },
  {
   "cell_type": "markdown",
   "id": "cba6b49f-2a76-4170-8cf0-612978123abb",
   "metadata": {},
   "source": [
    "## swapaxes"
   ]
  },
  {
   "cell_type": "code",
   "execution_count": null,
   "id": "b9c6f67a-c117-492e-a197-904452aeac73",
   "metadata": {},
   "outputs": [],
   "source": [
    "array_3d = np.arange(1, 25).reshape(2,4,3)\n",
    "array_3d"
   ]
  },
  {
   "cell_type": "code",
   "execution_count": null,
   "id": "55f8598f-863d-4cd8-81f6-606d7a07970a",
   "metadata": {},
   "outputs": [],
   "source": [
    "array_3d.swapaxes(1, 0)"
   ]
  },
  {
   "cell_type": "markdown",
   "id": "6cbfd33a-5d8c-4f56-a466-f19a46cd4ab9",
   "metadata": {},
   "source": [
    "## flatten"
   ]
  },
  {
   "cell_type": "code",
   "execution_count": null,
   "id": "a262fb6a-9bcb-422f-8056-898ec69edfe3",
   "metadata": {},
   "outputs": [],
   "source": [
    "array_3d.flatten() # copy"
   ]
  },
  {
   "cell_type": "markdown",
   "id": "6d9ca40b-774b-45ea-b752-8b78c988622b",
   "metadata": {},
   "source": [
    "## ravel"
   ]
  },
  {
   "cell_type": "code",
   "execution_count": null,
   "id": "2fdb7ab5-5d85-427a-83c9-9c70dfac94ee",
   "metadata": {},
   "outputs": [],
   "source": [
    "array_3d.ravel() # view"
   ]
  },
  {
   "cell_type": "code",
   "execution_count": null,
   "id": "83a2fae5-ed9a-4e0f-b649-db3672698c3a",
   "metadata": {},
   "outputs": [],
   "source": [
    "array_3d.reshape(-1)"
   ]
  },
  {
   "cell_type": "markdown",
   "id": "a4c75bd0-9ba1-4062-84c7-68e062430d50",
   "metadata": {},
   "source": [
    "## squeeze"
   ]
  },
  {
   "cell_type": "code",
   "execution_count": null,
   "id": "ee91e77b-0f68-4505-9678-c0e24d24f44e",
   "metadata": {},
   "outputs": [],
   "source": [
    "array_axis_size_1 = array_3d.reshape(8, 1, 3)\n",
    "array_axis_size_1"
   ]
  },
  {
   "cell_type": "code",
   "execution_count": null,
   "id": "2211d5de-fa9b-4c8c-91d2-56278910da98",
   "metadata": {},
   "outputs": [],
   "source": [
    "array_axis_size_1.shape"
   ]
  },
  {
   "cell_type": "code",
   "execution_count": null,
   "id": "9b742815-a033-4534-bbd9-110d4c258413",
   "metadata": {},
   "outputs": [],
   "source": [
    "array_squeeze = array_axis_size_1.squeeze()"
   ]
  },
  {
   "cell_type": "markdown",
   "id": "6d4d311f-86c7-4c54-ab1a-6b9e736cbf73",
   "metadata": {},
   "source": [
    "# Método de seleção e manipulação de itens"
   ]
  },
  {
   "cell_type": "markdown",
   "id": "3f469146-6e69-4cb8-9a3c-16b7e660d536",
   "metadata": {},
   "source": [
    "## `take`"
   ]
  },
  {
   "cell_type": "code",
   "execution_count": null,
   "id": "a2618c34-c11d-4887-b168-4142c4e8d45b",
   "metadata": {},
   "outputs": [],
   "source": [
    "array_3d = np.arange(1, 25).reshape(2,4,3)\n",
    "array_3d"
   ]
  },
  {
   "cell_type": "code",
   "execution_count": null,
   "id": "5150aba2-afee-43c4-aa03-52341a943b2c",
   "metadata": {},
   "outputs": [],
   "source": [
    "array_3d.take(indices = [1, 5, 10, 12])"
   ]
  },
  {
   "cell_type": "code",
   "execution_count": null,
   "id": "8dfdc027-6468-470b-b016-400bc3e82329",
   "metadata": {},
   "outputs": [],
   "source": [
    "array_3d.take(indices = [[1, 5], [10, 12]])"
   ]
  },
  {
   "cell_type": "markdown",
   "id": "207a049c-a250-4632-9764-d35d9f98d9d1",
   "metadata": {},
   "source": [
    "## `put`"
   ]
  },
  {
   "cell_type": "code",
   "execution_count": null,
   "id": "f61f48f1-dda9-4371-8b4e-52633a2a782e",
   "metadata": {},
   "outputs": [],
   "source": [
    "array_3d.put(indices = [1, 5, 10, 12], values = [50,56,61,63])\n",
    "array_3d"
   ]
  },
  {
   "cell_type": "markdown",
   "id": "4c204908-d6fb-46db-b10e-f2140f3d2f78",
   "metadata": {},
   "source": [
    "## `repeat`"
   ]
  },
  {
   "cell_type": "code",
   "execution_count": 21,
   "id": "996e55b0-3124-48f2-bbf5-bb1fbc2c6cfc",
   "metadata": {},
   "outputs": [
    {
     "data": {
      "text/plain": [
       "array([[[ 1,  2,  3],\n",
       "        [ 4,  5,  6],\n",
       "        [ 7,  8,  9],\n",
       "        [10, 11, 12]],\n",
       "\n",
       "       [[13, 14, 15],\n",
       "        [16, 17, 18],\n",
       "        [19, 20, 21],\n",
       "        [22, 23, 24]]])"
      ]
     },
     "execution_count": 21,
     "metadata": {},
     "output_type": "execute_result"
    }
   ],
   "source": [
    "array_3d = np.arange(1, 25).reshape(2,4,3)\n",
    "array_3d"
   ]
  },
  {
   "cell_type": "code",
   "execution_count": 22,
   "id": "deb285a4-0913-4e65-9111-99b158394726",
   "metadata": {},
   "outputs": [
    {
     "data": {
      "text/plain": [
       "array([ 1,  1,  1,  2,  2,  2,  3,  3,  3,  4,  4,  4,  5,  5,  5,  6,  6,\n",
       "        6,  7,  7,  7,  8,  8,  8,  9,  9,  9, 10, 10, 10, 11, 11, 11, 12,\n",
       "       12, 12, 13, 13, 13, 14, 14, 14, 15, 15, 15, 16, 16, 16, 17, 17, 17,\n",
       "       18, 18, 18, 19, 19, 19, 20, 20, 20, 21, 21, 21, 22, 22, 22, 23, 23,\n",
       "       23, 24, 24, 24])"
      ]
     },
     "execution_count": 22,
     "metadata": {},
     "output_type": "execute_result"
    }
   ],
   "source": [
    "array_3d.repeat(repeats = 3)"
   ]
  },
  {
   "cell_type": "markdown",
   "id": "3641d772-8a6b-4538-b6ca-d7bd82cdca7f",
   "metadata": {},
   "source": [
    "## `sort`"
   ]
  },
  {
   "cell_type": "code",
   "execution_count": 24,
   "id": "489ee13e-2456-44c1-9131-3b815316ac3a",
   "metadata": {},
   "outputs": [
    {
     "data": {
      "text/plain": [
       "array([[ 8,  2,  7],\n",
       "       [10,  3,  9]])"
      ]
     },
     "execution_count": 24,
     "metadata": {},
     "output_type": "execute_result"
    }
   ],
   "source": [
    "array_2d = np.array([[10, 3, 7],\n",
    "                    [8, 2, 9]])\n",
    "array_2d.sort(axis = 0) # linhas\n",
    "array_2d"
   ]
  },
  {
   "cell_type": "code",
   "execution_count": 25,
   "id": "80b9febb-52b7-47fc-b9e0-faaec5325cfb",
   "metadata": {},
   "outputs": [
    {
     "data": {
      "text/plain": [
       "(2, 3)"
      ]
     },
     "execution_count": 25,
     "metadata": {},
     "output_type": "execute_result"
    }
   ],
   "source": [
    "array_2d.shape"
   ]
  },
  {
   "cell_type": "code",
   "execution_count": 26,
   "id": "bdbc38be-7a66-43d6-962a-dd188472ffeb",
   "metadata": {},
   "outputs": [
    {
     "data": {
      "text/plain": [
       "array([[ 3,  7, 10],\n",
       "       [ 2,  8,  9]])"
      ]
     },
     "execution_count": 26,
     "metadata": {},
     "output_type": "execute_result"
    }
   ],
   "source": [
    "array_2d = np.array([[10, 3, 7],\n",
    "                    [8, 2, 9]])\n",
    "array_2d.sort(axis = 1) # colunas\n",
    "array_2d"
   ]
  },
  {
   "cell_type": "markdown",
   "id": "7d6e35ed-b9ef-4a81-b139-282d2f6fabea",
   "metadata": {},
   "source": [
    "## `argsort`"
   ]
  },
  {
   "cell_type": "code",
   "execution_count": 27,
   "id": "85485290-1534-4c61-a0ac-7fcd8e0e1d9c",
   "metadata": {},
   "outputs": [
    {
     "data": {
      "text/plain": [
       "array([[1, 1, 0],\n",
       "       [0, 0, 1]])"
      ]
     },
     "execution_count": 27,
     "metadata": {},
     "output_type": "execute_result"
    }
   ],
   "source": [
    "array_2d = np.array([[10, 3, 7],\n",
    "                    [8, 2, 9]])\n",
    "indices = array_2d.argsort(axis = 0)\n",
    "indices"
   ]
  },
  {
   "cell_type": "code",
   "execution_count": 28,
   "id": "4a5152f9-c920-44c0-ae09-848204996a8c",
   "metadata": {},
   "outputs": [
    {
     "data": {
      "text/plain": [
       "array([[1, 2, 0],\n",
       "       [1, 0, 2]])"
      ]
     },
     "execution_count": 28,
     "metadata": {},
     "output_type": "execute_result"
    }
   ],
   "source": [
    "indices = array_2d.argsort(axis = 1)\n",
    "indices"
   ]
  },
  {
   "cell_type": "code",
   "execution_count": 29,
   "id": "7568f7af-5e77-4cee-8065-855fa3983607",
   "metadata": {},
   "outputs": [
    {
     "data": {
      "text/plain": [
       "array([4, 1, 2, 3, 5, 0])"
      ]
     },
     "execution_count": 29,
     "metadata": {},
     "output_type": "execute_result"
    }
   ],
   "source": [
    "array_1d = np.array([10, 3, 7, 8, 2, 9])\n",
    "indices = array_1d.argsort()\n",
    "indices"
   ]
  },
  {
   "cell_type": "code",
   "execution_count": 30,
   "id": "58077f48-af39-4605-9417-cea226a84e3d",
   "metadata": {},
   "outputs": [
    {
     "data": {
      "text/plain": [
       "array([ 2,  3,  7,  8,  9, 10])"
      ]
     },
     "execution_count": 30,
     "metadata": {},
     "output_type": "execute_result"
    }
   ],
   "source": [
    "array_1d[indices]"
   ]
  },
  {
   "cell_type": "markdown",
   "id": "b47600b1-8ff3-40ea-b864-155f059d21f3",
   "metadata": {},
   "source": [
    "## `searchsorted`"
   ]
  },
  {
   "cell_type": "code",
   "execution_count": 31,
   "id": "c3935aa1-8214-4eb7-884a-072d4174115d",
   "metadata": {},
   "outputs": [
    {
     "data": {
      "text/plain": [
       "array([0, 2, 6])"
      ]
     },
     "execution_count": 31,
     "metadata": {},
     "output_type": "execute_result"
    }
   ],
   "source": [
    "# indices            0   1   2   3   4   5\n",
    "array_1d = np.array([2,  3,  7,  8,  9, 10])\n",
    "array_1d.searchsorted([1,4,11])"
   ]
  },
  {
   "cell_type": "markdown",
   "id": "2175fda9-aa00-49b6-921f-bacb86d94664",
   "metadata": {},
   "source": [
    "## `diagonal`"
   ]
  },
  {
   "cell_type": "code",
   "execution_count": 32,
   "id": "118c037e-3be3-489e-bb95-c96c2671a252",
   "metadata": {},
   "outputs": [
    {
     "data": {
      "text/plain": [
       "array([10,  2,  1])"
      ]
     },
     "execution_count": 32,
     "metadata": {},
     "output_type": "execute_result"
    }
   ],
   "source": [
    "array_2d = np.array([[10, 3, 7],\n",
    "                    [8, 2, 9],\n",
    "                     [11, 4, 1]])\n",
    "array_2d.diagonal()"
   ]
  },
  {
   "cell_type": "markdown",
   "id": "71eab022-4650-435d-bc46-8495ac4e9aef",
   "metadata": {},
   "source": [
    "# Método para cálculo"
   ]
  },
  {
   "cell_type": "code",
   "execution_count": 33,
   "id": "2654b7ac-78aa-4c03-a3d6-aa88cb917a31",
   "metadata": {},
   "outputs": [
    {
     "data": {
      "text/plain": [
       "array([[ 4,  2, 12],\n",
       "       [10,  5,  6],\n",
       "       [ 1, 11,  9],\n",
       "       [ 7,  8,  3]])"
      ]
     },
     "execution_count": 33,
     "metadata": {},
     "output_type": "execute_result"
    }
   ],
   "source": [
    "array_2d = np.array([[4, 2, 12],\n",
    "                     [10, 5, 6],\n",
    "                     [1, 11, 9],\n",
    "                     [7, 8, 3]])\n",
    "array_2d"
   ]
  },
  {
   "cell_type": "markdown",
   "id": "b8d6bcef-247f-4d41-acc1-ee89666845ed",
   "metadata": {},
   "source": [
    "## `max`"
   ]
  },
  {
   "cell_type": "code",
   "execution_count": 35,
   "id": "8f0b6b6f-b914-4e52-a9b0-89de906a2d08",
   "metadata": {},
   "outputs": [
    {
     "data": {
      "text/plain": [
       "array([10, 11, 12])"
      ]
     },
     "execution_count": 35,
     "metadata": {},
     "output_type": "execute_result"
    }
   ],
   "source": [
    "array_2d.max(axis = 0)"
   ]
  },
  {
   "cell_type": "code",
   "execution_count": 36,
   "id": "74d953a3-67a5-4721-8582-98dcb812d2f0",
   "metadata": {},
   "outputs": [
    {
     "data": {
      "text/plain": [
       "array([12, 10, 11,  8])"
      ]
     },
     "execution_count": 36,
     "metadata": {},
     "output_type": "execute_result"
    }
   ],
   "source": [
    "array_2d.max(axis = 1)"
   ]
  },
  {
   "cell_type": "code",
   "execution_count": 38,
   "id": "a420b005-b85d-4cf8-8b60-2f1d3259fc76",
   "metadata": {},
   "outputs": [
    {
     "data": {
      "text/plain": [
       "array([[12],\n",
       "       [10],\n",
       "       [11],\n",
       "       [ 8]])"
      ]
     },
     "execution_count": 38,
     "metadata": {},
     "output_type": "execute_result"
    }
   ],
   "source": [
    "array_2d_ax_1_kd = array_2d.max(axis = 1, keepdims = True)\n",
    "array_2d_ax_1_kd"
   ]
  },
  {
   "cell_type": "code",
   "execution_count": 39,
   "id": "10968c17-8168-492d-9cc0-ef15aa04c012",
   "metadata": {},
   "outputs": [
    {
     "data": {
      "text/plain": [
       "((4, 1), (4, 3))"
      ]
     },
     "execution_count": 39,
     "metadata": {},
     "output_type": "execute_result"
    }
   ],
   "source": [
    "array_2d_ax_1_kd.shape, array_2d.shape"
   ]
  },
  {
   "cell_type": "code",
   "execution_count": 40,
   "id": "1164e839-ad1c-48b4-b564-7126ccfc2de8",
   "metadata": {},
   "outputs": [
    {
     "data": {
      "text/plain": [
       "np.int64(12)"
      ]
     },
     "execution_count": 40,
     "metadata": {},
     "output_type": "execute_result"
    }
   ],
   "source": [
    "array_2d.max()"
   ]
  },
  {
   "cell_type": "markdown",
   "id": "a57a91fc-455c-4e9a-9968-3a63f325c063",
   "metadata": {},
   "source": [
    "## `argmax`"
   ]
  },
  {
   "cell_type": "code",
   "execution_count": 41,
   "id": "ef17baf7-bbd0-4387-ba28-5da387c118e2",
   "metadata": {},
   "outputs": [
    {
     "data": {
      "text/plain": [
       "array([[ 4,  2, 12],\n",
       "       [10,  5,  6],\n",
       "       [ 1, 11,  9],\n",
       "       [ 7,  8,  3]])"
      ]
     },
     "execution_count": 41,
     "metadata": {},
     "output_type": "execute_result"
    }
   ],
   "source": [
    "array_2d"
   ]
  },
  {
   "cell_type": "code",
   "execution_count": 42,
   "id": "9e364810-eafe-436c-8aae-32d42536e01f",
   "metadata": {},
   "outputs": [
    {
     "data": {
      "text/plain": [
       "array([1, 2, 0])"
      ]
     },
     "execution_count": 42,
     "metadata": {},
     "output_type": "execute_result"
    }
   ],
   "source": [
    "array_2d.argmax(axis = 0)"
   ]
  },
  {
   "cell_type": "code",
   "execution_count": 43,
   "id": "e7cd2e96-d0d7-44e4-874a-d836d8002a15",
   "metadata": {},
   "outputs": [
    {
     "data": {
      "text/plain": [
       "array([2, 0, 1, 1])"
      ]
     },
     "execution_count": 43,
     "metadata": {},
     "output_type": "execute_result"
    }
   ],
   "source": [
    "array_2d.argmax(axis = 1)"
   ]
  },
  {
   "cell_type": "code",
   "execution_count": 44,
   "id": "29fb7d9a-7438-4b10-b70c-158a3fa4f480",
   "metadata": {},
   "outputs": [
    {
     "data": {
      "text/plain": [
       "np.int64(2)"
      ]
     },
     "execution_count": 44,
     "metadata": {},
     "output_type": "execute_result"
    }
   ],
   "source": [
    "array_2d.argmax()"
   ]
  },
  {
   "cell_type": "markdown",
   "id": "2a5554a4-8bf2-44e1-a1f9-e43e47803f10",
   "metadata": {},
   "source": [
    "## `min e argmin`"
   ]
  },
  {
   "cell_type": "code",
   "execution_count": 45,
   "id": "9d639884-defe-4a4e-9f8c-97bed4b8abb9",
   "metadata": {},
   "outputs": [
    {
     "data": {
      "text/plain": [
       "array([[ 4,  2, 12],\n",
       "       [10,  5,  6],\n",
       "       [ 1, 11,  9],\n",
       "       [ 7,  8,  3]])"
      ]
     },
     "execution_count": 45,
     "metadata": {},
     "output_type": "execute_result"
    }
   ],
   "source": [
    "array_2d"
   ]
  },
  {
   "cell_type": "code",
   "execution_count": 46,
   "id": "a17470b9-b47b-4f58-9c0c-9f1f44b638c9",
   "metadata": {},
   "outputs": [
    {
     "data": {
      "text/plain": [
       "array([1, 2, 3])"
      ]
     },
     "execution_count": 46,
     "metadata": {},
     "output_type": "execute_result"
    }
   ],
   "source": [
    "array_2d.min(axis = 0)"
   ]
  },
  {
   "cell_type": "code",
   "execution_count": 47,
   "id": "6eceffa8-7593-4ef6-94c8-e3d9f668de5f",
   "metadata": {},
   "outputs": [
    {
     "data": {
      "text/plain": [
       "array([2, 5, 1, 3])"
      ]
     },
     "execution_count": 47,
     "metadata": {},
     "output_type": "execute_result"
    }
   ],
   "source": [
    "array_2d.min(axis = 1)"
   ]
  },
  {
   "cell_type": "code",
   "execution_count": 48,
   "id": "06e0c07c-62e8-432e-b293-8ed60fe86f51",
   "metadata": {},
   "outputs": [
    {
     "data": {
      "text/plain": [
       "np.int64(1)"
      ]
     },
     "execution_count": 48,
     "metadata": {},
     "output_type": "execute_result"
    }
   ],
   "source": [
    "array_2d.min()"
   ]
  },
  {
   "cell_type": "code",
   "execution_count": 49,
   "id": "19f0a538-ce1d-4c0f-9aad-fd2f5380eb50",
   "metadata": {},
   "outputs": [
    {
     "data": {
      "text/plain": [
       "array([2, 0, 3])"
      ]
     },
     "execution_count": 49,
     "metadata": {},
     "output_type": "execute_result"
    }
   ],
   "source": [
    "array_2d.argmin(axis = 0)"
   ]
  },
  {
   "cell_type": "code",
   "execution_count": 50,
   "id": "4647b181-11e1-40d9-a20d-31be1617a46b",
   "metadata": {},
   "outputs": [
    {
     "data": {
      "text/plain": [
       "array([1, 1, 0, 2])"
      ]
     },
     "execution_count": 50,
     "metadata": {},
     "output_type": "execute_result"
    }
   ],
   "source": [
    "array_2d.argmin(axis = 1)"
   ]
  },
  {
   "cell_type": "code",
   "execution_count": 51,
   "id": "782bcf16-34de-4b82-84d8-025d505bcbec",
   "metadata": {},
   "outputs": [
    {
     "data": {
      "text/plain": [
       "np.int64(6)"
      ]
     },
     "execution_count": 51,
     "metadata": {},
     "output_type": "execute_result"
    }
   ],
   "source": [
    "array_2d.argmin()"
   ]
  },
  {
   "cell_type": "markdown",
   "id": "39dc271a-0fc7-487f-9140-ef3e42ad8fca",
   "metadata": {},
   "source": [
    "## `ptp` *p*eak *t*o *p*eak"
   ]
  },
  {
   "cell_type": "code",
   "execution_count": 52,
   "id": "6418c6d8-af63-448c-97ce-c8d3c16d58bc",
   "metadata": {},
   "outputs": [
    {
     "data": {
      "text/plain": [
       "array([[ 4,  2, 12],\n",
       "       [10,  5,  6],\n",
       "       [ 1, 11,  9],\n",
       "       [ 7,  8,  3]])"
      ]
     },
     "execution_count": 52,
     "metadata": {},
     "output_type": "execute_result"
    }
   ],
   "source": [
    "array_2d"
   ]
  },
  {
   "cell_type": "code",
   "execution_count": 57,
   "id": "2799f59c-dcb8-4d05-bf53-2571f219d3c7",
   "metadata": {},
   "outputs": [
    {
     "data": {
      "text/plain": [
       "array([9, 9, 9])"
      ]
     },
     "execution_count": 57,
     "metadata": {},
     "output_type": "execute_result"
    }
   ],
   "source": [
    "np.ptp(array_2d, axis = 0)"
   ]
  },
  {
   "cell_type": "code",
   "execution_count": 58,
   "id": "48960444-9e0b-45e4-8089-1cb71ad6655d",
   "metadata": {},
   "outputs": [
    {
     "data": {
      "text/plain": [
       "(array([10, 11, 12]), array([1, 2, 3]))"
      ]
     },
     "execution_count": 58,
     "metadata": {},
     "output_type": "execute_result"
    }
   ],
   "source": [
    "array_2d.max(axis = 0), array_2d.min(axis = 0)"
   ]
  },
  {
   "cell_type": "code",
   "execution_count": 59,
   "id": "1deebb97-639c-4a3b-86d4-a8ec02583318",
   "metadata": {},
   "outputs": [
    {
     "data": {
      "text/plain": [
       "array([9, 9, 9])"
      ]
     },
     "execution_count": 59,
     "metadata": {},
     "output_type": "execute_result"
    }
   ],
   "source": [
    "array_2d.max(axis = 0) - array_2d.min(axis = 0)"
   ]
  },
  {
   "cell_type": "code",
   "execution_count": 60,
   "id": "7920f441-63a2-4950-b7f3-b0d6d549d792",
   "metadata": {},
   "outputs": [
    {
     "data": {
      "text/plain": [
       "np.int64(11)"
      ]
     },
     "execution_count": 60,
     "metadata": {},
     "output_type": "execute_result"
    }
   ],
   "source": [
    "np.ptp(array_2d)"
   ]
  },
  {
   "cell_type": "markdown",
   "id": "f4ad2abc-3df1-4fe2-8cd0-362c3008c6ae",
   "metadata": {},
   "source": [
    "## `clip`"
   ]
  },
  {
   "cell_type": "code",
   "execution_count": 61,
   "id": "3f9a3fa8-642f-4a10-98ab-c09d3a71865f",
   "metadata": {},
   "outputs": [
    {
     "data": {
      "text/plain": [
       "array([[ 1,  2,  3],\n",
       "       [ 4,  5,  6],\n",
       "       [ 7,  8,  9],\n",
       "       [10, 11, 12]])"
      ]
     },
     "execution_count": 61,
     "metadata": {},
     "output_type": "execute_result"
    }
   ],
   "source": [
    "array_2d = np.arange(1, 13).reshape(4, 3)\n",
    "array_2d"
   ]
  },
  {
   "cell_type": "code",
   "execution_count": 62,
   "id": "093c6450-6baa-4715-a819-849dfb74d454",
   "metadata": {},
   "outputs": [
    {
     "data": {
      "text/plain": [
       "array([[ 3,  3,  3],\n",
       "       [ 4,  5,  6],\n",
       "       [ 7,  8,  9],\n",
       "       [10, 10, 10]])"
      ]
     },
     "execution_count": 62,
     "metadata": {},
     "output_type": "execute_result"
    }
   ],
   "source": [
    "array_2d.clip(min = 3, max = 10)"
   ]
  },
  {
   "cell_type": "markdown",
   "id": "c6636646-a272-44e9-a39b-ea0a6c43d552",
   "metadata": {},
   "source": [
    "## `round`"
   ]
  },
  {
   "cell_type": "code",
   "execution_count": 63,
   "id": "d50273fd-dbaa-4f7a-820d-64b4c248cc3a",
   "metadata": {},
   "outputs": [
    {
     "data": {
      "text/plain": [
       "array([[0.        , 0.09090909, 0.18181818],\n",
       "       [0.27272727, 0.36363636, 0.45454545],\n",
       "       [0.54545455, 0.63636364, 0.72727273],\n",
       "       [0.81818182, 0.90909091, 1.        ]])"
      ]
     },
     "execution_count": 63,
     "metadata": {},
     "output_type": "execute_result"
    }
   ],
   "source": [
    "array_2d = np.linspace(0, 1, 12).reshape(4, 3)\n",
    "array_2d"
   ]
  },
  {
   "cell_type": "code",
   "execution_count": 64,
   "id": "7f5fb32b-c689-4251-a759-19b84eb9773c",
   "metadata": {},
   "outputs": [
    {
     "data": {
      "text/plain": [
       "array([[0.  , 0.09, 0.18],\n",
       "       [0.27, 0.36, 0.45],\n",
       "       [0.55, 0.64, 0.73],\n",
       "       [0.82, 0.91, 1.  ]])"
      ]
     },
     "execution_count": 64,
     "metadata": {},
     "output_type": "execute_result"
    }
   ],
   "source": [
    "array_2d.round(decimals = 2)"
   ]
  },
  {
   "cell_type": "markdown",
   "id": "545b7ee6-4f4d-4c4b-ba7d-73da02511c72",
   "metadata": {},
   "source": [
    "## `sum`"
   ]
  },
  {
   "cell_type": "code",
   "execution_count": 65,
   "id": "a54edbbf-edbb-4240-8764-d96a48f89d73",
   "metadata": {},
   "outputs": [
    {
     "data": {
      "text/plain": [
       "array([[ 1,  2,  3],\n",
       "       [ 4,  5,  6],\n",
       "       [ 7,  8,  9],\n",
       "       [10, 11, 12]])"
      ]
     },
     "execution_count": 65,
     "metadata": {},
     "output_type": "execute_result"
    }
   ],
   "source": [
    "array_2d = np.arange(1, 13).reshape(4, 3)\n",
    "array_2d"
   ]
  },
  {
   "cell_type": "code",
   "execution_count": 66,
   "id": "8a58e220-b219-4586-8ca1-2eec54320baf",
   "metadata": {},
   "outputs": [
    {
     "data": {
      "text/plain": [
       "array([22, 26, 30])"
      ]
     },
     "execution_count": 66,
     "metadata": {},
     "output_type": "execute_result"
    }
   ],
   "source": [
    "array_2d.sum(axis = 0)"
   ]
  },
  {
   "cell_type": "code",
   "execution_count": 67,
   "id": "3d4396a1-e844-47dc-85e0-660d485ef373",
   "metadata": {},
   "outputs": [
    {
     "data": {
      "text/plain": [
       "array([ 6, 15, 24, 33])"
      ]
     },
     "execution_count": 67,
     "metadata": {},
     "output_type": "execute_result"
    }
   ],
   "source": [
    "array_2d.sum(axis = 1)"
   ]
  },
  {
   "cell_type": "code",
   "execution_count": 68,
   "id": "63614610-f6e8-41de-9d3b-390315c6a695",
   "metadata": {},
   "outputs": [
    {
     "data": {
      "text/plain": [
       "np.int64(78)"
      ]
     },
     "execution_count": 68,
     "metadata": {},
     "output_type": "execute_result"
    }
   ],
   "source": [
    "array_2d.sum()"
   ]
  },
  {
   "cell_type": "markdown",
   "id": "badc610d-e44c-4692-bc82-3cd7b535b77b",
   "metadata": {},
   "source": [
    "## `cumsum`"
   ]
  },
  {
   "cell_type": "code",
   "execution_count": 69,
   "id": "aa88559f-6e09-4ce6-b0e8-044e0c406ba7",
   "metadata": {},
   "outputs": [
    {
     "data": {
      "text/plain": [
       "array([[ 1,  2,  3],\n",
       "       [ 4,  5,  6],\n",
       "       [ 7,  8,  9],\n",
       "       [10, 11, 12]])"
      ]
     },
     "execution_count": 69,
     "metadata": {},
     "output_type": "execute_result"
    }
   ],
   "source": [
    "array_2d"
   ]
  },
  {
   "cell_type": "code",
   "execution_count": 70,
   "id": "c05ff54e-8fb8-488e-a4c4-1c17572f3788",
   "metadata": {},
   "outputs": [
    {
     "data": {
      "text/plain": [
       "array([[ 1,  2,  3],\n",
       "       [ 5,  7,  9],\n",
       "       [12, 15, 18],\n",
       "       [22, 26, 30]])"
      ]
     },
     "execution_count": 70,
     "metadata": {},
     "output_type": "execute_result"
    }
   ],
   "source": [
    "array_2d.cumsum(axis = 0)"
   ]
  },
  {
   "cell_type": "code",
   "execution_count": 71,
   "id": "fe52e269-ee30-4bcb-9214-a385a808d9f1",
   "metadata": {},
   "outputs": [
    {
     "data": {
      "text/plain": [
       "array([[ 1,  3,  6],\n",
       "       [ 4,  9, 15],\n",
       "       [ 7, 15, 24],\n",
       "       [10, 21, 33]])"
      ]
     },
     "execution_count": 71,
     "metadata": {},
     "output_type": "execute_result"
    }
   ],
   "source": [
    "array_2d.cumsum(axis = 1)"
   ]
  },
  {
   "cell_type": "code",
   "execution_count": 72,
   "id": "a935bf93-18c8-4846-a86e-f4f2b08361e0",
   "metadata": {},
   "outputs": [
    {
     "data": {
      "text/plain": [
       "array([ 1,  3,  6, 10, 15, 21, 28, 36, 45, 55, 66, 78])"
      ]
     },
     "execution_count": 72,
     "metadata": {},
     "output_type": "execute_result"
    }
   ],
   "source": [
    "array_2d.cumsum()"
   ]
  },
  {
   "cell_type": "markdown",
   "id": "177744c4-b305-4e28-982a-7b07132ac435",
   "metadata": {},
   "source": [
    "## `mean`"
   ]
  },
  {
   "cell_type": "code",
   "execution_count": 73,
   "id": "10679b94-2a09-4216-a141-3ea529a0d92a",
   "metadata": {},
   "outputs": [
    {
     "data": {
      "text/plain": [
       "array([[ 1,  2,  3],\n",
       "       [ 4,  5,  6],\n",
       "       [ 7,  8,  9],\n",
       "       [10, 11, 12]])"
      ]
     },
     "execution_count": 73,
     "metadata": {},
     "output_type": "execute_result"
    }
   ],
   "source": [
    "array_2d"
   ]
  },
  {
   "cell_type": "code",
   "execution_count": 74,
   "id": "abfefbe2-d052-44d1-b3ff-612e49baa27a",
   "metadata": {},
   "outputs": [
    {
     "data": {
      "text/plain": [
       "array([5.5, 6.5, 7.5])"
      ]
     },
     "execution_count": 74,
     "metadata": {},
     "output_type": "execute_result"
    }
   ],
   "source": [
    "array_2d.mean(axis = 0)"
   ]
  },
  {
   "cell_type": "code",
   "execution_count": 75,
   "id": "099fb7c9-0259-4524-8f31-d0ef06caaca5",
   "metadata": {},
   "outputs": [
    {
     "data": {
      "text/plain": [
       "array([ 2.,  5.,  8., 11.])"
      ]
     },
     "execution_count": 75,
     "metadata": {},
     "output_type": "execute_result"
    }
   ],
   "source": [
    "array_2d.mean(axis = 1)"
   ]
  },
  {
   "cell_type": "code",
   "execution_count": 76,
   "id": "57bd3232-906b-4815-a91f-0ca869052f30",
   "metadata": {},
   "outputs": [
    {
     "data": {
      "text/plain": [
       "np.float64(6.5)"
      ]
     },
     "execution_count": 76,
     "metadata": {},
     "output_type": "execute_result"
    }
   ],
   "source": [
    "array_2d.mean()"
   ]
  },
  {
   "cell_type": "code",
   "execution_count": 77,
   "id": "4accf828-a00b-435f-a4da-de49143a405a",
   "metadata": {},
   "outputs": [
    {
     "data": {
      "text/plain": [
       "(np.int64(78), 12)"
      ]
     },
     "execution_count": 77,
     "metadata": {},
     "output_type": "execute_result"
    }
   ],
   "source": [
    "array_2d.sum(), array_2d.size"
   ]
  },
  {
   "cell_type": "markdown",
   "id": "b6e0e715-38a0-4725-8ff2-13ac379523ad",
   "metadata": {},
   "source": [
    "## `var`"
   ]
  },
  {
   "cell_type": "code",
   "execution_count": 78,
   "id": "c4f83ce6-8e1b-4439-8f99-0acd5b354435",
   "metadata": {},
   "outputs": [
    {
     "data": {
      "text/plain": [
       "array([[ 1,  2,  3],\n",
       "       [ 4,  5,  6],\n",
       "       [ 7,  8,  9],\n",
       "       [10, 11, 12]])"
      ]
     },
     "execution_count": 78,
     "metadata": {},
     "output_type": "execute_result"
    }
   ],
   "source": [
    "array_2d"
   ]
  },
  {
   "cell_type": "code",
   "execution_count": 79,
   "id": "76be797e-6eb7-434c-9a34-54ba2c1c2f24",
   "metadata": {},
   "outputs": [
    {
     "data": {
      "text/plain": [
       "array([11.25, 11.25, 11.25])"
      ]
     },
     "execution_count": 79,
     "metadata": {},
     "output_type": "execute_result"
    }
   ],
   "source": [
    "array_2d.var(axis = 0)"
   ]
  },
  {
   "cell_type": "code",
   "execution_count": 80,
   "id": "04192a21-9d66-49e0-bfbf-bd37f39b013e",
   "metadata": {},
   "outputs": [
    {
     "data": {
      "text/plain": [
       "array([0.66666667, 0.66666667, 0.66666667, 0.66666667])"
      ]
     },
     "execution_count": 80,
     "metadata": {},
     "output_type": "execute_result"
    }
   ],
   "source": [
    "array_2d.var(axis = 1)"
   ]
  },
  {
   "cell_type": "code",
   "execution_count": 81,
   "id": "f8216326-b379-4e09-a7ea-c32f48849a9b",
   "metadata": {},
   "outputs": [
    {
     "data": {
      "text/plain": [
       "np.float64(11.916666666666666)"
      ]
     },
     "execution_count": 81,
     "metadata": {},
     "output_type": "execute_result"
    }
   ],
   "source": [
    "array_2d.var()"
   ]
  },
  {
   "cell_type": "markdown",
   "id": "9703342c-26db-4242-a086-1657ec6e467b",
   "metadata": {},
   "source": [
    "## `std`"
   ]
  },
  {
   "cell_type": "code",
   "execution_count": 82,
   "id": "77c1ff77-c3f4-4aec-82cc-ad572dafa22a",
   "metadata": {},
   "outputs": [
    {
     "data": {
      "text/plain": [
       "array([[ 1,  2,  3],\n",
       "       [ 4,  5,  6],\n",
       "       [ 7,  8,  9],\n",
       "       [10, 11, 12]])"
      ]
     },
     "execution_count": 82,
     "metadata": {},
     "output_type": "execute_result"
    }
   ],
   "source": [
    "array_2d"
   ]
  },
  {
   "cell_type": "code",
   "execution_count": 83,
   "id": "c16370cb-f5be-4c70-8d69-b5bd3812d90a",
   "metadata": {},
   "outputs": [
    {
     "data": {
      "text/plain": [
       "array([3.35410197, 3.35410197, 3.35410197])"
      ]
     },
     "execution_count": 83,
     "metadata": {},
     "output_type": "execute_result"
    }
   ],
   "source": [
    "array_2d.std(axis = 0)"
   ]
  },
  {
   "cell_type": "code",
   "execution_count": 84,
   "id": "90bd5a3b-ef03-43d1-a725-36cb6698e842",
   "metadata": {},
   "outputs": [
    {
     "data": {
      "text/plain": [
       "array([0.81649658, 0.81649658, 0.81649658, 0.81649658])"
      ]
     },
     "execution_count": 84,
     "metadata": {},
     "output_type": "execute_result"
    }
   ],
   "source": [
    "array_2d.std(axis = 1)"
   ]
  },
  {
   "cell_type": "code",
   "execution_count": 85,
   "id": "87cc6f71-99ab-4d47-92be-9108e1c69f99",
   "metadata": {},
   "outputs": [
    {
     "data": {
      "text/plain": [
       "np.float64(3.452052529534663)"
      ]
     },
     "execution_count": 85,
     "metadata": {},
     "output_type": "execute_result"
    }
   ],
   "source": [
    "array_2d.std()"
   ]
  },
  {
   "cell_type": "markdown",
   "id": "08c39148-ca39-4b7c-bb5c-1abf406eb711",
   "metadata": {},
   "source": [
    "## `prod e cumprod`"
   ]
  },
  {
   "cell_type": "code",
   "execution_count": 86,
   "id": "621ad5f4-d202-489c-9e21-97e844504d93",
   "metadata": {},
   "outputs": [
    {
     "data": {
      "text/plain": [
       "array([[ 1,  2,  3],\n",
       "       [ 4,  5,  6],\n",
       "       [ 7,  8,  9],\n",
       "       [10, 11, 12]])"
      ]
     },
     "execution_count": 86,
     "metadata": {},
     "output_type": "execute_result"
    }
   ],
   "source": [
    "array_2d"
   ]
  },
  {
   "cell_type": "code",
   "execution_count": 87,
   "id": "e3c48990-ff66-4f9e-b9c2-8b94be9022a2",
   "metadata": {},
   "outputs": [
    {
     "data": {
      "text/plain": [
       "array([ 280,  880, 1944])"
      ]
     },
     "execution_count": 87,
     "metadata": {},
     "output_type": "execute_result"
    }
   ],
   "source": [
    "array_2d.prod(axis = 0)"
   ]
  },
  {
   "cell_type": "code",
   "execution_count": 88,
   "id": "ce9dfc7c-e839-4bb7-a5e3-116d702282fc",
   "metadata": {},
   "outputs": [
    {
     "data": {
      "text/plain": [
       "array([   6,  120,  504, 1320])"
      ]
     },
     "execution_count": 88,
     "metadata": {},
     "output_type": "execute_result"
    }
   ],
   "source": [
    "array_2d.prod(axis = 1)"
   ]
  },
  {
   "cell_type": "code",
   "execution_count": 89,
   "id": "0fc6ab8c-69a1-48be-adce-a9797500ec07",
   "metadata": {},
   "outputs": [
    {
     "data": {
      "text/plain": [
       "np.int64(479001600)"
      ]
     },
     "execution_count": 89,
     "metadata": {},
     "output_type": "execute_result"
    }
   ],
   "source": [
    "array_2d.prod()"
   ]
  },
  {
   "cell_type": "code",
   "execution_count": 90,
   "id": "76094e03-c09f-428c-a344-c6fdef4c4bdb",
   "metadata": {},
   "outputs": [
    {
     "data": {
      "text/plain": [
       "array([[   1,    2,    6],\n",
       "       [   4,   20,  120],\n",
       "       [   7,   56,  504],\n",
       "       [  10,  110, 1320]])"
      ]
     },
     "execution_count": 90,
     "metadata": {},
     "output_type": "execute_result"
    }
   ],
   "source": [
    "array_2d.cumprod(axis = 1)"
   ]
  },
  {
   "cell_type": "code",
   "execution_count": 91,
   "id": "fb8535b1-6b75-4b6a-9469-166e44a0302e",
   "metadata": {},
   "outputs": [
    {
     "data": {
      "text/plain": [
       "array([[   1,    2,    3],\n",
       "       [   4,   10,   18],\n",
       "       [  28,   80,  162],\n",
       "       [ 280,  880, 1944]])"
      ]
     },
     "execution_count": 91,
     "metadata": {},
     "output_type": "execute_result"
    }
   ],
   "source": [
    "array_2d.cumprod(axis = 0)"
   ]
  },
  {
   "cell_type": "code",
   "execution_count": 92,
   "id": "e38ae64b-f85d-484b-84cb-95bad6cea3b5",
   "metadata": {},
   "outputs": [
    {
     "data": {
      "text/plain": [
       "array([        1,         2,         6,        24,       120,       720,\n",
       "            5040,     40320,    362880,   3628800,  39916800, 479001600])"
      ]
     },
     "execution_count": 92,
     "metadata": {},
     "output_type": "execute_result"
    }
   ],
   "source": [
    "array_2d.cumprod()"
   ]
  },
  {
   "cell_type": "markdown",
   "id": "66b9df6b-9131-4d06-b93b-79ba818633e8",
   "metadata": {},
   "source": [
    "## `all e any`"
   ]
  },
  {
   "cell_type": "code",
   "execution_count": 93,
   "id": "b232269b-3bc8-4672-9a95-a993623f98bf",
   "metadata": {},
   "outputs": [
    {
     "data": {
      "text/plain": [
       "array([[ 1,  2,  3],\n",
       "       [ 4,  5,  6],\n",
       "       [ 7,  8,  9],\n",
       "       [10, 11, 12]])"
      ]
     },
     "execution_count": 93,
     "metadata": {},
     "output_type": "execute_result"
    }
   ],
   "source": [
    "array_2d = np.arange(1, 13).reshape(4, 3)\n",
    "array_2d"
   ]
  },
  {
   "cell_type": "code",
   "execution_count": 94,
   "id": "7cc1df53-f7e9-4f33-8125-51d326bbcb6e",
   "metadata": {},
   "outputs": [
    {
     "data": {
      "text/plain": [
       "array([[ True,  True,  True],\n",
       "       [ True,  True,  True],\n",
       "       [ True,  True,  True],\n",
       "       [ True,  True,  True]])"
      ]
     },
     "execution_count": 94,
     "metadata": {},
     "output_type": "execute_result"
    }
   ],
   "source": [
    "array_2d_gt_0 = array_2d > 0\n",
    "array_2d_gt_0"
   ]
  },
  {
   "cell_type": "code",
   "execution_count": 95,
   "id": "59cc99a4-afb5-4181-b027-5032eed25a0b",
   "metadata": {},
   "outputs": [
    {
     "data": {
      "text/plain": [
       "np.True_"
      ]
     },
     "execution_count": 95,
     "metadata": {},
     "output_type": "execute_result"
    }
   ],
   "source": [
    "array_2d_gt_0.all()"
   ]
  },
  {
   "cell_type": "code",
   "execution_count": 96,
   "id": "4c6e349a-dbf2-4753-a69b-e98bf689141b",
   "metadata": {},
   "outputs": [
    {
     "data": {
      "text/plain": [
       "array([ True,  True,  True])"
      ]
     },
     "execution_count": 96,
     "metadata": {},
     "output_type": "execute_result"
    }
   ],
   "source": [
    "array_2d_gt_0.all(axis = 0)"
   ]
  },
  {
   "cell_type": "code",
   "execution_count": 99,
   "id": "cefa2700-e6a5-4495-a677-200c8d2664a1",
   "metadata": {},
   "outputs": [
    {
     "data": {
      "text/plain": [
       "array([[False, False, False],\n",
       "       [False, False,  True],\n",
       "       [ True,  True,  True],\n",
       "       [ True,  True,  True]])"
      ]
     },
     "execution_count": 99,
     "metadata": {},
     "output_type": "execute_result"
    }
   ],
   "source": [
    "array_2d_gt_5 = array_2d > 5\n",
    "array_2d_gt_5"
   ]
  },
  {
   "cell_type": "code",
   "execution_count": 100,
   "id": "282834f7-0411-44b9-b64e-58f0b7b1e9db",
   "metadata": {},
   "outputs": [
    {
     "data": {
      "text/plain": [
       "np.False_"
      ]
     },
     "execution_count": 100,
     "metadata": {},
     "output_type": "execute_result"
    }
   ],
   "source": [
    "array_2d_gt_5.all()"
   ]
  },
  {
   "cell_type": "code",
   "execution_count": 101,
   "id": "184d84db-e037-4fff-b143-a2a57acb1c0e",
   "metadata": {},
   "outputs": [
    {
     "data": {
      "text/plain": [
       "array([False, False,  True,  True])"
      ]
     },
     "execution_count": 101,
     "metadata": {},
     "output_type": "execute_result"
    }
   ],
   "source": [
    "array_2d_gt_5.all(axis = 1)"
   ]
  },
  {
   "cell_type": "code",
   "execution_count": 102,
   "id": "5fdc8462-f31e-420d-bf15-878289802fe9",
   "metadata": {},
   "outputs": [
    {
     "data": {
      "text/plain": [
       "np.True_"
      ]
     },
     "execution_count": 102,
     "metadata": {},
     "output_type": "execute_result"
    }
   ],
   "source": [
    "array_2d_gt_5.any()"
   ]
  },
  {
   "cell_type": "code",
   "execution_count": 103,
   "id": "a74e03a2-2940-466d-8750-bff4a536c9ac",
   "metadata": {},
   "outputs": [
    {
     "data": {
      "text/plain": [
       "array([False,  True,  True,  True])"
      ]
     },
     "execution_count": 103,
     "metadata": {},
     "output_type": "execute_result"
    }
   ],
   "source": [
    "array_2d_gt_5.any(axis = 1)"
   ]
  },
  {
   "cell_type": "code",
   "execution_count": 105,
   "id": "fd2c028a-e128-408c-bbe8-9c11854be64c",
   "metadata": {},
   "outputs": [
    {
     "data": {
      "text/plain": [
       "array([[False, False, False],\n",
       "       [False, False, False],\n",
       "       [False, False, False],\n",
       "       [False, False, False]])"
      ]
     },
     "execution_count": 105,
     "metadata": {},
     "output_type": "execute_result"
    }
   ],
   "source": [
    "array_2d_gt_12 = array_2d > 12\n",
    "array_2d_gt_12"
   ]
  },
  {
   "cell_type": "code",
   "execution_count": 106,
   "id": "d2e02c4b-fd01-4130-8ebf-0fcba99d0c34",
   "metadata": {},
   "outputs": [
    {
     "data": {
      "text/plain": [
       "np.False_"
      ]
     },
     "execution_count": 106,
     "metadata": {},
     "output_type": "execute_result"
    }
   ],
   "source": [
    "array_2d_gt_12.any()"
   ]
  },
  {
   "cell_type": "code",
   "execution_count": 107,
   "id": "3dae4cb1-0aa8-4e82-9c98-89110485eb6a",
   "metadata": {},
   "outputs": [
    {
     "data": {
      "text/plain": [
       "np.False_"
      ]
     },
     "execution_count": 107,
     "metadata": {},
     "output_type": "execute_result"
    }
   ],
   "source": [
    "array_2d_gt_12.all()"
   ]
  }
 ],
 "metadata": {
  "kernelspec": {
   "display_name": "Python 3 (ipykernel)",
   "language": "python",
   "name": "python3"
  },
  "language_info": {
   "codemirror_mode": {
    "name": "ipython",
    "version": 3
   },
   "file_extension": ".py",
   "mimetype": "text/x-python",
   "name": "python",
   "nbconvert_exporter": "python",
   "pygments_lexer": "ipython3",
   "version": "3.12.8"
  }
 },
 "nbformat": 4,
 "nbformat_minor": 5
}
