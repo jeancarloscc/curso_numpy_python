{
  "nbformat": 4,
  "nbformat_minor": 0,
  "metadata": {
    "colab": {
      "provenance": []
    },
    "kernelspec": {
      "name": "python3",
      "display_name": "Python 3"
    },
    "language_info": {
      "name": "python"
    }
  },
  "cells": [
    {
      "cell_type": "code",
      "execution_count": null,
      "metadata": {
        "id": "sgYgpXPEmTmW"
      },
      "outputs": [],
      "source": [
        "import numpy as np"
      ]
    },
    {
      "cell_type": "code",
      "source": [
        "np.__version__"
      ],
      "metadata": {
        "colab": {
          "base_uri": "https://localhost:8080/",
          "height": 56
        },
        "id": "WToUoFxfmkqS",
        "outputId": "0671c23d-96c2-4e9c-8d2a-9aede10a47e3"
      },
      "execution_count": null,
      "outputs": [
        {
          "output_type": "execute_result",
          "data": {
            "text/plain": [
              "'1.25.2'"
            ],
            "application/vnd.google.colaboratory.intrinsic+json": {
              "type": "string"
            }
          },
          "metadata": {},
          "execution_count": 2
        }
      ]
    },
    {
      "cell_type": "markdown",
      "source": [
        "Vamos começar instanciando o mesmo array do módulo anterior, que representa o desempenho de 5 atletas em 4 voltas de uma pista de corrida, em 3 dias diferentes."
      ],
      "metadata": {
        "id": "_bkwaFx68keB"
      }
    },
    {
      "cell_type": "code",
      "source": [
        "rng = np.random.default_rng(seed=1)"
      ],
      "metadata": {
        "id": "5l8ZK_5Vwnyt"
      },
      "execution_count": null,
      "outputs": []
    },
    {
      "cell_type": "code",
      "source": [
        "array = rng.normal(loc=50, scale=3, size=60).reshape(3, 5, 4).round(3)"
      ],
      "metadata": {
        "id": "Lsr9gyhCw9P0"
      },
      "execution_count": null,
      "outputs": []
    },
    {
      "cell_type": "code",
      "source": [
        "array"
      ],
      "metadata": {
        "colab": {
          "base_uri": "https://localhost:8080/"
        },
        "id": "Rs1R6UqqU2gr",
        "outputId": "655b8ea6-58bd-4062-fbc4-ac7fef2275b6"
      },
      "execution_count": null,
      "outputs": [
        {
          "output_type": "execute_result",
          "data": {
            "text/plain": [
              "array([[[51.037, 52.465, 50.991, 46.091],\n",
              "        [52.716, 51.339, 48.389, 51.743],\n",
              "        [51.094, 50.882, 50.085, 51.64 ],\n",
              "        [47.791, 49.511, 48.554, 51.797],\n",
              "        [50.119, 49.123, 47.654, 49.228]],\n",
              "\n",
              "       [[50.024, 49.173, 53.882, 53.02 ],\n",
              "        [41.867, 44.333, 49.476, 48.733],\n",
              "        [50.641, 50.652, 56.354, 46.664],\n",
              "        [48.867, 56.128, 51.94 , 51.989],\n",
              "        [48.458, 45.056, 50.502, 50.327]],\n",
              "\n",
              "       [[46.318, 47.95 , 49.784, 47.166],\n",
              "        [49.705, 50.286, 50.107, 48.481],\n",
              "        [51.781, 52.674, 50.963, 47.545],\n",
              "        [52.195, 48.496, 52.637, 46.785],\n",
              "        [52.743, 49.94 , 46.254, 49.058]]])"
            ]
          },
          "metadata": {},
          "execution_count": 5
        }
      ]
    },
    {
      "cell_type": "code",
      "source": [
        "array.shape"
      ],
      "metadata": {
        "colab": {
          "base_uri": "https://localhost:8080/"
        },
        "id": "I9R09UU_12NX",
        "outputId": "6d410abf-afd1-4f52-97d3-fe0baed6ff13"
      },
      "execution_count": null,
      "outputs": [
        {
          "output_type": "execute_result",
          "data": {
            "text/plain": [
              "(3, 5, 4)"
            ]
          },
          "metadata": {},
          "execution_count": 6
        }
      ]
    },
    {
      "cell_type": "markdown",
      "source": [
        "👆 Observe pelo `shape` que são 3 dias, 5 atletas e 4 voltas."
      ],
      "metadata": {
        "id": "b-gCnp1i14PC"
      }
    },
    {
      "cell_type": "markdown",
      "source": [
        "### Métodos de conversão"
      ],
      "metadata": {
        "id": "fiMI8I4rlAwk"
      }
    },
    {
      "cell_type": "markdown",
      "source": [
        "#### `item`"
      ],
      "metadata": {
        "id": "omCVFKrKeUq_"
      }
    },
    {
      "cell_type": "markdown",
      "source": [
        "Utilize o método `item` para recuperar o desempenho do segundo atleta no terceiro dia, na primeira volta."
      ],
      "metadata": {
        "id": "55nYAVSx9wuM"
      }
    },
    {
      "cell_type": "code",
      "source": [
        "array.item((2, 1, 0))"
      ],
      "metadata": {
        "colab": {
          "base_uri": "https://localhost:8080/"
        },
        "id": "gTHJMqYX8tBl",
        "outputId": "657dfb58-b063-4dec-b929-5a3107e7f161"
      },
      "execution_count": null,
      "outputs": [
        {
          "output_type": "execute_result",
          "data": {
            "text/plain": [
              "49.705"
            ]
          },
          "metadata": {},
          "execution_count": 7
        }
      ]
    },
    {
      "cell_type": "markdown",
      "source": [
        "#### `itemset`"
      ],
      "metadata": {
        "id": "mKv1dINreTGk"
      }
    },
    {
      "cell_type": "markdown",
      "source": [
        "Suponha que este valor tenha sido registrado errado, e que o valor correto seja 49.709. Faça a correção utilizando `itemset`, e exiba o array corrigido."
      ],
      "metadata": {
        "id": "9ncRv8oE-Mfl"
      }
    },
    {
      "cell_type": "code",
      "source": [
        "array.itemset((2, 1, 0), 49.709)"
      ],
      "metadata": {
        "id": "2fH7nrSV-YYn"
      },
      "execution_count": null,
      "outputs": []
    },
    {
      "cell_type": "code",
      "source": [
        "array"
      ],
      "metadata": {
        "colab": {
          "base_uri": "https://localhost:8080/"
        },
        "id": "U7l8aGaHU_0c",
        "outputId": "bfad2358-d79f-48c1-a6f3-8e3d98855e18"
      },
      "execution_count": null,
      "outputs": [
        {
          "output_type": "execute_result",
          "data": {
            "text/plain": [
              "array([[[51.037, 52.465, 50.991, 46.091],\n",
              "        [52.716, 51.339, 48.389, 51.743],\n",
              "        [51.094, 50.882, 50.085, 51.64 ],\n",
              "        [47.791, 49.511, 48.554, 51.797],\n",
              "        [50.119, 49.123, 47.654, 49.228]],\n",
              "\n",
              "       [[50.024, 49.173, 53.882, 53.02 ],\n",
              "        [41.867, 44.333, 49.476, 48.733],\n",
              "        [50.641, 50.652, 56.354, 46.664],\n",
              "        [48.867, 56.128, 51.94 , 51.989],\n",
              "        [48.458, 45.056, 50.502, 50.327]],\n",
              "\n",
              "       [[46.318, 47.95 , 49.784, 47.166],\n",
              "        [49.709, 50.286, 50.107, 48.481],\n",
              "        [51.781, 52.674, 50.963, 47.545],\n",
              "        [52.195, 48.496, 52.637, 46.785],\n",
              "        [52.743, 49.94 , 46.254, 49.058]]])"
            ]
          },
          "metadata": {},
          "execution_count": 9
        }
      ]
    },
    {
      "cell_type": "markdown",
      "source": [
        "Utilize `item` de novo para ter certeza de que o valor foi alterado."
      ],
      "metadata": {
        "id": "J1EBfu0wVBrt"
      }
    },
    {
      "cell_type": "code",
      "source": [
        "array.item((2, 1, 0))"
      ],
      "metadata": {
        "colab": {
          "base_uri": "https://localhost:8080/"
        },
        "id": "nTSmC6JXVGjG",
        "outputId": "2ff9949b-b5e7-4b83-8491-d1c1913c3ae9"
      },
      "execution_count": null,
      "outputs": [
        {
          "output_type": "execute_result",
          "data": {
            "text/plain": [
              "49.709"
            ]
          },
          "metadata": {},
          "execution_count": 10
        }
      ]
    },
    {
      "cell_type": "markdown",
      "source": [
        "#### `view`"
      ],
      "metadata": {
        "id": "C_Dq1bNA-iwC"
      }
    },
    {
      "cell_type": "markdown",
      "source": [
        "Gere uma view deste array, atribuindo o resultado a um novo array `array_view`."
      ],
      "metadata": {
        "id": "3WDn3s1m-n5q"
      }
    },
    {
      "cell_type": "code",
      "source": [
        "array_view = array.view()"
      ],
      "metadata": {
        "id": "YclXgqfd-bCY"
      },
      "execution_count": null,
      "outputs": []
    },
    {
      "cell_type": "markdown",
      "source": [
        "Utilize `itemset` para mudar o valor corrigido anteriormente (índice (2, 1, 0)) para seu valor original (49.705), apenas em `array_view`."
      ],
      "metadata": {
        "id": "9AJ0Kcll-6CY"
      }
    },
    {
      "cell_type": "code",
      "source": [
        "array_view.itemset((2, 1, 0), 49.705)"
      ],
      "metadata": {
        "id": "ZLPJv0f_-0_z"
      },
      "execution_count": null,
      "outputs": []
    },
    {
      "cell_type": "markdown",
      "source": [
        "Agora, utilize `item` para verificar o valor no índice (2, 1, 0) em `array` e `array_view`."
      ],
      "metadata": {
        "id": "FWmbPuUK_Xfh"
      }
    },
    {
      "cell_type": "code",
      "source": [
        "array.item((2, 1, 0))"
      ],
      "metadata": {
        "colab": {
          "base_uri": "https://localhost:8080/"
        },
        "id": "xhAw0mVM_WVv",
        "outputId": "d8b98afb-df12-443c-c4ba-ca12a2880f0d"
      },
      "execution_count": null,
      "outputs": [
        {
          "output_type": "execute_result",
          "data": {
            "text/plain": [
              "49.705"
            ]
          },
          "metadata": {},
          "execution_count": 13
        }
      ]
    },
    {
      "cell_type": "code",
      "source": [
        "array_view.item((2, 1, 0))"
      ],
      "metadata": {
        "colab": {
          "base_uri": "https://localhost:8080/"
        },
        "id": "KcnU1Pc4VNkO",
        "outputId": "7e8f4b02-9fe8-4bf7-b038-d190b10c9059"
      },
      "execution_count": null,
      "outputs": [
        {
          "output_type": "execute_result",
          "data": {
            "text/plain": [
              "49.705"
            ]
          },
          "metadata": {},
          "execution_count": 14
        }
      ]
    },
    {
      "cell_type": "markdown",
      "source": [
        "💡 Observe que, apesar de você ter feito a modificação em `array_view`, `array` também foi modificado. Isso acontece porque, sendo `array_view` uma **view** de `array`, seus dados são compartilhados."
      ],
      "metadata": {
        "id": "MmEM71sC_ijE"
      }
    },
    {
      "cell_type": "markdown",
      "source": [
        "#### `copy`"
      ],
      "metadata": {
        "id": "CR6x3MgA_7zo"
      }
    },
    {
      "cell_type": "markdown",
      "source": [
        "Agora repita o exercício anterior, mas criando uma cópia de `array`, armazenada em `array_copy`."
      ],
      "metadata": {
        "id": "yeqGD9e6_97D"
      }
    },
    {
      "cell_type": "code",
      "source": [
        "array_copy = array.copy()"
      ],
      "metadata": {
        "id": "Qowyjc0d_g7a"
      },
      "execution_count": null,
      "outputs": []
    },
    {
      "cell_type": "markdown",
      "source": [
        "Mude de novo o valor em (2, 1, 0) para 49.709, somente na cópia."
      ],
      "metadata": {
        "id": "g2Uac2YzAImP"
      }
    },
    {
      "cell_type": "code",
      "source": [
        "array_copy.itemset((2, 1, 0), 49.709)"
      ],
      "metadata": {
        "id": "tjVGObp9AHBj"
      },
      "execution_count": null,
      "outputs": []
    },
    {
      "cell_type": "markdown",
      "source": [
        "Verifique com `view` que este valor agora é diferente em `array` e `array_copy`."
      ],
      "metadata": {
        "id": "BWgjOM_XAQrD"
      }
    },
    {
      "cell_type": "code",
      "source": [
        "array.item((2, 1, 0))"
      ],
      "metadata": {
        "colab": {
          "base_uri": "https://localhost:8080/"
        },
        "id": "JiC98LPWAQBz",
        "outputId": "f868b720-9390-48ec-e0d8-4ff7833ce893"
      },
      "execution_count": null,
      "outputs": [
        {
          "output_type": "execute_result",
          "data": {
            "text/plain": [
              "49.705"
            ]
          },
          "metadata": {},
          "execution_count": 17
        }
      ]
    },
    {
      "cell_type": "code",
      "source": [
        "array_copy.item((2, 1, 0))"
      ],
      "metadata": {
        "colab": {
          "base_uri": "https://localhost:8080/"
        },
        "id": "JkhBbsfkVULT",
        "outputId": "0c6c394e-993c-41bb-c3f7-9cfcaa01a518"
      },
      "execution_count": null,
      "outputs": [
        {
          "output_type": "execute_result",
          "data": {
            "text/plain": [
              "49.709"
            ]
          },
          "metadata": {},
          "execution_count": 18
        }
      ]
    },
    {
      "cell_type": "markdown",
      "source": [
        "💡 Uma **cópia** de um array mantém dados independentes do array original."
      ],
      "metadata": {
        "id": "gzBmF_f8AZAZ"
      }
    },
    {
      "cell_type": "markdown",
      "source": [
        "### Métodos de manipulação de `shape`"
      ],
      "metadata": {
        "id": "sWYbFESslMqO"
      }
    },
    {
      "cell_type": "markdown",
      "source": [
        "#### `reshape`"
      ],
      "metadata": {
        "id": "bS9lPm4OlSmu"
      }
    },
    {
      "cell_type": "markdown",
      "source": [
        "Suponha que você precise registrar os resultados do desempenho dos atletas em uma planilha, que armazena dados em apenas 2 dimensões. A orientação que você recebeu é que cada linha da planilha deve ser correspondente a um dia, totalizando 3 linhas, e as colunas vão conter as 4 voltas do primeiro atleta, depois as 4 voltas do segundo atleta, e assim por diante, totalizando 5 atletas x 4 voltas = 20 colunas.\n",
        "\n",
        "Exiba uma versão do array nesta configuração."
      ],
      "metadata": {
        "id": "ckDcuhq4BKK2"
      }
    },
    {
      "cell_type": "code",
      "source": [
        "array.reshape(3, 20)"
      ],
      "metadata": {
        "colab": {
          "base_uri": "https://localhost:8080/"
        },
        "id": "lh0wMW2KAX7G",
        "outputId": "08bc5f30-4cf2-446c-9a0e-7d5f0d11c586"
      },
      "execution_count": null,
      "outputs": [
        {
          "output_type": "execute_result",
          "data": {
            "text/plain": [
              "array([[51.037, 52.465, 50.991, 46.091, 52.716, 51.339, 48.389, 51.743,\n",
              "        51.094, 50.882, 50.085, 51.64 , 47.791, 49.511, 48.554, 51.797,\n",
              "        50.119, 49.123, 47.654, 49.228],\n",
              "       [50.024, 49.173, 53.882, 53.02 , 41.867, 44.333, 49.476, 48.733,\n",
              "        50.641, 50.652, 56.354, 46.664, 48.867, 56.128, 51.94 , 51.989,\n",
              "        48.458, 45.056, 50.502, 50.327],\n",
              "       [46.318, 47.95 , 49.784, 47.166, 49.705, 50.286, 50.107, 48.481,\n",
              "        51.781, 52.674, 50.963, 47.545, 52.195, 48.496, 52.637, 46.785,\n",
              "        52.743, 49.94 , 46.254, 49.058]])"
            ]
          },
          "metadata": {},
          "execution_count": 19
        }
      ]
    },
    {
      "cell_type": "markdown",
      "source": [
        "#### `transpose`"
      ],
      "metadata": {
        "id": "R-5-2VDzmC3N"
      }
    },
    {
      "cell_type": "markdown",
      "source": [
        "Lembre-se que as dimensões do array representam os dias, os atletas e as voltas, nesta ordem.\n",
        "\n",
        "Utilize `transpose` para representar o array com os dados dos atletas, depois as voltas, depois os dias. Armazene o resultado em um novo `array_transpose`, exiba o array e, depois seu `shape`."
      ],
      "metadata": {
        "id": "Ba6WjLZDEAq1"
      }
    },
    {
      "cell_type": "code",
      "source": [
        "array_transpose = array.transpose((1, 2, 0))"
      ],
      "metadata": {
        "id": "lF-_KQULD04x"
      },
      "execution_count": null,
      "outputs": []
    },
    {
      "cell_type": "code",
      "source": [
        "array_transpose"
      ],
      "metadata": {
        "colab": {
          "base_uri": "https://localhost:8080/"
        },
        "id": "Atnn5HvvVioW",
        "outputId": "3de32617-e4a9-4bed-c3a3-805eece78ef6"
      },
      "execution_count": null,
      "outputs": [
        {
          "output_type": "execute_result",
          "data": {
            "text/plain": [
              "array([[[51.037, 50.024, 46.318],\n",
              "        [52.465, 49.173, 47.95 ],\n",
              "        [50.991, 53.882, 49.784],\n",
              "        [46.091, 53.02 , 47.166]],\n",
              "\n",
              "       [[52.716, 41.867, 49.705],\n",
              "        [51.339, 44.333, 50.286],\n",
              "        [48.389, 49.476, 50.107],\n",
              "        [51.743, 48.733, 48.481]],\n",
              "\n",
              "       [[51.094, 50.641, 51.781],\n",
              "        [50.882, 50.652, 52.674],\n",
              "        [50.085, 56.354, 50.963],\n",
              "        [51.64 , 46.664, 47.545]],\n",
              "\n",
              "       [[47.791, 48.867, 52.195],\n",
              "        [49.511, 56.128, 48.496],\n",
              "        [48.554, 51.94 , 52.637],\n",
              "        [51.797, 51.989, 46.785]],\n",
              "\n",
              "       [[50.119, 48.458, 52.743],\n",
              "        [49.123, 45.056, 49.94 ],\n",
              "        [47.654, 50.502, 46.254],\n",
              "        [49.228, 50.327, 49.058]]])"
            ]
          },
          "metadata": {},
          "execution_count": 21
        }
      ]
    },
    {
      "cell_type": "code",
      "source": [
        "array_transpose.shape"
      ],
      "metadata": {
        "colab": {
          "base_uri": "https://localhost:8080/"
        },
        "id": "0e6TQ3XtEdyW",
        "outputId": "50bcad48-ad66-4cf0-c1b4-3cdd59d92f95"
      },
      "execution_count": null,
      "outputs": [
        {
          "output_type": "execute_result",
          "data": {
            "text/plain": [
              "(5, 4, 3)"
            ]
          },
          "metadata": {},
          "execution_count": 22
        }
      ]
    },
    {
      "cell_type": "markdown",
      "source": [
        "👆 5 atletas, 4 voltas, 3 dias."
      ],
      "metadata": {
        "id": "XZGODHRVEnKp"
      }
    },
    {
      "cell_type": "markdown",
      "source": [
        "💡 Ou seja, a primeira linha da visualização:\n",
        "> ```\n",
        "> [51.037, 50.024, 46.318]\n",
        "> ```\n",
        "\n",
        "representa o primeiro atleta, a primeira volta, e os 3 dias."
      ],
      "metadata": {
        "id": "m6Q6_BWuFkEr"
      }
    },
    {
      "cell_type": "markdown",
      "source": [
        "#### `swapaxes`"
      ],
      "metadata": {
        "id": "rQJoh7gYpCMK"
      }
    },
    {
      "cell_type": "markdown",
      "source": [
        "A partir de `array_transpose`, agora utilize `swapaxes` para mudar os eixos de forma a representar os atletas, depois os dias, depois as voltas. Armazene o resultado em `array_swapaxes`, exiba o array e seu shape."
      ],
      "metadata": {
        "id": "mnMA6T37E0Ma"
      }
    },
    {
      "cell_type": "code",
      "source": [
        "array_swapaxes = array_transpose.swapaxes(2, 1)"
      ],
      "metadata": {
        "id": "07K7qLw-Eqls"
      },
      "execution_count": null,
      "outputs": []
    },
    {
      "cell_type": "code",
      "source": [
        "array_swapaxes"
      ],
      "metadata": {
        "colab": {
          "base_uri": "https://localhost:8080/"
        },
        "id": "7zym45C6VpwF",
        "outputId": "34e7bc8b-8fbe-4733-cf53-a3931445e06b"
      },
      "execution_count": null,
      "outputs": [
        {
          "output_type": "execute_result",
          "data": {
            "text/plain": [
              "array([[[51.037, 52.465, 50.991, 46.091],\n",
              "        [50.024, 49.173, 53.882, 53.02 ],\n",
              "        [46.318, 47.95 , 49.784, 47.166]],\n",
              "\n",
              "       [[52.716, 51.339, 48.389, 51.743],\n",
              "        [41.867, 44.333, 49.476, 48.733],\n",
              "        [49.705, 50.286, 50.107, 48.481]],\n",
              "\n",
              "       [[51.094, 50.882, 50.085, 51.64 ],\n",
              "        [50.641, 50.652, 56.354, 46.664],\n",
              "        [51.781, 52.674, 50.963, 47.545]],\n",
              "\n",
              "       [[47.791, 49.511, 48.554, 51.797],\n",
              "        [48.867, 56.128, 51.94 , 51.989],\n",
              "        [52.195, 48.496, 52.637, 46.785]],\n",
              "\n",
              "       [[50.119, 49.123, 47.654, 49.228],\n",
              "        [48.458, 45.056, 50.502, 50.327],\n",
              "        [52.743, 49.94 , 46.254, 49.058]]])"
            ]
          },
          "metadata": {},
          "execution_count": 24
        }
      ]
    },
    {
      "cell_type": "code",
      "source": [
        "array_swapaxes.shape"
      ],
      "metadata": {
        "colab": {
          "base_uri": "https://localhost:8080/"
        },
        "id": "lkAMnX3sFGgy",
        "outputId": "a8791613-ee42-4de1-dfa9-561e3fc0a625"
      },
      "execution_count": null,
      "outputs": [
        {
          "output_type": "execute_result",
          "data": {
            "text/plain": [
              "(5, 3, 4)"
            ]
          },
          "metadata": {},
          "execution_count": 25
        }
      ]
    },
    {
      "cell_type": "markdown",
      "source": [
        "👆 5 atletas, 3 dias, 4 voltas."
      ],
      "metadata": {
        "id": "c1JsYwbMFOCL"
      }
    },
    {
      "cell_type": "markdown",
      "source": [
        "💡 Ou seja, a primeira linha da visualização:\n",
        "> ```\n",
        "> [51.037, 52.465, 50.991, 46.091]\n",
        "> ```\n",
        "\n",
        "representa o primeiro atleta, o primeiro dia, as 4 voltas."
      ],
      "metadata": {
        "id": "fHtwYcX_GHa2"
      }
    },
    {
      "cell_type": "markdown",
      "source": [
        "#### `flatten` / `ravel`"
      ],
      "metadata": {
        "id": "EayyBl3PGaSW"
      }
    },
    {
      "cell_type": "markdown",
      "source": [
        "Agora suponha que você tenha que registrar os resultados em um sistema que foi programado para receber dados de forma linear, um valor por vez."
      ],
      "metadata": {
        "id": "wYw8g4oLGoF6"
      }
    },
    {
      "cell_type": "markdown",
      "source": [
        "Linearize o array utilizando `flatten` e `ravel`."
      ],
      "metadata": {
        "id": "s6AZrErcGd6y"
      }
    },
    {
      "cell_type": "code",
      "source": [
        "array.flatten()"
      ],
      "metadata": {
        "colab": {
          "base_uri": "https://localhost:8080/"
        },
        "id": "FwcfsAzGFLv1",
        "outputId": "5c8ed15a-be7a-4148-a2fa-2bb1b4db9775"
      },
      "execution_count": null,
      "outputs": [
        {
          "output_type": "execute_result",
          "data": {
            "text/plain": [
              "array([51.037, 52.465, 50.991, 46.091, 52.716, 51.339, 48.389, 51.743,\n",
              "       51.094, 50.882, 50.085, 51.64 , 47.791, 49.511, 48.554, 51.797,\n",
              "       50.119, 49.123, 47.654, 49.228, 50.024, 49.173, 53.882, 53.02 ,\n",
              "       41.867, 44.333, 49.476, 48.733, 50.641, 50.652, 56.354, 46.664,\n",
              "       48.867, 56.128, 51.94 , 51.989, 48.458, 45.056, 50.502, 50.327,\n",
              "       46.318, 47.95 , 49.784, 47.166, 49.705, 50.286, 50.107, 48.481,\n",
              "       51.781, 52.674, 50.963, 47.545, 52.195, 48.496, 52.637, 46.785,\n",
              "       52.743, 49.94 , 46.254, 49.058])"
            ]
          },
          "metadata": {},
          "execution_count": 26
        }
      ]
    },
    {
      "cell_type": "code",
      "source": [
        "array.ravel()"
      ],
      "metadata": {
        "colab": {
          "base_uri": "https://localhost:8080/"
        },
        "id": "gXxsXyX5Gi2A",
        "outputId": "5bb7e570-ae58-44f6-aaa4-bb62eb5b2f19"
      },
      "execution_count": null,
      "outputs": [
        {
          "output_type": "execute_result",
          "data": {
            "text/plain": [
              "array([51.037, 52.465, 50.991, 46.091, 52.716, 51.339, 48.389, 51.743,\n",
              "       51.094, 50.882, 50.085, 51.64 , 47.791, 49.511, 48.554, 51.797,\n",
              "       50.119, 49.123, 47.654, 49.228, 50.024, 49.173, 53.882, 53.02 ,\n",
              "       41.867, 44.333, 49.476, 48.733, 50.641, 50.652, 56.354, 46.664,\n",
              "       48.867, 56.128, 51.94 , 51.989, 48.458, 45.056, 50.502, 50.327,\n",
              "       46.318, 47.95 , 49.784, 47.166, 49.705, 50.286, 50.107, 48.481,\n",
              "       51.781, 52.674, 50.963, 47.545, 52.195, 48.496, 52.637, 46.785,\n",
              "       52.743, 49.94 , 46.254, 49.058])"
            ]
          },
          "metadata": {},
          "execution_count": 27
        }
      ]
    },
    {
      "cell_type": "markdown",
      "source": [
        "💡 Lembre-se que `flatten` retorna uma **cópia** do array, enquanto que `ravel` retorna uma **view**, que compartilha os dados do `array`, mas mantém seu próprio `shape`."
      ],
      "metadata": {
        "id": "NJehJOgVGuZH"
      }
    },
    {
      "cell_type": "markdown",
      "source": [
        "#### `squeeze`"
      ],
      "metadata": {
        "id": "26rEfgF0G950"
      }
    },
    {
      "cell_type": "markdown",
      "source": [
        "Nós podemos separar os resultados do primeiro dia em um novo array `array_first_day`, com a seguinte notação:"
      ],
      "metadata": {
        "id": "f0hWOcW7HDMT"
      }
    },
    {
      "cell_type": "code",
      "source": [
        "array_first_day = array[0:1]"
      ],
      "metadata": {
        "id": "pe4wfRaoGjl9"
      },
      "execution_count": null,
      "outputs": []
    },
    {
      "cell_type": "code",
      "source": [
        "array_first_day"
      ],
      "metadata": {
        "colab": {
          "base_uri": "https://localhost:8080/"
        },
        "id": "Nm_bRNInVzWW",
        "outputId": "3f7e90fb-f27e-44ad-d65f-adbcef8c7147"
      },
      "execution_count": null,
      "outputs": [
        {
          "output_type": "execute_result",
          "data": {
            "text/plain": [
              "array([[[51.037, 52.465, 50.991, 46.091],\n",
              "        [52.716, 51.339, 48.389, 51.743],\n",
              "        [51.094, 50.882, 50.085, 51.64 ],\n",
              "        [47.791, 49.511, 48.554, 51.797],\n",
              "        [50.119, 49.123, 47.654, 49.228]]])"
            ]
          },
          "metadata": {},
          "execution_count": 29
        }
      ]
    },
    {
      "cell_type": "code",
      "source": [
        "array_first_day.ndim, array_first_day.shape"
      ],
      "metadata": {
        "colab": {
          "base_uri": "https://localhost:8080/"
        },
        "id": "Ij0MCUtpHN1_",
        "outputId": "2f8108a0-40a7-4628-ca7d-6abffd1fa93c"
      },
      "execution_count": null,
      "outputs": [
        {
          "output_type": "execute_result",
          "data": {
            "text/plain": [
              "(3, (1, 5, 4))"
            ]
          },
          "metadata": {},
          "execution_count": 30
        }
      ]
    },
    {
      "cell_type": "markdown",
      "source": [
        "Observe que o número de dimensões (`ndim`) de `array_first_day` continua sendo igual a 3, ou seja, o mesmo de `array`. Com `shape`, nós observamos que o eixo correspondente aos dias possui um único elemento, justamente o primeiro dia selecionado."
      ],
      "metadata": {
        "id": "8r9ti08rHRRL"
      }
    },
    {
      "cell_type": "markdown",
      "source": [
        "Utilize `squeeze` para simplificar este array, removendo o eixo dos dias, já que ele contém somente um único dia. Salve o resultado em `array_squeeze`, exiba o array e, depois, seu `shape`."
      ],
      "metadata": {
        "id": "OUtEHbL4Hg4N"
      }
    },
    {
      "cell_type": "code",
      "source": [
        "array_squeeze = array_first_day.squeeze()"
      ],
      "metadata": {
        "id": "J-fC3i1aHe0y"
      },
      "execution_count": null,
      "outputs": []
    },
    {
      "cell_type": "code",
      "source": [
        "array_squeeze"
      ],
      "metadata": {
        "colab": {
          "base_uri": "https://localhost:8080/"
        },
        "id": "T0WZeB-VWBdN",
        "outputId": "2de4de0e-5c29-49d6-a508-beb4da52513d"
      },
      "execution_count": null,
      "outputs": [
        {
          "output_type": "execute_result",
          "data": {
            "text/plain": [
              "array([[51.037, 52.465, 50.991, 46.091],\n",
              "       [52.716, 51.339, 48.389, 51.743],\n",
              "       [51.094, 50.882, 50.085, 51.64 ],\n",
              "       [47.791, 49.511, 48.554, 51.797],\n",
              "       [50.119, 49.123, 47.654, 49.228]])"
            ]
          },
          "metadata": {},
          "execution_count": 32
        }
      ]
    },
    {
      "cell_type": "markdown",
      "source": [
        "👆 Veja que tem um par de colchetes a menos, o que indica a redução de 1 eixo."
      ],
      "metadata": {
        "id": "I5A825vnH9ZU"
      }
    },
    {
      "cell_type": "code",
      "source": [
        "array_squeeze.shape"
      ],
      "metadata": {
        "colab": {
          "base_uri": "https://localhost:8080/"
        },
        "id": "vQs7xQ5zH1QH",
        "outputId": "729ab194-fee2-49b8-aabc-68524cb5c8c0"
      },
      "execution_count": null,
      "outputs": [
        {
          "output_type": "execute_result",
          "data": {
            "text/plain": [
              "(5, 4)"
            ]
          },
          "metadata": {},
          "execution_count": 33
        }
      ]
    },
    {
      "cell_type": "markdown",
      "source": [
        "👆 O eixo correspondente ao dia, de tamanho 1, foi removido."
      ],
      "metadata": {
        "id": "MYPsrUGYIqcc"
      }
    },
    {
      "cell_type": "markdown",
      "source": [
        "### Métodos de seleção e manipulação de itens"
      ],
      "metadata": {
        "id": "MBMInYBNRzBv"
      }
    },
    {
      "cell_type": "markdown",
      "source": [
        "#### `take`"
      ],
      "metadata": {
        "id": "jAsIIZnUR3Sm"
      }
    },
    {
      "cell_type": "markdown",
      "source": [
        "Agora considere que os dados em `array` se referem ao mesmo atleta. O primeiro eixo continua representando 3 dias diferentes, o último representa as 4 voltas de uma prova, mas o segundo eixo representa 5 provas completas do mesmo atleta. Ou seja, `array` agora contém dados consecutivos do mesmo atleta.\n",
        "\n",
        "Suponha que, assim que terminou as provas, o atleta se queixou de dor no joelho nas voltas de número 12, 25, 31 e 40. Utilizando `take`, recupere o desempenho do atleta nessas voltas."
      ],
      "metadata": {
        "id": "QDN17sUNSLI7"
      }
    },
    {
      "cell_type": "code",
      "source": [
        "array.take(indices=[12, 25, 31, 40])"
      ],
      "metadata": {
        "id": "eEDWh2cJH2hb",
        "colab": {
          "base_uri": "https://localhost:8080/"
        },
        "outputId": "23eec57e-aba5-4760-b316-ce8741811c71"
      },
      "execution_count": null,
      "outputs": [
        {
          "output_type": "execute_result",
          "data": {
            "text/plain": [
              "array([47.791, 44.333, 46.664, 46.318])"
            ]
          },
          "metadata": {},
          "execution_count": 34
        }
      ]
    },
    {
      "cell_type": "markdown",
      "source": [
        "Mas o atleta foi mais específico e disse que, nas voltas 12 e 31, a dor foi no joelho direito, e nas voltas 25 e 40, a dor foi no joelho esquerdo. Utilizando `take`, recupere essas voltas novamente, mas de forma a obter os resultados como um array onde a primeira linha se refira ao joelho direito, e a segunda ao joelho esquerdo."
      ],
      "metadata": {
        "id": "HpyQqDo4UAVM"
      }
    },
    {
      "cell_type": "code",
      "source": [
        "array.take(indices=[[12, 31],\n",
        "                    [25, 40]])"
      ],
      "metadata": {
        "colab": {
          "base_uri": "https://localhost:8080/"
        },
        "id": "MTuIHaMST-3A",
        "outputId": "fb41e5ec-43c1-40a6-c65e-9b3dbde91f5c"
      },
      "execution_count": null,
      "outputs": [
        {
          "output_type": "execute_result",
          "data": {
            "text/plain": [
              "array([[47.791, 46.664],\n",
              "       [44.333, 46.318]])"
            ]
          },
          "metadata": {},
          "execution_count": 35
        }
      ]
    },
    {
      "cell_type": "markdown",
      "source": [
        "#### `put`"
      ],
      "metadata": {
        "id": "rv4RA7cBUjhy"
      }
    },
    {
      "cell_type": "markdown",
      "source": [
        "Com base no que o atleta reportou, seu treinador decidiu desconsiderar o desempenho do atleta nas voltas onde ele se queixou de dor. Utilize `put` para mudar estes valores para a variável `np.nan`, que representa valores nulos em um array do NumPy. Depois, exiba o array modificado."
      ],
      "metadata": {
        "id": "EG1kesCHUnp-"
      }
    },
    {
      "cell_type": "code",
      "source": [
        "array.put(indices=[12, 25, 31, 40], values = np.nan)"
      ],
      "metadata": {
        "id": "j-Pq7nW3UZGp"
      },
      "execution_count": null,
      "outputs": []
    },
    {
      "cell_type": "code",
      "source": [
        "array"
      ],
      "metadata": {
        "colab": {
          "base_uri": "https://localhost:8080/"
        },
        "id": "OF5UUu08WVDN",
        "outputId": "5e32f99e-82e9-4d3a-b627-702bf9ad490f"
      },
      "execution_count": null,
      "outputs": [
        {
          "output_type": "execute_result",
          "data": {
            "text/plain": [
              "array([[[51.037, 52.465, 50.991, 46.091],\n",
              "        [52.716, 51.339, 48.389, 51.743],\n",
              "        [51.094, 50.882, 50.085, 51.64 ],\n",
              "        [   nan, 49.511, 48.554, 51.797],\n",
              "        [50.119, 49.123, 47.654, 49.228]],\n",
              "\n",
              "       [[50.024, 49.173, 53.882, 53.02 ],\n",
              "        [41.867,    nan, 49.476, 48.733],\n",
              "        [50.641, 50.652, 56.354,    nan],\n",
              "        [48.867, 56.128, 51.94 , 51.989],\n",
              "        [48.458, 45.056, 50.502, 50.327]],\n",
              "\n",
              "       [[   nan, 47.95 , 49.784, 47.166],\n",
              "        [49.705, 50.286, 50.107, 48.481],\n",
              "        [51.781, 52.674, 50.963, 47.545],\n",
              "        [52.195, 48.496, 52.637, 46.785],\n",
              "        [52.743, 49.94 , 46.254, 49.058]]])"
            ]
          },
          "metadata": {},
          "execution_count": 37
        }
      ]
    },
    {
      "cell_type": "markdown",
      "source": [
        "#### `repeat`\n",
        "\n",
        "Repita os valores do array para que eles sejam duplicados (`repeat = 2`), ao longo do eixo 0, 1 e 2, separadamente.\n",
        "\n",
        "Depois, exiba o array para inspecionar onde ocorreu a repetição. Exiba também o `shape` do array para observar a alteração feita."
      ],
      "metadata": {
        "id": "mJX772smVsDl"
      }
    },
    {
      "cell_type": "code",
      "source": [
        "array_repeat_axis_0 = array.repeat(repeats=2, axis=0)"
      ],
      "metadata": {
        "id": "Xh3MJrSMVg5i"
      },
      "execution_count": null,
      "outputs": []
    },
    {
      "cell_type": "code",
      "source": [
        "array_repeat_axis_0"
      ],
      "metadata": {
        "colab": {
          "base_uri": "https://localhost:8080/"
        },
        "id": "yIBXvRLfWP8f",
        "outputId": "c5f9f64a-351b-4495-c249-cc850102bfad"
      },
      "execution_count": null,
      "outputs": [
        {
          "output_type": "execute_result",
          "data": {
            "text/plain": [
              "array([[[51.037, 52.465, 50.991, 46.091],\n",
              "        [52.716, 51.339, 48.389, 51.743],\n",
              "        [51.094, 50.882, 50.085, 51.64 ],\n",
              "        [   nan, 49.511, 48.554, 51.797],\n",
              "        [50.119, 49.123, 47.654, 49.228]],\n",
              "\n",
              "       [[51.037, 52.465, 50.991, 46.091],\n",
              "        [52.716, 51.339, 48.389, 51.743],\n",
              "        [51.094, 50.882, 50.085, 51.64 ],\n",
              "        [   nan, 49.511, 48.554, 51.797],\n",
              "        [50.119, 49.123, 47.654, 49.228]],\n",
              "\n",
              "       [[50.024, 49.173, 53.882, 53.02 ],\n",
              "        [41.867,    nan, 49.476, 48.733],\n",
              "        [50.641, 50.652, 56.354,    nan],\n",
              "        [48.867, 56.128, 51.94 , 51.989],\n",
              "        [48.458, 45.056, 50.502, 50.327]],\n",
              "\n",
              "       [[50.024, 49.173, 53.882, 53.02 ],\n",
              "        [41.867,    nan, 49.476, 48.733],\n",
              "        [50.641, 50.652, 56.354,    nan],\n",
              "        [48.867, 56.128, 51.94 , 51.989],\n",
              "        [48.458, 45.056, 50.502, 50.327]],\n",
              "\n",
              "       [[   nan, 47.95 , 49.784, 47.166],\n",
              "        [49.705, 50.286, 50.107, 48.481],\n",
              "        [51.781, 52.674, 50.963, 47.545],\n",
              "        [52.195, 48.496, 52.637, 46.785],\n",
              "        [52.743, 49.94 , 46.254, 49.058]],\n",
              "\n",
              "       [[   nan, 47.95 , 49.784, 47.166],\n",
              "        [49.705, 50.286, 50.107, 48.481],\n",
              "        [51.781, 52.674, 50.963, 47.545],\n",
              "        [52.195, 48.496, 52.637, 46.785],\n",
              "        [52.743, 49.94 , 46.254, 49.058]]])"
            ]
          },
          "metadata": {},
          "execution_count": 179
        }
      ]
    },
    {
      "cell_type": "code",
      "source": [
        "array_repeat_axis_0.shape"
      ],
      "metadata": {
        "colab": {
          "base_uri": "https://localhost:8080/"
        },
        "id": "E93uyKKHWSON",
        "outputId": "f434e17b-1551-4b1d-f2a0-43e825482ede"
      },
      "execution_count": null,
      "outputs": [
        {
          "output_type": "execute_result",
          "data": {
            "text/plain": [
              "(6, 5, 4)"
            ]
          },
          "metadata": {},
          "execution_count": 39
        }
      ]
    },
    {
      "cell_type": "markdown",
      "source": [
        "👆 Veja que os dados correspondentes aos dias foram duplicados."
      ],
      "metadata": {
        "id": "rMEXXJFgWZ35"
      }
    },
    {
      "cell_type": "code",
      "source": [
        "array_repeat_axis_1 = array.repeat(repeats=2, axis=1)"
      ],
      "metadata": {
        "id": "MlH1rHWgWinA"
      },
      "execution_count": null,
      "outputs": []
    },
    {
      "cell_type": "code",
      "source": [
        "array_repeat_axis_1"
      ],
      "metadata": {
        "colab": {
          "base_uri": "https://localhost:8080/"
        },
        "outputId": "ec6e2c35-56ca-4c29-c6fc-489b52fad1ef",
        "id": "T-QCAcnDWinC"
      },
      "execution_count": null,
      "outputs": [
        {
          "output_type": "execute_result",
          "data": {
            "text/plain": [
              "array([[[51.037, 52.465, 50.991, 46.091],\n",
              "        [51.037, 52.465, 50.991, 46.091],\n",
              "        [52.716, 51.339, 48.389, 51.743],\n",
              "        [52.716, 51.339, 48.389, 51.743],\n",
              "        [51.094, 50.882, 50.085, 51.64 ],\n",
              "        [51.094, 50.882, 50.085, 51.64 ],\n",
              "        [   nan, 49.511, 48.554, 51.797],\n",
              "        [   nan, 49.511, 48.554, 51.797],\n",
              "        [50.119, 49.123, 47.654, 49.228],\n",
              "        [50.119, 49.123, 47.654, 49.228]],\n",
              "\n",
              "       [[50.024, 49.173, 53.882, 53.02 ],\n",
              "        [50.024, 49.173, 53.882, 53.02 ],\n",
              "        [41.867,    nan, 49.476, 48.733],\n",
              "        [41.867,    nan, 49.476, 48.733],\n",
              "        [50.641, 50.652, 56.354,    nan],\n",
              "        [50.641, 50.652, 56.354,    nan],\n",
              "        [48.867, 56.128, 51.94 , 51.989],\n",
              "        [48.867, 56.128, 51.94 , 51.989],\n",
              "        [48.458, 45.056, 50.502, 50.327],\n",
              "        [48.458, 45.056, 50.502, 50.327]],\n",
              "\n",
              "       [[   nan, 47.95 , 49.784, 47.166],\n",
              "        [   nan, 47.95 , 49.784, 47.166],\n",
              "        [49.705, 50.286, 50.107, 48.481],\n",
              "        [49.705, 50.286, 50.107, 48.481],\n",
              "        [51.781, 52.674, 50.963, 47.545],\n",
              "        [51.781, 52.674, 50.963, 47.545],\n",
              "        [52.195, 48.496, 52.637, 46.785],\n",
              "        [52.195, 48.496, 52.637, 46.785],\n",
              "        [52.743, 49.94 , 46.254, 49.058],\n",
              "        [52.743, 49.94 , 46.254, 49.058]]])"
            ]
          },
          "metadata": {},
          "execution_count": 41
        }
      ]
    },
    {
      "cell_type": "code",
      "source": [
        "array_repeat_axis_1.shape"
      ],
      "metadata": {
        "colab": {
          "base_uri": "https://localhost:8080/"
        },
        "outputId": "0c80653a-6d5b-4194-ff6d-b889ecb29352",
        "id": "1Mm3G9dAWinI"
      },
      "execution_count": null,
      "outputs": [
        {
          "output_type": "execute_result",
          "data": {
            "text/plain": [
              "(3, 10, 4)"
            ]
          },
          "metadata": {},
          "execution_count": 42
        }
      ]
    },
    {
      "cell_type": "markdown",
      "source": [
        "👆 Veja que os dados correspondentes às provas foram duplicados."
      ],
      "metadata": {
        "id": "y9s2J6rYWwPW"
      }
    },
    {
      "cell_type": "code",
      "source": [
        "array_repeat_axis_2 = array.repeat(repeats=2, axis=2)"
      ],
      "metadata": {
        "id": "T8REchlhW29U"
      },
      "execution_count": null,
      "outputs": []
    },
    {
      "cell_type": "code",
      "source": [
        "array_repeat_axis_2"
      ],
      "metadata": {
        "colab": {
          "base_uri": "https://localhost:8080/"
        },
        "outputId": "ab432625-dafb-44bb-a117-33b76f40554b",
        "id": "nHCT3XixW29W"
      },
      "execution_count": null,
      "outputs": [
        {
          "output_type": "execute_result",
          "data": {
            "text/plain": [
              "array([[[51.037, 51.037, 52.465, 52.465, 50.991, 50.991, 46.091, 46.091],\n",
              "        [52.716, 52.716, 51.339, 51.339, 48.389, 48.389, 51.743, 51.743],\n",
              "        [51.094, 51.094, 50.882, 50.882, 50.085, 50.085, 51.64 , 51.64 ],\n",
              "        [   nan,    nan, 49.511, 49.511, 48.554, 48.554, 51.797, 51.797],\n",
              "        [50.119, 50.119, 49.123, 49.123, 47.654, 47.654, 49.228, 49.228]],\n",
              "\n",
              "       [[50.024, 50.024, 49.173, 49.173, 53.882, 53.882, 53.02 , 53.02 ],\n",
              "        [41.867, 41.867,    nan,    nan, 49.476, 49.476, 48.733, 48.733],\n",
              "        [50.641, 50.641, 50.652, 50.652, 56.354, 56.354,    nan,    nan],\n",
              "        [48.867, 48.867, 56.128, 56.128, 51.94 , 51.94 , 51.989, 51.989],\n",
              "        [48.458, 48.458, 45.056, 45.056, 50.502, 50.502, 50.327, 50.327]],\n",
              "\n",
              "       [[   nan,    nan, 47.95 , 47.95 , 49.784, 49.784, 47.166, 47.166],\n",
              "        [49.705, 49.705, 50.286, 50.286, 50.107, 50.107, 48.481, 48.481],\n",
              "        [51.781, 51.781, 52.674, 52.674, 50.963, 50.963, 47.545, 47.545],\n",
              "        [52.195, 52.195, 48.496, 48.496, 52.637, 52.637, 46.785, 46.785],\n",
              "        [52.743, 52.743, 49.94 , 49.94 , 46.254, 46.254, 49.058, 49.058]]])"
            ]
          },
          "metadata": {},
          "execution_count": 44
        }
      ]
    },
    {
      "cell_type": "code",
      "source": [
        "array_repeat_axis_2.shape"
      ],
      "metadata": {
        "colab": {
          "base_uri": "https://localhost:8080/"
        },
        "outputId": "bf96c78e-9f0b-4c20-a08f-a2889be1d10e",
        "id": "CFwT23nuW29W"
      },
      "execution_count": null,
      "outputs": [
        {
          "output_type": "execute_result",
          "data": {
            "text/plain": [
              "(3, 5, 8)"
            ]
          },
          "metadata": {},
          "execution_count": 45
        }
      ]
    },
    {
      "cell_type": "markdown",
      "source": [
        "👆 Veja que os dados correspondentes às voltas foram duplicados."
      ],
      "metadata": {
        "id": "7WfsEy8qW9Sg"
      }
    },
    {
      "cell_type": "markdown",
      "source": [
        "#### `sort`"
      ],
      "metadata": {
        "id": "qyaDsY-CXQKl"
      }
    },
    {
      "cell_type": "markdown",
      "source": [
        "Primeiro, crie uma cópia de `array`, já que `sort` altera o array *inplace*.\n",
        "\n",
        "Depois, utilize `sort` para ordenar o array ao longo do eixo 0. Exiba o array ordenado para observar o que aconteceu."
      ],
      "metadata": {
        "id": "xuJHaOa2XWkL"
      }
    },
    {
      "cell_type": "code",
      "source": [
        "array_copy = array.copy()"
      ],
      "metadata": {
        "id": "hNITNTujWWLL"
      },
      "execution_count": null,
      "outputs": []
    },
    {
      "cell_type": "code",
      "source": [
        "array_copy.sort(axis=0)"
      ],
      "metadata": {
        "id": "gxWmOVo2XtmB"
      },
      "execution_count": null,
      "outputs": []
    },
    {
      "cell_type": "code",
      "source": [
        "array_copy"
      ],
      "metadata": {
        "colab": {
          "base_uri": "https://localhost:8080/"
        },
        "id": "olFR5axZXv9f",
        "outputId": "1e702e15-b224-4040-ea7a-daa48db19147"
      },
      "execution_count": null,
      "outputs": [
        {
          "output_type": "execute_result",
          "data": {
            "text/plain": [
              "array([[[50.024, 47.95 , 49.784, 46.091],\n",
              "        [41.867, 50.286, 48.389, 48.481],\n",
              "        [50.641, 50.652, 50.085, 47.545],\n",
              "        [48.867, 48.496, 48.554, 46.785],\n",
              "        [48.458, 45.056, 46.254, 49.058]],\n",
              "\n",
              "       [[51.037, 49.173, 50.991, 47.166],\n",
              "        [49.705, 51.339, 49.476, 48.733],\n",
              "        [51.094, 50.882, 50.963, 51.64 ],\n",
              "        [52.195, 49.511, 51.94 , 51.797],\n",
              "        [50.119, 49.123, 47.654, 49.228]],\n",
              "\n",
              "       [[   nan, 52.465, 53.882, 53.02 ],\n",
              "        [52.716,    nan, 50.107, 51.743],\n",
              "        [51.781, 52.674, 56.354,    nan],\n",
              "        [   nan, 56.128, 52.637, 51.989],\n",
              "        [52.743, 49.94 , 50.502, 50.327]]])"
            ]
          },
          "metadata": {},
          "execution_count": 48
        }
      ]
    },
    {
      "cell_type": "markdown",
      "source": [
        "👆 Observe que, ao longo dos dias, os valores estão ordenados de forma crescente: `50.024 -> 51.037 -> nan`, `47.95 -> 49.173 -> 52.465`...\n",
        "\n",
        "Também observe que o NumPy coloca `nan` no **final** da ordem; todos os valores `nan` estão no terceiro elemento do eixo 0."
      ],
      "metadata": {
        "id": "Mbe5KJAOYFCe"
      }
    },
    {
      "cell_type": "markdown",
      "source": [
        "Agora repita o procedimento, copiando o array e depois ordenando ao longo do eixo 1."
      ],
      "metadata": {
        "id": "8GDB07H5XEoE"
      }
    },
    {
      "cell_type": "code",
      "source": [
        "array_copy = array.copy()"
      ],
      "metadata": {
        "id": "NzDC2jd-YqVt"
      },
      "execution_count": null,
      "outputs": []
    },
    {
      "cell_type": "code",
      "source": [
        "array_copy.sort(axis=1)"
      ],
      "metadata": {
        "id": "syIm3BktYqVu"
      },
      "execution_count": null,
      "outputs": []
    },
    {
      "cell_type": "code",
      "source": [
        "array_copy"
      ],
      "metadata": {
        "colab": {
          "base_uri": "https://localhost:8080/"
        },
        "outputId": "d67b70f8-3f1a-4d5d-83e5-0b2ab1342cdd",
        "id": "K77uuB8PYqVv"
      },
      "execution_count": null,
      "outputs": [
        {
          "output_type": "execute_result",
          "data": {
            "text/plain": [
              "array([[[50.119, 49.123, 47.654, 46.091],\n",
              "        [51.037, 49.511, 48.389, 49.228],\n",
              "        [51.094, 50.882, 48.554, 51.64 ],\n",
              "        [52.716, 51.339, 50.085, 51.743],\n",
              "        [   nan, 52.465, 50.991, 51.797]],\n",
              "\n",
              "       [[41.867, 45.056, 49.476, 48.733],\n",
              "        [48.458, 49.173, 50.502, 50.327],\n",
              "        [48.867, 50.652, 51.94 , 51.989],\n",
              "        [50.024, 56.128, 53.882, 53.02 ],\n",
              "        [50.641,    nan, 56.354,    nan]],\n",
              "\n",
              "       [[49.705, 47.95 , 46.254, 46.785],\n",
              "        [51.781, 48.496, 49.784, 47.166],\n",
              "        [52.195, 49.94 , 50.107, 47.545],\n",
              "        [52.743, 50.286, 50.963, 48.481],\n",
              "        [   nan, 52.674, 52.637, 49.058]]])"
            ]
          },
          "metadata": {},
          "execution_count": 51
        }
      ]
    },
    {
      "cell_type": "markdown",
      "source": [
        "👆 Agora, a ordenação ocorre ao longo das provas (que na visualização correspondem às colunas): `50.119 -> 51.037 -> 51.094 -> 52.716 -> nan`...\n",
        "\n",
        "Desta vez, os valores `nan` estão no último elemento do eixo 1 (última linha de cada array que representa os dias)."
      ],
      "metadata": {
        "id": "bA0cpbS8YyVK"
      }
    },
    {
      "cell_type": "markdown",
      "source": [
        "Repita mais uma vez, copiando o array e depois ordenando ao longo do eixo 2."
      ],
      "metadata": {
        "id": "ok5nzOqZXRD9"
      }
    },
    {
      "cell_type": "code",
      "source": [
        "array_copy = array.copy()"
      ],
      "metadata": {
        "id": "XP5AiSwTXRD-"
      },
      "execution_count": null,
      "outputs": []
    },
    {
      "cell_type": "code",
      "source": [
        "array_copy.sort(axis=2)"
      ],
      "metadata": {
        "id": "IrE_8AEVXRD_"
      },
      "execution_count": null,
      "outputs": []
    },
    {
      "cell_type": "code",
      "source": [
        "array_copy"
      ],
      "metadata": {
        "colab": {
          "base_uri": "https://localhost:8080/"
        },
        "outputId": "7af65e53-f9f4-4ee3-bb3a-db75758b193f",
        "id": "eE99UqMqXREA"
      },
      "execution_count": null,
      "outputs": [
        {
          "output_type": "execute_result",
          "data": {
            "text/plain": [
              "array([[[46.091, 50.991, 51.037, 52.465],\n",
              "        [48.389, 51.339, 51.743, 52.716],\n",
              "        [50.085, 50.882, 51.094, 51.64 ],\n",
              "        [48.554, 49.511, 51.797,    nan],\n",
              "        [47.654, 49.123, 49.228, 50.119]],\n",
              "\n",
              "       [[49.173, 50.024, 53.02 , 53.882],\n",
              "        [41.867, 48.733, 49.476,    nan],\n",
              "        [50.641, 50.652, 56.354,    nan],\n",
              "        [48.867, 51.94 , 51.989, 56.128],\n",
              "        [45.056, 48.458, 50.327, 50.502]],\n",
              "\n",
              "       [[47.166, 47.95 , 49.784,    nan],\n",
              "        [48.481, 49.705, 50.107, 50.286],\n",
              "        [47.545, 50.963, 51.781, 52.674],\n",
              "        [46.785, 48.496, 52.195, 52.637],\n",
              "        [46.254, 49.058, 49.94 , 52.743]]])"
            ]
          },
          "metadata": {},
          "execution_count": 54
        }
      ]
    },
    {
      "cell_type": "markdown",
      "source": [
        "👆 A ordenação ocorre ao longo das voltas (que na visualização correspondem às linhas): `46.091 -> 50.991 -> 51.037 -> 52.465`...\n",
        "\n",
        "Desta vez, os valores `nan` estão no último elemento do eixo 2 (última coluna  de cada array que representa os dias)."
      ],
      "metadata": {
        "id": "04Uf8tkYXYCp"
      }
    },
    {
      "cell_type": "markdown",
      "source": [
        "#### `argsort`"
      ],
      "metadata": {
        "id": "Nyacp0JcZep_"
      }
    },
    {
      "cell_type": "markdown",
      "source": [
        "Repita o exercício com `sort`, mas agora, ao invés de ordenar os valores *inplace*, recupere e exiba os índices necessários para ordenar o array. Isto é feito com o método `argsort`.\n",
        "\n",
        "Desta vez, como não há modificação do array, você não precisa da cópia."
      ],
      "metadata": {
        "id": "n2OmEc8AZg-I"
      }
    },
    {
      "cell_type": "code",
      "source": [
        "indices_axis_0 = array.argsort(axis=0)"
      ],
      "metadata": {
        "id": "uS_B3Y7XXwj6"
      },
      "execution_count": null,
      "outputs": []
    },
    {
      "cell_type": "code",
      "source": [
        "indices_axis_0"
      ],
      "metadata": {
        "colab": {
          "base_uri": "https://localhost:8080/"
        },
        "id": "3rOG5MjVZwDu",
        "outputId": "ad1513aa-2861-445a-95b4-d47a5812a800"
      },
      "execution_count": null,
      "outputs": [
        {
          "output_type": "execute_result",
          "data": {
            "text/plain": [
              "array([[[1, 2, 2, 0],\n",
              "        [1, 2, 0, 2],\n",
              "        [1, 1, 0, 2],\n",
              "        [1, 2, 0, 2],\n",
              "        [1, 1, 2, 2]],\n",
              "\n",
              "       [[0, 1, 0, 2],\n",
              "        [2, 0, 1, 1],\n",
              "        [0, 0, 2, 0],\n",
              "        [2, 0, 1, 0],\n",
              "        [0, 0, 0, 0]],\n",
              "\n",
              "       [[2, 0, 1, 1],\n",
              "        [0, 1, 2, 0],\n",
              "        [2, 2, 1, 1],\n",
              "        [0, 1, 2, 1],\n",
              "        [2, 2, 1, 1]]])"
            ]
          },
          "metadata": {},
          "execution_count": 56
        }
      ]
    },
    {
      "cell_type": "markdown",
      "source": [
        "👆 Observe que o valor máximo neste array que representa os índices é 2, porque o eixo 0 só contém 3 elementos (3 dias)."
      ],
      "metadata": {
        "id": "pj66wYaGZzfw"
      }
    },
    {
      "cell_type": "code",
      "source": [
        "indices_axis_1 = array.argsort(axis=1)"
      ],
      "metadata": {
        "id": "bJmVm401Z_y5"
      },
      "execution_count": null,
      "outputs": []
    },
    {
      "cell_type": "code",
      "source": [
        "indices_axis_1"
      ],
      "metadata": {
        "colab": {
          "base_uri": "https://localhost:8080/"
        },
        "outputId": "db5ca2f1-f3e9-46bc-d164-6bbd3166984a",
        "id": "dSaUMOMZZ_y6"
      },
      "execution_count": null,
      "outputs": [
        {
          "output_type": "execute_result",
          "data": {
            "text/plain": [
              "array([[[4, 4, 4, 0],\n",
              "        [0, 3, 1, 4],\n",
              "        [2, 2, 3, 2],\n",
              "        [1, 1, 2, 1],\n",
              "        [3, 0, 0, 3]],\n",
              "\n",
              "       [[1, 4, 1, 1],\n",
              "        [4, 0, 4, 4],\n",
              "        [3, 2, 3, 3],\n",
              "        [0, 3, 0, 0],\n",
              "        [2, 1, 2, 2]],\n",
              "\n",
              "       [[1, 0, 4, 3],\n",
              "        [2, 3, 0, 0],\n",
              "        [3, 4, 1, 2],\n",
              "        [4, 1, 2, 1],\n",
              "        [0, 2, 3, 4]]])"
            ]
          },
          "metadata": {},
          "execution_count": 58
        }
      ]
    },
    {
      "cell_type": "markdown",
      "source": [
        "👆 Agora o valor máximo é 4, pois o eixo 1 tem 5 elementos (5 atletas)."
      ],
      "metadata": {
        "id": "ZbhKDrUGaCxa"
      }
    },
    {
      "cell_type": "code",
      "source": [
        "indices_axis_2 = array.argsort(axis=2)"
      ],
      "metadata": {
        "id": "uIhAsL6eX5-Q"
      },
      "execution_count": null,
      "outputs": []
    },
    {
      "cell_type": "code",
      "source": [
        "indices_axis_2"
      ],
      "metadata": {
        "colab": {
          "base_uri": "https://localhost:8080/"
        },
        "outputId": "addc4ac7-34a4-4291-e6ff-457bf9e644ed",
        "id": "M64Fsv0-X5-g"
      },
      "execution_count": null,
      "outputs": [
        {
          "output_type": "execute_result",
          "data": {
            "text/plain": [
              "array([[[3, 2, 0, 1],\n",
              "        [2, 1, 3, 0],\n",
              "        [2, 1, 0, 3],\n",
              "        [2, 1, 3, 0],\n",
              "        [2, 1, 3, 0]],\n",
              "\n",
              "       [[1, 0, 3, 2],\n",
              "        [0, 3, 2, 1],\n",
              "        [0, 1, 2, 3],\n",
              "        [0, 2, 3, 1],\n",
              "        [1, 0, 3, 2]],\n",
              "\n",
              "       [[3, 1, 2, 0],\n",
              "        [3, 0, 2, 1],\n",
              "        [3, 2, 0, 1],\n",
              "        [3, 1, 0, 2],\n",
              "        [2, 3, 1, 0]]])"
            ]
          },
          "metadata": {},
          "execution_count": 60
        }
      ]
    },
    {
      "cell_type": "markdown",
      "source": [
        "👆 O valor máximo é 3, pois o eixo 2 tem 4 elementos (4 voltas)."
      ],
      "metadata": {
        "id": "PebMHT6FX5-h"
      }
    },
    {
      "cell_type": "markdown",
      "source": [
        "#### `searchsorted`"
      ],
      "metadata": {
        "id": "SgS_GAXIaLzy"
      }
    },
    {
      "cell_type": "markdown",
      "source": [
        "Este método só funciona para arrays 1D que já estejam ordenados.\n",
        "\n",
        "Então, primeiro linearize `array` com `flatten`, depois ordene com `sort` (lembre-se que o método `sort` altera o array *inplace*, ou seja, ele não retorna nada, então você não precisa armazenar o resultado em uma nova variável), e utilize indexação para recuperar os primeiros 15 elementos."
      ],
      "metadata": {
        "id": "JPSHH5xuaZ3r"
      }
    },
    {
      "cell_type": "code",
      "source": [
        "array_flatten = array.flatten()"
      ],
      "metadata": {
        "id": "6su6Be8NZxUF"
      },
      "execution_count": null,
      "outputs": []
    },
    {
      "cell_type": "code",
      "source": [
        "array_flatten"
      ],
      "metadata": {
        "colab": {
          "base_uri": "https://localhost:8080/"
        },
        "id": "m0hzyOWdxJVF",
        "outputId": "b1a90b16-c8f1-4229-ab12-fbdb2d7bf65e"
      },
      "execution_count": null,
      "outputs": [
        {
          "output_type": "execute_result",
          "data": {
            "text/plain": [
              "array([51.037, 52.465, 50.991, 46.091, 52.716, 51.339, 48.389, 51.743,\n",
              "       51.094, 50.882, 50.085, 51.64 ,    nan, 49.511, 48.554, 51.797,\n",
              "       50.119, 49.123, 47.654, 49.228, 50.024, 49.173, 53.882, 53.02 ,\n",
              "       41.867,    nan, 49.476, 48.733, 50.641, 50.652, 56.354,    nan,\n",
              "       48.867, 56.128, 51.94 , 51.989, 48.458, 45.056, 50.502, 50.327,\n",
              "          nan, 47.95 , 49.784, 47.166, 49.705, 50.286, 50.107, 48.481,\n",
              "       51.781, 52.674, 50.963, 47.545, 52.195, 48.496, 52.637, 46.785,\n",
              "       52.743, 49.94 , 46.254, 49.058])"
            ]
          },
          "metadata": {},
          "execution_count": 62
        }
      ]
    },
    {
      "cell_type": "code",
      "source": [
        "array_flatten.sort()"
      ],
      "metadata": {
        "id": "ty6RKS7xat9X"
      },
      "execution_count": null,
      "outputs": []
    },
    {
      "cell_type": "code",
      "source": [
        "array_flatten"
      ],
      "metadata": {
        "colab": {
          "base_uri": "https://localhost:8080/"
        },
        "id": "G9di-mmTxNO0",
        "outputId": "7f495417-532a-4f9a-daef-57ae133c1947"
      },
      "execution_count": null,
      "outputs": [
        {
          "output_type": "execute_result",
          "data": {
            "text/plain": [
              "array([41.867, 45.056, 46.091, 46.254, 46.785, 47.166, 47.545, 47.654,\n",
              "       47.95 , 48.389, 48.458, 48.481, 48.496, 48.554, 48.733, 48.867,\n",
              "       49.058, 49.123, 49.173, 49.228, 49.476, 49.511, 49.705, 49.784,\n",
              "       49.94 , 50.024, 50.085, 50.107, 50.119, 50.286, 50.327, 50.502,\n",
              "       50.641, 50.652, 50.882, 50.963, 50.991, 51.037, 51.094, 51.339,\n",
              "       51.64 , 51.743, 51.781, 51.797, 51.94 , 51.989, 52.195, 52.465,\n",
              "       52.637, 52.674, 52.716, 52.743, 53.02 , 53.882, 56.128, 56.354,\n",
              "          nan,    nan,    nan,    nan])"
            ]
          },
          "metadata": {},
          "execution_count": 64
        }
      ]
    },
    {
      "cell_type": "code",
      "source": [
        "array_filtered = array_flatten[:15]"
      ],
      "metadata": {
        "id": "vMal93qfavv4"
      },
      "execution_count": null,
      "outputs": []
    },
    {
      "cell_type": "code",
      "source": [
        "array_filtered"
      ],
      "metadata": {
        "colab": {
          "base_uri": "https://localhost:8080/"
        },
        "id": "h16GWEU_ayrO",
        "outputId": "7c449b74-4678-4ece-c164-7a6b63758ca6"
      },
      "execution_count": null,
      "outputs": [
        {
          "output_type": "execute_result",
          "data": {
            "text/plain": [
              "array([41.867, 45.056, 46.091, 46.254, 46.785, 47.166, 47.545, 47.654,\n",
              "       47.95 , 48.389, 48.458, 48.481, 48.496, 48.554, 48.733])"
            ]
          },
          "metadata": {},
          "execution_count": 66
        }
      ]
    },
    {
      "cell_type": "markdown",
      "source": [
        "Utilizando `searchsorted`, descubra em que posições deveriam ser inseridos os valores 40.50, 42.357, 47.025 e 48.952 deveriam ser inseridos para manter a ordenação."
      ],
      "metadata": {
        "id": "I7flt5m_bN59"
      }
    },
    {
      "cell_type": "code",
      "source": [
        "indices = array_filtered.searchsorted([40.50, 42.357, 47.025, 48.952])"
      ],
      "metadata": {
        "id": "Scl0KHngbLFk"
      },
      "execution_count": null,
      "outputs": []
    },
    {
      "cell_type": "code",
      "source": [
        "indices"
      ],
      "metadata": {
        "colab": {
          "base_uri": "https://localhost:8080/"
        },
        "id": "eBJS9z0JbjLB",
        "outputId": "d44ca2dd-6274-47c2-b0f6-83e248b9b3c9"
      },
      "execution_count": null,
      "outputs": [
        {
          "output_type": "execute_result",
          "data": {
            "text/plain": [
              "array([ 0,  1,  5, 15])"
            ]
          },
          "metadata": {},
          "execution_count": 68
        }
      ]
    },
    {
      "cell_type": "markdown",
      "source": [
        "👆 Inspecione o array e os índices encontrados para confirmar a resposta."
      ],
      "metadata": {
        "id": "onCHIiqlYgz_"
      }
    },
    {
      "cell_type": "markdown",
      "source": [
        "#### `diagonal`"
      ],
      "metadata": {
        "id": "K5vw2BWXcH4X"
      }
    },
    {
      "cell_type": "markdown",
      "source": [
        "O entendimento de diagonais é facilitado trabalhando com arrays 2D.\n",
        "\n",
        "Por isso, primeiro obtenha com indexação uma view do array correspondente ao primeiro dia."
      ],
      "metadata": {
        "id": "ciodeUGscKLe"
      }
    },
    {
      "cell_type": "code",
      "source": [
        "array_2D = array[0]"
      ],
      "metadata": {
        "id": "fqkkR9BIbtzB"
      },
      "execution_count": null,
      "outputs": []
    },
    {
      "cell_type": "code",
      "source": [
        "array_2D"
      ],
      "metadata": {
        "colab": {
          "base_uri": "https://localhost:8080/"
        },
        "id": "9tl_IIcscijH",
        "outputId": "ba02862e-cbb5-486a-e59e-862f620c25c0"
      },
      "execution_count": null,
      "outputs": [
        {
          "output_type": "execute_result",
          "data": {
            "text/plain": [
              "array([[51.037, 52.465, 50.991, 46.091],\n",
              "       [52.716, 51.339, 48.389, 51.743],\n",
              "       [51.094, 50.882, 50.085, 51.64 ],\n",
              "       [   nan, 49.511, 48.554, 51.797],\n",
              "       [50.119, 49.123, 47.654, 49.228]])"
            ]
          },
          "metadata": {},
          "execution_count": 70
        }
      ]
    },
    {
      "cell_type": "code",
      "source": [
        "array_2D.shape"
      ],
      "metadata": {
        "colab": {
          "base_uri": "https://localhost:8080/"
        },
        "id": "XygiEHVWcoc5",
        "outputId": "46171e0d-bb86-45dd-fedd-3f25808ffe55"
      },
      "execution_count": null,
      "outputs": [
        {
          "output_type": "execute_result",
          "data": {
            "text/plain": [
              "(5, 4)"
            ]
          },
          "metadata": {},
          "execution_count": 71
        }
      ]
    },
    {
      "cell_type": "markdown",
      "source": [
        "Agora, recupere e exiba a diagonal deste array."
      ],
      "metadata": {
        "id": "_oFruyxicrdD"
      }
    },
    {
      "cell_type": "code",
      "source": [
        "array_2D.diagonal()"
      ],
      "metadata": {
        "colab": {
          "base_uri": "https://localhost:8080/"
        },
        "id": "hANKXYvUbjo9",
        "outputId": "30935afa-ff39-44b4-d5c0-a2d303ef6253"
      },
      "execution_count": null,
      "outputs": [
        {
          "output_type": "execute_result",
          "data": {
            "text/plain": [
              "array([51.037, 51.339, 50.085, 51.797])"
            ]
          },
          "metadata": {},
          "execution_count": 72
        }
      ]
    },
    {
      "cell_type": "markdown",
      "source": [
        "👆 Não é difícil encontrar visualmente esta diagonal em `array_2D`.\n",
        "\n",
        "Observe que, como `array_2D` é **retangular** (como demonstra seu `shape`), nenhum valor da última linha é retornado na diagonal, pois ele tem mais linhas que colunas."
      ],
      "metadata": {
        "id": "wxLdBG1VcxiG"
      }
    }
  ]
}