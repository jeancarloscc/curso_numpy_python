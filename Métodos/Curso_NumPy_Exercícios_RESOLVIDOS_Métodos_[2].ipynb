{
  "nbformat": 4,
  "nbformat_minor": 0,
  "metadata": {
    "colab": {
      "provenance": []
    },
    "kernelspec": {
      "name": "python3",
      "display_name": "Python 3"
    },
    "language_info": {
      "name": "python"
    }
  },
  "cells": [
    {
      "cell_type": "code",
      "execution_count": null,
      "metadata": {
        "id": "sgYgpXPEmTmW"
      },
      "outputs": [],
      "source": [
        "import numpy as np"
      ]
    },
    {
      "cell_type": "code",
      "source": [
        "np.__version__"
      ],
      "metadata": {
        "colab": {
          "base_uri": "https://localhost:8080/",
          "height": 56
        },
        "id": "WToUoFxfmkqS",
        "outputId": "bffae343-b867-4cc6-ee2d-1571dea909b9"
      },
      "execution_count": null,
      "outputs": [
        {
          "output_type": "execute_result",
          "data": {
            "text/plain": [
              "'1.25.2'"
            ],
            "application/vnd.google.colaboratory.intrinsic+json": {
              "type": "string"
            }
          },
          "metadata": {},
          "execution_count": 2
        }
      ]
    },
    {
      "cell_type": "markdown",
      "source": [
        "Vamos recorrer ao mesmo array dos exercícios anteriores, que representa o desempenho de 5 atletas em 4 voltas de uma pista de corrida, em 3 dias diferentes."
      ],
      "metadata": {
        "id": "_bkwaFx68keB"
      }
    },
    {
      "cell_type": "code",
      "source": [
        "rng = np.random.default_rng(seed=1)"
      ],
      "metadata": {
        "id": "5l8ZK_5Vwnyt"
      },
      "execution_count": null,
      "outputs": []
    },
    {
      "cell_type": "code",
      "source": [
        "array = rng.normal(loc=50, scale=3, size=60).reshape(3, 5, 4).round(3)"
      ],
      "metadata": {
        "id": "Lsr9gyhCw9P0"
      },
      "execution_count": null,
      "outputs": []
    },
    {
      "cell_type": "code",
      "source": [
        "array"
      ],
      "metadata": {
        "colab": {
          "base_uri": "https://localhost:8080/"
        },
        "id": "9rGGeugqZA8X",
        "outputId": "aa764013-46ac-42ca-abf0-64575c695d29"
      },
      "execution_count": null,
      "outputs": [
        {
          "output_type": "execute_result",
          "data": {
            "text/plain": [
              "array([[[51.037, 52.465, 50.991, 46.091],\n",
              "        [52.716, 51.339, 48.389, 51.743],\n",
              "        [51.094, 50.882, 50.085, 51.64 ],\n",
              "        [47.791, 49.511, 48.554, 51.797],\n",
              "        [50.119, 49.123, 47.654, 49.228]],\n",
              "\n",
              "       [[50.024, 49.173, 53.882, 53.02 ],\n",
              "        [41.867, 44.333, 49.476, 48.733],\n",
              "        [50.641, 50.652, 56.354, 46.664],\n",
              "        [48.867, 56.128, 51.94 , 51.989],\n",
              "        [48.458, 45.056, 50.502, 50.327]],\n",
              "\n",
              "       [[46.318, 47.95 , 49.784, 47.166],\n",
              "        [49.705, 50.286, 50.107, 48.481],\n",
              "        [51.781, 52.674, 50.963, 47.545],\n",
              "        [52.195, 48.496, 52.637, 46.785],\n",
              "        [52.743, 49.94 , 46.254, 49.058]]])"
            ]
          },
          "metadata": {},
          "execution_count": 5
        }
      ]
    },
    {
      "cell_type": "code",
      "source": [
        "array.shape"
      ],
      "metadata": {
        "colab": {
          "base_uri": "https://localhost:8080/"
        },
        "id": "I9R09UU_12NX",
        "outputId": "6758e47e-c6dd-4d86-842b-218459fcd1bf"
      },
      "execution_count": null,
      "outputs": [
        {
          "output_type": "execute_result",
          "data": {
            "text/plain": [
              "(3, 5, 4)"
            ]
          },
          "metadata": {},
          "execution_count": 6
        }
      ]
    },
    {
      "cell_type": "markdown",
      "source": [
        "👆 Observe pelo `shape` que são 3 dias, 5 atletas e 4 voltas."
      ],
      "metadata": {
        "id": "b-gCnp1i14PC"
      }
    },
    {
      "cell_type": "markdown",
      "source": [
        "#### `max` / `argmax`"
      ],
      "metadata": {
        "id": "gVU_n6ivdwJ0"
      }
    },
    {
      "cell_type": "markdown",
      "source": [
        "Lembre-se que, como os valores representam o tempo, em segundos, que cada atleta levou para completar uma volta, quanto maior este valor, pior o desempenho do atleta.\n",
        "\n",
        "Utilize `max` para encontrar o pior desempenho diário (eixo 0)."
      ],
      "metadata": {
        "id": "mN0GE4Fhd0Is"
      }
    },
    {
      "cell_type": "code",
      "source": [
        "array.max(axis=0)"
      ],
      "metadata": {
        "colab": {
          "base_uri": "https://localhost:8080/"
        },
        "id": "cwNqUSbhdyqE",
        "outputId": "46a55b4e-dbe1-4c11-9563-e36afbf0536c"
      },
      "execution_count": null,
      "outputs": [
        {
          "output_type": "execute_result",
          "data": {
            "text/plain": [
              "array([[51.037, 52.465, 53.882, 53.02 ],\n",
              "       [52.716, 51.339, 50.107, 51.743],\n",
              "       [51.781, 52.674, 56.354, 51.64 ],\n",
              "       [52.195, 56.128, 52.637, 51.989],\n",
              "       [52.743, 49.94 , 50.502, 50.327]])"
            ]
          },
          "metadata": {},
          "execution_count": 7
        }
      ]
    },
    {
      "cell_type": "markdown",
      "source": [
        "👆 O resultado é um array com 5 linhas (correspondente aos 5 atletas) e 4 colunas (correspondente às 4 voltas). Cada valor é o tempo máximo nos 3 dias, daquele atleta e daquela volta."
      ],
      "metadata": {
        "id": "7h9u2EEseBpx"
      }
    },
    {
      "cell_type": "markdown",
      "source": [
        "Repita o exercício com `argmax`."
      ],
      "metadata": {
        "id": "7xwbq4Q8eYge"
      }
    },
    {
      "cell_type": "code",
      "source": [
        "array.argmax(axis=0)"
      ],
      "metadata": {
        "colab": {
          "base_uri": "https://localhost:8080/"
        },
        "id": "t685Ovx-d-4e",
        "outputId": "28d71d1d-9296-4fa1-9171-e2fe695d3a9d"
      },
      "execution_count": null,
      "outputs": [
        {
          "output_type": "execute_result",
          "data": {
            "text/plain": [
              "array([[0, 0, 1, 1],\n",
              "       [0, 0, 2, 0],\n",
              "       [2, 2, 1, 0],\n",
              "       [2, 1, 2, 1],\n",
              "       [2, 2, 1, 1]])"
            ]
          },
          "metadata": {},
          "execution_count": 8
        }
      ]
    },
    {
      "cell_type": "markdown",
      "source": [
        "👆 Isto indica que, para o primeiro atleta e a primeira volta, (primeira linha e primeira coluna da visualização) o pior desempenho foi no dia 0; para o último atleta e a última volta, o pior desempenho foi no dia 1."
      ],
      "metadata": {
        "id": "HhDZndm4emti"
      }
    },
    {
      "cell_type": "markdown",
      "source": [
        "Agora utilize `max` e `argmax` para encontrar o pior desempenho por atleta (eixo 1), em cada dia e em cada volta."
      ],
      "metadata": {
        "id": "oCueQIi8fEPj"
      }
    },
    {
      "cell_type": "code",
      "source": [
        "array.max(axis=1)"
      ],
      "metadata": {
        "colab": {
          "base_uri": "https://localhost:8080/"
        },
        "id": "I1DiGoIAfPzr",
        "outputId": "a355a384-7817-4202-c096-044b1374ff6c"
      },
      "execution_count": null,
      "outputs": [
        {
          "output_type": "execute_result",
          "data": {
            "text/plain": [
              "array([[52.716, 52.465, 50.991, 51.797],\n",
              "       [50.641, 56.128, 56.354, 53.02 ],\n",
              "       [52.743, 52.674, 52.637, 49.058]])"
            ]
          },
          "metadata": {},
          "execution_count": 10
        }
      ]
    },
    {
      "cell_type": "markdown",
      "source": [
        "👆 Este é o pior desempenho dentre todos os atletas, nos 3 dias (linhas) e nas 4 voltas (colunas)."
      ],
      "metadata": {
        "id": "elM8MCVjfXFd"
      }
    },
    {
      "cell_type": "code",
      "source": [
        "array.argmax(axis=1)"
      ],
      "metadata": {
        "colab": {
          "base_uri": "https://localhost:8080/"
        },
        "id": "QTL-W3aFfVpD",
        "outputId": "4eb47462-4574-4447-ceca-63c4ea869f9a"
      },
      "execution_count": null,
      "outputs": [
        {
          "output_type": "execute_result",
          "data": {
            "text/plain": [
              "array([[1, 0, 0, 3],\n",
              "       [2, 3, 2, 0],\n",
              "       [4, 2, 3, 4]])"
            ]
          },
          "metadata": {},
          "execution_count": 11
        }
      ]
    },
    {
      "cell_type": "markdown",
      "source": [
        "👆 No primeiro dia (primeira linha), nas 4 voltas (colunas), os piores atletas foram os de índice 1, 0, 0 e 3, respectivamente."
      ],
      "metadata": {
        "id": "VWQu1VuzfeUo"
      }
    },
    {
      "cell_type": "markdown",
      "source": [
        "Encontre também o pior desempenho geral."
      ],
      "metadata": {
        "id": "A4ISiMXbhTRm"
      }
    },
    {
      "cell_type": "code",
      "source": [
        "array.max()"
      ],
      "metadata": {
        "colab": {
          "base_uri": "https://localhost:8080/"
        },
        "id": "Qw3N0w8qhVSz",
        "outputId": "ec3ff14e-3210-43ea-ef82-2d445cab3deb"
      },
      "execution_count": null,
      "outputs": [
        {
          "output_type": "execute_result",
          "data": {
            "text/plain": [
              "56.354"
            ]
          },
          "metadata": {},
          "execution_count": 12
        }
      ]
    },
    {
      "cell_type": "markdown",
      "source": [
        "#### `min`/`argmin`"
      ],
      "metadata": {
        "id": "kp-VFX3Ye7vr"
      }
    },
    {
      "cell_type": "markdown",
      "source": [
        "Repita o exercício com os métodos `max`/`argmax` para encontrar os melhores desempenhos.\n",
        "\n",
        "Interprete os resultados, de forma análoga à feita para os piores desempenhos."
      ],
      "metadata": {
        "id": "znTj3CnXe-7R"
      }
    },
    {
      "cell_type": "code",
      "source": [
        "array.min(axis=0)"
      ],
      "metadata": {
        "colab": {
          "base_uri": "https://localhost:8080/"
        },
        "id": "5GTkLGtNeyHc",
        "outputId": "f7624baf-fbc3-4413-8d16-350dabb57962"
      },
      "execution_count": null,
      "outputs": [
        {
          "output_type": "execute_result",
          "data": {
            "text/plain": [
              "array([[46.318, 47.95 , 49.784, 46.091],\n",
              "       [41.867, 44.333, 48.389, 48.481],\n",
              "       [50.641, 50.652, 50.085, 46.664],\n",
              "       [47.791, 48.496, 48.554, 46.785],\n",
              "       [48.458, 45.056, 46.254, 49.058]])"
            ]
          },
          "metadata": {},
          "execution_count": 13
        }
      ]
    },
    {
      "cell_type": "code",
      "source": [
        "array.argmin(axis=0)"
      ],
      "metadata": {
        "colab": {
          "base_uri": "https://localhost:8080/"
        },
        "id": "kQhg0o5cf3do",
        "outputId": "3bf803c8-089a-4cc9-ebb5-34e92d162561"
      },
      "execution_count": null,
      "outputs": [
        {
          "output_type": "execute_result",
          "data": {
            "text/plain": [
              "array([[2, 2, 2, 0],\n",
              "       [1, 1, 0, 2],\n",
              "       [1, 1, 0, 1],\n",
              "       [0, 2, 0, 2],\n",
              "       [1, 1, 2, 2]])"
            ]
          },
          "metadata": {},
          "execution_count": 14
        }
      ]
    },
    {
      "cell_type": "code",
      "source": [
        "array.min(axis=1)"
      ],
      "metadata": {
        "colab": {
          "base_uri": "https://localhost:8080/"
        },
        "id": "nrOQd550f5Mc",
        "outputId": "9bc09bb2-31c2-46e3-accd-40ac7ba7c3cb"
      },
      "execution_count": null,
      "outputs": [
        {
          "output_type": "execute_result",
          "data": {
            "text/plain": [
              "array([[47.791, 49.123, 47.654, 46.091],\n",
              "       [41.867, 44.333, 49.476, 46.664],\n",
              "       [46.318, 47.95 , 46.254, 46.785]])"
            ]
          },
          "metadata": {},
          "execution_count": 15
        }
      ]
    },
    {
      "cell_type": "code",
      "source": [
        "array.argmin(axis=1)"
      ],
      "metadata": {
        "colab": {
          "base_uri": "https://localhost:8080/"
        },
        "id": "z_eG8CAFf8aL",
        "outputId": "bc15777f-d23a-466c-ce39-da24c8f206f7"
      },
      "execution_count": null,
      "outputs": [
        {
          "output_type": "execute_result",
          "data": {
            "text/plain": [
              "array([[3, 4, 4, 0],\n",
              "       [1, 1, 1, 2],\n",
              "       [0, 0, 4, 3]])"
            ]
          },
          "metadata": {},
          "execution_count": 16
        }
      ]
    },
    {
      "cell_type": "code",
      "source": [
        "array.min()"
      ],
      "metadata": {
        "colab": {
          "base_uri": "https://localhost:8080/"
        },
        "id": "rXCFJEI8iIRU",
        "outputId": "0524598b-0253-476a-b09a-4dc143975f76"
      },
      "execution_count": null,
      "outputs": [
        {
          "output_type": "execute_result",
          "data": {
            "text/plain": [
              "41.867"
            ]
          },
          "metadata": {},
          "execution_count": 17
        }
      ]
    },
    {
      "cell_type": "markdown",
      "source": [
        "#### `ptp`"
      ],
      "metadata": {
        "id": "NuGqyZRrgHze"
      }
    },
    {
      "cell_type": "markdown",
      "source": [
        "Encontre a diferença entre o pior e o melhor desempenho, em cada dia (eixo 0)."
      ],
      "metadata": {
        "id": "YKR6pOExgK0X"
      }
    },
    {
      "cell_type": "code",
      "source": [
        "array.ptp(axis=0)"
      ],
      "metadata": {
        "colab": {
          "base_uri": "https://localhost:8080/"
        },
        "id": "22FyboJ0f9Y3",
        "outputId": "79473f58-2834-4a5a-fd7b-46aeba58e476"
      },
      "execution_count": null,
      "outputs": [
        {
          "output_type": "execute_result",
          "data": {
            "text/plain": [
              "array([[ 4.719,  4.515,  4.098,  6.929],\n",
              "       [10.849,  7.006,  1.718,  3.262],\n",
              "       [ 1.14 ,  2.022,  6.269,  4.976],\n",
              "       [ 4.404,  7.632,  4.083,  5.204],\n",
              "       [ 4.285,  4.884,  4.248,  1.269]])"
            ]
          },
          "metadata": {},
          "execution_count": 18
        }
      ]
    },
    {
      "cell_type": "markdown",
      "source": [
        "👆 No caso do atleta 0 (primeira linha), o desempenho dele flutuou 4.719 segundos na primeira volta, 4.515 segundos na segunda volta, e assim por diante."
      ],
      "metadata": {
        "id": "6FMl78jGgYjY"
      }
    },
    {
      "cell_type": "markdown",
      "source": [
        "Encontre a diferença entre o pior e o melhor desempenho, em cada volta (eixo 2)."
      ],
      "metadata": {
        "id": "Z7NN40DCgms0"
      }
    },
    {
      "cell_type": "code",
      "source": [
        "array.ptp(axis=2)"
      ],
      "metadata": {
        "colab": {
          "base_uri": "https://localhost:8080/"
        },
        "id": "-rlUpuGNgTMH",
        "outputId": "e4c637be-05d3-4a8b-f87f-401e3158e3a7"
      },
      "execution_count": null,
      "outputs": [
        {
          "output_type": "execute_result",
          "data": {
            "text/plain": [
              "array([[6.374, 4.327, 1.555, 4.006, 2.465],\n",
              "       [4.709, 7.609, 9.69 , 7.261, 5.446],\n",
              "       [3.466, 1.805, 5.129, 5.852, 6.489]])"
            ]
          },
          "metadata": {},
          "execution_count": 19
        }
      ]
    },
    {
      "cell_type": "markdown",
      "source": [
        "👆 No caso da volta de índice 1 (segunda coluna), a diferença de desempenho entre os atletas no primeiro dia foi de 4.327 segundo, 7.609 segundos no segundo dia e 1.805 segundos no terceiro."
      ],
      "metadata": {
        "id": "ysLT19fqgvzR"
      }
    },
    {
      "cell_type": "markdown",
      "source": [
        "#### `clip`"
      ],
      "metadata": {
        "id": "gAiTiSNwh9y_"
      }
    },
    {
      "cell_type": "markdown",
      "source": [
        "\"Clipe\" este array para que nenhum valor seja menor que 43 ou maior que 55. Exiba o array para visualizar as alterações."
      ],
      "metadata": {
        "id": "8RlG--6ziChZ"
      }
    },
    {
      "cell_type": "code",
      "source": [
        "array_clip = array.clip(min=43, max=55)"
      ],
      "metadata": {
        "id": "363STSFRhRCc"
      },
      "execution_count": null,
      "outputs": []
    },
    {
      "cell_type": "code",
      "source": [
        "array_clip"
      ],
      "metadata": {
        "colab": {
          "base_uri": "https://localhost:8080/"
        },
        "id": "Q58mcZKRaFvN",
        "outputId": "6aa95808-5563-4c69-ef89-76b5a6539153"
      },
      "execution_count": null,
      "outputs": [
        {
          "output_type": "execute_result",
          "data": {
            "text/plain": [
              "array([[[51.037, 52.465, 50.991, 46.091],\n",
              "        [52.716, 51.339, 48.389, 51.743],\n",
              "        [51.094, 50.882, 50.085, 51.64 ],\n",
              "        [47.791, 49.511, 48.554, 51.797],\n",
              "        [50.119, 49.123, 47.654, 49.228]],\n",
              "\n",
              "       [[50.024, 49.173, 53.882, 53.02 ],\n",
              "        [43.   , 44.333, 49.476, 48.733],\n",
              "        [50.641, 50.652, 55.   , 46.664],\n",
              "        [48.867, 55.   , 51.94 , 51.989],\n",
              "        [48.458, 45.056, 50.502, 50.327]],\n",
              "\n",
              "       [[46.318, 47.95 , 49.784, 47.166],\n",
              "        [49.705, 50.286, 50.107, 48.481],\n",
              "        [51.781, 52.674, 50.963, 47.545],\n",
              "        [52.195, 48.496, 52.637, 46.785],\n",
              "        [52.743, 49.94 , 46.254, 49.058]]])"
            ]
          },
          "metadata": {},
          "execution_count": 21
        }
      ]
    },
    {
      "cell_type": "markdown",
      "source": [
        "Confirme com `min` e `max` que a alteração foi feita conforme desejado."
      ],
      "metadata": {
        "id": "dJUr_-DPaIB2"
      }
    },
    {
      "cell_type": "code",
      "source": [
        "array_clip.min()"
      ],
      "metadata": {
        "colab": {
          "base_uri": "https://localhost:8080/"
        },
        "id": "Q1MrSmRuaMf4",
        "outputId": "d3ae7d98-da72-4223-d4ac-b60f1d88ca0f"
      },
      "execution_count": null,
      "outputs": [
        {
          "output_type": "execute_result",
          "data": {
            "text/plain": [
              "43.0"
            ]
          },
          "metadata": {},
          "execution_count": 22
        }
      ]
    },
    {
      "cell_type": "code",
      "source": [
        "array_clip.max()"
      ],
      "metadata": {
        "colab": {
          "base_uri": "https://localhost:8080/"
        },
        "id": "LRdHkq-faOdz",
        "outputId": "b33ec5a6-426a-4943-8f1c-3d8777859b1d"
      },
      "execution_count": null,
      "outputs": [
        {
          "output_type": "execute_result",
          "data": {
            "text/plain": [
              "55.0"
            ]
          },
          "metadata": {},
          "execution_count": 23
        }
      ]
    },
    {
      "cell_type": "markdown",
      "source": [
        "#### `round`\n",
        "\n",
        "Utilize `round` para arredondar os valores para 2 casas decimais."
      ],
      "metadata": {
        "id": "cP0MYe1AhPnf"
      }
    },
    {
      "cell_type": "code",
      "source": [
        "array.round(decimals=2)"
      ],
      "metadata": {
        "colab": {
          "base_uri": "https://localhost:8080/"
        },
        "id": "O-SU1zTygqst",
        "outputId": "6fcd942e-5e3a-4833-e486-76c939b57366"
      },
      "execution_count": null,
      "outputs": [
        {
          "output_type": "execute_result",
          "data": {
            "text/plain": [
              "array([[[51.04, 52.46, 50.99, 46.09],\n",
              "        [52.72, 51.34, 48.39, 51.74],\n",
              "        [51.09, 50.88, 50.08, 51.64],\n",
              "        [47.79, 49.51, 48.55, 51.8 ],\n",
              "        [50.12, 49.12, 47.65, 49.23]],\n",
              "\n",
              "       [[50.02, 49.17, 53.88, 53.02],\n",
              "        [41.87, 44.33, 49.48, 48.73],\n",
              "        [50.64, 50.65, 56.35, 46.66],\n",
              "        [48.87, 56.13, 51.94, 51.99],\n",
              "        [48.46, 45.06, 50.5 , 50.33]],\n",
              "\n",
              "       [[46.32, 47.95, 49.78, 47.17],\n",
              "        [49.7 , 50.29, 50.11, 48.48],\n",
              "        [51.78, 52.67, 50.96, 47.54],\n",
              "        [52.2 , 48.5 , 52.64, 46.78],\n",
              "        [52.74, 49.94, 46.25, 49.06]]])"
            ]
          },
          "metadata": {},
          "execution_count": 24
        }
      ]
    },
    {
      "cell_type": "markdown",
      "source": [
        "Verifique também o arredondamento para 1 casa decimal."
      ],
      "metadata": {
        "id": "iEcR5aV7ijfU"
      }
    },
    {
      "cell_type": "code",
      "source": [
        "array.round(decimals=1)"
      ],
      "metadata": {
        "colab": {
          "base_uri": "https://localhost:8080/"
        },
        "id": "1K2iq_vaigJI",
        "outputId": "fdf8f83a-5204-4469-ade7-09f5ee410c1a"
      },
      "execution_count": null,
      "outputs": [
        {
          "output_type": "execute_result",
          "data": {
            "text/plain": [
              "array([[[51. , 52.5, 51. , 46.1],\n",
              "        [52.7, 51.3, 48.4, 51.7],\n",
              "        [51.1, 50.9, 50.1, 51.6],\n",
              "        [47.8, 49.5, 48.6, 51.8],\n",
              "        [50.1, 49.1, 47.7, 49.2]],\n",
              "\n",
              "       [[50. , 49.2, 53.9, 53. ],\n",
              "        [41.9, 44.3, 49.5, 48.7],\n",
              "        [50.6, 50.7, 56.4, 46.7],\n",
              "        [48.9, 56.1, 51.9, 52. ],\n",
              "        [48.5, 45.1, 50.5, 50.3]],\n",
              "\n",
              "       [[46.3, 48. , 49.8, 47.2],\n",
              "        [49.7, 50.3, 50.1, 48.5],\n",
              "        [51.8, 52.7, 51. , 47.5],\n",
              "        [52.2, 48.5, 52.6, 46.8],\n",
              "        [52.7, 49.9, 46.3, 49.1]]])"
            ]
          },
          "metadata": {},
          "execution_count": 25
        }
      ]
    },
    {
      "cell_type": "markdown",
      "source": [
        "#### `sum`"
      ],
      "metadata": {
        "id": "QolyzQ9cipMy"
      }
    },
    {
      "cell_type": "markdown",
      "source": [
        "Utilize `sum` para visualizar o tempo total gasto por cada atleta em cada prova, nos 3 dias. Ou seja, você deve somar o tempo no eixo 2, correspondente às voltas.\n"
      ],
      "metadata": {
        "id": "8T1LyduMiuWJ"
      }
    },
    {
      "cell_type": "code",
      "source": [
        "array_sum_axis_2 = array.sum(axis=2)"
      ],
      "metadata": {
        "id": "_yCbdKknihd8"
      },
      "execution_count": null,
      "outputs": []
    },
    {
      "cell_type": "code",
      "source": [
        "array_sum_axis_2"
      ],
      "metadata": {
        "colab": {
          "base_uri": "https://localhost:8080/"
        },
        "id": "e62f4NaLjioI",
        "outputId": "4f653e92-ec71-4564-9d77-cb03954f269c"
      },
      "execution_count": null,
      "outputs": [
        {
          "output_type": "execute_result",
          "data": {
            "text/plain": [
              "array([[200.584, 204.187, 203.701, 197.653, 196.124],\n",
              "       [206.099, 184.409, 204.311, 208.924, 194.343],\n",
              "       [191.218, 198.579, 202.963, 200.113, 197.995]])"
            ]
          },
          "metadata": {},
          "execution_count": 27
        }
      ]
    },
    {
      "cell_type": "markdown",
      "source": [
        "👆 O array representa os 3 dias (3 linhas) e os 5 atletas (5 colunas)."
      ],
      "metadata": {
        "id": "K5OJVa6njInm"
      }
    },
    {
      "cell_type": "markdown",
      "source": [
        "Agora, a partir deste array, some os desempenhos dos 5 atletas ao longo dos 3 dias (eixo 0)."
      ],
      "metadata": {
        "id": "1j7jXh17jpA0"
      }
    },
    {
      "cell_type": "code",
      "source": [
        "array_sum_axis_2_axis_0 = array_sum_axis_2.sum(axis=0)"
      ],
      "metadata": {
        "id": "GW_vx97VjdSc"
      },
      "execution_count": null,
      "outputs": []
    },
    {
      "cell_type": "code",
      "source": [
        "array_sum_axis_2_axis_0"
      ],
      "metadata": {
        "colab": {
          "base_uri": "https://localhost:8080/"
        },
        "id": "II9e57fWjwTK",
        "outputId": "bb2340c1-2fbe-40bd-c860-e5edb6ff9e4d"
      },
      "execution_count": null,
      "outputs": [
        {
          "output_type": "execute_result",
          "data": {
            "text/plain": [
              "array([597.901, 587.175, 610.975, 606.69 , 588.462])"
            ]
          },
          "metadata": {},
          "execution_count": 29
        }
      ]
    },
    {
      "cell_type": "markdown",
      "source": [
        "👆 O array representa a soma geral do desempenho dos 5 atletas."
      ],
      "metadata": {
        "id": "jwOCJuMXj0NM"
      }
    },
    {
      "cell_type": "markdown",
      "source": [
        "#### `cumsum`"
      ],
      "metadata": {
        "id": "yJPehA_1jQhN"
      }
    },
    {
      "cell_type": "markdown",
      "source": [
        "Utilize `cumsum` para encontrar o tempo acumulado de cada atleta, em cada dia, ao final de cada volta (eixo 2)."
      ],
      "metadata": {
        "id": "XZpfrp3QkAhs"
      }
    },
    {
      "cell_type": "code",
      "source": [
        "array.cumsum(axis=2)"
      ],
      "metadata": {
        "colab": {
          "base_uri": "https://localhost:8080/"
        },
        "id": "d8RCGMx6j4k4",
        "outputId": "648ffcf6-a771-412d-be69-cd43c301a503"
      },
      "execution_count": null,
      "outputs": [
        {
          "output_type": "execute_result",
          "data": {
            "text/plain": [
              "array([[[ 51.037, 103.502, 154.493, 200.584],\n",
              "        [ 52.716, 104.055, 152.444, 204.187],\n",
              "        [ 51.094, 101.976, 152.061, 203.701],\n",
              "        [ 47.791,  97.302, 145.856, 197.653],\n",
              "        [ 50.119,  99.242, 146.896, 196.124]],\n",
              "\n",
              "       [[ 50.024,  99.197, 153.079, 206.099],\n",
              "        [ 41.867,  86.2  , 135.676, 184.409],\n",
              "        [ 50.641, 101.293, 157.647, 204.311],\n",
              "        [ 48.867, 104.995, 156.935, 208.924],\n",
              "        [ 48.458,  93.514, 144.016, 194.343]],\n",
              "\n",
              "       [[ 46.318,  94.268, 144.052, 191.218],\n",
              "        [ 49.705,  99.991, 150.098, 198.579],\n",
              "        [ 51.781, 104.455, 155.418, 202.963],\n",
              "        [ 52.195, 100.691, 153.328, 200.113],\n",
              "        [ 52.743, 102.683, 148.937, 197.995]]])"
            ]
          },
          "metadata": {},
          "execution_count": 30
        }
      ]
    },
    {
      "cell_type": "markdown",
      "source": [
        "👆 No segundo dia, o terceiro atleta (linha 2) acumulou tempos de 50.641, 101.293, 157.647 e 204.311."
      ],
      "metadata": {
        "id": "6h5wkX7QkKjm"
      }
    },
    {
      "cell_type": "markdown",
      "source": [
        "#### `mean` / `var` / `std`"
      ],
      "metadata": {
        "id": "S7guFhX_kXJQ"
      }
    },
    {
      "cell_type": "markdown",
      "source": [
        "Encontre o desempenho médio por volta (eixo 2) para cada atleta, nos 3 dias."
      ],
      "metadata": {
        "id": "YCNtcnoKkhOe"
      }
    },
    {
      "cell_type": "code",
      "source": [
        "array.mean(axis=2)"
      ],
      "metadata": {
        "colab": {
          "base_uri": "https://localhost:8080/"
        },
        "id": "E0btE7q_kH5Y",
        "outputId": "2ce72ecb-ad58-4376-963f-dd702bdd200d"
      },
      "execution_count": null,
      "outputs": [
        {
          "output_type": "execute_result",
          "data": {
            "text/plain": [
              "array([[50.146  , 51.04675, 50.92525, 49.41325, 49.031  ],\n",
              "       [51.52475, 46.10225, 51.07775, 52.231  , 48.58575],\n",
              "       [47.8045 , 49.64475, 50.74075, 50.02825, 49.49875]])"
            ]
          },
          "metadata": {},
          "execution_count": 31
        }
      ]
    },
    {
      "cell_type": "markdown",
      "source": [
        "👆 Desempenho médio por volta nos 3 dias (3 linhas), para os 5 atletas (5 colunas)."
      ],
      "metadata": {
        "id": "gPovsBIgkz-I"
      }
    },
    {
      "cell_type": "markdown",
      "source": [
        "Exiba também a variância e o desvio padrão dos mesmos dados."
      ],
      "metadata": {
        "id": "GS00tp-ulA0F"
      }
    },
    {
      "cell_type": "code",
      "source": [
        "array.var(axis=2)"
      ],
      "metadata": {
        "colab": {
          "base_uri": "https://localhost:8080/"
        },
        "id": "Pazg7OgRkpMJ",
        "outputId": "2454e092-d18b-4206-fc3b-27729825b4fe"
      },
      "execution_count": null,
      "outputs": [
        {
          "output_type": "execute_result",
          "data": {
            "text/plain": [
              "array([[ 5.832173  ,  2.60505119,  0.31180869,  2.26545619,  0.7817865 ],\n",
              "       [ 3.89384469,  9.84265569, 11.92300419,  6.6615875 ,  4.79485519],\n",
              "       [ 1.63923875,  0.49570519,  3.77044719,  6.09171069,  5.36063069]])"
            ]
          },
          "metadata": {},
          "execution_count": 32
        }
      ]
    },
    {
      "cell_type": "code",
      "source": [
        "array.std(axis=2)"
      ],
      "metadata": {
        "colab": {
          "base_uri": "https://localhost:8080/"
        },
        "id": "GLZFBjOJlFXd",
        "outputId": "1de05a44-4910-4a6a-e55a-7e4ca0278cdf"
      },
      "execution_count": null,
      "outputs": [
        {
          "output_type": "execute_result",
          "data": {
            "text/plain": [
              "array([[2.41498923, 1.6140171 , 0.55839832, 1.50514324, 0.88418691],\n",
              "       [1.97328272, 3.1373007 , 3.45297034, 2.58100513, 2.18971578],\n",
              "       [1.28032759, 0.70406334, 1.94176394, 2.46813911, 2.31530358]])"
            ]
          },
          "metadata": {},
          "execution_count": 33
        }
      ]
    },
    {
      "cell_type": "markdown",
      "source": [
        "Agora exiba as 3 medidas estatísticas agregadas por atleta (eixo 1)."
      ],
      "metadata": {
        "id": "ZFk8mxmrlIej"
      }
    },
    {
      "cell_type": "code",
      "source": [
        "array.mean(axis=1)"
      ],
      "metadata": {
        "colab": {
          "base_uri": "https://localhost:8080/"
        },
        "id": "DIGHg3twlGl-",
        "outputId": "403a93e3-3cf6-49c9-854b-74e6cf680947"
      },
      "execution_count": null,
      "outputs": [
        {
          "output_type": "execute_result",
          "data": {
            "text/plain": [
              "array([[50.5514, 50.664 , 49.1346, 50.0998],\n",
              "       [47.9714, 49.0684, 52.4308, 50.1466],\n",
              "       [50.5484, 49.8692, 49.949 , 47.807 ]])"
            ]
          },
          "metadata": {},
          "execution_count": 34
        }
      ]
    },
    {
      "cell_type": "markdown",
      "source": [
        "👆 Desempenho médio por atleta nos 3 dias (3 linhas), nas 4 voltas (4 colunas)."
      ],
      "metadata": {
        "id": "CE-ipoTrmCdg"
      }
    },
    {
      "cell_type": "code",
      "source": [
        "array.var(axis=1)"
      ],
      "metadata": {
        "colab": {
          "base_uri": "https://localhost:8080/"
        },
        "id": "2HxDmGFZlRCD",
        "outputId": "60672602-404a-4257-b16d-697d4c14a49a"
      },
      "execution_count": null,
      "outputs": [
        {
          "output_type": "execute_result",
          "data": {
            "text/plain": [
              "array([[ 2.60449864,  1.490168  ,  1.48693464,  4.95666456],\n",
              "       [ 9.92850184, 18.17600984,  6.03789536,  5.16203544],\n",
              "       [ 5.53089424,  2.72292896,  4.3917508 ,  0.7086572 ]])"
            ]
          },
          "metadata": {},
          "execution_count": 35
        }
      ]
    },
    {
      "cell_type": "code",
      "source": [
        "array.std(axis=1)"
      ],
      "metadata": {
        "colab": {
          "base_uri": "https://localhost:8080/"
        },
        "id": "WMrTgXt2lSUt",
        "outputId": "27ed6fbd-61bf-4ddc-f2d6-dfed9ea5a193"
      },
      "execution_count": null,
      "outputs": [
        {
          "output_type": "execute_result",
          "data": {
            "text/plain": [
              "array([[1.61384592, 1.22072438, 1.21939929, 2.22635679],\n",
              "       [3.15095253, 4.26333318, 2.45721293, 2.27201132],\n",
              "       [2.35178533, 1.65012998, 2.09565045, 0.8418178 ]])"
            ]
          },
          "metadata": {},
          "execution_count": 37
        }
      ]
    },
    {
      "cell_type": "markdown",
      "source": [
        "#### `all` / `any`"
      ],
      "metadata": {
        "id": "qja3kKZvmUqh"
      }
    },
    {
      "cell_type": "markdown",
      "source": [
        "Primeiro, gere uma máscara booleana (array com valores `True`/`False`) para verificar quais valores em `array` são maiores que 50 segundos."
      ],
      "metadata": {
        "id": "0LeZfhvBmfGO"
      }
    },
    {
      "cell_type": "code",
      "source": [
        "array_mask = array > 50"
      ],
      "metadata": {
        "id": "-UkDB7MalTK_"
      },
      "execution_count": null,
      "outputs": []
    },
    {
      "cell_type": "code",
      "source": [
        "array_mask"
      ],
      "metadata": {
        "colab": {
          "base_uri": "https://localhost:8080/"
        },
        "id": "bj0At2X4munS",
        "outputId": "9da4a823-7bd6-4ddf-94cc-b217e69c00a0"
      },
      "execution_count": null,
      "outputs": [
        {
          "output_type": "execute_result",
          "data": {
            "text/plain": [
              "array([[[ True,  True,  True, False],\n",
              "        [ True,  True, False,  True],\n",
              "        [ True,  True,  True,  True],\n",
              "        [False, False, False,  True],\n",
              "        [ True, False, False, False]],\n",
              "\n",
              "       [[ True, False,  True,  True],\n",
              "        [False, False, False, False],\n",
              "        [ True,  True,  True, False],\n",
              "        [False,  True,  True,  True],\n",
              "        [False, False,  True,  True]],\n",
              "\n",
              "       [[False, False, False, False],\n",
              "        [False,  True,  True, False],\n",
              "        [ True,  True,  True, False],\n",
              "        [ True, False,  True, False],\n",
              "        [ True, False, False, False]]])"
            ]
          },
          "metadata": {},
          "execution_count": 39
        }
      ]
    },
    {
      "cell_type": "markdown",
      "source": [
        "Agora, use `all` para verifcar se algum atleta levou mais que 50 segundos para completar alguma volta (eixo 2), em qualquer dia."
      ],
      "metadata": {
        "id": "4AZrspvOm0kc"
      }
    },
    {
      "cell_type": "code",
      "source": [
        "array_mask.all(axis=2)"
      ],
      "metadata": {
        "colab": {
          "base_uri": "https://localhost:8080/"
        },
        "id": "-vh14HLfmv1x",
        "outputId": "98b08044-551d-4736-d983-9b0f3d2723df"
      },
      "execution_count": null,
      "outputs": [
        {
          "output_type": "execute_result",
          "data": {
            "text/plain": [
              "array([[False, False,  True, False, False],\n",
              "       [False, False, False, False, False],\n",
              "       [False, False, False, False, False]])"
            ]
          },
          "metadata": {},
          "execution_count": 40
        }
      ]
    },
    {
      "cell_type": "markdown",
      "source": [
        "👆 Isto indica que, no primeiro dia (primeira linha), o atleta de índice 2 (terceira coluna) demorou mais que 50 segundos em todas as voltas."
      ],
      "metadata": {
        "id": "esNJADs6nUBI"
      }
    },
    {
      "cell_type": "markdown",
      "source": [
        "Utilize `any` para repetir a análise, mas considerando o tempo gasto em qualquer volta."
      ],
      "metadata": {
        "id": "JsVbtD3Unlok"
      }
    },
    {
      "cell_type": "code",
      "source": [
        "array_mask.any(axis=2)"
      ],
      "metadata": {
        "colab": {
          "base_uri": "https://localhost:8080/"
        },
        "id": "KXFQ-AB6nJXE",
        "outputId": "f28be521-d561-451b-e33b-ba4bbbd22f89"
      },
      "execution_count": null,
      "outputs": [
        {
          "output_type": "execute_result",
          "data": {
            "text/plain": [
              "array([[ True,  True,  True,  True,  True],\n",
              "       [ True, False,  True,  True,  True],\n",
              "       [False,  True,  True,  True,  True]])"
            ]
          },
          "metadata": {},
          "execution_count": 41
        }
      ]
    },
    {
      "cell_type": "markdown",
      "source": [
        "👆 No primeiro dia, todos os atletas tiveram pelo menos uma volta que levou mais que 50 segundos; no segundo dia, só o atleta de índice 1 não teve um desempenho pior que 50 segundos."
      ],
      "metadata": {
        "id": "Jx-ibV1gnxBJ"
      }
    }
  ]
}