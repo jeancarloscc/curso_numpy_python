{
  "nbformat": 4,
  "nbformat_minor": 0,
  "metadata": {
    "colab": {
      "provenance": []
    },
    "kernelspec": {
      "name": "python3",
      "display_name": "Python 3"
    },
    "language_info": {
      "name": "python"
    }
  },
  "cells": [
    {
      "cell_type": "code",
      "execution_count": null,
      "metadata": {
        "colab": {
          "base_uri": "https://localhost:8080/",
          "height": 35
        },
        "id": "9U5fHsTXmTlI",
        "outputId": "41445b42-6440-4b60-99c2-073fc91c0101"
      },
      "outputs": [
        {
          "output_type": "execute_result",
          "data": {
            "text/plain": [
              "'1.25.2'"
            ],
            "application/vnd.google.colaboratory.intrinsic+json": {
              "type": "string"
            }
          },
          "metadata": {},
          "execution_count": 1
        }
      ],
      "source": [
        "import numpy as np\n",
        "np.__version__"
      ]
    },
    {
      "cell_type": "markdown",
      "source": [
        "### Produtos matriciais e vetoriais"
      ],
      "metadata": {
        "id": "jA1Yy1o-hQFm"
      }
    },
    {
      "cell_type": "markdown",
      "source": [
        "O array abaixo representa as notas de 5 alunos em 4 provas realizadas ao longo de um semestre."
      ],
      "metadata": {
        "id": "x3et92EVqR9t"
      }
    },
    {
      "cell_type": "code",
      "source": [
        "rng = np.random.default_rng(seed=5)"
      ],
      "metadata": {
        "id": "IPPMPJzCqYUO"
      },
      "execution_count": null,
      "outputs": []
    },
    {
      "cell_type": "code",
      "source": [
        "scores = np.clip( # limita as notas para o intervalo [0, 10]\n",
        "    a=np.round( # arredondamento das notas para 1 cada decimal\n",
        "        a=rng.normal(loc=7, scale=2, size=20), # amostra de números com distribuição normal\n",
        "        decimals=1\n",
        "        ),\n",
        "    a_min=0,\n",
        "    a_max=10\n",
        ").reshape(5, 4) # altera para o shape desejado"
      ],
      "metadata": {
        "id": "wyDF3CSRqdv6"
      },
      "execution_count": null,
      "outputs": []
    },
    {
      "cell_type": "code",
      "source": [
        "scores"
      ],
      "metadata": {
        "colab": {
          "base_uri": "https://localhost:8080/"
        },
        "id": "HVNVVSwWrPVu",
        "outputId": "9ab8d65a-9fb6-4d33-eeee-477851030a18"
      },
      "execution_count": null,
      "outputs": [
        {
          "output_type": "execute_result",
          "data": {
            "text/plain": [
              "array([[ 5.4,  4.4,  6.5,  7.8],\n",
              "       [ 9.3,  7.2,  5.9,  5.4],\n",
              "       [ 8.5, 10. ,  7.5,  4.5],\n",
              "       [ 5.1, 10. ,  7.4,  3.5],\n",
              "       [ 6.8,  4.7,  5.7,  6. ]])"
            ]
          },
          "metadata": {},
          "execution_count": 4
        }
      ]
    },
    {
      "cell_type": "markdown",
      "source": [
        "👆 5 alunos (5 linhas), 4 notas (4 colunas)."
      ],
      "metadata": {
        "id": "G5f-amFiqCHH"
      }
    },
    {
      "cell_type": "markdown",
      "source": [
        "Para calcular a média, o professor decidiu aplicar pesos diferentes a cada prova, conforme o array abaixo."
      ],
      "metadata": {
        "id": "S9HBw-UprSAY"
      }
    },
    {
      "cell_type": "code",
      "source": [
        "weights = np.array([[0.2],\n",
        "                    [0.3],\n",
        "                    [0.4],\n",
        "                    [0.1]])"
      ],
      "metadata": {
        "id": "gGJ_1F7MrQV9"
      },
      "execution_count": null,
      "outputs": []
    },
    {
      "cell_type": "code",
      "source": [
        "weights"
      ],
      "metadata": {
        "colab": {
          "base_uri": "https://localhost:8080/"
        },
        "id": "jAlnORVBryCd",
        "outputId": "f058cb90-2b4b-404d-c98d-fdd7c8e4bbc3"
      },
      "execution_count": null,
      "outputs": [
        {
          "output_type": "execute_result",
          "data": {
            "text/plain": [
              "array([[0.2],\n",
              "       [0.3],\n",
              "       [0.4],\n",
              "       [0.1]])"
            ]
          },
          "metadata": {},
          "execution_count": 6
        }
      ]
    },
    {
      "cell_type": "markdown",
      "source": [
        "#### `np.dot`"
      ],
      "metadata": {
        "id": "aT_WE5Q4hknW"
      }
    },
    {
      "cell_type": "markdown",
      "source": [
        "Utilize `np.dot` para calcular o produto entre as matrizes `scores` e `weights`."
      ],
      "metadata": {
        "id": "b0vnXdo3sHjl"
      }
    },
    {
      "cell_type": "code",
      "source": [
        "..."
      ],
      "metadata": {
        "colab": {
          "base_uri": "https://localhost:8080/"
        },
        "id": "KDYPrVguryk8",
        "outputId": "c041ab44-0916-48b1-b546-09dd46536646"
      },
      "execution_count": null,
      "outputs": [
        {
          "output_type": "execute_result",
          "data": {
            "text/plain": [
              "array([[5.78],\n",
              "       [6.92],\n",
              "       [8.15],\n",
              "       [7.33],\n",
              "       [5.65]])"
            ]
          },
          "metadata": {},
          "execution_count": 7
        }
      ]
    },
    {
      "cell_type": "markdown",
      "source": [
        "Observe que o resultado representa a **média ponderada** dos alunos."
      ],
      "metadata": {
        "id": "IUUyWv8csVzP"
      }
    },
    {
      "cell_type": "markdown",
      "source": [
        "#### `np.vdot`"
      ],
      "metadata": {
        "id": "ATOAsqMfkGRj"
      }
    },
    {
      "cell_type": "markdown",
      "source": [
        "Utilize indexação para separar as notas do aluno de índice 2 em uma nova variável."
      ],
      "metadata": {
        "id": "0UNKZpLqs1-C"
      }
    },
    {
      "cell_type": "code",
      "source": [
        "scores_2 = ..."
      ],
      "metadata": {
        "id": "pmXfVHkdsvGZ"
      },
      "execution_count": null,
      "outputs": []
    },
    {
      "cell_type": "code",
      "source": [
        "scores_2"
      ],
      "metadata": {
        "colab": {
          "base_uri": "https://localhost:8080/"
        },
        "id": "HF2xFsXctCQm",
        "outputId": "10f98244-0bfe-4b6b-ce3b-6e5da57b3ebe"
      },
      "execution_count": null,
      "outputs": [
        {
          "output_type": "execute_result",
          "data": {
            "text/plain": [
              "array([ 8.5, 10. ,  7.5,  4.5])"
            ]
          },
          "metadata": {},
          "execution_count": 9
        }
      ]
    },
    {
      "cell_type": "markdown",
      "source": [
        "Agora utilize `np.vdot` para determinar a média ponderada do aluno 2. Lembre-se que, como esta função só aceita vetores, você precisa linearizar `weights`, que está no formato de matriz. Pode utilizar tanto o método `ravel` quanto `flatten`, e pode aplicar este método no array `weights` diretamente na chamada da função `np.vdot`."
      ],
      "metadata": {
        "id": "K7SEoTgLtFK_"
      }
    },
    {
      "cell_type": "code",
      "source": [
        "..."
      ],
      "metadata": {
        "colab": {
          "base_uri": "https://localhost:8080/"
        },
        "id": "2Qo8h2KisYVV",
        "outputId": "063a3a12-ea03-4ab7-f10e-906ddf18ad7d"
      },
      "execution_count": null,
      "outputs": [
        {
          "output_type": "execute_result",
          "data": {
            "text/plain": [
              "8.15"
            ]
          },
          "metadata": {},
          "execution_count": 10
        }
      ]
    },
    {
      "cell_type": "markdown",
      "source": [
        "Observe que é o mesmo resultado obtido para o aluno 2 no exercício utilizando `np.dot`."
      ],
      "metadata": {
        "id": "DWTYsqrRtfWe"
      }
    },
    {
      "cell_type": "markdown",
      "source": [
        "####  `np.inner`"
      ],
      "metadata": {
        "id": "rpyF6PrQtn8j"
      }
    },
    {
      "cell_type": "markdown",
      "source": [
        "Refaça o mesmo cálculo mas utilizando a função `np.inner`."
      ],
      "metadata": {
        "id": "mnKocWsMtrkS"
      }
    },
    {
      "cell_type": "code",
      "source": [
        "..."
      ],
      "metadata": {
        "colab": {
          "base_uri": "https://localhost:8080/"
        },
        "id": "TGQhMCqEtkty",
        "outputId": "e03b2d8a-f004-460a-a9a9-26a685979419"
      },
      "execution_count": null,
      "outputs": [
        {
          "output_type": "execute_result",
          "data": {
            "text/plain": [
              "8.15"
            ]
          },
          "metadata": {},
          "execution_count": 11
        }
      ]
    },
    {
      "cell_type": "markdown",
      "source": [
        "Lembre-se que, para dois vetores, o produto interno (`inner`) é igual ao produto vetorial (`dot` ou `vdot`)."
      ],
      "metadata": {
        "id": "z1qhZ0xmtxaw"
      }
    },
    {
      "cell_type": "markdown",
      "source": [
        "#### `np.matmul`"
      ],
      "metadata": {
        "id": "xgY-MCh7uDpG"
      }
    },
    {
      "cell_type": "markdown",
      "source": [
        "Mais uma vez refaça o cálculo usando `np.matmul`."
      ],
      "metadata": {
        "id": "hg3pTAKQuIT1"
      }
    },
    {
      "cell_type": "code",
      "source": [
        "..."
      ],
      "metadata": {
        "colab": {
          "base_uri": "https://localhost:8080/"
        },
        "id": "CI1GXxnntwQV",
        "outputId": "6c454197-779b-4d11-8f54-243403bb2c2e"
      },
      "execution_count": null,
      "outputs": [
        {
          "output_type": "execute_result",
          "data": {
            "text/plain": [
              "8.15"
            ]
          },
          "metadata": {},
          "execution_count": 12
        }
      ]
    },
    {
      "cell_type": "markdown",
      "source": [
        "A multiplicação \"matricial\" entre dois vetores também corresponde ao produto vetorial entre eles."
      ],
      "metadata": {
        "id": "QzxmvaXMuPWi"
      }
    },
    {
      "cell_type": "markdown",
      "source": [
        "#### `np.outer`"
      ],
      "metadata": {
        "id": "9aCHP2cXuWou"
      }
    },
    {
      "cell_type": "markdown",
      "source": [
        "Esta função é útil quando queremos montar uma matriz a partir da multiplicação de dois vetores, onde os valores sejam o resultado da mutiplicação de todos os valores dos vetores."
      ],
      "metadata": {
        "id": "2BJ2LPm0ucbM"
      }
    },
    {
      "cell_type": "markdown",
      "source": [
        "Dados os dois vetores abaixo:"
      ],
      "metadata": {
        "id": "kTVyatcovQf8"
      }
    },
    {
      "cell_type": "code",
      "source": [
        "array_0 = np.array([2, 3, 7])\n",
        "array_1 = np.array([0.7, 0.2, 0.3, 0.4])"
      ],
      "metadata": {
        "id": "tLmFXDaeuNAw"
      },
      "execution_count": null,
      "outputs": []
    },
    {
      "cell_type": "markdown",
      "source": [
        "Determine a matriz que é obtida pela operação discriminada acima."
      ],
      "metadata": {
        "id": "mP22cWTbvasd"
      }
    },
    {
      "cell_type": "code",
      "source": [
        "..."
      ],
      "metadata": {
        "colab": {
          "base_uri": "https://localhost:8080/"
        },
        "id": "UagKzolHvZ4o",
        "outputId": "70f09993-cedf-4471-f661-2dc5f7d2e7d0"
      },
      "execution_count": null,
      "outputs": [
        {
          "output_type": "execute_result",
          "data": {
            "text/plain": [
              "array([[1.4, 0.4, 0.6, 0.8],\n",
              "       [2.1, 0.6, 0.9, 1.2],\n",
              "       [4.9, 1.4, 2.1, 2.8]])"
            ]
          },
          "metadata": {},
          "execution_count": 14
        }
      ]
    },
    {
      "cell_type": "markdown",
      "source": [
        "Observe que o formato da matriz reflete os comprimentos dos vetores: 3x4."
      ],
      "metadata": {
        "id": "ChioXrvHvjR8"
      }
    },
    {
      "cell_type": "markdown",
      "source": [
        "#### `np.linalg.det`"
      ],
      "metadata": {
        "id": "DSGxD49HnxFa"
      }
    },
    {
      "cell_type": "markdown",
      "source": [
        "O determinante de uma matriz quadrada é utilizado para calcular sua matriz inversa.\n",
        "\n",
        "Calcule o determinante da matriz abaixo."
      ],
      "metadata": {
        "id": "CKlH3vpYvziy"
      }
    },
    {
      "cell_type": "code",
      "source": [
        "array_2 = rng.normal(loc=5, scale=2, size=16).reshape(4, 4)"
      ],
      "metadata": {
        "id": "qEi2WPf8vuNm"
      },
      "execution_count": null,
      "outputs": []
    },
    {
      "cell_type": "code",
      "source": [
        "array_2"
      ],
      "metadata": {
        "colab": {
          "base_uri": "https://localhost:8080/"
        },
        "id": "FB5vW56owEwS",
        "outputId": "a38b1b09-3071-4bc6-95fe-8302aa993e85"
      },
      "execution_count": null,
      "outputs": [
        {
          "output_type": "execute_result",
          "data": {
            "text/plain": [
              "array([[3.57337326, 6.10675694, 4.87382806, 3.82113748],\n",
              "       [5.81927565, 6.65971061, 1.71395326, 4.48653975],\n",
              "       [3.03850529, 4.65368955, 2.42116251, 5.04138079],\n",
              "       [4.92422852, 4.3913245 , 2.90414699, 4.20761934]])"
            ]
          },
          "metadata": {},
          "execution_count": 16
        }
      ]
    },
    {
      "cell_type": "code",
      "source": [
        "..."
      ],
      "metadata": {
        "colab": {
          "base_uri": "https://localhost:8080/"
        },
        "id": "fnAp2wJ6wGuF",
        "outputId": "0c6b8341-cb40-405e-c16f-1cc070ccacaa"
      },
      "execution_count": null,
      "outputs": [
        {
          "output_type": "execute_result",
          "data": {
            "text/plain": [
              "101.71871198583534"
            ]
          },
          "metadata": {},
          "execution_count": 17
        }
      ]
    },
    {
      "cell_type": "markdown",
      "source": [
        "#### `np.linalg.inv`"
      ],
      "metadata": {
        "id": "PxqtOMCfougW"
      }
    },
    {
      "cell_type": "markdown",
      "source": [
        "Mas você também pode obter a inversa diretamente com a função `np.linalg.inv`. Faça isso para `array_2`."
      ],
      "metadata": {
        "id": "oTLk-qxJwM_L"
      }
    },
    {
      "cell_type": "code",
      "source": [
        "array_2_inv = ..."
      ],
      "metadata": {
        "id": "OR2JRVgavusu"
      },
      "execution_count": null,
      "outputs": []
    },
    {
      "cell_type": "code",
      "source": [
        "array_2_inv"
      ],
      "metadata": {
        "colab": {
          "base_uri": "https://localhost:8080/"
        },
        "id": "pUP9I1dDwkAG",
        "outputId": "57a9ea03-c0f8-4d7a-d5da-510fc248f6db"
      },
      "execution_count": null,
      "outputs": [
        {
          "output_type": "execute_result",
          "data": {
            "text/plain": [
              "array([[-0.12133586,  0.03653967, -0.30410658,  0.43559582],\n",
              "       [ 0.18856179,  0.30405942,  0.00121017, -0.49690715],\n",
              "       [ 0.21974751, -0.27338361, -0.12332989,  0.2397113 ],\n",
              "       [-0.20646582, -0.17140502,  0.43976035,  0.08103165]])"
            ]
          },
          "metadata": {},
          "execution_count": 19
        }
      ]
    },
    {
      "cell_type": "markdown",
      "source": [
        "Utilize `np.matmul` para confirmar que a multiplicação matricial entre uma matriz e sua inversa resulta na matriz identidade, onde os valores da diagonal são iguais a 1 e os demais são 0."
      ],
      "metadata": {
        "id": "FEQBg7wywk6-"
      }
    },
    {
      "cell_type": "code",
      "source": [
        "array_mul = ..."
      ],
      "metadata": {
        "id": "2FY-VB9EwYeD"
      },
      "execution_count": null,
      "outputs": []
    },
    {
      "cell_type": "code",
      "source": [
        "array_mul"
      ],
      "metadata": {
        "colab": {
          "base_uri": "https://localhost:8080/"
        },
        "id": "_kb8y4N-w7a3",
        "outputId": "1a3fad66-dfdc-474f-e54f-3d81026f4584"
      },
      "execution_count": null,
      "outputs": [
        {
          "output_type": "execute_result",
          "data": {
            "text/plain": [
              "array([[ 1.00000000e+00, -2.28370863e-16, -4.34034021e-17,\n",
              "        -1.88323981e-16],\n",
              "       [-1.56417331e-16,  1.00000000e+00,  2.45108307e-16,\n",
              "         3.63683316e-17],\n",
              "       [-1.72780463e-16, -2.91534209e-16,  1.00000000e+00,\n",
              "        -1.67128393e-16],\n",
              "       [ 3.04949725e-17, -3.01842060e-16, -1.31248302e-16,\n",
              "         1.00000000e+00]])"
            ]
          },
          "metadata": {},
          "execution_count": 21
        }
      ]
    },
    {
      "cell_type": "markdown",
      "source": [
        "Estes valores estão difíceis de interpretar por causa dos arredondamentos que o NumPy fez."
      ],
      "metadata": {
        "id": "NHCtPjtcxYSx"
      }
    },
    {
      "cell_type": "markdown",
      "source": [
        "Vamos instanciar uma matriz identidade no mesmo formato de `array_mul`. Isto é feito com a função `np.identity`."
      ],
      "metadata": {
        "id": "ttZHRaGNw_oh"
      }
    },
    {
      "cell_type": "code",
      "source": [
        "array_identity = ..."
      ],
      "metadata": {
        "id": "e7b2owtuwzY4"
      },
      "execution_count": null,
      "outputs": []
    },
    {
      "cell_type": "code",
      "source": [
        "array_identity"
      ],
      "metadata": {
        "colab": {
          "base_uri": "https://localhost:8080/"
        },
        "id": "dpS6kmWcxHKm",
        "outputId": "fc6d4690-be6a-470a-837a-2c78bd6ce594"
      },
      "execution_count": null,
      "outputs": [
        {
          "output_type": "execute_result",
          "data": {
            "text/plain": [
              "array([[1., 0., 0., 0.],\n",
              "       [0., 1., 0., 0.],\n",
              "       [0., 0., 1., 0.],\n",
              "       [0., 0., 0., 1.]])"
            ]
          },
          "metadata": {},
          "execution_count": 23
        }
      ]
    },
    {
      "cell_type": "markdown",
      "source": [
        "Por fim, utilize `np.allclose` para verificar que os valores de `array_mul` são virtualmente iguais a `array_identity`."
      ],
      "metadata": {
        "id": "TrMIAyCcxIfQ"
      }
    },
    {
      "cell_type": "code",
      "source": [
        "..."
      ],
      "metadata": {
        "colab": {
          "base_uri": "https://localhost:8080/"
        },
        "id": "QdJXYe-2xQ6s",
        "outputId": "9431e478-c5f9-433a-a0b3-0734994fb4d5"
      },
      "execution_count": null,
      "outputs": [
        {
          "output_type": "execute_result",
          "data": {
            "text/plain": [
              "True"
            ]
          },
          "metadata": {},
          "execution_count": 24
        }
      ]
    }
  ]
}