{
 "cells": [
  {
   "cell_type": "markdown",
   "id": "ac83dfbb-c50e-4eca-ac21-79aa45d14faf",
   "metadata": {},
   "source": [
    "# Funções Universais"
   ]
  },
  {
   "cell_type": "code",
   "execution_count": 1,
   "id": "168dae5b-5d8a-4b08-85ea-b497185a30e8",
   "metadata": {},
   "outputs": [],
   "source": [
    "import numpy as np"
   ]
  },
  {
   "cell_type": "markdown",
   "id": "32d806ce-fb11-4040-b5a6-5c2b45189eee",
   "metadata": {},
   "source": [
    "## Ufuncs"
   ]
  },
  {
   "cell_type": "code",
   "execution_count": 2,
   "id": "8e29260d-213b-4d1e-8244-320d78c5fee8",
   "metadata": {},
   "outputs": [],
   "source": [
    "rng = np.random.default_rng(seed=2)"
   ]
  },
  {
   "cell_type": "code",
   "execution_count": 4,
   "id": "cb0d1574-bb3f-4e0b-9b0e-b0e690558015",
   "metadata": {},
   "outputs": [
    {
     "data": {
      "text/plain": [
       "array([[ 6, -5, -8, -5, -2],\n",
       "       [ 6, -1, -9, -4,  2],\n",
       "       [ 6,  4,  9, -7,  7],\n",
       "       [-9,  1, -5, -6,  3]])"
      ]
     },
     "execution_count": 4,
     "metadata": {},
     "output_type": "execute_result"
    }
   ],
   "source": [
    "array_1 = rng.integers(low=-10, high=10, size=20).reshape(4,5)\n",
    "array_1"
   ]
  },
  {
   "cell_type": "code",
   "execution_count": 5,
   "id": "1095aa31-84cd-4019-b69a-2e8877214975",
   "metadata": {},
   "outputs": [
    {
     "data": {
      "text/plain": [
       "array([[ -4,   1,  -5,  -7,   4],\n",
       "       [ -2,   3,   3,   8,  -2],\n",
       "       [ -6,   2,   8,   9,   7],\n",
       "       [  3,  -3,  -3, -10,  -7]])"
      ]
     },
     "execution_count": 5,
     "metadata": {},
     "output_type": "execute_result"
    }
   ],
   "source": [
    "array_2 = rng.integers(low=-10, high=10, size=20).reshape(4,5)\n",
    "array_2"
   ]
  },
  {
   "cell_type": "markdown",
   "id": "1dd14482-69e2-4248-8fab-edce207fd61a",
   "metadata": {},
   "source": [
    "## Funções Matemáticas"
   ]
  },
  {
   "cell_type": "markdown",
   "id": "b43bddb2-9725-46cd-b8bc-0667d8b936fe",
   "metadata": {},
   "source": [
    "``np.add, np.subtract, np.multiply e np.divide``"
   ]
  },
  {
   "cell_type": "code",
   "execution_count": 6,
   "id": "c9b6b1aa-de42-43c0-8618-078c800dfef5",
   "metadata": {},
   "outputs": [
    {
     "data": {
      "text/plain": [
       "array([[  2,  -4, -13, -12,   2],\n",
       "       [  4,   2,  -6,   4,   0],\n",
       "       [  0,   6,  17,   2,  14],\n",
       "       [ -6,  -2,  -8, -16,  -4]])"
      ]
     },
     "execution_count": 6,
     "metadata": {},
     "output_type": "execute_result"
    }
   ],
   "source": [
    "np.add(array_1, array_2)"
   ]
  },
  {
   "cell_type": "code",
   "execution_count": 7,
   "id": "dfec5fcc-fefd-483c-a4b4-89f54918179e",
   "metadata": {},
   "outputs": [
    {
     "data": {
      "text/plain": [
       "array([[ 10,  -6,  -3,   2,  -6],\n",
       "       [  8,  -4, -12, -12,   4],\n",
       "       [ 12,   2,   1, -16,   0],\n",
       "       [-12,   4,  -2,   4,  10]])"
      ]
     },
     "execution_count": 7,
     "metadata": {},
     "output_type": "execute_result"
    }
   ],
   "source": [
    "np.subtract(array_1, array_2)"
   ]
  },
  {
   "cell_type": "code",
   "execution_count": 8,
   "id": "533722a8-0547-44f0-adcc-d577baed374a",
   "metadata": {},
   "outputs": [
    {
     "data": {
      "text/plain": [
       "array([[-24,  -5,  40,  35,  -8],\n",
       "       [-12,  -3, -27, -32,  -4],\n",
       "       [-36,   8,  72, -63,  49],\n",
       "       [-27,  -3,  15,  60, -21]])"
      ]
     },
     "execution_count": 8,
     "metadata": {},
     "output_type": "execute_result"
    }
   ],
   "source": [
    "np.multiply(array_1, array_2)"
   ]
  },
  {
   "cell_type": "code",
   "execution_count": 9,
   "id": "ff8ad856-8cc9-41f5-89fa-dd6032eea4f4",
   "metadata": {},
   "outputs": [
    {
     "data": {
      "text/plain": [
       "array([[-1.5       , -5.        ,  1.6       ,  0.71428571, -0.5       ],\n",
       "       [-3.        , -0.33333333, -3.        , -0.5       , -1.        ],\n",
       "       [-1.        ,  2.        ,  1.125     , -0.77777778,  1.        ],\n",
       "       [-3.        , -0.33333333,  1.66666667,  0.6       , -0.42857143]])"
      ]
     },
     "execution_count": 9,
     "metadata": {},
     "output_type": "execute_result"
    }
   ],
   "source": [
    "np.divide(array_1, array_2)"
   ]
  },
  {
   "cell_type": "markdown",
   "id": "fdd82118-5d8f-4cc9-8870-910429b746cd",
   "metadata": {},
   "source": [
    "``np.mod``"
   ]
  },
  {
   "cell_type": "code",
   "execution_count": 10,
   "id": "1ba549cb-66c3-414e-a93f-6f1777f13a7b",
   "metadata": {},
   "outputs": [
    {
     "data": {
      "text/plain": [
       "array([[0, 1, 0, 1, 0],\n",
       "       [0, 1, 1, 0, 0],\n",
       "       [0, 0, 1, 1, 1],\n",
       "       [1, 1, 1, 0, 1]])"
      ]
     },
     "execution_count": 10,
     "metadata": {},
     "output_type": "execute_result"
    }
   ],
   "source": [
    "np.mod(array_1, 2)"
   ]
  },
  {
   "cell_type": "markdown",
   "id": "24733619-d651-46d2-aa1a-0b8debf5d393",
   "metadata": {},
   "source": [
    "``np.divmod``"
   ]
  },
  {
   "cell_type": "code",
   "execution_count": 11,
   "id": "f255a056-288c-4ed7-afb7-43cd245ee1ff",
   "metadata": {},
   "outputs": [
    {
     "data": {
      "text/plain": [
       "(array([[ 3, -3, -4, -3, -1],\n",
       "        [ 3, -1, -5, -2,  1],\n",
       "        [ 3,  2,  4, -4,  3],\n",
       "        [-5,  0, -3, -3,  1]]),\n",
       " array([[0, 1, 0, 1, 0],\n",
       "        [0, 1, 1, 0, 0],\n",
       "        [0, 0, 1, 1, 1],\n",
       "        [1, 1, 1, 0, 1]]))"
      ]
     },
     "execution_count": 11,
     "metadata": {},
     "output_type": "execute_result"
    }
   ],
   "source": [
    "np.divmod(array_1, 2)"
   ]
  },
  {
   "cell_type": "markdown",
   "id": "5fcab2e9-1e18-4ff1-af63-0a1879fdc193",
   "metadata": {},
   "source": [
    "``np.absolute``"
   ]
  },
  {
   "cell_type": "code",
   "execution_count": 12,
   "id": "1023fbad-5407-4788-ad98-801364ab39c7",
   "metadata": {},
   "outputs": [
    {
     "data": {
      "text/plain": [
       "array([[ 6, -5, -8, -5, -2],\n",
       "       [ 6, -1, -9, -4,  2],\n",
       "       [ 6,  4,  9, -7,  7],\n",
       "       [-9,  1, -5, -6,  3]])"
      ]
     },
     "execution_count": 12,
     "metadata": {},
     "output_type": "execute_result"
    }
   ],
   "source": [
    "array_1"
   ]
  },
  {
   "cell_type": "code",
   "execution_count": 13,
   "id": "39c2e99e-1527-4b06-ba22-ec881db4c346",
   "metadata": {},
   "outputs": [
    {
     "data": {
      "text/plain": [
       "array([[6, 5, 8, 5, 2],\n",
       "       [6, 1, 9, 4, 2],\n",
       "       [6, 4, 9, 7, 7],\n",
       "       [9, 1, 5, 6, 3]])"
      ]
     },
     "execution_count": 13,
     "metadata": {},
     "output_type": "execute_result"
    }
   ],
   "source": [
    "np.absolute(array_1)"
   ]
  },
  {
   "cell_type": "markdown",
   "id": "5c42e6e6-10c3-46c7-b54c-0925e95c27d7",
   "metadata": {},
   "source": [
    "``np.diff``"
   ]
  },
  {
   "cell_type": "code",
   "execution_count": 15,
   "id": "f101dd2f-318d-45ff-84de-8d1eb94fb01a",
   "metadata": {},
   "outputs": [
    {
     "data": {
      "text/plain": [
       "array([[-11,  -3,   3,   3],\n",
       "       [ -7,  -8,   5,   6],\n",
       "       [ -2,   5, -16,  14],\n",
       "       [ 10,  -6,  -1,   9]])"
      ]
     },
     "execution_count": 15,
     "metadata": {},
     "output_type": "execute_result"
    }
   ],
   "source": [
    "np.diff(a = array_1)"
   ]
  },
  {
   "cell_type": "code",
   "execution_count": 16,
   "id": "3c6f8908-2a2c-45d1-98b6-9311a5e6d26f",
   "metadata": {},
   "outputs": [
    {
     "data": {
      "text/plain": [
       "array([[  0,   4,  -1,   1,   4],\n",
       "       [  0,   5,  18,  -3,   5],\n",
       "       [-15,  -3, -14,   1,  -4]])"
      ]
     },
     "execution_count": 16,
     "metadata": {},
     "output_type": "execute_result"
    }
   ],
   "source": [
    "np.diff(array_1, axis=0)"
   ]
  },
  {
   "cell_type": "code",
   "execution_count": 18,
   "id": "43eedabb-7067-478f-a2b2-0ab0f2c9a7dd",
   "metadata": {},
   "outputs": [
    {
     "data": {
      "text/plain": [
       "array([[  8,   6,   0],\n",
       "       [ -1,  13,   1],\n",
       "       [  7, -21,  30],\n",
       "       [-16,   5,  10]])"
      ]
     },
     "execution_count": 18,
     "metadata": {},
     "output_type": "execute_result"
    }
   ],
   "source": [
    "np.diff(array_1, n = 2)"
   ]
  },
  {
   "cell_type": "markdown",
   "id": "5ce39846-98c6-49ab-af89-02ae6c04b302",
   "metadata": {},
   "source": [
    "``np.power, np.exp e np.log``"
   ]
  },
  {
   "cell_type": "code",
   "execution_count": 19,
   "id": "b9e12a53-c50b-410c-b1ba-efbf581f7d31",
   "metadata": {},
   "outputs": [
    {
     "data": {
      "text/plain": [
       "array([[36, 25, 64, 25,  4],\n",
       "       [36,  1, 81, 16,  4],\n",
       "       [36, 16, 81, 49, 49],\n",
       "       [81,  1, 25, 36,  9]])"
      ]
     },
     "execution_count": 19,
     "metadata": {},
     "output_type": "execute_result"
    }
   ],
   "source": [
    "np.power(array_1, 2) # elevar o número ao quadrado"
   ]
  },
  {
   "cell_type": "code",
   "execution_count": 21,
   "id": "deb14dd1-f086-4878-8deb-2060f8acc3a2",
   "metadata": {},
   "outputs": [
    {
     "data": {
      "text/plain": [
       "array([[  36,   25,   64,   25,    4],\n",
       "       [  36,    1,   81,   16,    4],\n",
       "       [ 216,   64,  729, -343,  343],\n",
       "       [-729,    1, -125, -216,   27]])"
      ]
     },
     "execution_count": 21,
     "metadata": {},
     "output_type": "execute_result"
    }
   ],
   "source": [
    "np.power(array_1, [[2], [2], [3], [3]])"
   ]
  },
  {
   "cell_type": "code",
   "execution_count": 22,
   "id": "10ca92c5-a1b8-4387-a2b6-4685666c76f4",
   "metadata": {},
   "outputs": [
    {
     "data": {
      "text/plain": [
       "array([[  36,   25, -512, -125,   -8],\n",
       "       [  36,    1, -729,  -64,    8],\n",
       "       [  36,   16,  729, -343,  343],\n",
       "       [  81,    1, -125, -216,   27]])"
      ]
     },
     "execution_count": 22,
     "metadata": {},
     "output_type": "execute_result"
    }
   ],
   "source": [
    "np.power(array_1, [[2, 2, 3, 3, 3]])"
   ]
  },
  {
   "cell_type": "code",
   "execution_count": 23,
   "id": "f7da9d0e-0841-45e1-8a9f-0f0b7fadf58b",
   "metadata": {},
   "outputs": [
    {
     "data": {
      "text/plain": [
       "array([[4.03428793e+02, 6.73794700e-03, 3.35462628e-04, 6.73794700e-03,\n",
       "        1.35335283e-01],\n",
       "       [4.03428793e+02, 3.67879441e-01, 1.23409804e-04, 1.83156389e-02,\n",
       "        7.38905610e+00],\n",
       "       [4.03428793e+02, 5.45981500e+01, 8.10308393e+03, 9.11881966e-04,\n",
       "        1.09663316e+03],\n",
       "       [1.23409804e-04, 2.71828183e+00, 6.73794700e-03, 2.47875218e-03,\n",
       "        2.00855369e+01]])"
      ]
     },
     "execution_count": 23,
     "metadata": {},
     "output_type": "execute_result"
    }
   ],
   "source": [
    "np.exp(array_1) # calculo e**valor"
   ]
  },
  {
   "cell_type": "code",
   "execution_count": 24,
   "id": "a6dccb27-29ad-4e1c-b37c-02e6c138ac58",
   "metadata": {},
   "outputs": [
    {
     "name": "stderr",
     "output_type": "stream",
     "text": [
      "/tmp/ipykernel_9337/3647096076.py:1: RuntimeWarning: invalid value encountered in log\n",
      "  np.log(array_1)\n"
     ]
    },
    {
     "data": {
      "text/plain": [
       "array([[1.79175947,        nan,        nan,        nan,        nan],\n",
       "       [1.79175947,        nan,        nan,        nan, 0.69314718],\n",
       "       [1.79175947, 1.38629436, 2.19722458,        nan, 1.94591015],\n",
       "       [       nan, 0.        ,        nan,        nan, 1.09861229]])"
      ]
     },
     "execution_count": 24,
     "metadata": {},
     "output_type": "execute_result"
    }
   ],
   "source": [
    "np.log(array_1)"
   ]
  },
  {
   "cell_type": "markdown",
   "id": "51e62300-d217-4e05-bcd8-012c351c4f34",
   "metadata": {},
   "source": [
    "``np.reciprocal``"
   ]
  },
  {
   "cell_type": "code",
   "execution_count": 26,
   "id": "606bccd0-49a0-45f9-bfc6-c3ef9a57b126",
   "metadata": {},
   "outputs": [
    {
     "data": {
      "text/plain": [
       "array([[ 0.16666667, -0.2       , -0.125     , -0.2       , -0.5       ],\n",
       "       [ 0.16666667, -1.        , -0.11111111, -0.25      ,  0.5       ],\n",
       "       [ 0.16666667,  0.25      ,  0.11111111, -0.14285714,  0.14285714],\n",
       "       [-0.11111111,  1.        , -0.2       , -0.16666667,  0.33333333]])"
      ]
     },
     "execution_count": 26,
     "metadata": {},
     "output_type": "execute_result"
    }
   ],
   "source": [
    "np.reciprocal(array_1.astype(float)) # 1 / valor"
   ]
  },
  {
   "cell_type": "code",
   "execution_count": null,
   "id": "d1b7ad5a-4cea-45db-82d1-e687d2591a3d",
   "metadata": {},
   "outputs": [],
   "source": []
  },
  {
   "cell_type": "markdown",
   "id": "30053d84-5f74-42cb-8707-7417e9a8e6cc",
   "metadata": {},
   "source": [
    "``np.sqrt e np.cbrt``"
   ]
  },
  {
   "cell_type": "code",
   "execution_count": 27,
   "id": "c39f32f3-8de1-4617-a84c-d3b6e1cfe580",
   "metadata": {},
   "outputs": [
    {
     "name": "stderr",
     "output_type": "stream",
     "text": [
      "/tmp/ipykernel_9337/3607161969.py:1: RuntimeWarning: invalid value encountered in sqrt\n",
      "  np.sqrt(array_1)\n"
     ]
    },
    {
     "data": {
      "text/plain": [
       "array([[2.44948974,        nan,        nan,        nan,        nan],\n",
       "       [2.44948974,        nan,        nan,        nan, 1.41421356],\n",
       "       [2.44948974, 2.        , 3.        ,        nan, 2.64575131],\n",
       "       [       nan, 1.        ,        nan,        nan, 1.73205081]])"
      ]
     },
     "execution_count": 27,
     "metadata": {},
     "output_type": "execute_result"
    }
   ],
   "source": [
    "np.sqrt(array_1)"
   ]
  },
  {
   "cell_type": "code",
   "execution_count": 28,
   "id": "adcc158e-8df2-4c01-8b61-0c5115887346",
   "metadata": {},
   "outputs": [
    {
     "data": {
      "text/plain": [
       "array([[ 1.81712059, -1.70997595, -2.        , -1.70997595, -1.25992105],\n",
       "       [ 1.81712059, -1.        , -2.08008382, -1.58740105,  1.25992105],\n",
       "       [ 1.81712059,  1.58740105,  2.08008382, -1.91293118,  1.91293118],\n",
       "       [-2.08008382,  1.        , -1.70997595, -1.81712059,  1.44224957]])"
      ]
     },
     "execution_count": 28,
     "metadata": {},
     "output_type": "execute_result"
    }
   ],
   "source": [
    "np.cbrt(array_1)"
   ]
  },
  {
   "cell_type": "markdown",
   "id": "fd25f648-bcc2-4726-9438-5dee5617a66d",
   "metadata": {},
   "source": [
    "``np.gcd e np.lcm``"
   ]
  },
  {
   "cell_type": "code",
   "execution_count": 29,
   "id": "d0241ded-db7a-430d-a124-487d6c13b4c9",
   "metadata": {},
   "outputs": [
    {
     "data": {
      "text/plain": [
       "(array([[ 6, -5, -8, -5, -2],\n",
       "        [ 6, -1, -9, -4,  2],\n",
       "        [ 6,  4,  9, -7,  7],\n",
       "        [-9,  1, -5, -6,  3]]),\n",
       " array([[ -4,   1,  -5,  -7,   4],\n",
       "        [ -2,   3,   3,   8,  -2],\n",
       "        [ -6,   2,   8,   9,   7],\n",
       "        [  3,  -3,  -3, -10,  -7]]))"
      ]
     },
     "execution_count": 29,
     "metadata": {},
     "output_type": "execute_result"
    }
   ],
   "source": [
    "array_1, array_2"
   ]
  },
  {
   "cell_type": "code",
   "execution_count": 30,
   "id": "97e067b1-6c30-44d5-bfb8-77b0d2abfa05",
   "metadata": {},
   "outputs": [
    {
     "data": {
      "text/plain": [
       "array([[2, 1, 1, 1, 2],\n",
       "       [2, 1, 3, 4, 2],\n",
       "       [6, 2, 1, 1, 7],\n",
       "       [3, 1, 1, 2, 1]])"
      ]
     },
     "execution_count": 30,
     "metadata": {},
     "output_type": "execute_result"
    }
   ],
   "source": [
    "np.gcd(array_1, array_2)"
   ]
  },
  {
   "cell_type": "code",
   "execution_count": 31,
   "id": "f5896ec5-33fd-4bfe-b79b-ecccba627bfa",
   "metadata": {},
   "outputs": [
    {
     "data": {
      "text/plain": [
       "array([[12,  5, 40, 35,  4],\n",
       "       [ 6,  3,  9,  8,  2],\n",
       "       [ 6,  4, 72, 63,  7],\n",
       "       [ 9,  3, 15, 30, 21]])"
      ]
     },
     "execution_count": 31,
     "metadata": {},
     "output_type": "execute_result"
    }
   ],
   "source": [
    "np.lcm(array_1, array_2)"
   ]
  },
  {
   "cell_type": "markdown",
   "id": "313028b2-a23d-4907-bd17-223a9a207d8d",
   "metadata": {},
   "source": [
    "## Funções de comparação"
   ]
  },
  {
   "cell_type": "markdown",
   "id": "475341d5-1030-49bd-9a51-7d73a0525c01",
   "metadata": {},
   "source": [
    "``np.maximum e np.minimum``"
   ]
  },
  {
   "cell_type": "code",
   "execution_count": 32,
   "id": "b6ce0b6f-a170-4fe9-bf9a-5f0373a17c36",
   "metadata": {},
   "outputs": [
    {
     "data": {
      "text/plain": [
       "(array([[ 6, -5, -8, -5, -2],\n",
       "        [ 6, -1, -9, -4,  2],\n",
       "        [ 6,  4,  9, -7,  7],\n",
       "        [-9,  1, -5, -6,  3]]),\n",
       " array([[ -4,   1,  -5,  -7,   4],\n",
       "        [ -2,   3,   3,   8,  -2],\n",
       "        [ -6,   2,   8,   9,   7],\n",
       "        [  3,  -3,  -3, -10,  -7]]))"
      ]
     },
     "execution_count": 32,
     "metadata": {},
     "output_type": "execute_result"
    }
   ],
   "source": [
    "array_1, array_2"
   ]
  },
  {
   "cell_type": "code",
   "execution_count": 33,
   "id": "775c8a76-0b0e-4562-8ae5-1479cd6a11a4",
   "metadata": {},
   "outputs": [
    {
     "data": {
      "text/plain": [
       "array([[ 6,  1, -5, -5,  4],\n",
       "       [ 6,  3,  3,  8,  2],\n",
       "       [ 6,  4,  9,  9,  7],\n",
       "       [ 3,  1, -3, -6,  3]])"
      ]
     },
     "execution_count": 33,
     "metadata": {},
     "output_type": "execute_result"
    }
   ],
   "source": [
    "np.maximum(array_1, array_2)"
   ]
  },
  {
   "cell_type": "code",
   "execution_count": 34,
   "id": "53de14c6-fa50-4adc-8fa6-121f77544ded",
   "metadata": {},
   "outputs": [
    {
     "data": {
      "text/plain": [
       "array([[ -4,  -5,  -8,  -7,  -2],\n",
       "       [ -2,  -1,  -9,  -4,  -2],\n",
       "       [ -6,   2,   8,  -7,   7],\n",
       "       [ -9,  -3,  -5, -10,  -7]])"
      ]
     },
     "execution_count": 34,
     "metadata": {},
     "output_type": "execute_result"
    }
   ],
   "source": [
    "np.minimum(array_1, array_2)"
   ]
  },
  {
   "cell_type": "markdown",
   "id": "25d7b0b3-3198-4e10-8cdb-610da8da2425",
   "metadata": {},
   "source": [
    "``np.greater, np.greater_equal, np.less, np.less_equal, np.not_equal e np.equal``"
   ]
  },
  {
   "cell_type": "code",
   "execution_count": 35,
   "id": "2394097a-a579-4595-ab64-d042cb8f3ac5",
   "metadata": {},
   "outputs": [
    {
     "data": {
      "text/plain": [
       "array([[ True, False, False,  True, False],\n",
       "       [ True, False, False, False,  True],\n",
       "       [ True,  True,  True, False, False],\n",
       "       [False,  True, False,  True,  True]])"
      ]
     },
     "execution_count": 35,
     "metadata": {},
     "output_type": "execute_result"
    }
   ],
   "source": [
    "np.greater(array_1, array_2)"
   ]
  },
  {
   "cell_type": "code",
   "execution_count": 36,
   "id": "52deef9e-cace-4152-8e0f-5982e339e586",
   "metadata": {},
   "outputs": [
    {
     "data": {
      "text/plain": [
       "array([[False,  True,  True, False,  True],\n",
       "       [False,  True,  True,  True, False],\n",
       "       [False, False, False,  True,  True],\n",
       "       [ True, False,  True, False, False]])"
      ]
     },
     "execution_count": 36,
     "metadata": {},
     "output_type": "execute_result"
    }
   ],
   "source": [
    "np.less_equal(array_1, array_2)"
   ]
  },
  {
   "cell_type": "code",
   "execution_count": 37,
   "id": "76c8e2ee-d2ca-4093-920b-d52f0beba63c",
   "metadata": {},
   "outputs": [
    {
     "data": {
      "text/plain": [
       "array([[False, False, False, False, False],\n",
       "       [False, False, False, False, False],\n",
       "       [False, False, False, False,  True],\n",
       "       [False, False, False, False, False]])"
      ]
     },
     "execution_count": 37,
     "metadata": {},
     "output_type": "execute_result"
    }
   ],
   "source": [
    "np.equal(array_1, array_2)"
   ]
  },
  {
   "cell_type": "markdown",
   "id": "6fc580fe-9b56-4496-8bb1-1ea04bfd557f",
   "metadata": {},
   "source": [
    "``logical_and, logical_or, logical_xor e logical_not``"
   ]
  },
  {
   "cell_type": "code",
   "execution_count": 38,
   "id": "5a3ca903-508d-4bfe-ad39-5aac4d2432fc",
   "metadata": {},
   "outputs": [
    {
     "data": {
      "text/plain": [
       "array([[ True, False, False, False, False],\n",
       "       [ True, False, False, False,  True],\n",
       "       [ True,  True,  True, False,  True],\n",
       "       [False,  True, False, False,  True]])"
      ]
     },
     "execution_count": 38,
     "metadata": {},
     "output_type": "execute_result"
    }
   ],
   "source": [
    "comparison_1 = array_1 > 0\n",
    "comparison_1"
   ]
  },
  {
   "cell_type": "code",
   "execution_count": 40,
   "id": "a0bfb0e5-c0fa-47bd-8846-c02626663346",
   "metadata": {},
   "outputs": [
    {
     "data": {
      "text/plain": [
       "array([[ True, False,  True, False,  True],\n",
       "       [ True, False, False,  True,  True],\n",
       "       [ True,  True, False, False, False],\n",
       "       [False, False, False,  True, False]])"
      ]
     },
     "execution_count": 40,
     "metadata": {},
     "output_type": "execute_result"
    }
   ],
   "source": [
    "comparison_2 = np.mod(array_1, 2) == 0\n",
    "comparison_2"
   ]
  },
  {
   "cell_type": "code",
   "execution_count": 41,
   "id": "b7bc30c8-380c-45ea-a5bf-c16047228e7b",
   "metadata": {},
   "outputs": [
    {
     "data": {
      "text/plain": [
       "array([[ True, False, False, False, False],\n",
       "       [ True, False, False, False,  True],\n",
       "       [ True,  True, False, False, False],\n",
       "       [False, False, False, False, False]])"
      ]
     },
     "execution_count": 41,
     "metadata": {},
     "output_type": "execute_result"
    }
   ],
   "source": [
    "np.logical_and(comparison_1, comparison_2) # todos os valores positivos E pares"
   ]
  },
  {
   "cell_type": "code",
   "execution_count": 43,
   "id": "dd9427ff-b39f-42b0-8393-ce4ab56358b6",
   "metadata": {},
   "outputs": [
    {
     "data": {
      "text/plain": [
       "array([[ True, False,  True, False,  True],\n",
       "       [ True, False, False,  True,  True],\n",
       "       [ True,  True,  True, False,  True],\n",
       "       [False,  True, False,  True,  True]])"
      ]
     },
     "execution_count": 43,
     "metadata": {},
     "output_type": "execute_result"
    }
   ],
   "source": [
    "np.logical_or(comparison_1, comparison_2) # todos os valores positivos OU pares"
   ]
  },
  {
   "cell_type": "code",
   "execution_count": 44,
   "id": "a7ac5dcc-9395-4d1d-9f2f-e96358218832",
   "metadata": {},
   "outputs": [
    {
     "data": {
      "text/plain": [
       "array([[False,  True,  True,  True,  True],\n",
       "       [False,  True,  True,  True, False],\n",
       "       [False, False, False,  True, False],\n",
       "       [ True, False,  True,  True, False]])"
      ]
     },
     "execution_count": 44,
     "metadata": {},
     "output_type": "execute_result"
    }
   ],
   "source": [
    "np.logical_not(comparison_1, comparison_2) # todos os valores positivos NÃO pares"
   ]
  },
  {
   "cell_type": "code",
   "execution_count": 45,
   "id": "acfea24e-5dc9-4ba8-868d-8edab3999700",
   "metadata": {},
   "outputs": [
    {
     "data": {
      "text/plain": [
       "array([[ True,  True,  True,  True,  True],\n",
       "       [ True,  True,  True,  True,  True],\n",
       "       [ True,  True,  True,  True,  True],\n",
       "       [ True,  True,  True,  True,  True]])"
      ]
     },
     "execution_count": 45,
     "metadata": {},
     "output_type": "execute_result"
    }
   ],
   "source": [
    "np.logical_xor(comparison_1, comparison_2) # todos os valores positivos "
   ]
  },
  {
   "cell_type": "markdown",
   "id": "06f145e4-614f-400a-9dcb-109f14b66631",
   "metadata": {},
   "source": [
    "``np.isclose e np.allclose``"
   ]
  },
  {
   "cell_type": "code",
   "execution_count": 46,
   "id": "d9db98e4-87a5-46dc-b365-49903c90e80f",
   "metadata": {},
   "outputs": [],
   "source": [
    "array_1 = np.array([-1.1558, 0.8994, 3.2894])\n",
    "array_2 = np.array([-1.1557, 0.8993, 3.2895])"
   ]
  },
  {
   "cell_type": "code",
   "execution_count": 47,
   "id": "6a821b54-d822-45cf-bdad-de7ce24530bd",
   "metadata": {},
   "outputs": [
    {
     "data": {
      "text/plain": [
       "array([ True,  True,  True])"
      ]
     },
     "execution_count": 47,
     "metadata": {},
     "output_type": "execute_result"
    }
   ],
   "source": [
    "np.isclose(a=array_1, b=array_2, atol=0.0001)"
   ]
  },
  {
   "cell_type": "code",
   "execution_count": 48,
   "id": "b2d34aa1-d2b4-408e-8883-dcb2a215d511",
   "metadata": {},
   "outputs": [
    {
     "data": {
      "text/plain": [
       "True"
      ]
     },
     "execution_count": 48,
     "metadata": {},
     "output_type": "execute_result"
    }
   ],
   "source": [
    "np.allclose(a=array_1, b=array_2, atol=0.0001)"
   ]
  },
  {
   "cell_type": "markdown",
   "id": "068f5145-566c-47ca-b9ac-edef5cf9198a",
   "metadata": {},
   "source": [
    "``np.array_equal``"
   ]
  },
  {
   "cell_type": "code",
   "execution_count": 49,
   "id": "c9062510-c89e-4240-95f8-ffc1638a71df",
   "metadata": {},
   "outputs": [],
   "source": [
    "array_1 = np.arange(20).reshape(4,5)\n",
    "array_2 = np.arange(20).reshape(4,5)"
   ]
  },
  {
   "cell_type": "code",
   "execution_count": 50,
   "id": "d1b34dca-87bb-4c45-aed4-58fdab8a2984",
   "metadata": {},
   "outputs": [
    {
     "data": {
      "text/plain": [
       "(array([[ 0,  1,  2,  3,  4],\n",
       "        [ 5,  6,  7,  8,  9],\n",
       "        [10, 11, 12, 13, 14],\n",
       "        [15, 16, 17, 18, 19]]),\n",
       " array([[ 0,  1,  2,  3,  4],\n",
       "        [ 5,  6,  7,  8,  9],\n",
       "        [10, 11, 12, 13, 14],\n",
       "        [15, 16, 17, 18, 19]]))"
      ]
     },
     "execution_count": 50,
     "metadata": {},
     "output_type": "execute_result"
    }
   ],
   "source": [
    "array_1, array_2"
   ]
  },
  {
   "cell_type": "code",
   "execution_count": 51,
   "id": "9b2b4cf8-e92d-49c5-9e46-16a7c41cccd5",
   "metadata": {},
   "outputs": [
    {
     "data": {
      "text/plain": [
       "True"
      ]
     },
     "execution_count": 51,
     "metadata": {},
     "output_type": "execute_result"
    }
   ],
   "source": [
    "np.array_equal(array_1, array_2)"
   ]
  },
  {
   "cell_type": "markdown",
   "id": "4271a054-f855-41ba-a26d-738692bc49d7",
   "metadata": {},
   "source": [
    "## Funções float"
   ]
  },
  {
   "cell_type": "markdown",
   "id": "e8765880-7fb0-4479-9204-f97739c0a0e2",
   "metadata": {},
   "source": [
    "``np.isfinite, np.isinf, np.isneginf, np.isnan``"
   ]
  },
  {
   "cell_type": "code",
   "execution_count": 52,
   "id": "f14029d0-5fba-4767-b7ed-17a72fc3f489",
   "metadata": {},
   "outputs": [
    {
     "name": "stderr",
     "output_type": "stream",
     "text": [
      "/tmp/ipykernel_9337/1233628259.py:1: RuntimeWarning: divide by zero encountered in divide\n",
      "  np.divide(1,0)\n"
     ]
    },
    {
     "data": {
      "text/plain": [
       "np.float64(inf)"
      ]
     },
     "execution_count": 52,
     "metadata": {},
     "output_type": "execute_result"
    }
   ],
   "source": [
    "np.divide(1,0)"
   ]
  },
  {
   "cell_type": "code",
   "execution_count": 53,
   "id": "b29d1ab5-5afb-4d8c-a18b-b5d3687c3a29",
   "metadata": {},
   "outputs": [
    {
     "name": "stderr",
     "output_type": "stream",
     "text": [
      "/tmp/ipykernel_9337/185974667.py:1: RuntimeWarning: divide by zero encountered in divide\n",
      "  np.isfinite(np.divide(1,0))\n"
     ]
    },
    {
     "data": {
      "text/plain": [
       "np.False_"
      ]
     },
     "execution_count": 53,
     "metadata": {},
     "output_type": "execute_result"
    }
   ],
   "source": [
    "np.isfinite(np.divide(1,0))"
   ]
  },
  {
   "cell_type": "code",
   "execution_count": 54,
   "id": "b459cfd2-0ff2-4522-9fd1-28caaa4e183f",
   "metadata": {},
   "outputs": [
    {
     "name": "stderr",
     "output_type": "stream",
     "text": [
      "/tmp/ipykernel_9337/4110478506.py:1: RuntimeWarning: divide by zero encountered in divide\n",
      "  np.isinf(np.divide(1,0))\n"
     ]
    },
    {
     "data": {
      "text/plain": [
       "np.True_"
      ]
     },
     "execution_count": 54,
     "metadata": {},
     "output_type": "execute_result"
    }
   ],
   "source": [
    "np.isinf(np.divide(1,0))"
   ]
  },
  {
   "cell_type": "code",
   "execution_count": 56,
   "id": "aaec34a0-e889-4a99-9891-b47ecc004d0b",
   "metadata": {},
   "outputs": [
    {
     "name": "stderr",
     "output_type": "stream",
     "text": [
      "/tmp/ipykernel_9337/1999854301.py:1: RuntimeWarning: divide by zero encountered in divide\n",
      "  np.isneginf(np.divide(-1,0))\n"
     ]
    },
    {
     "data": {
      "text/plain": [
       "np.True_"
      ]
     },
     "execution_count": 56,
     "metadata": {},
     "output_type": "execute_result"
    }
   ],
   "source": [
    "np.isneginf(np.divide(-1,0))"
   ]
  },
  {
   "cell_type": "code",
   "execution_count": 57,
   "id": "6ccbdf3a-73c8-4aca-9bc6-936d65daebe6",
   "metadata": {},
   "outputs": [
    {
     "name": "stderr",
     "output_type": "stream",
     "text": [
      "/tmp/ipykernel_9337/916304143.py:1: RuntimeWarning: invalid value encountered in log\n",
      "  np.isnan(np.log(-1))\n"
     ]
    },
    {
     "data": {
      "text/plain": [
       "np.True_"
      ]
     },
     "execution_count": 57,
     "metadata": {},
     "output_type": "execute_result"
    }
   ],
   "source": [
    "np.isnan(np.log(-1))"
   ]
  },
  {
   "cell_type": "markdown",
   "id": "41024e26-3f30-42db-aa3c-f49c83616e27",
   "metadata": {},
   "source": [
    "``np.floor, np.ceil, np.trunc``"
   ]
  },
  {
   "cell_type": "code",
   "execution_count": 58,
   "id": "e4ee5d45-fbeb-403c-b43d-356d474de911",
   "metadata": {},
   "outputs": [
    {
     "data": {
      "text/plain": [
       "array([-4.,  2.,  0.,  7.])"
      ]
     },
     "execution_count": 58,
     "metadata": {},
     "output_type": "execute_result"
    }
   ],
   "source": [
    "np.floor([-3.6, 2.7, 0.4, 7.0])"
   ]
  },
  {
   "cell_type": "code",
   "execution_count": 59,
   "id": "3d255c67-26e7-40bc-aa3a-e2f3dc1f2f5d",
   "metadata": {},
   "outputs": [
    {
     "data": {
      "text/plain": [
       "array([-3.,  3.,  1.,  7.])"
      ]
     },
     "execution_count": 59,
     "metadata": {},
     "output_type": "execute_result"
    }
   ],
   "source": [
    "np.ceil([-3.6, 2.7, 0.4, 7.0])"
   ]
  },
  {
   "cell_type": "code",
   "execution_count": 60,
   "id": "04d1b1db-e494-4bfe-bb6a-3a59360858b9",
   "metadata": {},
   "outputs": [
    {
     "data": {
      "text/plain": [
       "array([-3.,  2.,  0.,  7.])"
      ]
     },
     "execution_count": 60,
     "metadata": {},
     "output_type": "execute_result"
    }
   ],
   "source": [
    "np.trunc([-3.6, 2.7, 0.4, 7.0])"
   ]
  }
 ],
 "metadata": {
  "kernelspec": {
   "display_name": "Python 3 (ipykernel)",
   "language": "python",
   "name": "python3"
  },
  "language_info": {
   "codemirror_mode": {
    "name": "ipython",
    "version": 3
   },
   "file_extension": ".py",
   "mimetype": "text/x-python",
   "name": "python",
   "nbconvert_exporter": "python",
   "pygments_lexer": "ipython3",
   "version": "3.12.8"
  }
 },
 "nbformat": 4,
 "nbformat_minor": 5
}
