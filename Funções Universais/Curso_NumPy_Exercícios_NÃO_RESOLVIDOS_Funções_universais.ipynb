{
  "cells": [
    {
      "cell_type": "code",
      "execution_count": null,
      "metadata": {
        "colab": {
          "base_uri": "https://localhost:8080/",
          "height": 35
        },
        "id": "LC029ODRTe04",
        "outputId": "c9953f39-48ab-42a7-fe52-35e82f88afa1"
      },
      "outputs": [
        {
          "output_type": "execute_result",
          "data": {
            "text/plain": [
              "'1.25.2'"
            ],
            "application/vnd.google.colaboratory.intrinsic+json": {
              "type": "string"
            }
          },
          "metadata": {},
          "execution_count": 87
        }
      ],
      "source": [
        "import numpy as np\n",
        "np.__version__"
      ]
    },
    {
      "cell_type": "markdown",
      "metadata": {
        "id": "C8bG_AEFT1Ro"
      },
      "source": [
        "## Ufuncs"
      ]
    },
    {
      "cell_type": "markdown",
      "metadata": {
        "id": "He8uXTemUGz_"
      },
      "source": [
        "Vamos começar gerando 2 arrays de números inteiros para utilizarmos nos exercícios."
      ]
    },
    {
      "cell_type": "code",
      "execution_count": null,
      "metadata": {
        "id": "EJK5TKtzodFu"
      },
      "outputs": [],
      "source": [
        "rng = np.random.default_rng(seed=2)"
      ]
    },
    {
      "cell_type": "code",
      "execution_count": null,
      "metadata": {
        "colab": {
          "base_uri": "https://localhost:8080/"
        },
        "id": "57FVNktjoLTq",
        "outputId": "47082be3-47e5-44ce-b2df-bcb63eebcbed"
      },
      "outputs": [
        {
          "output_type": "execute_result",
          "data": {
            "text/plain": [
              "array([[ 6, -5],\n",
              "       [-8, -5],\n",
              "       [-2,  6]])"
            ]
          },
          "metadata": {},
          "execution_count": 89
        }
      ],
      "source": [
        "array_1 = rng.integers(low=-10, high=10, size=6).reshape(3, 2)\n",
        "array_1"
      ]
    },
    {
      "cell_type": "code",
      "execution_count": null,
      "metadata": {
        "colab": {
          "base_uri": "https://localhost:8080/"
        },
        "id": "Xft8V9MvoomD",
        "outputId": "41b3c9f2-987b-417d-f822-dd856a3d0736"
      },
      "outputs": [
        {
          "output_type": "execute_result",
          "data": {
            "text/plain": [
              "array([[-1, -9],\n",
              "       [-4,  2],\n",
              "       [ 6,  4]])"
            ]
          },
          "metadata": {},
          "execution_count": 90
        }
      ],
      "source": [
        "array_2 = rng.integers(low=-10, high=10, size=6).reshape(3,2)\n",
        "array_2"
      ]
    },
    {
      "cell_type": "markdown",
      "metadata": {
        "id": "r3beGXt9oEXt"
      },
      "source": [
        "### Funções matemáticas"
      ]
    },
    {
      "cell_type": "markdown",
      "metadata": {
        "id": "gFzB1RpHov3X"
      },
      "source": [
        "#### `np.add`, `np.subtract`, `np.multiply`, `np.divide`"
      ]
    },
    {
      "cell_type": "markdown",
      "metadata": {
        "id": "vcp4V7s0UUKL"
      },
      "source": [
        "Utilize as 4 funções universais correspondentes às operações matemáticas básicas, utilizando `array_1` e `array_2`, nesta ordem.\n",
        "\n",
        "Logo na sequência da chamada de cada função, repita a operação com os operadores matemáticos nativos do Python, `+`, `-`, `*` e `/`, para verificar que o resultado é o mesmo."
      ]
    },
    {
      "cell_type": "code",
      "execution_count": null,
      "metadata": {
        "colab": {
          "base_uri": "https://localhost:8080/"
        },
        "id": "gghIuOR_UfMs",
        "outputId": "dda29847-383a-4e26-cda3-979abf431118"
      },
      "outputs": [
        {
          "output_type": "execute_result",
          "data": {
            "text/plain": [
              "array([[  5, -14],\n",
              "       [-12,  -3],\n",
              "       [  4,  10]])"
            ]
          },
          "metadata": {},
          "execution_count": 91
        }
      ],
      "source": [
        "np...."
      ]
    },
    {
      "cell_type": "code",
      "execution_count": null,
      "metadata": {
        "colab": {
          "base_uri": "https://localhost:8080/"
        },
        "id": "Qfu2vhY3U2Lg",
        "outputId": "065d28e5-5557-4baf-f2b2-55933550b375"
      },
      "outputs": [
        {
          "output_type": "execute_result",
          "data": {
            "text/plain": [
              "array([[  5, -14],\n",
              "       [-12,  -3],\n",
              "       [  4,  10]])"
            ]
          },
          "metadata": {},
          "execution_count": 92
        }
      ],
      "source": [
        ".. + ..."
      ]
    },
    {
      "cell_type": "code",
      "execution_count": null,
      "metadata": {
        "colab": {
          "base_uri": "https://localhost:8080/"
        },
        "id": "Wi5491lJUjj1",
        "outputId": "453d527b-fdea-4a94-bd5d-70ed970c2216"
      },
      "outputs": [
        {
          "output_type": "execute_result",
          "data": {
            "text/plain": [
              "array([[ 7,  4],\n",
              "       [-4, -7],\n",
              "       [-8,  2]])"
            ]
          },
          "metadata": {},
          "execution_count": 93
        }
      ],
      "source": [
        "..."
      ]
    },
    {
      "cell_type": "code",
      "execution_count": null,
      "metadata": {
        "colab": {
          "base_uri": "https://localhost:8080/"
        },
        "id": "yaQyk56LU5b6",
        "outputId": "aa99b8cc-4081-4a8c-c35f-06723e9f51c2"
      },
      "outputs": [
        {
          "output_type": "execute_result",
          "data": {
            "text/plain": [
              "array([[ 7,  4],\n",
              "       [-4, -7],\n",
              "       [-8,  2]])"
            ]
          },
          "metadata": {},
          "execution_count": 94
        }
      ],
      "source": [
        "..."
      ]
    },
    {
      "cell_type": "code",
      "execution_count": null,
      "metadata": {
        "colab": {
          "base_uri": "https://localhost:8080/"
        },
        "id": "fF4tHNPkUldb",
        "outputId": "2bb37c4d-b238-4c96-ac9d-7ac1c131a210"
      },
      "outputs": [
        {
          "output_type": "execute_result",
          "data": {
            "text/plain": [
              "array([[ -6,  45],\n",
              "       [ 32, -10],\n",
              "       [-12,  24]])"
            ]
          },
          "metadata": {},
          "execution_count": 95
        }
      ],
      "source": [
        "..."
      ]
    },
    {
      "cell_type": "code",
      "execution_count": null,
      "metadata": {
        "colab": {
          "base_uri": "https://localhost:8080/"
        },
        "id": "7WPJtZtZU7V4",
        "outputId": "98d15b76-04c6-4a3d-91be-10a49225f724"
      },
      "outputs": [
        {
          "output_type": "execute_result",
          "data": {
            "text/plain": [
              "array([[ -6,  45],\n",
              "       [ 32, -10],\n",
              "       [-12,  24]])"
            ]
          },
          "metadata": {},
          "execution_count": 96
        }
      ],
      "source": [
        "..."
      ]
    },
    {
      "cell_type": "code",
      "execution_count": null,
      "metadata": {
        "colab": {
          "base_uri": "https://localhost:8080/"
        },
        "id": "Unlh7s65UnoQ",
        "outputId": "c543c557-ee4c-4066-c834-360098cd2a89"
      },
      "outputs": [
        {
          "output_type": "execute_result",
          "data": {
            "text/plain": [
              "array([[-6.        ,  0.55555556],\n",
              "       [ 2.        , -2.5       ],\n",
              "       [-0.33333333,  1.5       ]])"
            ]
          },
          "metadata": {},
          "execution_count": 97
        }
      ],
      "source": [
        "..."
      ]
    },
    {
      "cell_type": "code",
      "execution_count": null,
      "metadata": {
        "colab": {
          "base_uri": "https://localhost:8080/"
        },
        "id": "TKoYVFR_U948",
        "outputId": "83e053fd-fc98-4b71-e0ae-ab9691539409"
      },
      "outputs": [
        {
          "output_type": "execute_result",
          "data": {
            "text/plain": [
              "array([[-6.        ,  0.55555556],\n",
              "       [ 2.        , -2.5       ],\n",
              "       [-0.33333333,  1.5       ]])"
            ]
          },
          "metadata": {},
          "execution_count": 98
        }
      ],
      "source": [
        "..."
      ]
    },
    {
      "cell_type": "markdown",
      "metadata": {
        "id": "BI-D2CJbVFX_"
      },
      "source": [
        "#### `np.mod`"
      ]
    },
    {
      "cell_type": "markdown",
      "metadata": {
        "id": "XygVNk40VJZI"
      },
      "source": [
        "A forma mais comum de verificar se um número é *par* é observar se o seu *módulo* da divisão por 2 é igual a 0.\n",
        "\n",
        "Utilize a função `np.mod` para verificar o módulo dos valores de `array_1` quando divididos por 2."
      ]
    },
    {
      "cell_type": "code",
      "execution_count": null,
      "metadata": {
        "id": "lRWnUmsBUp8j"
      },
      "outputs": [],
      "source": [
        "array_mod = ..."
      ]
    },
    {
      "cell_type": "code",
      "execution_count": null,
      "metadata": {
        "colab": {
          "base_uri": "https://localhost:8080/"
        },
        "id": "NK0GiBbwVd-E",
        "outputId": "f3af3992-3d29-4c7b-9dbf-891ae895617b"
      },
      "outputs": [
        {
          "output_type": "execute_result",
          "data": {
            "text/plain": [
              "array([[0, 1],\n",
              "       [0, 1],\n",
              "       [0, 0]])"
            ]
          },
          "metadata": {},
          "execution_count": 100
        }
      ],
      "source": [
        "array_mod"
      ]
    },
    {
      "cell_type": "markdown",
      "metadata": {
        "id": "BaWtV0c8VfWq"
      },
      "source": [
        "Agora utilize o operador básico `==` para confirmar quais valores de `array_mod` são iguais a 0."
      ]
    },
    {
      "cell_type": "code",
      "execution_count": null,
      "metadata": {
        "colab": {
          "base_uri": "https://localhost:8080/"
        },
        "id": "wACGq58rVdfj",
        "outputId": "4c029512-7ff3-43ae-fb2d-b64346b7b138"
      },
      "outputs": [
        {
          "output_type": "execute_result",
          "data": {
            "text/plain": [
              "array([[ True, False],\n",
              "       [ True, False],\n",
              "       [ True,  True]])"
            ]
          },
          "metadata": {},
          "execution_count": 101
        }
      ],
      "source": [
        "..."
      ]
    },
    {
      "cell_type": "markdown",
      "metadata": {
        "id": "T_kHQPHrVuCP"
      },
      "source": [
        "Esta comparação indica quais valores são pares (`True`)."
      ]
    },
    {
      "cell_type": "markdown",
      "metadata": {
        "id": "2xauHxHRV_jm"
      },
      "source": [
        "#### `np.divmod`"
      ]
    },
    {
      "cell_type": "markdown",
      "metadata": {
        "id": "Ra-Sb_rVWCeH"
      },
      "source": [
        "Muitas operações de divisão resultam em valores \"quebrados\". Às vezes nós queremos representar o resultado como valores inteiros, em um formato truncado, onde descartamos a parte decimal.\n",
        "\n",
        "Utilize `np.divmod` para verificar qual a parte inteira e o resto da divisão de `array_1` por 4."
      ]
    },
    {
      "cell_type": "code",
      "execution_count": null,
      "metadata": {
        "id": "rLtq4I6vVq8v"
      },
      "outputs": [],
      "source": [
        "array_int, array_rest = ..."
      ]
    },
    {
      "cell_type": "code",
      "execution_count": null,
      "metadata": {
        "colab": {
          "base_uri": "https://localhost:8080/"
        },
        "id": "wI7KgDmUWXw7",
        "outputId": "cc5e0fea-4e45-4744-ce0b-2ff2d81ff308"
      },
      "outputs": [
        {
          "output_type": "execute_result",
          "data": {
            "text/plain": [
              "array([[ 1, -2],\n",
              "       [-2, -2],\n",
              "       [-1,  1]])"
            ]
          },
          "metadata": {},
          "execution_count": 103
        }
      ],
      "source": [
        "array_int"
      ]
    },
    {
      "cell_type": "markdown",
      "metadata": {
        "id": "P3CUOKuDWaDS"
      },
      "source": [
        "👆 Este array representa o arredondamento por truncação dos resultados da operação."
      ]
    },
    {
      "cell_type": "code",
      "source": [
        "array_rest"
      ],
      "metadata": {
        "colab": {
          "base_uri": "https://localhost:8080/"
        },
        "id": "y4CX4Gpcixeh",
        "outputId": "196b1a29-32fa-49d9-9b90-58b79cde6bab"
      },
      "execution_count": null,
      "outputs": [
        {
          "output_type": "execute_result",
          "data": {
            "text/plain": [
              "array([[2, 3],\n",
              "       [0, 3],\n",
              "       [2, 2]])"
            ]
          },
          "metadata": {},
          "execution_count": 104
        }
      ]
    },
    {
      "cell_type": "markdown",
      "source": [
        "👆 Este é o resto da divisão."
      ],
      "metadata": {
        "id": "t7BaCmw3i7uZ"
      }
    },
    {
      "cell_type": "markdown",
      "metadata": {
        "id": "IVoavZs9qz-l"
      },
      "source": [
        "#### `np.absolute`"
      ]
    },
    {
      "cell_type": "markdown",
      "metadata": {
        "id": "NV2HHfHYWv_C"
      },
      "source": [
        "Verifique quais são os valores absolutos de `array_2`."
      ]
    },
    {
      "cell_type": "code",
      "execution_count": null,
      "metadata": {
        "colab": {
          "base_uri": "https://localhost:8080/"
        },
        "id": "FcKopFS3W1gf",
        "outputId": "0ea42b12-dd08-4e4e-ccc9-0b956fea83a6"
      },
      "outputs": [
        {
          "output_type": "execute_result",
          "data": {
            "text/plain": [
              "array([[1, 9],\n",
              "       [4, 2],\n",
              "       [6, 4]])"
            ]
          },
          "metadata": {},
          "execution_count": 105
        }
      ],
      "source": [
        "..."
      ]
    },
    {
      "cell_type": "markdown",
      "metadata": {
        "id": "ZhF0ZqQat212"
      },
      "source": [
        "#### `np.diff`"
      ]
    },
    {
      "cell_type": "markdown",
      "metadata": {
        "id": "MMv6vm8OW_-L"
      },
      "source": [
        "Verifique a diferença entre os valores das colunas de `array_1`."
      ]
    },
    {
      "cell_type": "code",
      "execution_count": null,
      "metadata": {
        "colab": {
          "base_uri": "https://localhost:8080/"
        },
        "id": "v_Ar1QyWW_P3",
        "outputId": "7abc3dac-8dae-48a9-ad66-e19eb268edf3"
      },
      "outputs": [
        {
          "output_type": "execute_result",
          "data": {
            "text/plain": [
              "array([[-11],\n",
              "       [  3],\n",
              "       [  8]])"
            ]
          },
          "metadata": {},
          "execution_count": 106
        }
      ],
      "source": [
        "..."
      ]
    },
    {
      "cell_type": "markdown",
      "metadata": {
        "id": "SICbKceMXFHm"
      },
      "source": [
        "Verifique a diferença entre os valores das linhas de `array_2`."
      ]
    },
    {
      "cell_type": "code",
      "execution_count": null,
      "metadata": {
        "colab": {
          "base_uri": "https://localhost:8080/"
        },
        "id": "cPinYTwEXKTz",
        "outputId": "4af5581d-b8ae-4ec5-a595-bf7c99f7e15a"
      },
      "outputs": [
        {
          "output_type": "execute_result",
          "data": {
            "text/plain": [
              "array([[-3, 11],\n",
              "       [10,  2]])"
            ]
          },
          "metadata": {},
          "execution_count": 107
        }
      ],
      "source": [
        "..."
      ]
    },
    {
      "cell_type": "markdown",
      "metadata": {
        "id": "WvITVrFgrBtl"
      },
      "source": [
        "#### `np.power`, `np.exp`, `np.log`"
      ]
    },
    {
      "cell_type": "markdown",
      "metadata": {
        "id": "VUAJcr9bXYTb"
      },
      "source": [
        "Calcule os valores de `array_2` elevados ao cubo."
      ]
    },
    {
      "cell_type": "code",
      "execution_count": null,
      "metadata": {
        "colab": {
          "base_uri": "https://localhost:8080/"
        },
        "id": "YearXLOZXXor",
        "outputId": "56b784c5-68d9-46fc-ece1-ebd6167f374c"
      },
      "outputs": [
        {
          "output_type": "execute_result",
          "data": {
            "text/plain": [
              "array([[  -1, -729],\n",
              "       [ -64,    8],\n",
              "       [ 216,   64]])"
            ]
          },
          "metadata": {},
          "execution_count": 108
        }
      ],
      "source": [
        "..."
      ]
    },
    {
      "cell_type": "markdown",
      "metadata": {
        "id": "zdXVI6b-Xi1r"
      },
      "source": [
        "Calcule o valor do número natural *e* elevado aos valores de `array_1`."
      ]
    },
    {
      "cell_type": "code",
      "execution_count": null,
      "metadata": {
        "colab": {
          "base_uri": "https://localhost:8080/"
        },
        "id": "xoCE_Z8YXiPU",
        "outputId": "d880d219-c9b7-4ff2-8fb1-01a1d7758f0e"
      },
      "outputs": [
        {
          "output_type": "execute_result",
          "data": {
            "text/plain": [
              "array([[4.03428793e+02, 6.73794700e-03],\n",
              "       [3.35462628e-04, 6.73794700e-03],\n",
              "       [1.35335283e-01, 4.03428793e+02]])"
            ]
          },
          "metadata": {},
          "execution_count": 109
        }
      ],
      "source": [
        "..."
      ]
    },
    {
      "cell_type": "markdown",
      "metadata": {
        "id": "eOwHgXdVXspb"
      },
      "source": [
        "Calcule o logaritmo natural dos valores de `array_2`."
      ]
    },
    {
      "cell_type": "code",
      "execution_count": null,
      "metadata": {
        "colab": {
          "base_uri": "https://localhost:8080/"
        },
        "id": "_HcsoDXSXtBs",
        "outputId": "3d3670d5-902f-4541-f3f4-45c2a6480f04"
      },
      "outputs": [
        {
          "output_type": "stream",
          "name": "stderr",
          "text": [
            "<ipython-input-110-6d7a252fbd89>:1: RuntimeWarning: invalid value encountered in log\n",
            "  np.log(array_2)\n"
          ]
        },
        {
          "output_type": "execute_result",
          "data": {
            "text/plain": [
              "array([[       nan,        nan],\n",
              "       [       nan, 0.69314718],\n",
              "       [1.79175947, 1.38629436]])"
            ]
          },
          "metadata": {},
          "execution_count": 110
        }
      ],
      "source": [
        "..."
      ]
    },
    {
      "cell_type": "markdown",
      "metadata": {
        "id": "YEJHlhQLshrw"
      },
      "source": [
        "#### `np.reciprocal`"
      ]
    },
    {
      "cell_type": "markdown",
      "metadata": {
        "id": "kYTmvcmQX6Hz"
      },
      "source": [
        "Determine os valores recíprocos de `array_1`. Lembre-se que você precisa antes converter os valores do array para float."
      ]
    },
    {
      "cell_type": "code",
      "execution_count": null,
      "metadata": {
        "colab": {
          "base_uri": "https://localhost:8080/"
        },
        "id": "xAdrw2NZYDWq",
        "outputId": "77bb5bf5-b787-4cc6-c34a-ff2ba55c6519"
      },
      "outputs": [
        {
          "output_type": "execute_result",
          "data": {
            "text/plain": [
              "array([[ 0.16666667, -0.2       ],\n",
              "       [-0.125     , -0.2       ],\n",
              "       [-0.5       ,  0.16666667]])"
            ]
          },
          "metadata": {},
          "execution_count": 111
        }
      ],
      "source": [
        "..."
      ]
    },
    {
      "cell_type": "markdown",
      "metadata": {
        "id": "N5wHc1kOt62i"
      },
      "source": [
        "#### `np.sqrt`, `np.cbrt`"
      ]
    },
    {
      "cell_type": "markdown",
      "metadata": {
        "id": "sZU4zL9xYQBX"
      },
      "source": [
        "Obtenha a raiz quadrada dos valores de `array_1`."
      ]
    },
    {
      "cell_type": "code",
      "execution_count": null,
      "metadata": {
        "colab": {
          "base_uri": "https://localhost:8080/"
        },
        "id": "puIcM3HCYZPs",
        "outputId": "0aba9b44-c0cc-4b75-acb7-d085ee27e5a4"
      },
      "outputs": [
        {
          "output_type": "stream",
          "name": "stderr",
          "text": [
            "<ipython-input-112-8db68dfbb9e4>:1: RuntimeWarning: invalid value encountered in sqrt\n",
            "  np.sqrt(array_1)\n"
          ]
        },
        {
          "output_type": "execute_result",
          "data": {
            "text/plain": [
              "array([[2.44948974,        nan],\n",
              "       [       nan,        nan],\n",
              "       [       nan, 2.44948974]])"
            ]
          },
          "metadata": {},
          "execution_count": 112
        }
      ],
      "source": [
        "..."
      ]
    },
    {
      "cell_type": "markdown",
      "metadata": {
        "id": "nlIjGZnxYcjZ"
      },
      "source": [
        "Obtenha a raiz cúbica dos valores de `array_2`."
      ]
    },
    {
      "cell_type": "code",
      "execution_count": null,
      "metadata": {
        "colab": {
          "base_uri": "https://localhost:8080/"
        },
        "id": "i5uJ0QhuYbqz",
        "outputId": "4070caf1-364e-4e36-fefb-061e7b6e9549"
      },
      "outputs": [
        {
          "output_type": "execute_result",
          "data": {
            "text/plain": [
              "array([[-1.        , -2.08008382],\n",
              "       [-1.58740105,  1.25992105],\n",
              "       [ 1.81712059,  1.58740105]])"
            ]
          },
          "metadata": {},
          "execution_count": 113
        }
      ],
      "source": [
        "..."
      ]
    },
    {
      "cell_type": "markdown",
      "metadata": {
        "id": "Po3yJhmVucFe"
      },
      "source": [
        "#### `np.gcd`, `np.lcm`\n",
        "\n",
        "Calcule o maior divisor comum e o mínimo múltiplo comum entre `array_1` e `array_2`."
      ]
    },
    {
      "cell_type": "code",
      "execution_count": null,
      "metadata": {
        "colab": {
          "base_uri": "https://localhost:8080/"
        },
        "id": "f2x5eYm8WYnH",
        "outputId": "cc341cb6-9e65-4b7c-cd54-5bf4f8cdf564"
      },
      "outputs": [
        {
          "output_type": "execute_result",
          "data": {
            "text/plain": [
              "array([[1, 1],\n",
              "       [4, 1],\n",
              "       [2, 2]])"
            ]
          },
          "metadata": {},
          "execution_count": 114
        }
      ],
      "source": [
        "..."
      ]
    },
    {
      "cell_type": "code",
      "execution_count": null,
      "metadata": {
        "colab": {
          "base_uri": "https://localhost:8080/"
        },
        "id": "xqo4d3snYoYg",
        "outputId": "a3f067f3-cd56-4801-8e12-c914a963b530"
      },
      "outputs": [
        {
          "output_type": "execute_result",
          "data": {
            "text/plain": [
              "array([[ 6, 45],\n",
              "       [ 8, 10],\n",
              "       [ 6, 12]])"
            ]
          },
          "metadata": {},
          "execution_count": 115
        }
      ],
      "source": [
        "..."
      ]
    },
    {
      "cell_type": "markdown",
      "metadata": {
        "id": "T8S64YQnu8Le"
      },
      "source": [
        "### Funções trigonométricas"
      ]
    },
    {
      "cell_type": "markdown",
      "metadata": {
        "id": "MA6wtScTY9NJ"
      },
      "source": [
        "Calcule o seno, o cosseno e a tangente de alguns ângulos importantes: 30, 45 e 90 graus. Lembre-se que você precisa antes coverter o ângulo para radianos."
      ]
    },
    {
      "cell_type": "code",
      "execution_count": null,
      "metadata": {
        "id": "5df6cvL2ZLlm"
      },
      "outputs": [],
      "source": [
        "radians_30 = np...."
      ]
    },
    {
      "cell_type": "code",
      "execution_count": null,
      "metadata": {
        "colab": {
          "base_uri": "https://localhost:8080/"
        },
        "id": "1RQrpXC0YxHv",
        "outputId": "c0249510-1f08-4b9c-fdfb-9ed9cb552803"
      },
      "outputs": [
        {
          "output_type": "execute_result",
          "data": {
            "text/plain": [
              "0.49999999999999994"
            ]
          },
          "metadata": {},
          "execution_count": 117
        }
      ],
      "source": [
        "np.sin(...)"
      ]
    },
    {
      "cell_type": "markdown",
      "metadata": {
        "id": "G4zCjqsRaOl2"
      },
      "source": [
        "👆 O valor exato é igual a 0.5."
      ]
    },
    {
      "cell_type": "code",
      "execution_count": null,
      "metadata": {
        "colab": {
          "base_uri": "https://localhost:8080/"
        },
        "id": "_1fBeTNaZPAg",
        "outputId": "e906fafa-358d-4da4-ef56-202c73ad42dd"
      },
      "outputs": [
        {
          "output_type": "execute_result",
          "data": {
            "text/plain": [
              "0.8660254037844387"
            ]
          },
          "metadata": {},
          "execution_count": 118
        }
      ],
      "source": [
        "..."
      ]
    },
    {
      "cell_type": "code",
      "execution_count": null,
      "metadata": {
        "colab": {
          "base_uri": "https://localhost:8080/"
        },
        "id": "dg5dcAGVZRD9",
        "outputId": "b2954e6e-bc83-4a8d-a65c-ee26603723fe"
      },
      "outputs": [
        {
          "output_type": "execute_result",
          "data": {
            "text/plain": [
              "0.5773502691896257"
            ]
          },
          "metadata": {},
          "execution_count": 119
        }
      ],
      "source": [
        "..."
      ]
    },
    {
      "cell_type": "code",
      "execution_count": null,
      "metadata": {
        "id": "U5Q8pZ4_ZUSc"
      },
      "outputs": [],
      "source": [
        "radians_45 = ..."
      ]
    },
    {
      "cell_type": "code",
      "execution_count": null,
      "metadata": {
        "colab": {
          "base_uri": "https://localhost:8080/"
        },
        "id": "y4SvzEFsZUSc",
        "outputId": "55126e6d-bc4e-4fd7-9e1e-00dacabcd97c"
      },
      "outputs": [
        {
          "output_type": "execute_result",
          "data": {
            "text/plain": [
              "0.7071067811865475"
            ]
          },
          "metadata": {},
          "execution_count": 121
        }
      ],
      "source": [
        "..."
      ]
    },
    {
      "cell_type": "code",
      "execution_count": null,
      "metadata": {
        "colab": {
          "base_uri": "https://localhost:8080/"
        },
        "id": "AxvzkAeAZUSd",
        "outputId": "cd6cf1d7-cdd8-415a-ba0c-a25977ea7c17"
      },
      "outputs": [
        {
          "output_type": "execute_result",
          "data": {
            "text/plain": [
              "0.7071067811865476"
            ]
          },
          "metadata": {},
          "execution_count": 122
        }
      ],
      "source": [
        "..."
      ]
    },
    {
      "cell_type": "code",
      "execution_count": null,
      "metadata": {
        "colab": {
          "base_uri": "https://localhost:8080/"
        },
        "id": "w3m3GlxFZUSe",
        "outputId": "dab5b203-b683-41a0-9014-61213f0aeeb0"
      },
      "outputs": [
        {
          "output_type": "execute_result",
          "data": {
            "text/plain": [
              "0.9999999999999999"
            ]
          },
          "metadata": {},
          "execution_count": 123
        }
      ],
      "source": [
        "..."
      ]
    },
    {
      "cell_type": "markdown",
      "metadata": {
        "id": "tOLx2kcAaS8S"
      },
      "source": [
        "👆 O valor exato é igual a 1."
      ]
    },
    {
      "cell_type": "code",
      "execution_count": null,
      "metadata": {
        "id": "Fw3HJiu4ZSHQ"
      },
      "outputs": [],
      "source": [
        "radians_90 = ..."
      ]
    },
    {
      "cell_type": "code",
      "execution_count": null,
      "metadata": {
        "colab": {
          "base_uri": "https://localhost:8080/"
        },
        "id": "R5odkHo7ZdFo",
        "outputId": "cb4b6c7d-a5a8-45dd-d273-853d5bed8042"
      },
      "outputs": [
        {
          "output_type": "execute_result",
          "data": {
            "text/plain": [
              "1.0"
            ]
          },
          "metadata": {},
          "execution_count": 125
        }
      ],
      "source": [
        "..."
      ]
    },
    {
      "cell_type": "code",
      "execution_count": null,
      "metadata": {
        "colab": {
          "base_uri": "https://localhost:8080/"
        },
        "id": "qpqSwo-kZdGA",
        "outputId": "46b19b02-9631-474a-a46e-bb29d473aa89"
      },
      "outputs": [
        {
          "output_type": "execute_result",
          "data": {
            "text/plain": [
              "6.123233995736766e-17"
            ]
          },
          "metadata": {},
          "execution_count": 126
        }
      ],
      "source": [
        "..."
      ]
    },
    {
      "cell_type": "markdown",
      "metadata": {
        "id": "c58OpDoXaKv0"
      },
      "source": [
        "👆 O valor exato é igual a 0."
      ]
    },
    {
      "cell_type": "code",
      "execution_count": null,
      "metadata": {
        "colab": {
          "base_uri": "https://localhost:8080/"
        },
        "id": "Oykz94zQZdGB",
        "outputId": "43f6f962-e39c-443e-bfcb-9fc197f4aa28"
      },
      "outputs": [
        {
          "output_type": "execute_result",
          "data": {
            "text/plain": [
              "1.633123935319537e+16"
            ]
          },
          "metadata": {},
          "execution_count": 127
        }
      ],
      "source": [
        "..."
      ]
    },
    {
      "cell_type": "markdown",
      "metadata": {
        "id": "a-BKC5sSZpRp"
      },
      "source": [
        "👆 O valor exato é *infinito*, pois $$tan(x) = \\frac{sen(x)}{cos(x)}$$ e o cosseno de 90 graus é igual a 0. Por questões de arredondamento, o NumPy retorna um valor \"muito alto\" ao invés de expressar infinito."
      ]
    },
    {
      "cell_type": "markdown",
      "metadata": {
        "id": "tW_zxrOAxXrR"
      },
      "source": [
        "### Funções de comparação"
      ]
    },
    {
      "cell_type": "markdown",
      "metadata": {
        "id": "JWbqh8OVzI7e"
      },
      "source": [
        "#### `np.maximum`,  `np.minimum`"
      ]
    },
    {
      "cell_type": "markdown",
      "metadata": {
        "id": "GlyBmeiGb3mH"
      },
      "source": [
        "Obtenha os valores máximos e mínimos comparando `array_1` com `array_2`."
      ]
    },
    {
      "cell_type": "code",
      "execution_count": null,
      "metadata": {
        "colab": {
          "base_uri": "https://localhost:8080/"
        },
        "id": "kEdf28D5cAGo",
        "outputId": "4a2e9858-5743-44eb-a111-fdd033fa61c7"
      },
      "outputs": [
        {
          "output_type": "execute_result",
          "data": {
            "text/plain": [
              "array([[ 6, -5],\n",
              "       [-4,  2],\n",
              "       [ 6,  6]])"
            ]
          },
          "metadata": {},
          "execution_count": 128
        }
      ],
      "source": [
        "..."
      ]
    },
    {
      "cell_type": "code",
      "execution_count": null,
      "metadata": {
        "colab": {
          "base_uri": "https://localhost:8080/"
        },
        "id": "HKFq76KbcCm2",
        "outputId": "47facecd-fe0d-4da7-f0c1-0b27eb4d97cb"
      },
      "outputs": [
        {
          "output_type": "execute_result",
          "data": {
            "text/plain": [
              "array([[-1, -9],\n",
              "       [-8, -5],\n",
              "       [-2,  4]])"
            ]
          },
          "metadata": {},
          "execution_count": 129
        }
      ],
      "source": [
        "..."
      ]
    },
    {
      "cell_type": "markdown",
      "metadata": {
        "id": "4PRplpcFxepd"
      },
      "source": [
        "#### `np.greater`,  `np.greater_equal`, `np.less`,  `np.less_equal`,  `np.not_equal`, `np.equal`"
      ]
    },
    {
      "cell_type": "markdown",
      "metadata": {
        "id": "xvczeaC-cKEm"
      },
      "source": [
        "Compare `array_1` com `array_2` para verificar se seus valores são...\n",
        "\n",
        "... maiores:"
      ]
    },
    {
      "cell_type": "code",
      "execution_count": null,
      "metadata": {
        "colab": {
          "base_uri": "https://localhost:8080/"
        },
        "id": "P7hTM-VMcSOA",
        "outputId": "52d71606-0038-4f70-d485-8b8eb43b4c90"
      },
      "outputs": [
        {
          "output_type": "execute_result",
          "data": {
            "text/plain": [
              "array([[ True,  True],\n",
              "       [False, False],\n",
              "       [False,  True]])"
            ]
          },
          "metadata": {},
          "execution_count": 130
        }
      ],
      "source": [
        "..."
      ]
    },
    {
      "cell_type": "markdown",
      "metadata": {
        "id": "irQtryZocVHo"
      },
      "source": [
        "... menores ou iguais:"
      ]
    },
    {
      "cell_type": "code",
      "execution_count": null,
      "metadata": {
        "colab": {
          "base_uri": "https://localhost:8080/"
        },
        "id": "heda8YYBcXKc",
        "outputId": "6d432a23-7092-4aa8-caf4-495925887037"
      },
      "outputs": [
        {
          "output_type": "execute_result",
          "data": {
            "text/plain": [
              "array([[False, False],\n",
              "       [ True,  True],\n",
              "       [ True, False]])"
            ]
          },
          "metadata": {},
          "execution_count": 131
        }
      ],
      "source": [
        "..."
      ]
    },
    {
      "cell_type": "markdown",
      "metadata": {
        "id": "A8qWG5wmcau9"
      },
      "source": [
        "... diferentes:"
      ]
    },
    {
      "cell_type": "code",
      "execution_count": null,
      "metadata": {
        "colab": {
          "base_uri": "https://localhost:8080/"
        },
        "id": "DwUVO7aRccE0",
        "outputId": "5967ee73-4446-4b5a-a9e9-a0be424b3e62"
      },
      "outputs": [
        {
          "output_type": "execute_result",
          "data": {
            "text/plain": [
              "array([[ True,  True],\n",
              "       [ True,  True],\n",
              "       [ True,  True]])"
            ]
          },
          "metadata": {},
          "execution_count": 132
        }
      ],
      "source": [
        "..."
      ]
    },
    {
      "cell_type": "markdown",
      "metadata": {
        "id": "8lgWD7mvyIQB"
      },
      "source": [
        "#### `logical_and`, `logical_or`, `logical_xor`, `logical_not`"
      ]
    },
    {
      "cell_type": "markdown",
      "metadata": {
        "id": "qVjc8Ql2dpz_"
      },
      "source": [
        "Primeiro gere uma máscara booleana para verificar quais valores em `array_1` e `array_2` são pares."
      ]
    },
    {
      "cell_type": "code",
      "execution_count": null,
      "metadata": {
        "id": "QJ_UAVr1dw46"
      },
      "outputs": [],
      "source": [
        "array_1_mask = ..."
      ]
    },
    {
      "cell_type": "code",
      "execution_count": null,
      "metadata": {
        "colab": {
          "base_uri": "https://localhost:8080/"
        },
        "id": "VbJS_X5Ed5zz",
        "outputId": "18038310-501b-438a-ebdc-a887bfe5564b"
      },
      "outputs": [
        {
          "output_type": "execute_result",
          "data": {
            "text/plain": [
              "array([[ True, False],\n",
              "       [ True, False],\n",
              "       [ True,  True]])"
            ]
          },
          "metadata": {},
          "execution_count": 134
        }
      ],
      "source": [
        "array_1_mask"
      ]
    },
    {
      "cell_type": "code",
      "execution_count": null,
      "metadata": {
        "id": "xpou0xX4d5tf"
      },
      "outputs": [],
      "source": [
        "array_2_mask = ..."
      ]
    },
    {
      "cell_type": "code",
      "execution_count": null,
      "metadata": {
        "colab": {
          "base_uri": "https://localhost:8080/"
        },
        "id": "sCzJHZiAd5ez",
        "outputId": "76e8c77f-42bc-4ec9-de63-b1ab5048d56e"
      },
      "outputs": [
        {
          "output_type": "execute_result",
          "data": {
            "text/plain": [
              "array([[False, False],\n",
              "       [ True,  True],\n",
              "       [ True,  True]])"
            ]
          },
          "metadata": {},
          "execution_count": 136
        }
      ],
      "source": [
        "array_2_mask"
      ]
    },
    {
      "cell_type": "markdown",
      "metadata": {
        "id": "vDkgepPHd5Ln"
      },
      "source": [
        "Agora, com `logical_and`, verifique onde nos dois arrays os valores são pares."
      ]
    },
    {
      "cell_type": "code",
      "execution_count": null,
      "metadata": {
        "colab": {
          "base_uri": "https://localhost:8080/"
        },
        "id": "--Pu6GKmeL3-",
        "outputId": "f1559475-f064-46dd-f330-c5aad95e1fc5"
      },
      "outputs": [
        {
          "output_type": "execute_result",
          "data": {
            "text/plain": [
              "array([[False, False],\n",
              "       [ True, False],\n",
              "       [ True,  True]])"
            ]
          },
          "metadata": {},
          "execution_count": 137
        }
      ],
      "source": [
        "..."
      ]
    },
    {
      "cell_type": "markdown",
      "metadata": {
        "id": "80BeYedteSh7"
      },
      "source": [
        "Com `logical_or`, você pode verificar onde pelo menos um dos valores é par."
      ]
    },
    {
      "cell_type": "code",
      "execution_count": null,
      "metadata": {
        "colab": {
          "base_uri": "https://localhost:8080/"
        },
        "id": "Ye5o5wNHeYqH",
        "outputId": "c45dfd6a-a804-44b2-c51e-738f1010d674"
      },
      "outputs": [
        {
          "output_type": "execute_result",
          "data": {
            "text/plain": [
              "array([[ True, False],\n",
              "       [ True,  True],\n",
              "       [ True,  True]])"
            ]
          },
          "metadata": {},
          "execution_count": 138
        }
      ],
      "source": [
        "..."
      ]
    },
    {
      "cell_type": "markdown",
      "metadata": {
        "id": "Cohe9gAmeeWr"
      },
      "source": [
        "Você também pode verificar onde pelo menos um dos valores é ímpar com `logical_not`, sem precisar refazer as máscaras booleanas."
      ]
    },
    {
      "cell_type": "code",
      "execution_count": null,
      "metadata": {
        "colab": {
          "base_uri": "https://localhost:8080/"
        },
        "id": "vUQw38ZFemyL",
        "outputId": "f26c61de-9f9f-4b1d-c90d-5dc09e79f2d7"
      },
      "outputs": [
        {
          "output_type": "execute_result",
          "data": {
            "text/plain": [
              "array([[False,  True],\n",
              "       [False,  True],\n",
              "       [False, False]])"
            ]
          },
          "metadata": {},
          "execution_count": 139
        }
      ],
      "source": [
        "..."
      ]
    },
    {
      "cell_type": "markdown",
      "metadata": {
        "id": "DjeBtLGj4Iu1"
      },
      "source": [
        "#### `np.isclose`, `np.allclose`"
      ]
    },
    {
      "cell_type": "markdown",
      "metadata": {
        "id": "nFdz7xdNfPTA"
      },
      "source": [
        "Agora vamos gerar 2 novos arrays com valores reais a partir da amostragem de uma distribuição normal, com desvio padrão pequeno."
      ]
    },
    {
      "cell_type": "code",
      "execution_count": null,
      "metadata": {
        "id": "42QzrInOfZXQ"
      },
      "outputs": [],
      "source": [
        "array_3 = rng.normal(loc=0, scale=0.0001, size=6).reshape(3, 2)"
      ]
    },
    {
      "cell_type": "code",
      "execution_count": null,
      "metadata": {
        "colab": {
          "base_uri": "https://localhost:8080/"
        },
        "id": "D1KcWRxDfgKJ",
        "outputId": "1a8f6f07-8cc8-4329-cbf3-7495b352c0d6"
      },
      "outputs": [
        {
          "output_type": "execute_result",
          "data": {
            "text/plain": [
              "array([[-3.25422837e-05,  7.73806587e-05],\n",
              "       [ 2.81210670e-05, -5.53822836e-05],\n",
              "       [ 9.77567451e-05, -3.10556547e-05]])"
            ]
          },
          "metadata": {},
          "execution_count": 141
        }
      ],
      "source": [
        "array_3"
      ]
    },
    {
      "cell_type": "code",
      "source": [
        "array_4 = rng.normal(loc=0, scale=0.0001, size=6).reshape(3, 2)"
      ],
      "metadata": {
        "id": "XgFHUbxOkSr2"
      },
      "execution_count": null,
      "outputs": []
    },
    {
      "cell_type": "code",
      "source": [
        "array_4"
      ],
      "metadata": {
        "colab": {
          "base_uri": "https://localhost:8080/"
        },
        "id": "OoXhZLrdkVk0",
        "outputId": "e85adbb4-dc33-4929-fe5a-05feb4d7d491"
      },
      "execution_count": null,
      "outputs": [
        {
          "output_type": "execute_result",
          "data": {
            "text/plain": [
              "array([[-3.28823904e-05, -7.92146755e-05],\n",
              "       [ 4.54958071e-05, -9.91980517e-06],\n",
              "       [ 5.45288714e-05, -6.07185700e-05]])"
            ]
          },
          "metadata": {},
          "execution_count": 143
        }
      ]
    },
    {
      "cell_type": "markdown",
      "source": [
        "Verifique se os valores de `array_3` são próximos de `array_4` dentro da margem de tolerância 0.001."
      ],
      "metadata": {
        "id": "KAD_vww8kcU5"
      }
    },
    {
      "cell_type": "code",
      "source": [
        "..."
      ],
      "metadata": {
        "colab": {
          "base_uri": "https://localhost:8080/"
        },
        "id": "Vp_b3RD1klH6",
        "outputId": "b89049d2-ab8a-4296-c85d-3384234f8fd5"
      },
      "execution_count": null,
      "outputs": [
        {
          "output_type": "execute_result",
          "data": {
            "text/plain": [
              "array([[ True,  True],\n",
              "       [ True,  True],\n",
              "       [ True,  True]])"
            ]
          },
          "metadata": {},
          "execution_count": 144
        }
      ]
    },
    {
      "cell_type": "markdown",
      "source": [
        "Verifique se todos os valores atendem a esta condição."
      ],
      "metadata": {
        "id": "ZPoOoFD2kwPK"
      }
    },
    {
      "cell_type": "code",
      "source": [
        "..."
      ],
      "metadata": {
        "colab": {
          "base_uri": "https://localhost:8080/"
        },
        "id": "6PF6huC9kziX",
        "outputId": "673c4a62-59ad-4a12-bd08-4e5d871f0bb3"
      },
      "execution_count": null,
      "outputs": [
        {
          "output_type": "execute_result",
          "data": {
            "text/plain": [
              "True"
            ]
          },
          "metadata": {},
          "execution_count": 145
        }
      ]
    },
    {
      "cell_type": "markdown",
      "source": [
        "👆 Todos os valores são iguais dentro desta margem de tolerância."
      ],
      "metadata": {
        "id": "OPfD_xDslG6I"
      }
    },
    {
      "cell_type": "markdown",
      "source": [
        "E se a margem de tolerância for igual a 0.0001?"
      ],
      "metadata": {
        "id": "zsiyze31k4Yv"
      }
    },
    {
      "cell_type": "code",
      "source": [
        "..."
      ],
      "metadata": {
        "colab": {
          "base_uri": "https://localhost:8080/"
        },
        "outputId": "a4c068ff-1013-48e3-fa97-2f042d6ce241",
        "id": "60htTJUyk8AV"
      },
      "execution_count": null,
      "outputs": [
        {
          "output_type": "execute_result",
          "data": {
            "text/plain": [
              "array([[ True, False],\n",
              "       [ True,  True],\n",
              "       [ True,  True]])"
            ]
          },
          "metadata": {},
          "execution_count": 146
        }
      ]
    },
    {
      "cell_type": "code",
      "source": [
        "..."
      ],
      "metadata": {
        "colab": {
          "base_uri": "https://localhost:8080/"
        },
        "outputId": "9fcf6594-a47d-43bc-ec5f-6fa7f1107e2a",
        "id": "tJccD1TCk8AW"
      },
      "execution_count": null,
      "outputs": [
        {
          "output_type": "execute_result",
          "data": {
            "text/plain": [
              "False"
            ]
          },
          "metadata": {},
          "execution_count": 147
        }
      ]
    },
    {
      "cell_type": "markdown",
      "source": [
        "👆 Nem todos os valores são iguais dentro desta margem de tolerância."
      ],
      "metadata": {
        "id": "J8jbc5V_k_IN"
      }
    },
    {
      "cell_type": "markdown",
      "metadata": {
        "id": "sjh4cOtX4Nd3"
      },
      "source": [
        "#### `np.array_equal`"
      ]
    },
    {
      "cell_type": "markdown",
      "source": [
        "Gere uma **view** de `array_3` e confirme que a view é igual ao array com a função `np.array_equal`."
      ],
      "metadata": {
        "id": "ElOhCcWKlPM-"
      }
    },
    {
      "cell_type": "code",
      "execution_count": null,
      "metadata": {
        "id": "BbyAd5FBZbb-"
      },
      "outputs": [],
      "source": [
        "array_3_view = ..."
      ]
    },
    {
      "cell_type": "code",
      "source": [
        "..."
      ],
      "metadata": {
        "colab": {
          "base_uri": "https://localhost:8080/"
        },
        "id": "FSjnKMoulXb3",
        "outputId": "ae5789c2-1983-4ea0-bffe-cf2dedb9e783"
      },
      "execution_count": null,
      "outputs": [
        {
          "output_type": "execute_result",
          "data": {
            "text/plain": [
              "True"
            ]
          },
          "metadata": {},
          "execution_count": 149
        }
      ]
    },
    {
      "cell_type": "markdown",
      "source": [
        "### Funções float"
      ],
      "metadata": {
        "id": "wrEm7n7tzhjH"
      }
    },
    {
      "cell_type": "markdown",
      "source": [
        "#### `np.isfinite`, `np.isinf`, `np.isneginf`, `np.isnan`"
      ],
      "metadata": {
        "id": "pFjoBJvOzuWg"
      }
    },
    {
      "cell_type": "markdown",
      "source": [
        "Comece gerando um array com valores aleatórios inteiros no intervalo [-10, 11), organizados em um array no formato (3, 4)."
      ],
      "metadata": {
        "id": "aElSHS1DmmOv"
      }
    },
    {
      "cell_type": "code",
      "source": [
        "array_5 = ..."
      ],
      "metadata": {
        "id": "g_unMvJ7mxsV"
      },
      "execution_count": null,
      "outputs": []
    },
    {
      "cell_type": "code",
      "source": [
        "array_5"
      ],
      "metadata": {
        "colab": {
          "base_uri": "https://localhost:8080/"
        },
        "id": "0kNxa8_vm5LI",
        "outputId": "98e56be2-6f36-4d84-d2f7-4c91e30cd47b"
      },
      "execution_count": null,
      "outputs": [
        {
          "output_type": "execute_result",
          "data": {
            "text/plain": [
              "array([[ -3,  -2, -10,  -7],\n",
              "       [ -4,  -3,   2,   0],\n",
              "       [  4,   8,   8,   6]])"
            ]
          },
          "metadata": {},
          "execution_count": 151
        }
      ]
    },
    {
      "cell_type": "markdown",
      "source": [
        "Agora gere um novo array somente com valores 0 ou 1, no mesmo formato. Você também pode utilizar `rng.integers` para isso."
      ],
      "metadata": {
        "id": "L7qM9Yamm617"
      }
    },
    {
      "cell_type": "code",
      "source": [
        "array_6 = ..."
      ],
      "metadata": {
        "id": "o7XrdegjnIQF"
      },
      "execution_count": null,
      "outputs": []
    },
    {
      "cell_type": "code",
      "source": [
        "array_6"
      ],
      "metadata": {
        "colab": {
          "base_uri": "https://localhost:8080/"
        },
        "id": "R_6AsM04nN1R",
        "outputId": "369bb76b-1a3c-4a1f-84a6-ca3bfb1ac6ff"
      },
      "execution_count": null,
      "outputs": [
        {
          "output_type": "execute_result",
          "data": {
            "text/plain": [
              "array([[1, 0, 1, 1],\n",
              "       [0, 0, 1, 1],\n",
              "       [1, 0, 0, 0]])"
            ]
          },
          "metadata": {},
          "execution_count": 153
        }
      ]
    },
    {
      "cell_type": "markdown",
      "source": [
        "Determine a divisão de `array_5` por `array_6`."
      ],
      "metadata": {
        "id": "6LxTUQLOnSej"
      }
    },
    {
      "cell_type": "code",
      "source": [
        "array_div = ..."
      ],
      "metadata": {
        "colab": {
          "base_uri": "https://localhost:8080/"
        },
        "id": "XQpWG3SSnc8Y",
        "outputId": "b255b07f-c9d4-4d10-d7f9-1480dc8714f4"
      },
      "execution_count": null,
      "outputs": [
        {
          "output_type": "stream",
          "name": "stderr",
          "text": [
            "<ipython-input-154-171e7efd37aa>:1: RuntimeWarning: divide by zero encountered in divide\n",
            "  array_div = np.divide(array_5, array_6)\n"
          ]
        }
      ]
    },
    {
      "cell_type": "code",
      "source": [
        "array_div"
      ],
      "metadata": {
        "colab": {
          "base_uri": "https://localhost:8080/"
        },
        "id": "h2JN_ItCnf4b",
        "outputId": "09817f5c-d9be-4a7c-e47b-417a8675c44a"
      },
      "execution_count": null,
      "outputs": [
        {
          "output_type": "execute_result",
          "data": {
            "text/plain": [
              "array([[ -3., -inf, -10.,  -7.],\n",
              "       [-inf, -inf,   2.,   0.],\n",
              "       [  4.,  inf,  inf,  inf]])"
            ]
          },
          "metadata": {},
          "execution_count": 155
        }
      ]
    },
    {
      "cell_type": "markdown",
      "source": [
        "Verifique quais valores de `array_div` são:"
      ],
      "metadata": {
        "id": "NVBcu2a8ncd_"
      }
    },
    {
      "cell_type": "markdown",
      "source": [
        "... finitos:"
      ],
      "metadata": {
        "id": "UIT8MHu5nlh0"
      }
    },
    {
      "cell_type": "code",
      "source": [
        "..."
      ],
      "metadata": {
        "colab": {
          "base_uri": "https://localhost:8080/"
        },
        "id": "DdGYgFnAlZWV",
        "outputId": "00d2345e-261f-4561-f98c-7c053edddd97"
      },
      "execution_count": null,
      "outputs": [
        {
          "output_type": "execute_result",
          "data": {
            "text/plain": [
              "array([[ True, False,  True,  True],\n",
              "       [False, False,  True,  True],\n",
              "       [ True, False, False, False]])"
            ]
          },
          "metadata": {},
          "execution_count": 156
        }
      ]
    },
    {
      "cell_type": "markdown",
      "source": [
        "... infinitos:"
      ],
      "metadata": {
        "id": "r-1S0bqtno6O"
      }
    },
    {
      "cell_type": "code",
      "source": [
        "..."
      ],
      "metadata": {
        "colab": {
          "base_uri": "https://localhost:8080/"
        },
        "id": "4mPBKF49mMcT",
        "outputId": "f8b4cb6c-f4fc-4839-f29d-5fb0443d7940"
      },
      "execution_count": null,
      "outputs": [
        {
          "output_type": "execute_result",
          "data": {
            "text/plain": [
              "array([[False,  True, False, False],\n",
              "       [ True,  True, False, False],\n",
              "       [False,  True,  True,  True]])"
            ]
          },
          "metadata": {},
          "execution_count": 157
        }
      ]
    },
    {
      "cell_type": "markdown",
      "source": [
        "... infinitos negativos:"
      ],
      "metadata": {
        "id": "QTfq4YvmntrC"
      }
    },
    {
      "cell_type": "code",
      "source": [
        "..."
      ],
      "metadata": {
        "colab": {
          "base_uri": "https://localhost:8080/"
        },
        "id": "jDEzfyEHmN8i",
        "outputId": "326d067a-e22e-422c-9638-adca36faa781"
      },
      "execution_count": null,
      "outputs": [
        {
          "output_type": "execute_result",
          "data": {
            "text/plain": [
              "array([[False,  True, False, False],\n",
              "       [ True,  True, False, False],\n",
              "       [False, False, False, False]])"
            ]
          },
          "metadata": {},
          "execution_count": 158
        }
      ]
    },
    {
      "cell_type": "markdown",
      "source": [
        "Agora determine o logaritmo na base 10 de `array_5`."
      ],
      "metadata": {
        "id": "FqExwHopny68"
      }
    },
    {
      "cell_type": "code",
      "source": [
        "array_log_10 = ..."
      ],
      "metadata": {
        "colab": {
          "base_uri": "https://localhost:8080/"
        },
        "id": "dFj571mWn5U4",
        "outputId": "9bc8b1d4-cafd-499f-87ae-0263ac4f2ddb"
      },
      "execution_count": null,
      "outputs": [
        {
          "output_type": "stream",
          "name": "stderr",
          "text": [
            "<ipython-input-159-3664a7768494>:1: RuntimeWarning: divide by zero encountered in log10\n",
            "  array_log_10 = np.log10(array_5)\n",
            "<ipython-input-159-3664a7768494>:1: RuntimeWarning: invalid value encountered in log10\n",
            "  array_log_10 = np.log10(array_5)\n"
          ]
        }
      ]
    },
    {
      "cell_type": "code",
      "source": [
        "array_log_10"
      ],
      "metadata": {
        "colab": {
          "base_uri": "https://localhost:8080/"
        },
        "id": "-5OTYDa-n8AK",
        "outputId": "2cb763dd-07d5-49a1-d68a-fb785d68239c"
      },
      "execution_count": null,
      "outputs": [
        {
          "output_type": "execute_result",
          "data": {
            "text/plain": [
              "array([[       nan,        nan,        nan,        nan],\n",
              "       [       nan,        nan, 0.30103   ,       -inf],\n",
              "       [0.60205999, 0.90308999, 0.90308999, 0.77815125]])"
            ]
          },
          "metadata": {},
          "execution_count": 160
        }
      ]
    },
    {
      "cell_type": "markdown",
      "source": [
        "Quais desses valores são indeterminados (\"not a number\")?"
      ],
      "metadata": {
        "id": "LuYrazVgn-Tp"
      }
    },
    {
      "cell_type": "code",
      "source": [
        "..."
      ],
      "metadata": {
        "colab": {
          "base_uri": "https://localhost:8080/"
        },
        "id": "wIN1emw3mPSW",
        "outputId": "99a4eb1b-42b2-49ce-fe85-d84c1d124c0b"
      },
      "execution_count": null,
      "outputs": [
        {
          "output_type": "execute_result",
          "data": {
            "text/plain": [
              "array([[ True,  True,  True,  True],\n",
              "       [ True,  True, False, False],\n",
              "       [False, False, False, False]])"
            ]
          },
          "metadata": {},
          "execution_count": 161
        }
      ]
    },
    {
      "cell_type": "markdown",
      "source": [
        "### Funções float"
      ],
      "metadata": {
        "id": "5DS50gudoKit"
      }
    },
    {
      "cell_type": "markdown",
      "source": [
        "#### `np.floor`, `np.ceil`, `np.trunc`"
      ],
      "metadata": {
        "id": "-AtdoukA0YCy"
      }
    },
    {
      "cell_type": "markdown",
      "source": [
        "Gere um novo array com 10 valores aleatórios obtidos de uma distribuição normal, com média 0 e desvio padrão 1."
      ],
      "metadata": {
        "id": "UlrTdjS8oWb7"
      }
    },
    {
      "cell_type": "code",
      "source": [
        "array_7 = ..."
      ],
      "metadata": {
        "id": "Tc38mqg4mQnt"
      },
      "execution_count": null,
      "outputs": []
    },
    {
      "cell_type": "code",
      "source": [
        "array_7"
      ],
      "metadata": {
        "colab": {
          "base_uri": "https://localhost:8080/"
        },
        "id": "pf2tYDQaobyZ",
        "outputId": "20980d74-5ee7-452b-e7a6-89677b402701"
      },
      "execution_count": null,
      "outputs": [
        {
          "output_type": "execute_result",
          "data": {
            "text/plain": [
              "array([ 0.84145889,  0.12871566,  1.07834244,  0.72243087,  0.21057181,\n",
              "        0.28403815, -0.1697605 ,  0.86846021, -1.12971596, -0.42185883])"
            ]
          },
          "metadata": {},
          "execution_count": 163
        }
      ]
    },
    {
      "cell_type": "markdown",
      "source": [
        "Arredonde os valores para..."
      ],
      "metadata": {
        "id": "9YIYRtLlodkd"
      }
    },
    {
      "cell_type": "markdown",
      "source": [
        "... baixo:"
      ],
      "metadata": {
        "id": "W-5vfFLoogHO"
      }
    },
    {
      "cell_type": "code",
      "source": [
        "..."
      ],
      "metadata": {
        "colab": {
          "base_uri": "https://localhost:8080/"
        },
        "id": "4j6OidG3ocr-",
        "outputId": "3896e3c1-4049-4100-a36b-c9b4ed244112"
      },
      "execution_count": null,
      "outputs": [
        {
          "output_type": "execute_result",
          "data": {
            "text/plain": [
              "array([ 0.,  0.,  1.,  0.,  0.,  0., -1.,  0., -2., -1.])"
            ]
          },
          "metadata": {},
          "execution_count": 164
        }
      ]
    },
    {
      "cell_type": "markdown",
      "source": [
        "... cima:"
      ],
      "metadata": {
        "id": "c-4i5j5Aokzg"
      }
    },
    {
      "cell_type": "code",
      "source": [
        "..."
      ],
      "metadata": {
        "colab": {
          "base_uri": "https://localhost:8080/"
        },
        "id": "x2vdSR68ojZm",
        "outputId": "69f11c3b-6805-4e94-debb-6bcde573577a"
      },
      "execution_count": null,
      "outputs": [
        {
          "output_type": "execute_result",
          "data": {
            "text/plain": [
              "array([ 1.,  1.,  2.,  1.,  1.,  1., -0.,  1., -1., -0.])"
            ]
          },
          "metadata": {},
          "execution_count": 165
        }
      ]
    },
    {
      "cell_type": "markdown",
      "source": [
        "... o valor inteiro mais próximo de 0:"
      ],
      "metadata": {
        "id": "J7VYK-17oomh"
      }
    },
    {
      "cell_type": "code",
      "source": [
        "..."
      ],
      "metadata": {
        "colab": {
          "base_uri": "https://localhost:8080/"
        },
        "id": "mDrigtB7omr8",
        "outputId": "ff5dc7ca-ad36-492e-ba3c-30117138868d"
      },
      "execution_count": null,
      "outputs": [
        {
          "output_type": "execute_result",
          "data": {
            "text/plain": [
              "array([ 0.,  0.,  1.,  0.,  0.,  0., -0.,  0., -1., -0.])"
            ]
          },
          "metadata": {},
          "execution_count": 166
        }
      ]
    }
  ],
  "metadata": {
    "colab": {
      "provenance": []
    },
    "kernelspec": {
      "display_name": "Python 3",
      "name": "python3"
    },
    "language_info": {
      "name": "python"
    }
  },
  "nbformat": 4,
  "nbformat_minor": 0
}