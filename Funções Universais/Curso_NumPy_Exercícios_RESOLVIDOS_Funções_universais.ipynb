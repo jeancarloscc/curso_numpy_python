{
  "cells": [
    {
      "cell_type": "code",
      "execution_count": null,
      "metadata": {
        "colab": {
          "base_uri": "https://localhost:8080/",
          "height": 56
        },
        "id": "LC029ODRTe04",
        "outputId": "c02407b5-8010-4247-b508-1e7a306cd70a"
      },
      "outputs": [
        {
          "output_type": "execute_result",
          "data": {
            "text/plain": [
              "'1.25.2'"
            ],
            "application/vnd.google.colaboratory.intrinsic+json": {
              "type": "string"
            }
          },
          "metadata": {},
          "execution_count": 1
        }
      ],
      "source": [
        "import numpy as np\n",
        "np.__version__"
      ]
    },
    {
      "cell_type": "markdown",
      "metadata": {
        "id": "C8bG_AEFT1Ro"
      },
      "source": [
        "## Ufuncs"
      ]
    },
    {
      "cell_type": "markdown",
      "metadata": {
        "id": "He8uXTemUGz_"
      },
      "source": [
        "Vamos começar gerando 2 arrays de números inteiros para utilizarmos nos exercícios."
      ]
    },
    {
      "cell_type": "code",
      "execution_count": null,
      "metadata": {
        "id": "EJK5TKtzodFu"
      },
      "outputs": [],
      "source": [
        "rng = np.random.default_rng(seed=2)"
      ]
    },
    {
      "cell_type": "code",
      "execution_count": null,
      "metadata": {
        "colab": {
          "base_uri": "https://localhost:8080/"
        },
        "id": "57FVNktjoLTq",
        "outputId": "5e5d01b2-9608-49f8-e824-5c4749180fe6"
      },
      "outputs": [
        {
          "output_type": "execute_result",
          "data": {
            "text/plain": [
              "array([[ 6, -5],\n",
              "       [-8, -5],\n",
              "       [-2,  6]])"
            ]
          },
          "metadata": {},
          "execution_count": 4
        }
      ],
      "source": [
        "array_1 = rng.integers(low=-10, high=10, size=6).reshape(3, 2)\n",
        "array_1"
      ]
    },
    {
      "cell_type": "code",
      "execution_count": null,
      "metadata": {
        "colab": {
          "base_uri": "https://localhost:8080/"
        },
        "id": "Xft8V9MvoomD",
        "outputId": "5e674428-63ee-46e2-b78d-7c2f8cafae17"
      },
      "outputs": [
        {
          "output_type": "execute_result",
          "data": {
            "text/plain": [
              "array([[-1, -9],\n",
              "       [-4,  2],\n",
              "       [ 6,  4]])"
            ]
          },
          "metadata": {},
          "execution_count": 5
        }
      ],
      "source": [
        "array_2 = rng.integers(low=-10, high=10, size=6).reshape(3,2)\n",
        "array_2"
      ]
    },
    {
      "cell_type": "markdown",
      "metadata": {
        "id": "r3beGXt9oEXt"
      },
      "source": [
        "### Funções matemáticas"
      ]
    },
    {
      "cell_type": "markdown",
      "metadata": {
        "id": "gFzB1RpHov3X"
      },
      "source": [
        "#### `np.add`, `np.subtract`, `np.multiply`, `np.divide`"
      ]
    },
    {
      "cell_type": "markdown",
      "metadata": {
        "id": "vcp4V7s0UUKL"
      },
      "source": [
        "Utilize as 4 funções universais correspondentes às operações matemáticas básicas, utilizando `array_1` e `array_2`, nesta ordem.\n",
        "\n",
        "Logo na sequência da chamada de cada função, repita a operação com os operadores matemáticos nativos do Python, `+`, `-`, `*` e `/`, para verificar que o resultado é o mesmo."
      ]
    },
    {
      "cell_type": "code",
      "execution_count": null,
      "metadata": {
        "colab": {
          "base_uri": "https://localhost:8080/"
        },
        "id": "gghIuOR_UfMs",
        "outputId": "508897ad-39b9-457a-f480-18f623753f54"
      },
      "outputs": [
        {
          "output_type": "execute_result",
          "data": {
            "text/plain": [
              "array([[  5, -14],\n",
              "       [-12,  -3],\n",
              "       [  4,  10]])"
            ]
          },
          "metadata": {},
          "execution_count": 6
        }
      ],
      "source": [
        "np.add(array_1, array_2)"
      ]
    },
    {
      "cell_type": "code",
      "execution_count": null,
      "metadata": {
        "colab": {
          "base_uri": "https://localhost:8080/"
        },
        "id": "Qfu2vhY3U2Lg",
        "outputId": "4e755742-a21e-4c71-c1b8-5c3da7b700d5"
      },
      "outputs": [
        {
          "output_type": "execute_result",
          "data": {
            "text/plain": [
              "array([[  5, -14],\n",
              "       [-12,  -3],\n",
              "       [  4,  10]])"
            ]
          },
          "metadata": {},
          "execution_count": 7
        }
      ],
      "source": [
        "array_1 + array_2"
      ]
    },
    {
      "cell_type": "code",
      "execution_count": null,
      "metadata": {
        "colab": {
          "base_uri": "https://localhost:8080/"
        },
        "id": "Wi5491lJUjj1",
        "outputId": "4092aad4-f4f5-4f9b-da55-e2f80173dd68"
      },
      "outputs": [
        {
          "output_type": "execute_result",
          "data": {
            "text/plain": [
              "array([[ 7,  4],\n",
              "       [-4, -7],\n",
              "       [-8,  2]])"
            ]
          },
          "metadata": {},
          "execution_count": 8
        }
      ],
      "source": [
        "np.subtract(array_1, array_2)"
      ]
    },
    {
      "cell_type": "code",
      "execution_count": null,
      "metadata": {
        "colab": {
          "base_uri": "https://localhost:8080/"
        },
        "id": "yaQyk56LU5b6",
        "outputId": "761b8771-9258-45c7-87c9-f917da5ee66c"
      },
      "outputs": [
        {
          "output_type": "execute_result",
          "data": {
            "text/plain": [
              "array([[ 7,  4],\n",
              "       [-4, -7],\n",
              "       [-8,  2]])"
            ]
          },
          "metadata": {},
          "execution_count": 9
        }
      ],
      "source": [
        "array_1 - array_2"
      ]
    },
    {
      "cell_type": "code",
      "execution_count": null,
      "metadata": {
        "colab": {
          "base_uri": "https://localhost:8080/"
        },
        "id": "fF4tHNPkUldb",
        "outputId": "29284d73-0a96-445e-a548-9613b90556fa"
      },
      "outputs": [
        {
          "output_type": "execute_result",
          "data": {
            "text/plain": [
              "array([[ -6,  45],\n",
              "       [ 32, -10],\n",
              "       [-12,  24]])"
            ]
          },
          "metadata": {},
          "execution_count": 10
        }
      ],
      "source": [
        "np.multiply(array_1, array_2)"
      ]
    },
    {
      "cell_type": "code",
      "execution_count": null,
      "metadata": {
        "colab": {
          "base_uri": "https://localhost:8080/"
        },
        "id": "7WPJtZtZU7V4",
        "outputId": "92ffcb9d-6cfb-4765-eba5-982b797d80f2"
      },
      "outputs": [
        {
          "output_type": "execute_result",
          "data": {
            "text/plain": [
              "array([[ -6,  45],\n",
              "       [ 32, -10],\n",
              "       [-12,  24]])"
            ]
          },
          "metadata": {},
          "execution_count": 11
        }
      ],
      "source": [
        "array_1 * array_2"
      ]
    },
    {
      "cell_type": "code",
      "execution_count": null,
      "metadata": {
        "colab": {
          "base_uri": "https://localhost:8080/"
        },
        "id": "Unlh7s65UnoQ",
        "outputId": "ff58583c-7923-4f1f-d2cc-0731a40a395c"
      },
      "outputs": [
        {
          "output_type": "execute_result",
          "data": {
            "text/plain": [
              "array([[-6.        ,  0.55555556],\n",
              "       [ 2.        , -2.5       ],\n",
              "       [-0.33333333,  1.5       ]])"
            ]
          },
          "metadata": {},
          "execution_count": 12
        }
      ],
      "source": [
        "np.divide(array_1, array_2)"
      ]
    },
    {
      "cell_type": "code",
      "execution_count": null,
      "metadata": {
        "colab": {
          "base_uri": "https://localhost:8080/"
        },
        "id": "TKoYVFR_U948",
        "outputId": "8df2df8d-f771-45fb-d7ee-ba6694d5a69d"
      },
      "outputs": [
        {
          "output_type": "execute_result",
          "data": {
            "text/plain": [
              "array([[-6.        ,  0.55555556],\n",
              "       [ 2.        , -2.5       ],\n",
              "       [-0.33333333,  1.5       ]])"
            ]
          },
          "metadata": {},
          "execution_count": 13
        }
      ],
      "source": [
        "array_1 / array_2"
      ]
    },
    {
      "cell_type": "markdown",
      "metadata": {
        "id": "BI-D2CJbVFX_"
      },
      "source": [
        "#### `np.mod`"
      ]
    },
    {
      "cell_type": "markdown",
      "metadata": {
        "id": "XygVNk40VJZI"
      },
      "source": [
        "A forma mais comum de verificar se um número é *par* é observar se o seu *módulo* da divisão por 2 é igual a 0.\n",
        "\n",
        "Utilize a função `np.mod` para verificar o módulo dos valores de `array_1` quando divididos por 2."
      ]
    },
    {
      "cell_type": "code",
      "execution_count": null,
      "metadata": {
        "id": "lRWnUmsBUp8j"
      },
      "outputs": [],
      "source": [
        "array_mod = np.mod(array_1, 2)"
      ]
    },
    {
      "cell_type": "code",
      "execution_count": null,
      "metadata": {
        "colab": {
          "base_uri": "https://localhost:8080/"
        },
        "id": "NK0GiBbwVd-E",
        "outputId": "80e1f745-6348-4b0d-f376-afcb1ff5e532"
      },
      "outputs": [
        {
          "output_type": "execute_result",
          "data": {
            "text/plain": [
              "array([[0, 1],\n",
              "       [0, 1],\n",
              "       [0, 0]])"
            ]
          },
          "metadata": {},
          "execution_count": 15
        }
      ],
      "source": [
        "array_mod"
      ]
    },
    {
      "cell_type": "markdown",
      "metadata": {
        "id": "BaWtV0c8VfWq"
      },
      "source": [
        "Agora utilize o operador básico `==` para confirmar quais valores de `array_mod` são iguais a 0."
      ]
    },
    {
      "cell_type": "code",
      "execution_count": null,
      "metadata": {
        "colab": {
          "base_uri": "https://localhost:8080/"
        },
        "id": "wACGq58rVdfj",
        "outputId": "e9fbdb07-e028-496e-f4fa-d1091c8bd50d"
      },
      "outputs": [
        {
          "output_type": "execute_result",
          "data": {
            "text/plain": [
              "array([[ True, False],\n",
              "       [ True, False],\n",
              "       [ True,  True]])"
            ]
          },
          "metadata": {},
          "execution_count": 16
        }
      ],
      "source": [
        "array_mod == 0"
      ]
    },
    {
      "cell_type": "markdown",
      "metadata": {
        "id": "T_kHQPHrVuCP"
      },
      "source": [
        "Esta comparação indica quais valores são pares (`True`)."
      ]
    },
    {
      "cell_type": "markdown",
      "metadata": {
        "id": "2xauHxHRV_jm"
      },
      "source": [
        "#### `np.divmod`"
      ]
    },
    {
      "cell_type": "markdown",
      "metadata": {
        "id": "Ra-Sb_rVWCeH"
      },
      "source": [
        "Muitas operações de divisão resultam em valores \"quebrados\". Às vezes nós queremos representar o resultado como valores inteiros, em um formato truncado, onde descartamos a parte decimal.\n",
        "\n",
        "Utilize `np.divmod` para verificar qual a parte inteira e o resto da divisão de `array_1` por 4."
      ]
    },
    {
      "cell_type": "code",
      "execution_count": null,
      "metadata": {
        "id": "rLtq4I6vVq8v"
      },
      "outputs": [],
      "source": [
        "array_int, array_rest = np.divmod(array_1, 4)"
      ]
    },
    {
      "cell_type": "code",
      "execution_count": null,
      "metadata": {
        "colab": {
          "base_uri": "https://localhost:8080/"
        },
        "id": "wI7KgDmUWXw7",
        "outputId": "3b2e7482-1b38-4d2f-8aa2-a843f83e8a93"
      },
      "outputs": [
        {
          "output_type": "execute_result",
          "data": {
            "text/plain": [
              "array([[ 1, -2],\n",
              "       [-2, -2],\n",
              "       [-1,  1]])"
            ]
          },
          "metadata": {},
          "execution_count": 18
        }
      ],
      "source": [
        "array_int"
      ]
    },
    {
      "cell_type": "markdown",
      "metadata": {
        "id": "P3CUOKuDWaDS"
      },
      "source": [
        "👆 Este array representa o arredondamento por truncação dos resultados da operação."
      ]
    },
    {
      "cell_type": "code",
      "source": [
        "array_rest"
      ],
      "metadata": {
        "colab": {
          "base_uri": "https://localhost:8080/"
        },
        "id": "y4CX4Gpcixeh",
        "outputId": "a5cbdbfa-df2e-424a-9ac5-94a7d7fff0dd"
      },
      "execution_count": null,
      "outputs": [
        {
          "output_type": "execute_result",
          "data": {
            "text/plain": [
              "array([[2, 3],\n",
              "       [0, 3],\n",
              "       [2, 2]])"
            ]
          },
          "metadata": {},
          "execution_count": 19
        }
      ]
    },
    {
      "cell_type": "markdown",
      "source": [
        "👆 Este é o resto da divisão."
      ],
      "metadata": {
        "id": "t7BaCmw3i7uZ"
      }
    },
    {
      "cell_type": "markdown",
      "metadata": {
        "id": "IVoavZs9qz-l"
      },
      "source": [
        "#### `np.absolute`"
      ]
    },
    {
      "cell_type": "markdown",
      "metadata": {
        "id": "NV2HHfHYWv_C"
      },
      "source": [
        "Verifique quais são os valores absolutos de `array_2`."
      ]
    },
    {
      "cell_type": "code",
      "execution_count": null,
      "metadata": {
        "colab": {
          "base_uri": "https://localhost:8080/"
        },
        "id": "FcKopFS3W1gf",
        "outputId": "d8ff7f4c-6040-4d89-ec28-ebe5b27ab7af"
      },
      "outputs": [
        {
          "output_type": "execute_result",
          "data": {
            "text/plain": [
              "array([[1, 9],\n",
              "       [4, 2],\n",
              "       [6, 4]])"
            ]
          },
          "metadata": {},
          "execution_count": 20
        }
      ],
      "source": [
        "np.absolute(array_2)"
      ]
    },
    {
      "cell_type": "markdown",
      "metadata": {
        "id": "ZhF0ZqQat212"
      },
      "source": [
        "#### `np.diff`"
      ]
    },
    {
      "cell_type": "markdown",
      "metadata": {
        "id": "MMv6vm8OW_-L"
      },
      "source": [
        "Verifique a diferença entre os valores das colunas de `array_1`."
      ]
    },
    {
      "cell_type": "code",
      "execution_count": null,
      "metadata": {
        "colab": {
          "base_uri": "https://localhost:8080/"
        },
        "id": "v_Ar1QyWW_P3",
        "outputId": "8fac00c3-ec80-4f39-ba07-c11a353b8ff7"
      },
      "outputs": [
        {
          "output_type": "execute_result",
          "data": {
            "text/plain": [
              "array([[-11],\n",
              "       [  3],\n",
              "       [  8]])"
            ]
          },
          "metadata": {},
          "execution_count": 21
        }
      ],
      "source": [
        "np.diff(a=array_1)"
      ]
    },
    {
      "cell_type": "markdown",
      "metadata": {
        "id": "SICbKceMXFHm"
      },
      "source": [
        "Verifique a diferença entre os valores das linhas de `array_2`."
      ]
    },
    {
      "cell_type": "code",
      "execution_count": null,
      "metadata": {
        "colab": {
          "base_uri": "https://localhost:8080/"
        },
        "id": "cPinYTwEXKTz",
        "outputId": "e59f57ff-d69c-48ac-dba8-a470f87eb774"
      },
      "outputs": [
        {
          "output_type": "execute_result",
          "data": {
            "text/plain": [
              "array([[-3, 11],\n",
              "       [10,  2]])"
            ]
          },
          "metadata": {},
          "execution_count": 22
        }
      ],
      "source": [
        "np.diff(a=array_2, axis=0)"
      ]
    },
    {
      "cell_type": "markdown",
      "metadata": {
        "id": "WvITVrFgrBtl"
      },
      "source": [
        "#### `np.power`, `np.exp`, `np.log`"
      ]
    },
    {
      "cell_type": "markdown",
      "metadata": {
        "id": "VUAJcr9bXYTb"
      },
      "source": [
        "Calcule os valores de `array_2` elevados ao cubo."
      ]
    },
    {
      "cell_type": "code",
      "execution_count": null,
      "metadata": {
        "colab": {
          "base_uri": "https://localhost:8080/"
        },
        "id": "YearXLOZXXor",
        "outputId": "5f5f510e-3943-4f80-fded-56af11831362"
      },
      "outputs": [
        {
          "output_type": "execute_result",
          "data": {
            "text/plain": [
              "array([[  -1, -729],\n",
              "       [ -64,    8],\n",
              "       [ 216,   64]])"
            ]
          },
          "metadata": {},
          "execution_count": 23
        }
      ],
      "source": [
        "np.power(array_2, 3)"
      ]
    },
    {
      "cell_type": "markdown",
      "metadata": {
        "id": "zdXVI6b-Xi1r"
      },
      "source": [
        "Calcule o valor do número natural *e* elevado aos valores de `array_1`."
      ]
    },
    {
      "cell_type": "code",
      "execution_count": null,
      "metadata": {
        "colab": {
          "base_uri": "https://localhost:8080/"
        },
        "id": "xoCE_Z8YXiPU",
        "outputId": "00662b23-2e7a-4f55-f33e-78971be51da2"
      },
      "outputs": [
        {
          "output_type": "execute_result",
          "data": {
            "text/plain": [
              "array([[4.03428793e+02, 6.73794700e-03],\n",
              "       [3.35462628e-04, 6.73794700e-03],\n",
              "       [1.35335283e-01, 4.03428793e+02]])"
            ]
          },
          "metadata": {},
          "execution_count": 24
        }
      ],
      "source": [
        "np.exp(array_1)"
      ]
    },
    {
      "cell_type": "markdown",
      "metadata": {
        "id": "eOwHgXdVXspb"
      },
      "source": [
        "Calcule o logaritmo natural dos valores de `array_2`."
      ]
    },
    {
      "cell_type": "code",
      "execution_count": null,
      "metadata": {
        "colab": {
          "base_uri": "https://localhost:8080/"
        },
        "id": "_HcsoDXSXtBs",
        "outputId": "205ed91a-1848-4766-e454-5f7c82e2e5de"
      },
      "outputs": [
        {
          "output_type": "stream",
          "name": "stderr",
          "text": [
            "<ipython-input-25-6d7a252fbd89>:1: RuntimeWarning: invalid value encountered in log\n",
            "  np.log(array_2)\n"
          ]
        },
        {
          "output_type": "execute_result",
          "data": {
            "text/plain": [
              "array([[       nan,        nan],\n",
              "       [       nan, 0.69314718],\n",
              "       [1.79175947, 1.38629436]])"
            ]
          },
          "metadata": {},
          "execution_count": 25
        }
      ],
      "source": [
        "np.log(array_2)"
      ]
    },
    {
      "cell_type": "markdown",
      "metadata": {
        "id": "YEJHlhQLshrw"
      },
      "source": [
        "#### `np.reciprocal`"
      ]
    },
    {
      "cell_type": "markdown",
      "metadata": {
        "id": "kYTmvcmQX6Hz"
      },
      "source": [
        "Determine os valores recíprocos de `array_1`. Lembre-se que você precisa antes converter os valores do array para float."
      ]
    },
    {
      "cell_type": "code",
      "execution_count": null,
      "metadata": {
        "colab": {
          "base_uri": "https://localhost:8080/"
        },
        "id": "xAdrw2NZYDWq",
        "outputId": "8eacdae1-2596-4e45-fa19-b6b566a2f465"
      },
      "outputs": [
        {
          "output_type": "execute_result",
          "data": {
            "text/plain": [
              "array([[ 0.16666667, -0.2       ],\n",
              "       [-0.125     , -0.2       ],\n",
              "       [-0.5       ,  0.16666667]])"
            ]
          },
          "metadata": {},
          "execution_count": 26
        }
      ],
      "source": [
        "np.reciprocal(array_1.astype(float))"
      ]
    },
    {
      "cell_type": "markdown",
      "metadata": {
        "id": "N5wHc1kOt62i"
      },
      "source": [
        "#### `np.sqrt`, `np.cbrt`"
      ]
    },
    {
      "cell_type": "markdown",
      "metadata": {
        "id": "sZU4zL9xYQBX"
      },
      "source": [
        "Obtenha a raiz quadrada dos valores de `array_1`."
      ]
    },
    {
      "cell_type": "code",
      "execution_count": null,
      "metadata": {
        "colab": {
          "base_uri": "https://localhost:8080/"
        },
        "id": "puIcM3HCYZPs",
        "outputId": "c9d44ece-d212-4bb6-b910-9447bd717819"
      },
      "outputs": [
        {
          "output_type": "stream",
          "name": "stderr",
          "text": [
            "<ipython-input-27-8db68dfbb9e4>:1: RuntimeWarning: invalid value encountered in sqrt\n",
            "  np.sqrt(array_1)\n"
          ]
        },
        {
          "output_type": "execute_result",
          "data": {
            "text/plain": [
              "array([[2.44948974,        nan],\n",
              "       [       nan,        nan],\n",
              "       [       nan, 2.44948974]])"
            ]
          },
          "metadata": {},
          "execution_count": 27
        }
      ],
      "source": [
        "np.sqrt(array_1)"
      ]
    },
    {
      "cell_type": "markdown",
      "metadata": {
        "id": "nlIjGZnxYcjZ"
      },
      "source": [
        "Obtenha a raiz cúbica dos valores de `array_2`."
      ]
    },
    {
      "cell_type": "code",
      "execution_count": null,
      "metadata": {
        "colab": {
          "base_uri": "https://localhost:8080/"
        },
        "id": "i5uJ0QhuYbqz",
        "outputId": "6beb958e-1a7a-4fd6-948c-8802c8368d2f"
      },
      "outputs": [
        {
          "output_type": "execute_result",
          "data": {
            "text/plain": [
              "array([[-1.        , -2.08008382],\n",
              "       [-1.58740105,  1.25992105],\n",
              "       [ 1.81712059,  1.58740105]])"
            ]
          },
          "metadata": {},
          "execution_count": 28
        }
      ],
      "source": [
        "np.cbrt(array_2)"
      ]
    },
    {
      "cell_type": "markdown",
      "metadata": {
        "id": "Po3yJhmVucFe"
      },
      "source": [
        "#### `np.gcd`, `np.lcm`\n",
        "\n",
        "Calcule o maior divisor comum e o mínimo múltiplo comum entre `array_1` e `array_2`."
      ]
    },
    {
      "cell_type": "code",
      "execution_count": null,
      "metadata": {
        "colab": {
          "base_uri": "https://localhost:8080/"
        },
        "id": "f2x5eYm8WYnH",
        "outputId": "e28a2694-e7a5-4a94-e6dd-18878a8561cf"
      },
      "outputs": [
        {
          "output_type": "execute_result",
          "data": {
            "text/plain": [
              "array([[1, 1],\n",
              "       [4, 1],\n",
              "       [2, 2]])"
            ]
          },
          "metadata": {},
          "execution_count": 29
        }
      ],
      "source": [
        "np.gcd(array_1, array_2)"
      ]
    },
    {
      "cell_type": "code",
      "execution_count": null,
      "metadata": {
        "colab": {
          "base_uri": "https://localhost:8080/"
        },
        "id": "xqo4d3snYoYg",
        "outputId": "c23139ee-866b-4c61-b9aa-1afa578865ea"
      },
      "outputs": [
        {
          "output_type": "execute_result",
          "data": {
            "text/plain": [
              "array([[ 6, 45],\n",
              "       [ 8, 10],\n",
              "       [ 6, 12]])"
            ]
          },
          "metadata": {},
          "execution_count": 30
        }
      ],
      "source": [
        "np.lcm(array_1, array_2)"
      ]
    },
    {
      "cell_type": "markdown",
      "metadata": {
        "id": "T8S64YQnu8Le"
      },
      "source": [
        "### Funções trigonométricas"
      ]
    },
    {
      "cell_type": "markdown",
      "metadata": {
        "id": "MA6wtScTY9NJ"
      },
      "source": [
        "Calcule o seno, o cosseno e a tangente de alguns ângulos importantes: 30, 45 e 90 graus. Lembre-se que você precisa antes coverter o ângulo para radianos."
      ]
    },
    {
      "cell_type": "code",
      "execution_count": null,
      "metadata": {
        "id": "5df6cvL2ZLlm"
      },
      "outputs": [],
      "source": [
        "radians_30 = np.radians(30)"
      ]
    },
    {
      "cell_type": "code",
      "execution_count": null,
      "metadata": {
        "colab": {
          "base_uri": "https://localhost:8080/"
        },
        "id": "1RQrpXC0YxHv",
        "outputId": "1452f6dd-9bb2-4975-a569-f5e8caa55c42"
      },
      "outputs": [
        {
          "output_type": "execute_result",
          "data": {
            "text/plain": [
              "0.49999999999999994"
            ]
          },
          "metadata": {},
          "execution_count": 32
        }
      ],
      "source": [
        "np.sin(radians_30)"
      ]
    },
    {
      "cell_type": "markdown",
      "metadata": {
        "id": "G4zCjqsRaOl2"
      },
      "source": [
        "👆 O valor exato é igual a 0.5."
      ]
    },
    {
      "cell_type": "code",
      "execution_count": null,
      "metadata": {
        "colab": {
          "base_uri": "https://localhost:8080/"
        },
        "id": "_1fBeTNaZPAg",
        "outputId": "de6f99c7-4ceb-4ebd-fedd-3de964f225a4"
      },
      "outputs": [
        {
          "output_type": "execute_result",
          "data": {
            "text/plain": [
              "0.8660254037844387"
            ]
          },
          "metadata": {},
          "execution_count": 33
        }
      ],
      "source": [
        "np.cos(radians_30)"
      ]
    },
    {
      "cell_type": "code",
      "execution_count": null,
      "metadata": {
        "colab": {
          "base_uri": "https://localhost:8080/"
        },
        "id": "dg5dcAGVZRD9",
        "outputId": "ff96692e-9fe2-494f-c9e3-91974575078f"
      },
      "outputs": [
        {
          "output_type": "execute_result",
          "data": {
            "text/plain": [
              "0.5773502691896257"
            ]
          },
          "metadata": {},
          "execution_count": 34
        }
      ],
      "source": [
        "np.tan(radians_30)"
      ]
    },
    {
      "cell_type": "code",
      "execution_count": null,
      "metadata": {
        "id": "U5Q8pZ4_ZUSc"
      },
      "outputs": [],
      "source": [
        "radians_45 = np.radians(45)"
      ]
    },
    {
      "cell_type": "code",
      "execution_count": null,
      "metadata": {
        "colab": {
          "base_uri": "https://localhost:8080/"
        },
        "id": "y4SvzEFsZUSc",
        "outputId": "6ecd409c-12cc-4e7b-cbf8-50ad71e28f5a"
      },
      "outputs": [
        {
          "output_type": "execute_result",
          "data": {
            "text/plain": [
              "0.7071067811865475"
            ]
          },
          "metadata": {},
          "execution_count": 36
        }
      ],
      "source": [
        "np.sin(radians_45)"
      ]
    },
    {
      "cell_type": "code",
      "execution_count": null,
      "metadata": {
        "colab": {
          "base_uri": "https://localhost:8080/"
        },
        "id": "AxvzkAeAZUSd",
        "outputId": "f9163e96-3238-43aa-beff-03d7604faf46"
      },
      "outputs": [
        {
          "output_type": "execute_result",
          "data": {
            "text/plain": [
              "0.7071067811865476"
            ]
          },
          "metadata": {},
          "execution_count": 37
        }
      ],
      "source": [
        "np.cos(radians_45)"
      ]
    },
    {
      "cell_type": "code",
      "execution_count": null,
      "metadata": {
        "colab": {
          "base_uri": "https://localhost:8080/"
        },
        "id": "w3m3GlxFZUSe",
        "outputId": "2e7e1f1b-fcd2-4dab-b6ce-ca7040568acb"
      },
      "outputs": [
        {
          "output_type": "execute_result",
          "data": {
            "text/plain": [
              "0.9999999999999999"
            ]
          },
          "metadata": {},
          "execution_count": 38
        }
      ],
      "source": [
        "np.tan(radians_45)"
      ]
    },
    {
      "cell_type": "markdown",
      "metadata": {
        "id": "tOLx2kcAaS8S"
      },
      "source": [
        "👆 O valor exato é igual a 1."
      ]
    },
    {
      "cell_type": "code",
      "execution_count": null,
      "metadata": {
        "id": "Fw3HJiu4ZSHQ"
      },
      "outputs": [],
      "source": [
        "radians_90 = np.radians(90)"
      ]
    },
    {
      "cell_type": "code",
      "execution_count": null,
      "metadata": {
        "colab": {
          "base_uri": "https://localhost:8080/"
        },
        "id": "R5odkHo7ZdFo",
        "outputId": "7b5ee0df-2a3a-45df-dfe2-a10269f987cc"
      },
      "outputs": [
        {
          "output_type": "execute_result",
          "data": {
            "text/plain": [
              "1.0"
            ]
          },
          "metadata": {},
          "execution_count": 40
        }
      ],
      "source": [
        "np.sin(radians_90)"
      ]
    },
    {
      "cell_type": "code",
      "execution_count": null,
      "metadata": {
        "colab": {
          "base_uri": "https://localhost:8080/"
        },
        "id": "qpqSwo-kZdGA",
        "outputId": "24ba3ef6-f9ab-4bdd-9354-3c13a2d2a288"
      },
      "outputs": [
        {
          "output_type": "execute_result",
          "data": {
            "text/plain": [
              "6.123233995736766e-17"
            ]
          },
          "metadata": {},
          "execution_count": 41
        }
      ],
      "source": [
        "np.cos(radians_90)"
      ]
    },
    {
      "cell_type": "markdown",
      "metadata": {
        "id": "c58OpDoXaKv0"
      },
      "source": [
        "👆 O valor exato é igual a 0."
      ]
    },
    {
      "cell_type": "code",
      "execution_count": null,
      "metadata": {
        "colab": {
          "base_uri": "https://localhost:8080/"
        },
        "id": "Oykz94zQZdGB",
        "outputId": "f50d30eb-b30d-4175-bc46-565be0583d03"
      },
      "outputs": [
        {
          "output_type": "execute_result",
          "data": {
            "text/plain": [
              "1.633123935319537e+16"
            ]
          },
          "metadata": {},
          "execution_count": 42
        }
      ],
      "source": [
        "np.tan(radians_90)"
      ]
    },
    {
      "cell_type": "markdown",
      "metadata": {
        "id": "a-BKC5sSZpRp"
      },
      "source": [
        "👆 O valor exato é *infinito*, pois $$tan(x) = \\frac{sen(x)}{cos(x)}$$ e o cosseno de 90 graus é igual a 0. Por questões de arredondamento, o NumPy retorna um valor \"muito alto\" ao invés de expressar infinito."
      ]
    },
    {
      "cell_type": "markdown",
      "metadata": {
        "id": "tW_zxrOAxXrR"
      },
      "source": [
        "### Funções de comparação"
      ]
    },
    {
      "cell_type": "markdown",
      "metadata": {
        "id": "JWbqh8OVzI7e"
      },
      "source": [
        "#### `np.maximum`,  `np.minimum`"
      ]
    },
    {
      "cell_type": "markdown",
      "metadata": {
        "id": "GlyBmeiGb3mH"
      },
      "source": [
        "Obtenha os valores máximos e mínimos comparando `array_1` com `array_2`."
      ]
    },
    {
      "cell_type": "code",
      "execution_count": null,
      "metadata": {
        "colab": {
          "base_uri": "https://localhost:8080/"
        },
        "id": "kEdf28D5cAGo",
        "outputId": "ce6191bb-8f5e-470d-e513-08fe01d889c1"
      },
      "outputs": [
        {
          "output_type": "execute_result",
          "data": {
            "text/plain": [
              "array([[ 6, -5],\n",
              "       [-4,  2],\n",
              "       [ 6,  6]])"
            ]
          },
          "metadata": {},
          "execution_count": 43
        }
      ],
      "source": [
        "np.maximum(array_1, array_2)"
      ]
    },
    {
      "cell_type": "code",
      "execution_count": null,
      "metadata": {
        "colab": {
          "base_uri": "https://localhost:8080/"
        },
        "id": "HKFq76KbcCm2",
        "outputId": "ee77e172-b94b-41c1-a450-4f61f42a1431"
      },
      "outputs": [
        {
          "output_type": "execute_result",
          "data": {
            "text/plain": [
              "array([[-1, -9],\n",
              "       [-8, -5],\n",
              "       [-2,  4]])"
            ]
          },
          "metadata": {},
          "execution_count": 44
        }
      ],
      "source": [
        "np.minimum(array_1, array_2)"
      ]
    },
    {
      "cell_type": "markdown",
      "metadata": {
        "id": "4PRplpcFxepd"
      },
      "source": [
        "#### `np.greater`,  `np.greater_equal`, `np.less`,  `np.less_equal`,  `np.not_equal`, `np.equal`"
      ]
    },
    {
      "cell_type": "markdown",
      "metadata": {
        "id": "xvczeaC-cKEm"
      },
      "source": [
        "Compare `array_1` com `array_2` para verificar se seus valores são...\n",
        "\n",
        "... maiores:"
      ]
    },
    {
      "cell_type": "code",
      "execution_count": null,
      "metadata": {
        "colab": {
          "base_uri": "https://localhost:8080/"
        },
        "id": "P7hTM-VMcSOA",
        "outputId": "8a05a068-f7aa-463d-dff9-0ac79e035e21"
      },
      "outputs": [
        {
          "output_type": "execute_result",
          "data": {
            "text/plain": [
              "array([[ True,  True],\n",
              "       [False, False],\n",
              "       [False,  True]])"
            ]
          },
          "metadata": {},
          "execution_count": 45
        }
      ],
      "source": [
        "np.greater(array_1, array_2)"
      ]
    },
    {
      "cell_type": "markdown",
      "metadata": {
        "id": "irQtryZocVHo"
      },
      "source": [
        "... menores ou iguais:"
      ]
    },
    {
      "cell_type": "code",
      "execution_count": null,
      "metadata": {
        "colab": {
          "base_uri": "https://localhost:8080/"
        },
        "id": "heda8YYBcXKc",
        "outputId": "7c94a49a-7cb3-4a0e-bf1f-37269155f3b5"
      },
      "outputs": [
        {
          "output_type": "execute_result",
          "data": {
            "text/plain": [
              "array([[False, False],\n",
              "       [ True,  True],\n",
              "       [ True, False]])"
            ]
          },
          "metadata": {},
          "execution_count": 46
        }
      ],
      "source": [
        "np.less_equal(array_1, array_2)"
      ]
    },
    {
      "cell_type": "markdown",
      "metadata": {
        "id": "A8qWG5wmcau9"
      },
      "source": [
        "... diferentes:"
      ]
    },
    {
      "cell_type": "code",
      "execution_count": null,
      "metadata": {
        "colab": {
          "base_uri": "https://localhost:8080/"
        },
        "id": "DwUVO7aRccE0",
        "outputId": "63ee56f6-a862-4097-ce52-136106d7b0cf"
      },
      "outputs": [
        {
          "output_type": "execute_result",
          "data": {
            "text/plain": [
              "array([[ True,  True],\n",
              "       [ True,  True],\n",
              "       [ True,  True]])"
            ]
          },
          "metadata": {},
          "execution_count": 47
        }
      ],
      "source": [
        "np.not_equal(array_1, array_2)"
      ]
    },
    {
      "cell_type": "markdown",
      "metadata": {
        "id": "8lgWD7mvyIQB"
      },
      "source": [
        "#### `logical_and`, `logical_or`, `logical_xor`, `logical_not`"
      ]
    },
    {
      "cell_type": "markdown",
      "metadata": {
        "id": "qVjc8Ql2dpz_"
      },
      "source": [
        "Primeiro gere uma máscara booleana para verificar quais valores em `array_1` e `array_2` são pares."
      ]
    },
    {
      "cell_type": "code",
      "execution_count": null,
      "metadata": {
        "id": "QJ_UAVr1dw46"
      },
      "outputs": [],
      "source": [
        "array_1_mask = np.mod(array_1, 2) == 0"
      ]
    },
    {
      "cell_type": "code",
      "execution_count": null,
      "metadata": {
        "colab": {
          "base_uri": "https://localhost:8080/"
        },
        "id": "VbJS_X5Ed5zz",
        "outputId": "f7a7e0d9-8ed5-4758-fa40-74e32596a825"
      },
      "outputs": [
        {
          "output_type": "execute_result",
          "data": {
            "text/plain": [
              "array([[ True, False],\n",
              "       [ True, False],\n",
              "       [ True,  True]])"
            ]
          },
          "metadata": {},
          "execution_count": 49
        }
      ],
      "source": [
        "array_1_mask"
      ]
    },
    {
      "cell_type": "code",
      "execution_count": null,
      "metadata": {
        "id": "xpou0xX4d5tf"
      },
      "outputs": [],
      "source": [
        "array_2_mask = np.mod(array_2, 2) == 0"
      ]
    },
    {
      "cell_type": "code",
      "execution_count": null,
      "metadata": {
        "colab": {
          "base_uri": "https://localhost:8080/"
        },
        "id": "sCzJHZiAd5ez",
        "outputId": "4745faa5-d006-4c4c-9898-974d92282a7c"
      },
      "outputs": [
        {
          "output_type": "execute_result",
          "data": {
            "text/plain": [
              "array([[False, False],\n",
              "       [ True,  True],\n",
              "       [ True,  True]])"
            ]
          },
          "metadata": {},
          "execution_count": 51
        }
      ],
      "source": [
        "array_2_mask"
      ]
    },
    {
      "cell_type": "markdown",
      "metadata": {
        "id": "vDkgepPHd5Ln"
      },
      "source": [
        "Agora, com `logical_and`, verifique onde nos dois arrays os valores são pares."
      ]
    },
    {
      "cell_type": "code",
      "execution_count": null,
      "metadata": {
        "colab": {
          "base_uri": "https://localhost:8080/"
        },
        "id": "--Pu6GKmeL3-",
        "outputId": "894b8522-e0b7-4255-ea8d-f077575d8ca9"
      },
      "outputs": [
        {
          "output_type": "execute_result",
          "data": {
            "text/plain": [
              "array([[False, False],\n",
              "       [ True, False],\n",
              "       [ True,  True]])"
            ]
          },
          "metadata": {},
          "execution_count": 52
        }
      ],
      "source": [
        "np.logical_and(array_1_mask, array_2_mask)"
      ]
    },
    {
      "cell_type": "markdown",
      "metadata": {
        "id": "80BeYedteSh7"
      },
      "source": [
        "Com `logical_or`, você pode verificar onde pelo menos um dos valores é par."
      ]
    },
    {
      "cell_type": "code",
      "execution_count": null,
      "metadata": {
        "colab": {
          "base_uri": "https://localhost:8080/"
        },
        "id": "Ye5o5wNHeYqH",
        "outputId": "74cbce8f-b52e-4ad0-83fa-f8b9632bfd51"
      },
      "outputs": [
        {
          "output_type": "execute_result",
          "data": {
            "text/plain": [
              "array([[ True, False],\n",
              "       [ True,  True],\n",
              "       [ True,  True]])"
            ]
          },
          "metadata": {},
          "execution_count": 53
        }
      ],
      "source": [
        "np.logical_or(array_1_mask, array_2_mask)"
      ]
    },
    {
      "cell_type": "markdown",
      "metadata": {
        "id": "Cohe9gAmeeWr"
      },
      "source": [
        "Você também pode verificar onde pelo menos um dos valores é ímpar com `logical_not`, sem precisar refazer as máscaras booleanas."
      ]
    },
    {
      "cell_type": "code",
      "execution_count": null,
      "metadata": {
        "colab": {
          "base_uri": "https://localhost:8080/"
        },
        "id": "vUQw38ZFemyL",
        "outputId": "92d61c57-4e85-48f4-ffbd-d7aee9e44372"
      },
      "outputs": [
        {
          "output_type": "execute_result",
          "data": {
            "text/plain": [
              "array([[False,  True],\n",
              "       [False,  True],\n",
              "       [False, False]])"
            ]
          },
          "metadata": {},
          "execution_count": 54
        }
      ],
      "source": [
        "np.logical_not(array_1_mask, array_2_mask)"
      ]
    },
    {
      "cell_type": "markdown",
      "metadata": {
        "id": "DjeBtLGj4Iu1"
      },
      "source": [
        "#### `np.isclose`, `np.allclose`"
      ]
    },
    {
      "cell_type": "markdown",
      "metadata": {
        "id": "nFdz7xdNfPTA"
      },
      "source": [
        "Agora vamos gerar 2 novos arrays com valores reais a partir da amostragem de uma distribuição normal, com desvio padrão pequeno."
      ]
    },
    {
      "cell_type": "code",
      "execution_count": null,
      "metadata": {
        "id": "42QzrInOfZXQ"
      },
      "outputs": [],
      "source": [
        "array_3 = rng.normal(loc=0, scale=0.0001, size=6).reshape(3, 2)"
      ]
    },
    {
      "cell_type": "code",
      "execution_count": null,
      "metadata": {
        "colab": {
          "base_uri": "https://localhost:8080/"
        },
        "id": "D1KcWRxDfgKJ",
        "outputId": "3eae2436-a0ed-441e-8aff-67368e50cf8e"
      },
      "outputs": [
        {
          "output_type": "execute_result",
          "data": {
            "text/plain": [
              "array([[-3.25422837e-05,  7.73806587e-05],\n",
              "       [ 2.81210670e-05, -5.53822836e-05],\n",
              "       [ 9.77567451e-05, -3.10556547e-05]])"
            ]
          },
          "metadata": {},
          "execution_count": 56
        }
      ],
      "source": [
        "array_3"
      ]
    },
    {
      "cell_type": "code",
      "source": [
        "array_4 = rng.normal(loc=0, scale=0.0001, size=6).reshape(3, 2)"
      ],
      "metadata": {
        "id": "XgFHUbxOkSr2"
      },
      "execution_count": null,
      "outputs": []
    },
    {
      "cell_type": "code",
      "source": [
        "array_4"
      ],
      "metadata": {
        "colab": {
          "base_uri": "https://localhost:8080/"
        },
        "id": "OoXhZLrdkVk0",
        "outputId": "ccf453b1-5244-4008-a176-33a175817f47"
      },
      "execution_count": null,
      "outputs": [
        {
          "output_type": "execute_result",
          "data": {
            "text/plain": [
              "array([[-3.28823904e-05, -7.92146755e-05],\n",
              "       [ 4.54958071e-05, -9.91980517e-06],\n",
              "       [ 5.45288714e-05, -6.07185700e-05]])"
            ]
          },
          "metadata": {},
          "execution_count": 58
        }
      ]
    },
    {
      "cell_type": "markdown",
      "source": [
        "Verifique se os valores de `array_3` são próximos de `array_4` dentro da margem de tolerância 0.001."
      ],
      "metadata": {
        "id": "KAD_vww8kcU5"
      }
    },
    {
      "cell_type": "code",
      "source": [
        "np.isclose(a=array_3, b=array_4, atol=0.001)"
      ],
      "metadata": {
        "colab": {
          "base_uri": "https://localhost:8080/"
        },
        "id": "Vp_b3RD1klH6",
        "outputId": "59302466-46dc-4aa2-f4fa-06308e60f085"
      },
      "execution_count": null,
      "outputs": [
        {
          "output_type": "execute_result",
          "data": {
            "text/plain": [
              "array([[ True,  True],\n",
              "       [ True,  True],\n",
              "       [ True,  True]])"
            ]
          },
          "metadata": {},
          "execution_count": 59
        }
      ]
    },
    {
      "cell_type": "markdown",
      "source": [
        "Verifique se todos os valores atendem a esta condição."
      ],
      "metadata": {
        "id": "ZPoOoFD2kwPK"
      }
    },
    {
      "cell_type": "code",
      "source": [
        "np.allclose(a=array_3, b=array_4, atol=0.001)"
      ],
      "metadata": {
        "colab": {
          "base_uri": "https://localhost:8080/"
        },
        "id": "6PF6huC9kziX",
        "outputId": "d561e388-92ac-4232-a030-233b946bf7f5"
      },
      "execution_count": null,
      "outputs": [
        {
          "output_type": "execute_result",
          "data": {
            "text/plain": [
              "True"
            ]
          },
          "metadata": {},
          "execution_count": 60
        }
      ]
    },
    {
      "cell_type": "markdown",
      "source": [
        "👆 Todos os valores são iguais dentro desta margem de tolerância."
      ],
      "metadata": {
        "id": "OPfD_xDslG6I"
      }
    },
    {
      "cell_type": "markdown",
      "source": [
        "E se a margem de tolerância for igual a 0.0001?"
      ],
      "metadata": {
        "id": "zsiyze31k4Yv"
      }
    },
    {
      "cell_type": "code",
      "source": [
        "np.isclose(a=array_3, b=array_4, atol=0.0001)"
      ],
      "metadata": {
        "colab": {
          "base_uri": "https://localhost:8080/"
        },
        "outputId": "2994d6ea-d8e7-440d-e5ab-5c70c4a41624",
        "id": "60htTJUyk8AV"
      },
      "execution_count": null,
      "outputs": [
        {
          "output_type": "execute_result",
          "data": {
            "text/plain": [
              "array([[ True, False],\n",
              "       [ True,  True],\n",
              "       [ True,  True]])"
            ]
          },
          "metadata": {},
          "execution_count": 61
        }
      ]
    },
    {
      "cell_type": "code",
      "source": [
        "np.allclose(a=array_3, b=array_4, atol=0.0001)"
      ],
      "metadata": {
        "colab": {
          "base_uri": "https://localhost:8080/"
        },
        "outputId": "c6f71055-3af1-4f98-e50e-8edb6bb4085c",
        "id": "tJccD1TCk8AW"
      },
      "execution_count": null,
      "outputs": [
        {
          "output_type": "execute_result",
          "data": {
            "text/plain": [
              "False"
            ]
          },
          "metadata": {},
          "execution_count": 62
        }
      ]
    },
    {
      "cell_type": "markdown",
      "source": [
        "👆 Nem todos os valores são iguais dentro desta margem de tolerância."
      ],
      "metadata": {
        "id": "J8jbc5V_k_IN"
      }
    },
    {
      "cell_type": "markdown",
      "metadata": {
        "id": "sjh4cOtX4Nd3"
      },
      "source": [
        "#### `np.array_equal`"
      ]
    },
    {
      "cell_type": "markdown",
      "source": [
        "Gere uma **view** de `array_3` e confirme que a view é igual ao array com a função `np.array_equal`."
      ],
      "metadata": {
        "id": "ElOhCcWKlPM-"
      }
    },
    {
      "cell_type": "code",
      "execution_count": null,
      "metadata": {
        "id": "BbyAd5FBZbb-"
      },
      "outputs": [],
      "source": [
        "array_3_view = array_3.view()"
      ]
    },
    {
      "cell_type": "code",
      "source": [
        "np.array_equal(array_3, array_3_view)"
      ],
      "metadata": {
        "colab": {
          "base_uri": "https://localhost:8080/"
        },
        "id": "FSjnKMoulXb3",
        "outputId": "3e238b16-2f97-404d-adfc-c822893e5686"
      },
      "execution_count": null,
      "outputs": [
        {
          "output_type": "execute_result",
          "data": {
            "text/plain": [
              "True"
            ]
          },
          "metadata": {},
          "execution_count": 64
        }
      ]
    },
    {
      "cell_type": "markdown",
      "source": [
        "### Funções float"
      ],
      "metadata": {
        "id": "wrEm7n7tzhjH"
      }
    },
    {
      "cell_type": "markdown",
      "source": [
        "#### `np.isfinite`, `np.isinf`, `np.isneginf`, `np.isnan`"
      ],
      "metadata": {
        "id": "pFjoBJvOzuWg"
      }
    },
    {
      "cell_type": "markdown",
      "source": [
        "Comece gerando um array com valores aleatórios inteiros no intervalo [-10, 11), organizados em um array no formato (3, 4)."
      ],
      "metadata": {
        "id": "aElSHS1DmmOv"
      }
    },
    {
      "cell_type": "code",
      "source": [
        "array_5 = rng.integers(low=-10, high=11, size=12).reshape(3, 4)"
      ],
      "metadata": {
        "id": "g_unMvJ7mxsV"
      },
      "execution_count": null,
      "outputs": []
    },
    {
      "cell_type": "code",
      "source": [
        "array_5"
      ],
      "metadata": {
        "colab": {
          "base_uri": "https://localhost:8080/"
        },
        "id": "0kNxa8_vm5LI",
        "outputId": "e4a8c37b-2556-43d0-ed80-37b9f419cc13"
      },
      "execution_count": null,
      "outputs": [
        {
          "output_type": "execute_result",
          "data": {
            "text/plain": [
              "array([[ -3,  -2, -10,  -7],\n",
              "       [ -4,  -3,   2,   0],\n",
              "       [  4,   8,   8,   6]])"
            ]
          },
          "metadata": {},
          "execution_count": 66
        }
      ]
    },
    {
      "cell_type": "markdown",
      "source": [
        "Agora gere um novo array somente com valores 0 ou 1, no mesmo formato. Você também pode utilizar `rng.integers` para isso."
      ],
      "metadata": {
        "id": "L7qM9Yamm617"
      }
    },
    {
      "cell_type": "code",
      "source": [
        "array_6 = rng.integers(low=0, high=2, size=12).reshape(3, 4)"
      ],
      "metadata": {
        "id": "o7XrdegjnIQF"
      },
      "execution_count": null,
      "outputs": []
    },
    {
      "cell_type": "code",
      "source": [
        "array_6"
      ],
      "metadata": {
        "colab": {
          "base_uri": "https://localhost:8080/"
        },
        "id": "R_6AsM04nN1R",
        "outputId": "bdecc0d7-570b-4b89-cc50-04b49804cd84"
      },
      "execution_count": null,
      "outputs": [
        {
          "output_type": "execute_result",
          "data": {
            "text/plain": [
              "array([[1, 0, 1, 1],\n",
              "       [0, 0, 1, 1],\n",
              "       [1, 0, 0, 0]])"
            ]
          },
          "metadata": {},
          "execution_count": 68
        }
      ]
    },
    {
      "cell_type": "markdown",
      "source": [
        "Determine a divisão de `array_5` por `array_6`."
      ],
      "metadata": {
        "id": "6LxTUQLOnSej"
      }
    },
    {
      "cell_type": "code",
      "source": [
        "array_div = np.divide(array_5, array_6)"
      ],
      "metadata": {
        "colab": {
          "base_uri": "https://localhost:8080/"
        },
        "id": "XQpWG3SSnc8Y",
        "outputId": "ade69851-45bc-4398-d180-df8ef3df7168"
      },
      "execution_count": null,
      "outputs": [
        {
          "output_type": "stream",
          "name": "stderr",
          "text": [
            "<ipython-input-69-171e7efd37aa>:1: RuntimeWarning: divide by zero encountered in divide\n",
            "  array_div = np.divide(array_5, array_6)\n"
          ]
        }
      ]
    },
    {
      "cell_type": "code",
      "source": [
        "array_div"
      ],
      "metadata": {
        "colab": {
          "base_uri": "https://localhost:8080/"
        },
        "id": "h2JN_ItCnf4b",
        "outputId": "6e5b43d9-31d7-4ba8-ecba-92212bbd1064"
      },
      "execution_count": null,
      "outputs": [
        {
          "output_type": "execute_result",
          "data": {
            "text/plain": [
              "array([[ -3., -inf, -10.,  -7.],\n",
              "       [-inf, -inf,   2.,   0.],\n",
              "       [  4.,  inf,  inf,  inf]])"
            ]
          },
          "metadata": {},
          "execution_count": 70
        }
      ]
    },
    {
      "cell_type": "markdown",
      "source": [
        "Verifique quais valores de `array_div` são:"
      ],
      "metadata": {
        "id": "NVBcu2a8ncd_"
      }
    },
    {
      "cell_type": "markdown",
      "source": [
        "... finitos:"
      ],
      "metadata": {
        "id": "UIT8MHu5nlh0"
      }
    },
    {
      "cell_type": "code",
      "source": [
        "np.isfinite(array_div)"
      ],
      "metadata": {
        "colab": {
          "base_uri": "https://localhost:8080/"
        },
        "id": "DdGYgFnAlZWV",
        "outputId": "89a650c7-8d6c-4b3a-ac00-1aab0034a3f9"
      },
      "execution_count": null,
      "outputs": [
        {
          "output_type": "execute_result",
          "data": {
            "text/plain": [
              "array([[ True, False,  True,  True],\n",
              "       [False, False,  True,  True],\n",
              "       [ True, False, False, False]])"
            ]
          },
          "metadata": {},
          "execution_count": 71
        }
      ]
    },
    {
      "cell_type": "markdown",
      "source": [
        "... infinitos:"
      ],
      "metadata": {
        "id": "r-1S0bqtno6O"
      }
    },
    {
      "cell_type": "code",
      "source": [
        "np.isinf(array_div)"
      ],
      "metadata": {
        "colab": {
          "base_uri": "https://localhost:8080/"
        },
        "id": "4mPBKF49mMcT",
        "outputId": "e09b9fb1-f5fa-4af8-d0d3-ff8b79a4fce1"
      },
      "execution_count": null,
      "outputs": [
        {
          "output_type": "execute_result",
          "data": {
            "text/plain": [
              "array([[False,  True, False, False],\n",
              "       [ True,  True, False, False],\n",
              "       [False,  True,  True,  True]])"
            ]
          },
          "metadata": {},
          "execution_count": 72
        }
      ]
    },
    {
      "cell_type": "markdown",
      "source": [
        "... infinitos negativos:"
      ],
      "metadata": {
        "id": "QTfq4YvmntrC"
      }
    },
    {
      "cell_type": "code",
      "source": [
        "np.isneginf(array_div)"
      ],
      "metadata": {
        "colab": {
          "base_uri": "https://localhost:8080/"
        },
        "id": "jDEzfyEHmN8i",
        "outputId": "e65f6608-264b-403f-a487-2a4833c5a0ad"
      },
      "execution_count": null,
      "outputs": [
        {
          "output_type": "execute_result",
          "data": {
            "text/plain": [
              "array([[False,  True, False, False],\n",
              "       [ True,  True, False, False],\n",
              "       [False, False, False, False]])"
            ]
          },
          "metadata": {},
          "execution_count": 73
        }
      ]
    },
    {
      "cell_type": "markdown",
      "source": [
        "Agora determine o logaritmo na base 10 de `array_5`."
      ],
      "metadata": {
        "id": "FqExwHopny68"
      }
    },
    {
      "cell_type": "code",
      "source": [
        "array_log_10 = np.log10(array_5)"
      ],
      "metadata": {
        "colab": {
          "base_uri": "https://localhost:8080/"
        },
        "id": "dFj571mWn5U4",
        "outputId": "959b4e48-75e7-400a-c070-aa7f1df891c2"
      },
      "execution_count": null,
      "outputs": [
        {
          "output_type": "stream",
          "name": "stderr",
          "text": [
            "<ipython-input-74-3664a7768494>:1: RuntimeWarning: divide by zero encountered in log10\n",
            "  array_log_10 = np.log10(array_5)\n",
            "<ipython-input-74-3664a7768494>:1: RuntimeWarning: invalid value encountered in log10\n",
            "  array_log_10 = np.log10(array_5)\n"
          ]
        }
      ]
    },
    {
      "cell_type": "code",
      "source": [
        "array_log_10"
      ],
      "metadata": {
        "colab": {
          "base_uri": "https://localhost:8080/"
        },
        "id": "-5OTYDa-n8AK",
        "outputId": "35d7fbc4-f2bf-4bc9-d761-7eca5b8201e9"
      },
      "execution_count": null,
      "outputs": [
        {
          "output_type": "execute_result",
          "data": {
            "text/plain": [
              "array([[       nan,        nan,        nan,        nan],\n",
              "       [       nan,        nan, 0.30103   ,       -inf],\n",
              "       [0.60205999, 0.90308999, 0.90308999, 0.77815125]])"
            ]
          },
          "metadata": {},
          "execution_count": 75
        }
      ]
    },
    {
      "cell_type": "markdown",
      "source": [
        "Quais desses valores são indeterminados (\"not a number\")?"
      ],
      "metadata": {
        "id": "LuYrazVgn-Tp"
      }
    },
    {
      "cell_type": "code",
      "source": [
        "np.isnan(array_log_10)"
      ],
      "metadata": {
        "colab": {
          "base_uri": "https://localhost:8080/"
        },
        "id": "wIN1emw3mPSW",
        "outputId": "12347dae-f9b0-497e-ef51-01846331bfd6"
      },
      "execution_count": null,
      "outputs": [
        {
          "output_type": "execute_result",
          "data": {
            "text/plain": [
              "array([[ True,  True,  True,  True],\n",
              "       [ True,  True, False, False],\n",
              "       [False, False, False, False]])"
            ]
          },
          "metadata": {},
          "execution_count": 76
        }
      ]
    },
    {
      "cell_type": "markdown",
      "source": [
        "### Funções float"
      ],
      "metadata": {
        "id": "5DS50gudoKit"
      }
    },
    {
      "cell_type": "markdown",
      "source": [
        "#### `np.floor`, `np.ceil`, `np.trunc`"
      ],
      "metadata": {
        "id": "-AtdoukA0YCy"
      }
    },
    {
      "cell_type": "markdown",
      "source": [
        "Gere um novo array com 10 valores aleatórios obtidos de uma distribuição normal, com média 0 e desvio padrão 1."
      ],
      "metadata": {
        "id": "UlrTdjS8oWb7"
      }
    },
    {
      "cell_type": "code",
      "source": [
        "array_7 = rng.normal(loc=0, scale=1, size=10)"
      ],
      "metadata": {
        "id": "Tc38mqg4mQnt"
      },
      "execution_count": null,
      "outputs": []
    },
    {
      "cell_type": "code",
      "source": [
        "array_7"
      ],
      "metadata": {
        "colab": {
          "base_uri": "https://localhost:8080/"
        },
        "id": "pf2tYDQaobyZ",
        "outputId": "9677c97a-5586-40a4-87e5-68b6f457bc99"
      },
      "execution_count": null,
      "outputs": [
        {
          "output_type": "execute_result",
          "data": {
            "text/plain": [
              "array([ 0.84145889,  0.12871566,  1.07834244,  0.72243087,  0.21057181,\n",
              "        0.28403815, -0.1697605 ,  0.86846021, -1.12971596, -0.42185883])"
            ]
          },
          "metadata": {},
          "execution_count": 78
        }
      ]
    },
    {
      "cell_type": "markdown",
      "source": [
        "Arredonde os valores para..."
      ],
      "metadata": {
        "id": "9YIYRtLlodkd"
      }
    },
    {
      "cell_type": "markdown",
      "source": [
        "... baixo:"
      ],
      "metadata": {
        "id": "W-5vfFLoogHO"
      }
    },
    {
      "cell_type": "code",
      "source": [
        "np.floor(array_7)"
      ],
      "metadata": {
        "colab": {
          "base_uri": "https://localhost:8080/"
        },
        "id": "4j6OidG3ocr-",
        "outputId": "cc844f2d-9afc-41b9-e47d-934388794ea3"
      },
      "execution_count": null,
      "outputs": [
        {
          "output_type": "execute_result",
          "data": {
            "text/plain": [
              "array([ 0.,  0.,  1.,  0.,  0.,  0., -1.,  0., -2., -1.])"
            ]
          },
          "metadata": {},
          "execution_count": 79
        }
      ]
    },
    {
      "cell_type": "markdown",
      "source": [
        "... cima:"
      ],
      "metadata": {
        "id": "c-4i5j5Aokzg"
      }
    },
    {
      "cell_type": "code",
      "source": [
        "np.ceil(array_7)"
      ],
      "metadata": {
        "colab": {
          "base_uri": "https://localhost:8080/"
        },
        "id": "x2vdSR68ojZm",
        "outputId": "5b63a480-062c-49d2-9682-0286c8969595"
      },
      "execution_count": null,
      "outputs": [
        {
          "output_type": "execute_result",
          "data": {
            "text/plain": [
              "array([ 1.,  1.,  2.,  1.,  1.,  1., -0.,  1., -1., -0.])"
            ]
          },
          "metadata": {},
          "execution_count": 80
        }
      ]
    },
    {
      "cell_type": "markdown",
      "source": [
        "... o valor inteiro mais próximo de 0:"
      ],
      "metadata": {
        "id": "J7VYK-17oomh"
      }
    },
    {
      "cell_type": "code",
      "source": [
        "np.trunc(array_7)"
      ],
      "metadata": {
        "colab": {
          "base_uri": "https://localhost:8080/"
        },
        "id": "mDrigtB7omr8",
        "outputId": "f867943a-e6d7-4a7f-ba64-50667f439c59"
      },
      "execution_count": null,
      "outputs": [
        {
          "output_type": "execute_result",
          "data": {
            "text/plain": [
              "array([ 0.,  0.,  1.,  0.,  0.,  0., -0.,  0., -1., -0.])"
            ]
          },
          "metadata": {},
          "execution_count": 81
        }
      ]
    }
  ],
  "metadata": {
    "colab": {
      "provenance": []
    },
    "kernelspec": {
      "display_name": "Python 3",
      "name": "python3"
    },
    "language_info": {
      "name": "python"
    }
  },
  "nbformat": 4,
  "nbformat_minor": 0
}