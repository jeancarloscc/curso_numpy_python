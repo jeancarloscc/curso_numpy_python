{
 "cells": [
  {
   "cell_type": "markdown",
   "id": "14a43dc9-7ca8-485f-ade0-039e5a55e7b4",
   "metadata": {},
   "source": [
    "# Números Aleatórios"
   ]
  },
  {
   "cell_type": "code",
   "execution_count": 1,
   "id": "2649f938-5830-4990-956b-c09821e336dd",
   "metadata": {},
   "outputs": [
    {
     "data": {
      "text/plain": [
       "'3.10.0'"
      ]
     },
     "execution_count": 1,
     "metadata": {},
     "output_type": "execute_result"
    }
   ],
   "source": [
    "import matplotlib\n",
    "import matplotlib.pyplot as plt\n",
    "import numpy as np\n",
    "matplotlib.__version__"
   ]
  },
  {
   "cell_type": "markdown",
   "id": "ef6e9012-d8fe-4f97-99c8-3ee99bdbe1a4",
   "metadata": {},
   "source": [
    "## Gerador de dados aleatórios"
   ]
  },
  {
   "cell_type": "markdown",
   "id": "9cc5c66f-ee3e-4d8a-b587-ac401cb2a987",
   "metadata": {},
   "source": [
    "### `np.random.default_rgn`"
   ]
  },
  {
   "cell_type": "code",
   "execution_count": 2,
   "id": "8adc7131-9991-44dc-a389-5b90ef744631",
   "metadata": {},
   "outputs": [
    {
     "data": {
      "text/plain": [
       "Generator(PCG64) at 0x71B21D190900"
      ]
     },
     "execution_count": 2,
     "metadata": {},
     "output_type": "execute_result"
    }
   ],
   "source": [
    "rng = np.random.default_rng(seed = 1)\n",
    "rng"
   ]
  },
  {
   "cell_type": "code",
   "execution_count": 3,
   "id": "e790e80c-3e30-4914-8143-942486ad82be",
   "metadata": {},
   "outputs": [
    {
     "data": {
      "text/plain": [
       "0.2616121342493164"
      ]
     },
     "execution_count": 3,
     "metadata": {},
     "output_type": "execute_result"
    }
   ],
   "source": [
    "rng = np.random.default_rng(seed = 2)\n",
    "rng.random()"
   ]
  },
  {
   "cell_type": "code",
   "execution_count": 4,
   "id": "cecfe41a-574b-48a3-a6e2-5bb3a6e17f16",
   "metadata": {},
   "outputs": [
    {
     "data": {
      "text/plain": [
       "array([0.29849114, 0.81422574, 0.09191594, 0.60010053, 0.72856053,\n",
       "       0.18790107, 0.05514663, 0.27496937, 0.65743301, 0.56226566])"
      ]
     },
     "execution_count": 4,
     "metadata": {},
     "output_type": "execute_result"
    }
   ],
   "source": [
    "rng.random(size = 10)"
   ]
  },
  {
   "cell_type": "code",
   "execution_count": 5,
   "id": "d74c1f10-7cbf-45da-81da-6dc5a2a499c3",
   "metadata": {},
   "outputs": [
    {
     "data": {
      "text/plain": [
       "array([[0.15006226, 0.43263079],\n",
       "       [0.6692973 , 0.42278467],\n",
       "       [0.6331844 , 0.96743595],\n",
       "       [0.68306482, 0.39162483],\n",
       "       [0.18725257, 0.34596067]])"
      ]
     },
     "execution_count": 5,
     "metadata": {},
     "output_type": "execute_result"
    }
   ],
   "source": [
    "rng.random(size = (5, 2))"
   ]
  },
  {
   "cell_type": "markdown",
   "id": "ba142041-9033-4450-bef3-03a84e1ac9cc",
   "metadata": {},
   "source": [
    "## Dados aleatórios simples"
   ]
  },
  {
   "cell_type": "markdown",
   "id": "efbf9b5c-e620-4c7b-86f1-07151cc9e362",
   "metadata": {},
   "source": [
    "### `rng.integers`"
   ]
  },
  {
   "cell_type": "code",
   "execution_count": 6,
   "id": "ccbb6a34-0c30-4646-95a4-70ab10ddf399",
   "metadata": {},
   "outputs": [
    {
     "data": {
      "text/plain": [
       "array([2, 2, 2, 3, 3])"
      ]
     },
     "execution_count": 6,
     "metadata": {},
     "output_type": "execute_result"
    }
   ],
   "source": [
    "rng.integers(4, size = 5)"
   ]
  },
  {
   "cell_type": "code",
   "execution_count": 7,
   "id": "9bc3b209-93dc-4818-ad7b-a20b1b1fd047",
   "metadata": {},
   "outputs": [
    {
     "data": {
      "text/plain": [
       "array([41, 49, 22, 46, 46])"
      ]
     },
     "execution_count": 7,
     "metadata": {},
     "output_type": "execute_result"
    }
   ],
   "source": [
    "rng.integers(low = 10, high = 50, size = 5)"
   ]
  },
  {
   "cell_type": "code",
   "execution_count": 8,
   "id": "9841ed68-2262-4726-b403-60f85739329f",
   "metadata": {},
   "outputs": [
    {
     "data": {
      "text/plain": [
       "array([11, 30, 61])"
      ]
     },
     "execution_count": 8,
     "metadata": {},
     "output_type": "execute_result"
    }
   ],
   "source": [
    "rng.integers(low = 10, high = [15,54,100])"
   ]
  },
  {
   "cell_type": "markdown",
   "id": "5de87975-a3cf-4c96-8633-ac8fcb7bf0cc",
   "metadata": {},
   "source": [
    "### `rng.choice`"
   ]
  },
  {
   "cell_type": "code",
   "execution_count": 9,
   "id": "cca7d029-265c-4864-9078-937707ed0015",
   "metadata": {},
   "outputs": [
    {
     "data": {
      "text/plain": [
       "array([0, 1, 2, 3, 4, 5, 6, 7, 8, 9])"
      ]
     },
     "execution_count": 9,
     "metadata": {},
     "output_type": "execute_result"
    }
   ],
   "source": [
    "array = np.arange(0, 10)\n",
    "array"
   ]
  },
  {
   "cell_type": "code",
   "execution_count": 10,
   "id": "cd87a460-5a2f-49a5-9e8f-401055dc495a",
   "metadata": {},
   "outputs": [
    {
     "data": {
      "text/plain": [
       "np.int64(6)"
      ]
     },
     "execution_count": 10,
     "metadata": {},
     "output_type": "execute_result"
    }
   ],
   "source": [
    "rng.choice(a = array)"
   ]
  },
  {
   "cell_type": "code",
   "execution_count": 11,
   "id": "a55640ea-387e-4f47-8196-31fbae743f88",
   "metadata": {},
   "outputs": [
    {
     "data": {
      "text/plain": [
       "array([7, 1, 4, 1, 9])"
      ]
     },
     "execution_count": 11,
     "metadata": {},
     "output_type": "execute_result"
    }
   ],
   "source": [
    "rng.choice(a = array, size = 5)"
   ]
  },
  {
   "cell_type": "code",
   "execution_count": 12,
   "id": "ccb81a47-64de-4ac0-a9d4-2a8131a28af8",
   "metadata": {},
   "outputs": [
    {
     "data": {
      "text/plain": [
       "array([2, 4, 8, 5, 6, 4, 8, 5, 6, 4])"
      ]
     },
     "execution_count": 12,
     "metadata": {},
     "output_type": "execute_result"
    }
   ],
   "source": [
    "rng.choice(a = array, size = 10)"
   ]
  },
  {
   "cell_type": "code",
   "execution_count": 13,
   "id": "4311523b-edc9-464e-91c6-99ea0abae91d",
   "metadata": {},
   "outputs": [
    {
     "data": {
      "text/plain": [
       "array([2, 5, 7, 1, 6, 0, 9, 3, 8, 4])"
      ]
     },
     "execution_count": 13,
     "metadata": {},
     "output_type": "execute_result"
    }
   ],
   "source": [
    "rng.choice(a = array, size = 10, replace=False)"
   ]
  },
  {
   "cell_type": "code",
   "execution_count": 14,
   "id": "8b3b833a-45ac-454e-991f-885b458bcfd5",
   "metadata": {},
   "outputs": [],
   "source": [
    "array = np.array([1, 2, 3])\n",
    "p = np.array([0.5, 0.4, 0.1]) # soma deve ser igual a 1 (100%)"
   ]
  },
  {
   "cell_type": "code",
   "execution_count": 15,
   "id": "918a3a54-d6cf-4323-82aa-747d361c523d",
   "metadata": {},
   "outputs": [
    {
     "data": {
      "text/plain": [
       "array([1, 2, 1, 1, 1, 2, 1, 2, 2, 1])"
      ]
     },
     "execution_count": 15,
     "metadata": {},
     "output_type": "execute_result"
    }
   ],
   "source": [
    "rng.choice(a = array, size = 10, p = p)"
   ]
  },
  {
   "cell_type": "code",
   "execution_count": 16,
   "id": "ee7727b1-a8d1-47d6-8424-2f2e98d2d342",
   "metadata": {},
   "outputs": [
    {
     "data": {
      "text/plain": [
       "array([[ 0,  1,  2,  3,  4],\n",
       "       [ 5,  6,  7,  8,  9],\n",
       "       [10, 11, 12, 13, 14],\n",
       "       [15, 16, 17, 18, 19]])"
      ]
     },
     "execution_count": 16,
     "metadata": {},
     "output_type": "execute_result"
    }
   ],
   "source": [
    "array_2d = np.arange(0, 20).reshape(4, 5)\n",
    "array_2d"
   ]
  },
  {
   "cell_type": "code",
   "execution_count": 17,
   "id": "c1581607-d4ab-40f7-b1b9-8a518d96ad61",
   "metadata": {},
   "outputs": [
    {
     "data": {
      "text/plain": [
       "array([[10, 11, 12, 13, 14],\n",
       "       [10, 11, 12, 13, 14]])"
      ]
     },
     "execution_count": 17,
     "metadata": {},
     "output_type": "execute_result"
    }
   ],
   "source": [
    "rng.choice(a = array_2d, size = 2, axis = 0)"
   ]
  },
  {
   "cell_type": "code",
   "execution_count": 18,
   "id": "02825f07-4ca3-4e63-ad72-f940e195e235",
   "metadata": {},
   "outputs": [
    {
     "data": {
      "text/plain": [
       "array([[ 4,  3],\n",
       "       [ 9,  8],\n",
       "       [14, 13],\n",
       "       [19, 18]])"
      ]
     },
     "execution_count": 18,
     "metadata": {},
     "output_type": "execute_result"
    }
   ],
   "source": [
    "rng.choice(a = array_2d, size = 2, axis = 1)"
   ]
  },
  {
   "cell_type": "markdown",
   "id": "6aec1742-2886-454c-95bf-8e09413261fd",
   "metadata": {},
   "source": [
    "## Permutações"
   ]
  },
  {
   "cell_type": "markdown",
   "id": "6a530676-89ac-41fa-a1d7-66038545ba66",
   "metadata": {},
   "source": [
    "### `rgn.shuffle`"
   ]
  },
  {
   "cell_type": "code",
   "execution_count": 20,
   "id": "870bdeb4-b7e4-40a3-8d83-99bcfbe60de0",
   "metadata": {},
   "outputs": [
    {
     "data": {
      "text/plain": [
       "array([0, 1, 2, 3, 4, 5, 6, 7, 8, 9])"
      ]
     },
     "execution_count": 20,
     "metadata": {},
     "output_type": "execute_result"
    }
   ],
   "source": [
    "array = np.arange(10)\n",
    "array"
   ]
  },
  {
   "cell_type": "code",
   "execution_count": 21,
   "id": "f4b53d60-8331-4d6c-93ed-6729388a596f",
   "metadata": {},
   "outputs": [
    {
     "data": {
      "text/plain": [
       "array([2, 3, 0, 6, 1, 8, 7, 9, 5, 4])"
      ]
     },
     "execution_count": 21,
     "metadata": {},
     "output_type": "execute_result"
    }
   ],
   "source": [
    "rng.shuffle(array)\n",
    "array"
   ]
  },
  {
   "cell_type": "code",
   "execution_count": 22,
   "id": "a6adebba-70b1-4def-8da8-4771034b1ea9",
   "metadata": {},
   "outputs": [
    {
     "data": {
      "text/plain": [
       "array([[ 0,  1,  2,  3,  4],\n",
       "       [ 5,  6,  7,  8,  9],\n",
       "       [10, 11, 12, 13, 14],\n",
       "       [15, 16, 17, 18, 19]])"
      ]
     },
     "execution_count": 22,
     "metadata": {},
     "output_type": "execute_result"
    }
   ],
   "source": [
    "array = np.arange(20).reshape(4, 5)\n",
    "array"
   ]
  },
  {
   "cell_type": "code",
   "execution_count": 23,
   "id": "9aa74d43-69d5-46fe-bab7-2e1fd45cbc81",
   "metadata": {},
   "outputs": [
    {
     "data": {
      "text/plain": [
       "array([[15, 16, 17, 18, 19],\n",
       "       [ 0,  1,  2,  3,  4],\n",
       "       [ 5,  6,  7,  8,  9],\n",
       "       [10, 11, 12, 13, 14]])"
      ]
     },
     "execution_count": 23,
     "metadata": {},
     "output_type": "execute_result"
    }
   ],
   "source": [
    "rng.shuffle(array, axis=0)\n",
    "array"
   ]
  },
  {
   "cell_type": "code",
   "execution_count": 24,
   "id": "0d810ef9-6ecc-4358-9dbb-3038116e0b35",
   "metadata": {},
   "outputs": [
    {
     "data": {
      "text/plain": [
       "array([[ 0,  1,  2,  3,  4],\n",
       "       [ 5,  6,  7,  8,  9],\n",
       "       [10, 11, 12, 13, 14],\n",
       "       [15, 16, 17, 18, 19]])"
      ]
     },
     "execution_count": 24,
     "metadata": {},
     "output_type": "execute_result"
    }
   ],
   "source": [
    "array = np.arange(20).reshape(4, 5)\n",
    "array"
   ]
  },
  {
   "cell_type": "code",
   "execution_count": 25,
   "id": "8b9e430e-44d1-4e04-8d76-0292f880f091",
   "metadata": {},
   "outputs": [
    {
     "data": {
      "text/plain": [
       "array([[ 1,  2,  4,  0,  3],\n",
       "       [ 6,  7,  9,  5,  8],\n",
       "       [11, 12, 14, 10, 13],\n",
       "       [16, 17, 19, 15, 18]])"
      ]
     },
     "execution_count": 25,
     "metadata": {},
     "output_type": "execute_result"
    }
   ],
   "source": [
    "rng.shuffle(array, axis=1)\n",
    "array"
   ]
  },
  {
   "cell_type": "markdown",
   "id": "c7277abd-f013-4007-8e01-6bb100121857",
   "metadata": {},
   "source": [
    "### `rgn.permutation`"
   ]
  },
  {
   "cell_type": "code",
   "execution_count": 26,
   "id": "281fb42e-5e1a-4d15-a61a-cd1620d67fdb",
   "metadata": {},
   "outputs": [
    {
     "data": {
      "text/plain": [
       "array([7, 2, 8, 0, 9, 6, 1, 4, 5, 3])"
      ]
     },
     "execution_count": 26,
     "metadata": {},
     "output_type": "execute_result"
    }
   ],
   "source": [
    "rng.permutation(10)"
   ]
  },
  {
   "cell_type": "code",
   "execution_count": 27,
   "id": "c78328b2-485d-4a89-92a2-4eb6fd221680",
   "metadata": {},
   "outputs": [
    {
     "data": {
      "text/plain": [
       "array([[ 0,  1,  2,  3,  4],\n",
       "       [ 5,  6,  7,  8,  9],\n",
       "       [10, 11, 12, 13, 14],\n",
       "       [15, 16, 17, 18, 19]])"
      ]
     },
     "execution_count": 27,
     "metadata": {},
     "output_type": "execute_result"
    }
   ],
   "source": [
    "array = np.arange(20).reshape(4, 5)\n",
    "array"
   ]
  },
  {
   "cell_type": "code",
   "execution_count": 28,
   "id": "bbe1a07b-37ea-4779-be53-e25a7d93c832",
   "metadata": {},
   "outputs": [
    {
     "data": {
      "text/plain": [
       "array([[10, 11, 12, 13, 14],\n",
       "       [ 0,  1,  2,  3,  4],\n",
       "       [15, 16, 17, 18, 19],\n",
       "       [ 5,  6,  7,  8,  9]])"
      ]
     },
     "execution_count": 28,
     "metadata": {},
     "output_type": "execute_result"
    }
   ],
   "source": [
    "rng.permutation(array, axis = 0)"
   ]
  },
  {
   "cell_type": "code",
   "execution_count": 29,
   "id": "67a1fe75-bafe-4a5c-a1cd-1f9c357abc8c",
   "metadata": {},
   "outputs": [
    {
     "data": {
      "text/plain": [
       "array([[ 4,  0,  2,  3,  1],\n",
       "       [ 9,  5,  7,  8,  6],\n",
       "       [14, 10, 12, 13, 11],\n",
       "       [19, 15, 17, 18, 16]])"
      ]
     },
     "execution_count": 29,
     "metadata": {},
     "output_type": "execute_result"
    }
   ],
   "source": [
    "rng.permutation(array, axis = 1)"
   ]
  },
  {
   "cell_type": "markdown",
   "id": "7e4931c9-b9f7-4a18-876a-7985d0146ceb",
   "metadata": {},
   "source": [
    "### `rgn.permuted`"
   ]
  },
  {
   "cell_type": "code",
   "execution_count": 30,
   "id": "c5a8c469-37b6-42fd-9176-3c14c96b7f7f",
   "metadata": {},
   "outputs": [
    {
     "data": {
      "text/plain": [
       "array([[ 0,  1,  2,  3,  4],\n",
       "       [ 5,  6,  7,  8,  9],\n",
       "       [10, 11, 12, 13, 14],\n",
       "       [15, 16, 17, 18, 19]])"
      ]
     },
     "execution_count": 30,
     "metadata": {},
     "output_type": "execute_result"
    }
   ],
   "source": [
    "array = np.arange(20).reshape(4, 5)\n",
    "array"
   ]
  },
  {
   "cell_type": "code",
   "execution_count": 31,
   "id": "50f6bb22-ddf0-439f-9aef-d04a69fb6a39",
   "metadata": {},
   "outputs": [
    {
     "data": {
      "text/plain": [
       "array([[15, 11,  2,  8,  4],\n",
       "       [ 5,  6, 12, 13, 14],\n",
       "       [10, 16,  7, 18,  9],\n",
       "       [ 0,  1, 17,  3, 19]])"
      ]
     },
     "execution_count": 31,
     "metadata": {},
     "output_type": "execute_result"
    }
   ],
   "source": [
    "rng.permuted(array, axis = 0)"
   ]
  },
  {
   "cell_type": "code",
   "execution_count": 32,
   "id": "4c805453-9cec-4520-988e-b02019a97477",
   "metadata": {},
   "outputs": [
    {
     "data": {
      "text/plain": [
       "array([[ 2,  0,  3,  4,  1],\n",
       "       [ 5,  9,  7,  8,  6],\n",
       "       [11, 14, 12, 13, 10],\n",
       "       [18, 17, 19, 16, 15]])"
      ]
     },
     "execution_count": 32,
     "metadata": {},
     "output_type": "execute_result"
    }
   ],
   "source": [
    "rng.permuted(array, axis = 1)"
   ]
  },
  {
   "cell_type": "markdown",
   "id": "4b1c1a26-ac74-471d-8a8f-fbfe34873dc7",
   "metadata": {},
   "source": [
    "## Distribuições"
   ]
  },
  {
   "cell_type": "markdown",
   "id": "0b60a281-8271-4070-8d0f-e2eafd830ede",
   "metadata": {},
   "source": [
    "### `rgn.beta`"
   ]
  },
  {
   "cell_type": "code",
   "execution_count": 36,
   "id": "7454e0c2-2065-40e0-a7dd-7ccbe877e225",
   "metadata": {},
   "outputs": [
    {
     "data": {
      "text/plain": [
       "array([0.00660848, 0.00049475, 0.03122387, 0.0085794 , 0.0030712 ,\n",
       "       0.00260322, 0.0055022 , 0.02135983, 0.00549812, 0.00186863])"
      ]
     },
     "execution_count": 36,
     "metadata": {},
     "output_type": "execute_result"
    }
   ],
   "source": [
    "rng.beta(a = 1, b = 100, size = 10)"
   ]
  },
  {
   "cell_type": "code",
   "execution_count": 39,
   "id": "360d9d66-174f-4bee-b8fa-212c2431406c",
   "metadata": {},
   "outputs": [
    {
     "data": {
      "image/png": "[encoded data removed]",
      "text/plain": [
       "<Figure size 640x480 with 1 Axes>"
      ]
     },
     "metadata": {},
     "output_type": "display_data"
    }
   ],
   "source": [
    "plt.hist(rng.beta(a = 1, b = 100, size = 100_000), bins = 100);"
   ]
  },
  {
   "cell_type": "markdown",
   "id": "f101911d-aacb-41ec-a719-98ab77d08fc0",
   "metadata": {},
   "source": [
    "### `rgn.binomial`"
   ]
  },
  {
   "cell_type": "code",
   "execution_count": 44,
   "id": "d5e92902-3f91-43fd-854a-19030beb1b78",
   "metadata": {},
   "outputs": [
    {
     "data": {
      "text/plain": [
       "array([1, 4, 3, 4, 6, 2, 2, 2, 4, 2])"
      ]
     },
     "execution_count": 44,
     "metadata": {},
     "output_type": "execute_result"
    }
   ],
   "source": [
    "rng.binomial(n = 10, p = 0.25, size = 10)"
   ]
  },
  {
   "cell_type": "code",
   "execution_count": 46,
   "id": "4a2d9b62-cd2e-46f7-9dfc-5b78ff4b7765",
   "metadata": {},
   "outputs": [
    {
     "data": {
      "image/png": "[encoded data removed]",
      "text/plain": [
       "<Figure size 640x480 with 1 Axes>"
      ]
     },
     "metadata": {},
     "output_type": "display_data"
    }
   ],
   "source": [
    "plt.hist(rng.binomial(n = 10, p = 0.25, size = 100_000), bins = 100);"
   ]
  },
  {
   "cell_type": "markdown",
   "id": "d0216cfc-d560-4c22-8440-b20b6650a8d9",
   "metadata": {},
   "source": [
    "### `rgn.chisquare`"
   ]
  },
  {
   "cell_type": "code",
   "execution_count": 47,
   "id": "922bd886-374b-4486-acb0-a640b79c565c",
   "metadata": {},
   "outputs": [
    {
     "data": {
      "text/plain": [
       "array([ 3.05441192,  1.82230671,  7.05775289,  6.58494891,  2.41410883,\n",
       "        3.59282105,  7.4398783 ,  1.31686994,  9.27883771, 13.87484187])"
      ]
     },
     "execution_count": 47,
     "metadata": {},
     "output_type": "execute_result"
    }
   ],
   "source": [
    "rng.chisquare(df = 5, size = 10)"
   ]
  },
  {
   "cell_type": "code",
   "execution_count": 49,
   "id": "b883dec0-73cc-48b2-a40f-b16250f412d9",
   "metadata": {},
   "outputs": [
    {
     "data": {
      "image/png": "[encoded data removed]",
      "text/plain": [
       "<Figure size 640x480 with 1 Axes>"
      ]
     },
     "metadata": {},
     "output_type": "display_data"
    }
   ],
   "source": [
    "plt.hist(rng.chisquare(df = 5, size = 100_000), bins = 100);"
   ]
  },
  {
   "cell_type": "markdown",
   "id": "5b757869-22f7-4dd7-a52e-bf0e3068d426",
   "metadata": {},
   "source": [
    "### `rgn.exponential`"
   ]
  },
  {
   "cell_type": "code",
   "execution_count": 50,
   "id": "a43a74d6-8f87-4987-a592-4a77dc3d5bdf",
   "metadata": {},
   "outputs": [
    {
     "data": {
      "text/plain": [
       "array([0.478378  , 0.96191944, 4.58070445, 0.85518879, 6.55211921,\n",
       "       3.82921021, 2.00693672, 1.58881883, 0.25615822, 7.58949886])"
      ]
     },
     "execution_count": 50,
     "metadata": {},
     "output_type": "execute_result"
    }
   ],
   "source": [
    "rng.exponential(scale=5, size = 10)"
   ]
  },
  {
   "cell_type": "code",
   "execution_count": 52,
   "id": "4448fa06-5c51-43aa-8c22-b03c418265c6",
   "metadata": {},
   "outputs": [
    {
     "data": {
      "image/png": "[encoded data removed]",
      "text/plain": [
       "<Figure size 640x480 with 1 Axes>"
      ]
     },
     "metadata": {},
     "output_type": "display_data"
    }
   ],
   "source": [
    "plt.hist(rng.exponential(scale=5, size = 100_000), bins = 100);"
   ]
  },
  {
   "cell_type": "markdown",
   "id": "8d3aab05-e3d8-452f-ae92-c4c718bca1c8",
   "metadata": {},
   "source": [
    "### `rgn.gamma`"
   ]
  },
  {
   "cell_type": "code",
   "execution_count": 54,
   "id": "131186c0-1299-49fe-8551-c48b7e3c4f88",
   "metadata": {},
   "outputs": [
    {
     "data": {
      "text/plain": [
       "array([55.92667752, 15.38890189, 24.23139704, 18.00489447, 16.66273864,\n",
       "       42.26934698, 49.68521942,  9.83037548, 35.27228676, 21.68670787])"
      ]
     },
     "execution_count": 54,
     "metadata": {},
     "output_type": "execute_result"
    }
   ],
   "source": [
    "rng.gamma(shape = 4, scale = 10, size = 10)"
   ]
  },
  {
   "cell_type": "code",
   "execution_count": 57,
   "id": "d2a063e6-8f15-45ed-93f5-765301053a1f",
   "metadata": {},
   "outputs": [
    {
     "data": {
      "image/png": "[encoded data removed]",
      "text/plain": [
       "<Figure size 640x480 with 1 Axes>"
      ]
     },
     "metadata": {},
     "output_type": "display_data"
    }
   ],
   "source": [
    "plt.hist(rng.gamma(shape = 4, scale = 2, size = 100_000), bins=100);"
   ]
  },
  {
   "cell_type": "markdown",
   "id": "905143a9-5ab6-4c6e-b331-25a1040aa09a",
   "metadata": {},
   "source": [
    "### `rgn.logistic`"
   ]
  },
  {
   "cell_type": "code",
   "execution_count": 60,
   "id": "db2ebd50-2779-4fbb-a80b-0e11d85575c1",
   "metadata": {},
   "outputs": [
    {
     "data": {
      "text/plain": [
       "array([ 12.61220975,  -4.9906192 , -28.92104731,  -7.37260468,\n",
       "       -20.19924759,  27.7530947 ,  22.94773727,  -0.43479048,\n",
       "        21.54980922,  33.21120801])"
      ]
     },
     "execution_count": 60,
     "metadata": {},
     "output_type": "execute_result"
    }
   ],
   "source": [
    "rng.logistic(loc = 10, scale = 15, size = 10)"
   ]
  },
  {
   "cell_type": "code",
   "execution_count": 64,
   "id": "c77faad1-ef4b-4c9e-bf3a-abfae8df418e",
   "metadata": {},
   "outputs": [
    {
     "data": {
      "image/png": "[encoded data removed]",
      "text/plain": [
       "<Figure size 640x480 with 1 Axes>"
      ]
     },
     "metadata": {},
     "output_type": "display_data"
    }
   ],
   "source": [
    "plt.hist(rng.logistic(loc = 2, scale = 5, size = 100_000), bins=100);"
   ]
  },
  {
   "cell_type": "markdown",
   "id": "9153a307-38a6-4027-9543-73ed95e64a4f",
   "metadata": {},
   "source": [
    "### `rgn.normal`"
   ]
  },
  {
   "cell_type": "code",
   "execution_count": 65,
   "id": "4acd0573-c2d1-4c59-b7ec-b56cbc118e68",
   "metadata": {},
   "outputs": [
    {
     "data": {
      "text/plain": [
       "array([ 1.34833615,  1.95454448, -1.84074541,  0.34970912,  0.40005151,\n",
       "        0.00617701,  1.21894672,  0.04617432, -0.34111588, -0.68757857])"
      ]
     },
     "execution_count": 65,
     "metadata": {},
     "output_type": "execute_result"
    }
   ],
   "source": [
    "rng.normal(loc=0, scale=1, size=10)"
   ]
  },
  {
   "cell_type": "code",
   "execution_count": 67,
   "id": "df3fbe39-3ee7-4390-a40c-8bf82adc71a4",
   "metadata": {},
   "outputs": [
    {
     "data": {
      "image/png": "[encoded data removed]",
      "text/plain": [
       "<Figure size 640x480 with 1 Axes>"
      ]
     },
     "metadata": {},
     "output_type": "display_data"
    }
   ],
   "source": [
    "plt.hist(rng.normal(loc=0, scale=1, size=100_000), bins=100);"
   ]
  },
  {
   "cell_type": "markdown",
   "id": "00b858d0-fbd2-45be-9b09-deba0ebe1818",
   "metadata": {},
   "source": [
    "### `rgn.uniform`"
   ]
  },
  {
   "cell_type": "code",
   "execution_count": 68,
   "id": "12118942-d0fc-427e-b393-fca1d6f93f39",
   "metadata": {},
   "outputs": [
    {
     "data": {
      "text/plain": [
       "array([28.88242348, 46.85141351, 42.9150382 , 19.45326863, 32.79702606,\n",
       "       16.53855607, 45.98946822, 34.11833504, 26.43937213, 11.10634728])"
      ]
     },
     "execution_count": 68,
     "metadata": {},
     "output_type": "execute_result"
    }
   ],
   "source": [
    "rng.uniform(low=10, high=50, size=10)"
   ]
  },
  {
   "cell_type": "code",
   "execution_count": 71,
   "id": "153d5050-7d17-4097-b2c0-fc802e526bd5",
   "metadata": {},
   "outputs": [
    {
     "data": {
      "image/png": "[encoded data removed]",
      "text/plain": [
       "<Figure size 640x480 with 1 Axes>"
      ]
     },
     "metadata": {},
     "output_type": "display_data"
    }
   ],
   "source": [
    "plt.hist(rng.uniform(low=10, high=50, size=100_000), bins=100);"
   ]
  }
 ],
 "metadata": {
  "kernelspec": {
   "display_name": "Python 3 (ipykernel)",
   "language": "python",
   "name": "python3"
  },
  "language_info": {
   "codemirror_mode": {
    "name": "ipython",
    "version": 3
   },
   "file_extension": ".py",
   "mimetype": "text/x-python",
   "name": "python",
   "nbconvert_exporter": "python",
   "pygments_lexer": "ipython3",
   "version": "3.12.8"
  }
 },
 "nbformat": 4,
 "nbformat_minor": 5
}
