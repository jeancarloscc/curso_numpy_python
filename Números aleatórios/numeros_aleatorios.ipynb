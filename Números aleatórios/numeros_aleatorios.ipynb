{
 "cells": [
  {
   "cell_type": "markdown",
   "id": "14a43dc9-7ca8-485f-ade0-039e5a55e7b4",
   "metadata": {},
   "source": [
    "# Números Aleatórios"
   ]
  },
  {
   "cell_type": "code",
   "execution_count": 5,
   "id": "2649f938-5830-4990-956b-c09821e336dd",
   "metadata": {},
   "outputs": [
    {
     "data": {
      "text/plain": [
       "'3.10.0'"
      ]
     },
     "execution_count": 5,
     "metadata": {},
     "output_type": "execute_result"
    }
   ],
   "source": [
    "import matplotlib\n",
    "import matplotlib.pyplot as plt\n",
    "import numpy as np\n",
    "matplotlib.__version__"
   ]
  },
  {
   "cell_type": "markdown",
   "id": "ef6e9012-d8fe-4f97-99c8-3ee99bdbe1a4",
   "metadata": {},
   "source": [
    "## Gerador de dados aleatórios"
   ]
  },
  {
   "cell_type": "markdown",
   "id": "9cc5c66f-ee3e-4d8a-b587-ac401cb2a987",
   "metadata": {},
   "source": [
    "### `np.random.default_rgn`"
   ]
  },
  {
   "cell_type": "code",
   "execution_count": 7,
   "id": "8adc7131-9991-44dc-a389-5b90ef744631",
   "metadata": {},
   "outputs": [
    {
     "data": {
      "text/plain": [
       "Generator(PCG64) at 0x7717C1685B60"
      ]
     },
     "execution_count": 7,
     "metadata": {},
     "output_type": "execute_result"
    }
   ],
   "source": [
    "rng = np.random.default_rng(seed = 1)\n",
    "rng"
   ]
  },
  {
   "cell_type": "code",
   "execution_count": 9,
   "id": "e790e80c-3e30-4914-8143-942486ad82be",
   "metadata": {},
   "outputs": [
    {
     "data": {
      "text/plain": [
       "0.2616121342493164"
      ]
     },
     "execution_count": 9,
     "metadata": {},
     "output_type": "execute_result"
    }
   ],
   "source": [
    "rng = np.random.default_rng(seed = 2)\n",
    "rng.random()"
   ]
  },
  {
   "cell_type": "code",
   "execution_count": 10,
   "id": "cecfe41a-574b-48a3-a6e2-5bb3a6e17f16",
   "metadata": {},
   "outputs": [
    {
     "data": {
      "text/plain": [
       "array([0.29849114, 0.81422574, 0.09191594, 0.60010053, 0.72856053,\n",
       "       0.18790107, 0.05514663, 0.27496937, 0.65743301, 0.56226566])"
      ]
     },
     "execution_count": 10,
     "metadata": {},
     "output_type": "execute_result"
    }
   ],
   "source": [
    "rng.random(size = 10)"
   ]
  },
  {
   "cell_type": "code",
   "execution_count": 11,
   "id": "d74c1f10-7cbf-45da-81da-6dc5a2a499c3",
   "metadata": {},
   "outputs": [
    {
     "data": {
      "text/plain": [
       "array([[0.15006226, 0.43263079],\n",
       "       [0.6692973 , 0.42278467],\n",
       "       [0.6331844 , 0.96743595],\n",
       "       [0.68306482, 0.39162483],\n",
       "       [0.18725257, 0.34596067]])"
      ]
     },
     "execution_count": 11,
     "metadata": {},
     "output_type": "execute_result"
    }
   ],
   "source": [
    "rng.random(size = (5, 2))"
   ]
  },
  {
   "cell_type": "markdown",
   "id": "ba142041-9033-4450-bef3-03a84e1ac9cc",
   "metadata": {},
   "source": [
    "## Dados aleatórios simples"
   ]
  },
  {
   "cell_type": "markdown",
   "id": "efbf9b5c-e620-4c7b-86f1-07151cc9e362",
   "metadata": {},
   "source": [
    "### `rng.integers`"
   ]
  },
  {
   "cell_type": "code",
   "execution_count": 15,
   "id": "ccbb6a34-0c30-4646-95a4-70ab10ddf399",
   "metadata": {},
   "outputs": [
    {
     "data": {
      "text/plain": [
       "array([2, 3, 3, 3, 3])"
      ]
     },
     "execution_count": 15,
     "metadata": {},
     "output_type": "execute_result"
    }
   ],
   "source": [
    "rng.integers(4, size = 5)"
   ]
  },
  {
   "cell_type": "code",
   "execution_count": 16,
   "id": "9bc3b209-93dc-4818-ad7b-a20b1b1fd047",
   "metadata": {},
   "outputs": [
    {
     "data": {
      "text/plain": [
       "array([22, 46, 46, 18, 28])"
      ]
     },
     "execution_count": 16,
     "metadata": {},
     "output_type": "execute_result"
    }
   ],
   "source": [
    "rng.integers(low = 10, high = 50, size = 5)"
   ]
  },
  {
   "cell_type": "code",
   "execution_count": 20,
   "id": "9841ed68-2262-4726-b403-60f85739329f",
   "metadata": {},
   "outputs": [
    {
     "data": {
      "text/plain": [
       "array([14, 18, 50])"
      ]
     },
     "execution_count": 20,
     "metadata": {},
     "output_type": "execute_result"
    }
   ],
   "source": [
    "rng.integers(low = 10, high = [15,54,100])"
   ]
  },
  {
   "cell_type": "markdown",
   "id": "5de87975-a3cf-4c96-8633-ac8fcb7bf0cc",
   "metadata": {},
   "source": [
    "### `rng.choice`"
   ]
  },
  {
   "cell_type": "code",
   "execution_count": 22,
   "id": "cca7d029-265c-4864-9078-937707ed0015",
   "metadata": {},
   "outputs": [
    {
     "data": {
      "text/plain": [
       "array([0, 1, 2, 3, 4, 5, 6, 7, 8, 9])"
      ]
     },
     "execution_count": 22,
     "metadata": {},
     "output_type": "execute_result"
    }
   ],
   "source": [
    "array = np.arange(0, 10)\n",
    "array"
   ]
  },
  {
   "cell_type": "code",
   "execution_count": 23,
   "id": "cd87a460-5a2f-49a5-9e8f-401055dc495a",
   "metadata": {},
   "outputs": [
    {
     "data": {
      "text/plain": [
       "np.int64(8)"
      ]
     },
     "execution_count": 23,
     "metadata": {},
     "output_type": "execute_result"
    }
   ],
   "source": [
    "rng.choice(a = array)"
   ]
  },
  {
   "cell_type": "code",
   "execution_count": 24,
   "id": "a55640ea-387e-4f47-8196-31fbae743f88",
   "metadata": {},
   "outputs": [
    {
     "data": {
      "text/plain": [
       "array([5, 6, 4, 8, 5])"
      ]
     },
     "execution_count": 24,
     "metadata": {},
     "output_type": "execute_result"
    }
   ],
   "source": [
    "rng.choice(a = array, size = 5)"
   ]
  },
  {
   "cell_type": "code",
   "execution_count": 25,
   "id": "ccb81a47-64de-4ac0-a9d4-2a8131a28af8",
   "metadata": {},
   "outputs": [
    {
     "data": {
      "text/plain": [
       "array([6, 4, 4, 5, 5, 7, 5, 4, 8, 2])"
      ]
     },
     "execution_count": 25,
     "metadata": {},
     "output_type": "execute_result"
    }
   ],
   "source": [
    "rng.choice(a = array, size = 10)"
   ]
  },
  {
   "cell_type": "code",
   "execution_count": 26,
   "id": "4311523b-edc9-464e-91c6-99ea0abae91d",
   "metadata": {},
   "outputs": [
    {
     "data": {
      "text/plain": [
       "array([1, 7, 3, 9, 8, 4, 2, 5, 6, 0])"
      ]
     },
     "execution_count": 26,
     "metadata": {},
     "output_type": "execute_result"
    }
   ],
   "source": [
    "rng.choice(a = array, size = 10, replace=False)"
   ]
  },
  {
   "cell_type": "code",
   "execution_count": 27,
   "id": "8b3b833a-45ac-454e-991f-885b458bcfd5",
   "metadata": {},
   "outputs": [],
   "source": [
    "array = np.array([1, 2, 3])\n",
    "p = np.array([0.5, 0.4, 0.1]) # soma deve ser igual a 1 (100%)"
   ]
  },
  {
   "cell_type": "code",
   "execution_count": 28,
   "id": "918a3a54-d6cf-4323-82aa-747d361c523d",
   "metadata": {},
   "outputs": [
    {
     "data": {
      "text/plain": [
       "array([1, 2, 1, 2, 2, 1, 3, 2, 2, 1])"
      ]
     },
     "execution_count": 28,
     "metadata": {},
     "output_type": "execute_result"
    }
   ],
   "source": [
    "rng.choice(a = array, size = 10, p = p)"
   ]
  },
  {
   "cell_type": "code",
   "execution_count": 30,
   "id": "ee7727b1-a8d1-47d6-8424-2f2e98d2d342",
   "metadata": {},
   "outputs": [
    {
     "data": {
      "text/plain": [
       "array([[ 0,  1,  2,  3,  4],\n",
       "       [ 5,  6,  7,  8,  9],\n",
       "       [10, 11, 12, 13, 14],\n",
       "       [15, 16, 17, 18, 19]])"
      ]
     },
     "execution_count": 30,
     "metadata": {},
     "output_type": "execute_result"
    }
   ],
   "source": [
    "array_2d = np.arange(0, 20).reshape(4, 5)\n",
    "array_2d"
   ]
  },
  {
   "cell_type": "code",
   "execution_count": 31,
   "id": "c1581607-d4ab-40f7-b1b9-8a518d96ad61",
   "metadata": {},
   "outputs": [
    {
     "data": {
      "text/plain": [
       "array([[0, 1, 2, 3, 4],\n",
       "       [5, 6, 7, 8, 9]])"
      ]
     },
     "execution_count": 31,
     "metadata": {},
     "output_type": "execute_result"
    }
   ],
   "source": [
    "rng.choice(a = array_2d, size = 2, axis = 0)"
   ]
  },
  {
   "cell_type": "code",
   "execution_count": 32,
   "id": "02825f07-4ca3-4e63-ad72-f940e195e235",
   "metadata": {},
   "outputs": [
    {
     "data": {
      "text/plain": [
       "array([[ 0,  4],\n",
       "       [ 5,  9],\n",
       "       [10, 14],\n",
       "       [15, 19]])"
      ]
     },
     "execution_count": 32,
     "metadata": {},
     "output_type": "execute_result"
    }
   ],
   "source": [
    "rng.choice(a = array_2d, size = 2, axis = 1)"
   ]
  }
 ],
 "metadata": {
  "kernelspec": {
   "display_name": "Python 3 (ipykernel)",
   "language": "python",
   "name": "python3"
  },
  "language_info": {
   "codemirror_mode": {
    "name": "ipython",
    "version": 3
   },
   "file_extension": ".py",
   "mimetype": "text/x-python",
   "name": "python",
   "nbconvert_exporter": "python",
   "pygments_lexer": "ipython3",
   "version": "3.12.8"
  }
 },
 "nbformat": 4,
 "nbformat_minor": 5
}
