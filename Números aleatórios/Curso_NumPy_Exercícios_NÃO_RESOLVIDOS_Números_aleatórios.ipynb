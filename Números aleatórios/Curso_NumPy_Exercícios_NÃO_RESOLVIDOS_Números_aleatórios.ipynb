{
  "nbformat": 4,
  "nbformat_minor": 0,
  "metadata": {
    "colab": {
      "provenance": []
    },
    "kernelspec": {
      "name": "python3",
      "display_name": "Python 3"
    },
    "language_info": {
      "name": "python"
    }
  },
  "cells": [
    {
      "cell_type": "code",
      "execution_count": null,
      "metadata": {
        "id": "sgYgpXPEmTmW",
        "colab": {
          "base_uri": "https://localhost:8080/",
          "height": 35
        },
        "outputId": "94f92f9c-9682-4365-c74c-03443b92a1ee"
      },
      "outputs": [
        {
          "output_type": "execute_result",
          "data": {
            "text/plain": [
              "'1.25.2'"
            ],
            "application/vnd.google.colaboratory.intrinsic+json": {
              "type": "string"
            }
          },
          "metadata": {},
          "execution_count": 1
        }
      ],
      "source": [
        "import numpy as np\n",
        "np.__version__"
      ]
    },
    {
      "cell_type": "code",
      "source": [
        "import matplotlib\n",
        "import matplotlib.pyplot as plt\n",
        "matplotlib.__version__"
      ],
      "metadata": {
        "colab": {
          "base_uri": "https://localhost:8080/",
          "height": 35
        },
        "id": "lMhTgSxyvie6",
        "outputId": "097b449c-c26b-4646-f918-baa155167d4f"
      },
      "execution_count": null,
      "outputs": [
        {
          "output_type": "execute_result",
          "data": {
            "text/plain": [
              "'3.7.1'"
            ],
            "application/vnd.google.colaboratory.intrinsic+json": {
              "type": "string"
            }
          },
          "metadata": {},
          "execution_count": 2
        }
      ]
    },
    {
      "cell_type": "markdown",
      "source": [
        "Neste módulo, você vai repetir a chamada de algumas funções apresentadas na aula para auxiliar na fixação do conteúdo."
      ],
      "metadata": {
        "id": "cB4Em7Hnoevi"
      }
    },
    {
      "cell_type": "markdown",
      "source": [
        "#### `np.random.default_rng`"
      ],
      "metadata": {
        "id": "s0ecZq_2nrNn"
      }
    },
    {
      "cell_type": "markdown",
      "source": [
        "Utilize a função `np.random.default_rng` para instanciar um gerador de números aleatórios. Utilize o parâmetro `seed=101` para garantir a reprodutibilidade do código."
      ],
      "metadata": {
        "id": "ZlPxReXAoqak"
      }
    },
    {
      "cell_type": "code",
      "source": [
        "rng = ..."
      ],
      "metadata": {
        "id": "5l8ZK_5Vwnyt"
      },
      "execution_count": null,
      "outputs": []
    },
    {
      "cell_type": "markdown",
      "source": [
        "#### `rng.random`\n"
      ],
      "metadata": {
        "id": "AOw87-oEmbEs"
      }
    },
    {
      "cell_type": "markdown",
      "source": [
        "Utilize `rng.random` para gerar um número aleatório no intervalo [0, 1)."
      ],
      "metadata": {
        "id": "3b-Xcgp7o_gh"
      }
    },
    {
      "cell_type": "code",
      "source": [
        "..."
      ],
      "metadata": {
        "colab": {
          "base_uri": "https://localhost:8080/"
        },
        "id": "J3ZQwZbeo-m9",
        "outputId": "e4225a5e-3192-4080-a87d-394809e4b3df"
      },
      "execution_count": null,
      "outputs": [
        {
          "output_type": "execute_result",
          "data": {
            "text/plain": [
              "0.9435325056105539"
            ]
          },
          "metadata": {},
          "execution_count": 4
        }
      ]
    },
    {
      "cell_type": "markdown",
      "source": [
        "Agora gere 5 valores aleatórios neste mesmo intervalo."
      ],
      "metadata": {
        "id": "klCwPoYfpI9k"
      }
    },
    {
      "cell_type": "code",
      "source": [
        "..."
      ],
      "metadata": {
        "colab": {
          "base_uri": "https://localhost:8080/"
        },
        "id": "kOxCbfcLpGP7",
        "outputId": "d2a6c61d-ad50-4698-c7d5-2528c5899604"
      },
      "execution_count": null,
      "outputs": [
        {
          "output_type": "execute_result",
          "data": {
            "text/plain": [
              "array([0.35942103, 0.78480541, 0.59127819, 0.29432856, 0.92272569])"
            ]
          },
          "metadata": {},
          "execution_count": 5
        }
      ]
    },
    {
      "cell_type": "markdown",
      "source": [
        "Gere um array 2D com 3 linhas e 4 colunas, populado com valores aleatórios."
      ],
      "metadata": {
        "id": "BgOJyDLtpNnL"
      }
    },
    {
      "cell_type": "code",
      "source": [
        "..."
      ],
      "metadata": {
        "colab": {
          "base_uri": "https://localhost:8080/"
        },
        "id": "EZbnnJSKo48m",
        "outputId": "e4c2c23d-a6a9-41aa-9066-d50875022128"
      },
      "execution_count": null,
      "outputs": [
        {
          "output_type": "execute_result",
          "data": {
            "text/plain": [
              "array([[0.86933154, 0.36413843, 0.97317681, 0.22452433],\n",
              "       [0.80549587, 0.68089623, 0.47106052, 0.03080547],\n",
              "       [0.8947982 , 0.57363252, 0.39030826, 0.35467904]])"
            ]
          },
          "metadata": {},
          "execution_count": 6
        }
      ]
    },
    {
      "cell_type": "markdown",
      "source": [
        "#### `rng.integers`"
      ],
      "metadata": {
        "id": "qdKrXwCTm5od"
      }
    },
    {
      "cell_type": "markdown",
      "source": [
        "Gere 8 números inteiros aleatórios, cujo valor máximo (excluído) deve ser 10."
      ],
      "metadata": {
        "id": "hF0_D_VBo699"
      }
    },
    {
      "cell_type": "code",
      "source": [
        "..."
      ],
      "metadata": {
        "colab": {
          "base_uri": "https://localhost:8080/"
        },
        "id": "B13IvF7XplB-",
        "outputId": "59474b5f-5c84-46f8-e342-80a43f64467f"
      },
      "execution_count": null,
      "outputs": [
        {
          "output_type": "execute_result",
          "data": {
            "text/plain": [
              "array([4, 6, 4, 3, 6, 5, 0, 3])"
            ]
          },
          "metadata": {},
          "execution_count": 7
        }
      ]
    },
    {
      "cell_type": "markdown",
      "source": [
        "Gere 7 números inteiros aleatórios cujo valor mínimo (incluído) seja 3 e máximo (excluído) seja 20."
      ],
      "metadata": {
        "id": "voIX9YAOpkvu"
      }
    },
    {
      "cell_type": "code",
      "source": [
        "..."
      ],
      "metadata": {
        "colab": {
          "base_uri": "https://localhost:8080/"
        },
        "id": "lnVfcFROqK9P",
        "outputId": "b605302e-9961-43c6-a889-b62d2ce2e4f5"
      },
      "execution_count": null,
      "outputs": [
        {
          "output_type": "execute_result",
          "data": {
            "text/plain": [
              "array([ 8,  3,  3,  7,  7, 17, 18])"
            ]
          },
          "metadata": {},
          "execution_count": 8
        }
      ]
    },
    {
      "cell_type": "markdown",
      "source": [
        "Gere 3 números inteiros aleatórios onde o primeiro esteja no intervalo [2, 10), o segundo no intervalo [7, 15), e o terceiro no intervalo [14, 25)."
      ],
      "metadata": {
        "id": "KV4MD9x4qVjf"
      }
    },
    {
      "cell_type": "code",
      "source": [
        "..."
      ],
      "metadata": {
        "colab": {
          "base_uri": "https://localhost:8080/"
        },
        "id": "zBo2X8LyqObe",
        "outputId": "f16745c5-0a18-4e57-d284-bb2ef3fb8c68"
      },
      "execution_count": null,
      "outputs": [
        {
          "output_type": "execute_result",
          "data": {
            "text/plain": [
              "array([ 8, 10, 21])"
            ]
          },
          "metadata": {},
          "execution_count": 9
        }
      ]
    },
    {
      "cell_type": "markdown",
      "source": [
        "#### `rng.choice`"
      ],
      "metadata": {
        "id": "MwkvlmEeq1aj"
      }
    },
    {
      "cell_type": "markdown",
      "source": [
        "Perceba que `rng.integers` pode retornar valores repetidos. Mas você pode gerar números inteiros aleatórios sem repetição com `rng.choice`.\n",
        "\n",
        "Primeiro, utilize `np.arange` para gerar um array contendo valores entre 5 e 20 (excluído)."
      ],
      "metadata": {
        "id": "0u9f46BTq3_R"
      }
    },
    {
      "cell_type": "code",
      "source": [
        "array = ..."
      ],
      "metadata": {
        "id": "qvo0_EKwqiFY"
      },
      "execution_count": null,
      "outputs": []
    },
    {
      "cell_type": "code",
      "source": [
        "array"
      ],
      "metadata": {
        "colab": {
          "base_uri": "https://localhost:8080/"
        },
        "id": "OrNtV4RLrSMr",
        "outputId": "e3d4a32b-32b0-4959-935b-bf4162afcb4c"
      },
      "execution_count": null,
      "outputs": [
        {
          "output_type": "execute_result",
          "data": {
            "text/plain": [
              "array([ 5,  6,  7,  8,  9, 10, 11, 12, 13, 14, 15, 16, 17, 18, 19])"
            ]
          },
          "metadata": {},
          "execution_count": 11
        }
      ]
    },
    {
      "cell_type": "markdown",
      "source": [
        "Agora, utilize `rng.choice` para selecionar 7 valores deste array, sem repetição. Você garante que não haverá repetição passando o parâmetro `replace=False`."
      ],
      "metadata": {
        "id": "8uMu1gcgrUIN"
      }
    },
    {
      "cell_type": "code",
      "source": [
        "..."
      ],
      "metadata": {
        "colab": {
          "base_uri": "https://localhost:8080/"
        },
        "id": "J6PKPDXcrScv",
        "outputId": "1ddd34b3-098d-4229-fc1c-594d1d8da87d"
      },
      "execution_count": null,
      "outputs": [
        {
          "output_type": "execute_result",
          "data": {
            "text/plain": [
              "array([19, 11, 16, 10, 15, 18,  9])"
            ]
          },
          "metadata": {},
          "execution_count": 12
        }
      ]
    },
    {
      "cell_type": "markdown",
      "source": [
        "#### `rng.shuffle`"
      ],
      "metadata": {
        "id": "C_wJMWhlr3da"
      }
    },
    {
      "cell_type": "markdown",
      "source": [
        "Utilize `rng.shuffle` para permutar o `array` criado anteriormente. Lembre-se que a permutação ocorre *inplace*, ou seja, o array é modificado e a função não retorna nada."
      ],
      "metadata": {
        "id": "ThGhQdx3r6eT"
      }
    },
    {
      "cell_type": "code",
      "source": [
        "..."
      ],
      "metadata": {
        "id": "nG3C69C0r5uf"
      },
      "execution_count": null,
      "outputs": []
    },
    {
      "cell_type": "code",
      "source": [
        "array"
      ],
      "metadata": {
        "colab": {
          "base_uri": "https://localhost:8080/"
        },
        "id": "8fhzY0CtsE6T",
        "outputId": "3a880e8a-0bc9-484d-e124-9ae51863613b"
      },
      "execution_count": null,
      "outputs": [
        {
          "output_type": "execute_result",
          "data": {
            "text/plain": [
              "array([ 6, 19,  9, 10, 11,  7, 18, 12, 15, 14, 13, 16, 17,  5,  8])"
            ]
          },
          "metadata": {},
          "execution_count": 14
        }
      ]
    },
    {
      "cell_type": "markdown",
      "source": [
        "#### `rng.permutation`"
      ],
      "metadata": {
        "id": "e_AKuttUsJIj"
      }
    },
    {
      "cell_type": "markdown",
      "source": [
        "Agora permute `array` novamente, mas com a função `rng.permutation`. Neste caso, a operação retorna uma cópia do array permutado."
      ],
      "metadata": {
        "id": "Nqn-EO9TsLN6"
      }
    },
    {
      "cell_type": "code",
      "source": [
        "rng.permutation(array)"
      ],
      "metadata": {
        "colab": {
          "base_uri": "https://localhost:8080/"
        },
        "id": "5oMu2RODsFQ1",
        "outputId": "b8b80271-6d22-4f6f-82b4-5b967a46cc8d"
      },
      "execution_count": null,
      "outputs": [
        {
          "output_type": "execute_result",
          "data": {
            "text/plain": [
              "array([12, 10, 19, 13,  9, 15,  7,  6,  8, 16, 14, 17, 11,  5, 18])"
            ]
          },
          "metadata": {},
          "execution_count": 15
        }
      ]
    },
    {
      "cell_type": "markdown",
      "source": [
        "### Distribuições"
      ],
      "metadata": {
        "id": "8McqBfOCwTAE"
      }
    },
    {
      "cell_type": "markdown",
      "source": [
        "Cada distribuição tem seus próprios parâmetros, que indicam como os dados serão distribuídos. Como amostras pequenas de distribuições são difíceis de interpretar somente pelos seus valores, aqui você será convidado a plotar grandes amostras aleatórias de algumas das distribuições mostradas na aula, mas mudando os parâmetros de forma livre. Observe as diferenças entre os gráficos plotados aqui, e aqueles apresentados na aula. Atente para as diferenças tanto no formato do gráfico, quanto nos valores dos eixos."
      ],
      "metadata": {
        "id": "zmHeCXVsuoAt"
      }
    },
    {
      "cell_type": "code",
      "source": [
        "plt.hist(rng....(..., size=100_000), bins=100);"
      ],
      "metadata": {
        "colab": {
          "base_uri": "https://localhost:8080/",
          "height": 430
        },
        "id": "YW1cqXTRsTzU",
        "outputId": "e5c29815-2714-4560-cbac-57df754d9fed"
      },
      "execution_count": null,
      "outputs": [
        {
          "output_type": "display_data",
          "data": {
            "text/plain": [
              "<Figure size 640x480 with 1 Axes>"
            ],
            "image/png": "[encoded data removed]"
          },
          "metadata": {}
        }
      ]
    },
    {
      "cell_type": "code",
      "source": [
        "..."
      ],
      "metadata": {
        "colab": {
          "base_uri": "https://localhost:8080/",
          "height": 430
        },
        "id": "fxbhL8_fv3ch",
        "outputId": "89213eb9-8d42-468b-e943-cf1b657253b8"
      },
      "execution_count": null,
      "outputs": [
        {
          "output_type": "display_data",
          "data": {
            "text/plain": [
              "<Figure size 640x480 with 1 Axes>"
            ],
            "image/png": "[encoded data removed]"
          },
          "metadata": {}
        }
      ]
    },
    {
      "cell_type": "code",
      "source": [
        "..."
      ],
      "metadata": {
        "colab": {
          "base_uri": "https://localhost:8080/",
          "height": 430
        },
        "id": "eGehTeVuv_rz",
        "outputId": "dcca36f9-0aba-4b36-b820-33241d6960f9"
      },
      "execution_count": null,
      "outputs": [
        {
          "output_type": "display_data",
          "data": {
            "text/plain": [
              "<Figure size 640x480 with 1 Axes>"
            ],
            "image/png": "[encoded data removed]"
          },
          "metadata": {}
        }
      ]
    },
    {
      "cell_type": "code",
      "source": [
        "..."
      ],
      "metadata": {
        "colab": {
          "base_uri": "https://localhost:8080/",
          "height": 430
        },
        "id": "fJQJqeITwG1J",
        "outputId": "24078f5d-924a-4c84-b202-29f84e1b45c6"
      },
      "execution_count": null,
      "outputs": [
        {
          "output_type": "display_data",
          "data": {
            "text/plain": [
              "<Figure size 640x480 with 1 Axes>"
            ],
            "image/png": "[encoded data removed]"
          },
          "metadata": {}
        }
      ]
    },
    {
      "cell_type": "code",
      "source": [
        "..."
      ],
      "metadata": {
        "colab": {
          "base_uri": "https://localhost:8080/",
          "height": 430
        },
        "id": "UXtF2f8FwMsb",
        "outputId": "49567499-ff4d-47f6-9c53-e4f07083edd4"
      },
      "execution_count": null,
      "outputs": [
        {
          "output_type": "display_data",
          "data": {
            "text/plain": [
              "<Figure size 640x480 with 1 Axes>"
            ],
            "image/png": "[encoded data removed]"
          },
          "metadata": {}
        }
      ]
    },
    {
      "cell_type": "code",
      "source": [
        "..."
      ],
      "metadata": {
        "colab": {
          "base_uri": "https://localhost:8080/",
          "height": 430
        },
        "id": "wclTycpqwSoA",
        "outputId": "7a212b77-c306-43d3-d0a3-9f0b1547c714"
      },
      "execution_count": null,
      "outputs": [
        {
          "output_type": "display_data",
          "data": {
            "text/plain": [
              "<Figure size 640x480 with 1 Axes>"
            ],
            "image/png": "[encoded data removed]"
          },
          "metadata": {}
        }
      ]
    }
  ]
}