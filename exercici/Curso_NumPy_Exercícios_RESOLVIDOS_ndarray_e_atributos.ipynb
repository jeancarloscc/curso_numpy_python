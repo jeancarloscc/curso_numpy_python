{
  "nbformat": 4,
  "nbformat_minor": 0,
  "metadata": {
    "colab": {
      "provenance": []
    },
    "kernelspec": {
      "name": "python3",
      "display_name": "Python 3"
    },
    "language_info": {
      "name": "python"
    }
  },
  "cells": [
    {
      "cell_type": "code",
      "execution_count": null,
      "metadata": {
        "id": "sgYgpXPEmTmW"
      },
      "outputs": [],
      "source": [
        "import numpy as np"
      ]
    },
    {
      "cell_type": "code",
      "source": [
        "np.__version__"
      ],
      "metadata": {
        "colab": {
          "base_uri": "https://localhost:8080/",
          "height": 56
        },
        "id": "WToUoFxfmkqS",
        "outputId": "4bc9e5bc-f168-4f4f-a61b-fac765a67342"
      },
      "execution_count": null,
      "outputs": [
        {
          "output_type": "execute_result",
          "data": {
            "text/plain": [
              "'1.25.2'"
            ],
            "application/vnd.google.colaboratory.intrinsic+json": {
              "type": "string"
            }
          },
          "metadata": {},
          "execution_count": 3
        }
      ]
    },
    {
      "cell_type": "markdown",
      "source": [
        "### Instanciando um array a partir de dados"
      ],
      "metadata": {
        "id": "480AXDJP_WTg"
      }
    },
    {
      "cell_type": "markdown",
      "source": [
        "#### Array de 1 dimensão"
      ],
      "metadata": {
        "id": "4X3DOqzj8aPO"
      }
    },
    {
      "cell_type": "markdown",
      "source": [
        "Instancie um `array_a` com os elementos `1`, `2`, `3`, `4` e `5`, em uma única dimensão.\n",
        "\n",
        "Printe dois atributos deste array, `shape` e `ndim`, para confirmar que este é um array 1-D."
      ],
      "metadata": {
        "id": "kNSabpRxYGtd"
      }
    },
    {
      "cell_type": "code",
      "source": [
        "array_a = np.array([1, 2, 3, 4, 5])"
      ],
      "metadata": {
        "id": "f7gAHLYzYDRM"
      },
      "execution_count": null,
      "outputs": []
    },
    {
      "cell_type": "code",
      "source": [
        "array_a.shape, array_a.ndim"
      ],
      "metadata": {
        "colab": {
          "base_uri": "https://localhost:8080/"
        },
        "id": "IHkJa8TXQ2nb",
        "outputId": "d8a4d4d6-d7ec-454f-f447-5804c6e45ff1"
      },
      "execution_count": null,
      "outputs": [
        {
          "output_type": "execute_result",
          "data": {
            "text/plain": [
              "((5,), 1)"
            ]
          },
          "metadata": {},
          "execution_count": 5
        }
      ]
    },
    {
      "cell_type": "markdown",
      "source": [
        "Printe também o atributo `size` para verificar quantos elementos este array contém."
      ],
      "metadata": {
        "id": "J35nKUqEZyf6"
      }
    },
    {
      "cell_type": "code",
      "source": [
        "array_a.size"
      ],
      "metadata": {
        "colab": {
          "base_uri": "https://localhost:8080/"
        },
        "id": "y-y4nlS8Z2Pb",
        "outputId": "e3c3b5be-98fe-44e7-a3fa-c570941959df"
      },
      "execution_count": null,
      "outputs": [
        {
          "output_type": "execute_result",
          "data": {
            "text/plain": [
              "5"
            ]
          },
          "metadata": {},
          "execution_count": 6
        }
      ]
    },
    {
      "cell_type": "markdown",
      "source": [
        "#### Array de 2 dimensões"
      ],
      "metadata": {
        "id": "TAierz_6Bz20"
      }
    },
    {
      "cell_type": "markdown",
      "source": [
        "Agora instancie um `array_b` com os elementos `1` a `10`, organizados em 2 linhas e 5 colunas. Lembre-se que, neste caso, você precisa representar os valores no formato **lista de listas**, onde cada lista interna representa uma linha do array.\n",
        "\n",
        "Também printe `shape`, `ndim` e `size`."
      ],
      "metadata": {
        "id": "Fq7YTNL6YiqW"
      }
    },
    {
      "cell_type": "code",
      "source": [
        "array_b = np.array([[1, 2, 3, 4, 5],\n",
        "                    [6, 7, 8, 9, 10]])"
      ],
      "metadata": {
        "id": "7n3Yrm3yYhwQ"
      },
      "execution_count": null,
      "outputs": []
    },
    {
      "cell_type": "code",
      "source": [
        "array_b.shape, array_b.ndim, array_b.size"
      ],
      "metadata": {
        "colab": {
          "base_uri": "https://localhost:8080/"
        },
        "id": "0hsJ0lpYQ6nA",
        "outputId": "90bbb60f-9456-46d5-facb-34e63c991249"
      },
      "execution_count": null,
      "outputs": [
        {
          "output_type": "execute_result",
          "data": {
            "text/plain": [
              "((2, 5), 2, 10)"
            ]
          },
          "metadata": {},
          "execution_count": 8
        }
      ]
    },
    {
      "cell_type": "markdown",
      "source": [
        "#### Array de 3 dimensões"
      ],
      "metadata": {
        "id": "OauPT6a5ZCO9"
      }
    },
    {
      "cell_type": "markdown",
      "source": [
        "Crie um `array_c` com os elementos `1` a `20`, com profundidade 2, 5 linhas e 2 colunas. Aqui, você vai precisar representar os valores no formato **lista de listas de listas**.\n",
        "\n",
        "Printe `shape`, `ndim` e `size`."
      ],
      "metadata": {
        "id": "x8m9ua3xZEpO"
      }
    },
    {
      "cell_type": "code",
      "source": [
        "array_c = np.array([[[ 1,  2],\n",
        "                     [ 3,  4],\n",
        "                     [ 5,  6],\n",
        "                     [ 7,  8],\n",
        "                     [ 9, 10]],\n",
        "\n",
        "                     [[11, 12],\n",
        "                      [13, 14],\n",
        "                      [15, 16],\n",
        "                      [17, 18],\n",
        "                      [19, 20]]])"
      ],
      "metadata": {
        "id": "jfLwTit-YcjZ"
      },
      "execution_count": null,
      "outputs": []
    },
    {
      "cell_type": "code",
      "source": [
        "array_c.shape, array_c.ndim, array_c.size"
      ],
      "metadata": {
        "colab": {
          "base_uri": "https://localhost:8080/"
        },
        "id": "x2_dXpnsRD26",
        "outputId": "89587ca9-c297-4d7b-ede6-a77dcdf58d41"
      },
      "execution_count": null,
      "outputs": [
        {
          "output_type": "execute_result",
          "data": {
            "text/plain": [
              "((2, 5, 2), 3, 20)"
            ]
          },
          "metadata": {},
          "execution_count": 10
        }
      ]
    },
    {
      "cell_type": "markdown",
      "source": [
        "#### `dtype`"
      ],
      "metadata": {
        "id": "vhlturXxMVQ1"
      }
    },
    {
      "cell_type": "markdown",
      "source": [
        "Agora vamos verificar como você pode instanciar um array explicitando o tipo de dado que será armazenado.\n",
        "\n",
        "Abaixo você recebe uma lista, `list_d`, com 5 valores informados como inteiros."
      ],
      "metadata": {
        "id": "6ZwQOYJ0aUeD"
      }
    },
    {
      "cell_type": "code",
      "source": [
        "list_d = [1, 2, 3, 4, 5]\n",
        "for i in list_d:\n",
        "    print(i, type(i))"
      ],
      "metadata": {
        "colab": {
          "base_uri": "https://localhost:8080/"
        },
        "id": "pb7kSbDLZhAo",
        "outputId": "c1e997ec-7ff2-4003-d692-1712b9ea660d"
      },
      "execution_count": null,
      "outputs": [
        {
          "output_type": "stream",
          "name": "stdout",
          "text": [
            "1 <class 'int'>\n",
            "2 <class 'int'>\n",
            "3 <class 'int'>\n",
            "4 <class 'int'>\n",
            "5 <class 'int'>\n"
          ]
        }
      ]
    },
    {
      "cell_type": "markdown",
      "source": [
        "Partindo desta lista, instancie um array `array_d` convertendo seu `dtype` para `np.float16`.\n",
        "\n",
        "Exiba o `dtype` deste array."
      ],
      "metadata": {
        "id": "w5203kGVanOU"
      }
    },
    {
      "cell_type": "code",
      "source": [
        "array_d = np.array(list_d, dtype=np.float16)"
      ],
      "metadata": {
        "id": "72yKA8jha1DB"
      },
      "execution_count": null,
      "outputs": []
    },
    {
      "cell_type": "code",
      "source": [
        "array_d.dtype"
      ],
      "metadata": {
        "colab": {
          "base_uri": "https://localhost:8080/"
        },
        "id": "Henx1zkcRM4Z",
        "outputId": "17655e36-6f2d-4478-d734-ebf38cd93f75"
      },
      "execution_count": null,
      "outputs": [
        {
          "output_type": "execute_result",
          "data": {
            "text/plain": [
              "dtype('float16')"
            ]
          },
          "metadata": {},
          "execution_count": 13
        }
      ]
    },
    {
      "cell_type": "markdown",
      "source": [
        "Agora instancie o mesmo `array_d` mas com `dtype` igual a `np.float32`. Exiba o `dtype`."
      ],
      "metadata": {
        "id": "uE9K1UYPa6zY"
      }
    },
    {
      "cell_type": "code",
      "source": [
        "array_d = np.array(list_d, dtype=np.float32)"
      ],
      "metadata": {
        "id": "7Vgn7Vopa39o"
      },
      "execution_count": null,
      "outputs": []
    },
    {
      "cell_type": "code",
      "source": [
        "array_d.dtype"
      ],
      "metadata": {
        "colab": {
          "base_uri": "https://localhost:8080/"
        },
        "id": "-H5B5Yx_ROy3",
        "outputId": "f8b553b2-d790-4187-9501-a83a6d50fbc1"
      },
      "execution_count": null,
      "outputs": [
        {
          "output_type": "execute_result",
          "data": {
            "text/plain": [
              "dtype('float32')"
            ]
          },
          "metadata": {},
          "execution_count": 15
        }
      ]
    },
    {
      "cell_type": "markdown",
      "source": [
        "Novamente instancie `array_d`, mas agora com `dtype` igual a `np.str_`. Exiba o `dtype`."
      ],
      "metadata": {
        "id": "ZdDjsluWbGQA"
      }
    },
    {
      "cell_type": "code",
      "source": [
        "array_d = np.array(list_d, dtype=np.str_)"
      ],
      "metadata": {
        "id": "ZeeGwn_7bE03"
      },
      "execution_count": null,
      "outputs": []
    },
    {
      "cell_type": "code",
      "source": [
        "array_d.dtype"
      ],
      "metadata": {
        "colab": {
          "base_uri": "https://localhost:8080/"
        },
        "id": "Tjij9Z2bRQs8",
        "outputId": "32271e30-9bd4-4c8d-e0a1-ff8d6ce97dbe"
      },
      "execution_count": null,
      "outputs": [
        {
          "output_type": "execute_result",
          "data": {
            "text/plain": [
              "dtype('<U1')"
            ]
          },
          "metadata": {},
          "execution_count": 17
        }
      ]
    },
    {
      "cell_type": "markdown",
      "source": [
        "Por último instancie `array_d` com `dtype` igual a `np.bool`.\n",
        "\n",
        "Desta vez, exiba o próprio array e seu `dtype`."
      ],
      "metadata": {
        "id": "U0qJVhmybUcD"
      }
    },
    {
      "cell_type": "code",
      "source": [
        "array_d = np.array(list_d, dtype=np.bool_)"
      ],
      "metadata": {
        "id": "eAQlKkYMbQTi"
      },
      "execution_count": null,
      "outputs": []
    },
    {
      "cell_type": "code",
      "source": [
        "array_d"
      ],
      "metadata": {
        "colab": {
          "base_uri": "https://localhost:8080/"
        },
        "id": "94P8-BL4RSrc",
        "outputId": "0cd2124b-b604-4200-b85f-de4da08251c6"
      },
      "execution_count": null,
      "outputs": [
        {
          "output_type": "execute_result",
          "data": {
            "text/plain": [
              "array([ True,  True,  True,  True,  True])"
            ]
          },
          "metadata": {},
          "execution_count": 19
        }
      ]
    },
    {
      "cell_type": "code",
      "source": [
        "array_d.dtype"
      ],
      "metadata": {
        "colab": {
          "base_uri": "https://localhost:8080/"
        },
        "id": "AXMniEfvRVRJ",
        "outputId": "e8f574d4-12ba-43ec-a3e2-0e49d26a5163"
      },
      "execution_count": null,
      "outputs": [
        {
          "output_type": "execute_result",
          "data": {
            "text/plain": [
              "dtype('bool')"
            ]
          },
          "metadata": {},
          "execution_count": 19
        }
      ]
    },
    {
      "cell_type": "markdown",
      "source": [
        "💡 Observe que todos os valores são expressos como `True`. Isto ocorre porque, para números, o Python interpreta `0` como `False`, e qualquer outro valor como `True`."
      ],
      "metadata": {
        "id": "0Qvx50rxbh0_"
      }
    }
  ]
}