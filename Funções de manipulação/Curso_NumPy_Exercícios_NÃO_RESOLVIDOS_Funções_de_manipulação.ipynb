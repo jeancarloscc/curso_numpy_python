{
  "nbformat": 4,
  "nbformat_minor": 0,
  "metadata": {
    "colab": {
      "provenance": []
    },
    "kernelspec": {
      "name": "python3",
      "display_name": "Python 3"
    },
    "language_info": {
      "name": "python"
    }
  },
  "cells": [
    {
      "cell_type": "code",
      "execution_count": null,
      "metadata": {
        "colab": {
          "base_uri": "https://localhost:8080/",
          "height": 35
        },
        "id": "IBRti16i-IgV",
        "outputId": "acc4732f-551e-484b-b2b1-8ad47cc09324"
      },
      "outputs": [
        {
          "output_type": "execute_result",
          "data": {
            "text/plain": [
              "'1.25.2'"
            ],
            "application/vnd.google.colaboratory.intrinsic+json": {
              "type": "string"
            }
          },
          "metadata": {},
          "execution_count": 54
        }
      ],
      "source": [
        "import numpy as np\n",
        "np.__version__"
      ]
    },
    {
      "cell_type": "markdown",
      "source": [
        "### Agrupando e dividindo arrays"
      ],
      "metadata": {
        "id": "RSD5vTUpYcWp"
      }
    },
    {
      "cell_type": "markdown",
      "source": [
        "#### `np.concatenate` / `np.stack` / `np.vstack` / `np.hstack`"
      ],
      "metadata": {
        "id": "IP6872izYf-N"
      }
    },
    {
      "cell_type": "markdown",
      "source": [
        "Primeiro utilize `np.arange` e `reshape` para criar um array 2D com valores entre 0 e 1, e step igual a 0.1, organizados como uma matriz de 2 linhas e 5 colunas."
      ],
      "metadata": {
        "id": "ldlUbGEQxyW9"
      }
    },
    {
      "cell_type": "code",
      "source": [
        "array_0 = ..."
      ],
      "metadata": {
        "id": "RLMIckfxxvt5"
      },
      "execution_count": null,
      "outputs": []
    },
    {
      "cell_type": "code",
      "source": [
        "array_0"
      ],
      "metadata": {
        "colab": {
          "base_uri": "https://localhost:8080/"
        },
        "id": "3BZAjFveyKrE",
        "outputId": "201d8ffb-ca12-48de-cf27-68927941c740"
      },
      "execution_count": null,
      "outputs": [
        {
          "output_type": "execute_result",
          "data": {
            "text/plain": [
              "array([[0. , 0.1, 0.2, 0.3, 0.4],\n",
              "       [0.5, 0.6, 0.7, 0.8, 0.9]])"
            ]
          },
          "metadata": {},
          "execution_count": 56
        }
      ]
    },
    {
      "cell_type": "markdown",
      "source": [
        "Agora crie um segundo array com valores entre 1 e 2, e step 0.1, no mesmo formato."
      ],
      "metadata": {
        "id": "XfjFIlqTyNx_"
      }
    },
    {
      "cell_type": "code",
      "source": [
        "array_1 = ..."
      ],
      "metadata": {
        "id": "1QKxHt6cyLvM"
      },
      "execution_count": null,
      "outputs": []
    },
    {
      "cell_type": "code",
      "source": [
        "array_1"
      ],
      "metadata": {
        "colab": {
          "base_uri": "https://localhost:8080/"
        },
        "id": "9EJvejQEyVur",
        "outputId": "0edc99cc-6ccf-483c-82a1-38ca43984d06"
      },
      "execution_count": null,
      "outputs": [
        {
          "output_type": "execute_result",
          "data": {
            "text/plain": [
              "array([[1. , 1.1, 1.2, 1.3, 1.4],\n",
              "       [1.5, 1.6, 1.7, 1.8, 1.9]])"
            ]
          },
          "metadata": {},
          "execution_count": 58
        }
      ]
    },
    {
      "cell_type": "markdown",
      "source": [
        "Utilize `np.concatenate` para concatenar os dois arrays ao longo das linhas, ou seja, do eixo 0."
      ],
      "metadata": {
        "id": "cmSLqRzqyYde"
      }
    },
    {
      "cell_type": "code",
      "source": [
        "..."
      ],
      "metadata": {
        "colab": {
          "base_uri": "https://localhost:8080/"
        },
        "id": "hnq6ad-3yWJ8",
        "outputId": "1a2905f8-7393-4874-df93-05915d49b5e8"
      },
      "execution_count": null,
      "outputs": [
        {
          "output_type": "execute_result",
          "data": {
            "text/plain": [
              "array([[0. , 0.1, 0.2, 0.3, 0.4],\n",
              "       [0.5, 0.6, 0.7, 0.8, 0.9],\n",
              "       [1. , 1.1, 1.2, 1.3, 1.4],\n",
              "       [1.5, 1.6, 1.7, 1.8, 1.9]])"
            ]
          },
          "metadata": {},
          "execution_count": 59
        }
      ]
    },
    {
      "cell_type": "markdown",
      "source": [
        "👆 Observe que o novo array tem agora 4 linhas e 5 colunas."
      ],
      "metadata": {
        "id": "08UAYchOyz0V"
      }
    },
    {
      "cell_type": "markdown",
      "source": [
        "Utilize `np.vstack` para empilhar os dois arrays verticalmente, e observe que o resultado é o mesmo que aquele de `np.concatenate` com `axis=0`."
      ],
      "metadata": {
        "id": "s8Ciz_2GzbvA"
      }
    },
    {
      "cell_type": "code",
      "source": [
        "..."
      ],
      "metadata": {
        "colab": {
          "base_uri": "https://localhost:8080/"
        },
        "id": "JqGtVFj4yrfD",
        "outputId": "5dcf557d-66c3-4c35-c511-2b40b0b7b09d"
      },
      "execution_count": null,
      "outputs": [
        {
          "output_type": "execute_result",
          "data": {
            "text/plain": [
              "array([[0. , 0.1, 0.2, 0.3, 0.4],\n",
              "       [0.5, 0.6, 0.7, 0.8, 0.9],\n",
              "       [1. , 1.1, 1.2, 1.3, 1.4],\n",
              "       [1.5, 1.6, 1.7, 1.8, 1.9]])"
            ]
          },
          "metadata": {},
          "execution_count": 60
        }
      ]
    },
    {
      "cell_type": "markdown",
      "source": [
        "Utilize `np.stack` para empilhar os dois arrays no eixo 0, mas observe que neste caso, uma nova dimensão é criada."
      ],
      "metadata": {
        "id": "VSXBKH2Dy5BJ"
      }
    },
    {
      "cell_type": "code",
      "source": [
        "..."
      ],
      "metadata": {
        "colab": {
          "base_uri": "https://localhost:8080/"
        },
        "id": "v0LCroyIynve",
        "outputId": "641d87fc-d359-4fdf-b12c-b12912b8c1a3"
      },
      "execution_count": null,
      "outputs": [
        {
          "output_type": "execute_result",
          "data": {
            "text/plain": [
              "array([[[0. , 0.1, 0.2, 0.3, 0.4],\n",
              "        [0.5, 0.6, 0.7, 0.8, 0.9]],\n",
              "\n",
              "       [[1. , 1.1, 1.2, 1.3, 1.4],\n",
              "        [1.5, 1.6, 1.7, 1.8, 1.9]]])"
            ]
          },
          "metadata": {},
          "execution_count": 61
        }
      ]
    },
    {
      "cell_type": "markdown",
      "source": [
        "Agora repita o procedimento em relação ao eixo 1. Neste caso, você deve usar `np.hstack`."
      ],
      "metadata": {
        "id": "ZMyzjtYVzP1D"
      }
    },
    {
      "cell_type": "code",
      "source": [
        "..."
      ],
      "metadata": {
        "colab": {
          "base_uri": "https://localhost:8080/"
        },
        "id": "5AAOgUyVz77o",
        "outputId": "29146a4e-f7fa-48ca-f54f-77706304df81"
      },
      "execution_count": null,
      "outputs": [
        {
          "output_type": "execute_result",
          "data": {
            "text/plain": [
              "array([[0. , 0.1, 0.2, 0.3, 0.4, 1. , 1.1, 1.2, 1.3, 1.4],\n",
              "       [0.5, 0.6, 0.7, 0.8, 0.9, 1.5, 1.6, 1.7, 1.8, 1.9]])"
            ]
          },
          "metadata": {},
          "execution_count": 62
        }
      ]
    },
    {
      "cell_type": "code",
      "source": [
        "..."
      ],
      "metadata": {
        "colab": {
          "base_uri": "https://localhost:8080/"
        },
        "id": "gxVrK25Az_wu",
        "outputId": "db808293-2dd3-4fae-ae1b-b5a5ff951337"
      },
      "execution_count": null,
      "outputs": [
        {
          "output_type": "execute_result",
          "data": {
            "text/plain": [
              "array([[0. , 0.1, 0.2, 0.3, 0.4, 1. , 1.1, 1.2, 1.3, 1.4],\n",
              "       [0.5, 0.6, 0.7, 0.8, 0.9, 1.5, 1.6, 1.7, 1.8, 1.9]])"
            ]
          },
          "metadata": {},
          "execution_count": 63
        }
      ]
    },
    {
      "cell_type": "code",
      "source": [
        "..."
      ],
      "metadata": {
        "colab": {
          "base_uri": "https://localhost:8080/"
        },
        "id": "1O9Ygtn50Cnz",
        "outputId": "da02d6fe-291c-4f2f-b825-14d2116b4bf0"
      },
      "execution_count": null,
      "outputs": [
        {
          "output_type": "execute_result",
          "data": {
            "text/plain": [
              "array([[[0. , 0.1, 0.2, 0.3, 0.4],\n",
              "        [1. , 1.1, 1.2, 1.3, 1.4]],\n",
              "\n",
              "       [[0.5, 0.6, 0.7, 0.8, 0.9],\n",
              "        [1.5, 1.6, 1.7, 1.8, 1.9]]])"
            ]
          },
          "metadata": {},
          "execution_count": 64
        }
      ]
    },
    {
      "cell_type": "markdown",
      "source": [
        "### Adicionando eixos"
      ],
      "metadata": {
        "id": "dN7s90XVdoCU"
      }
    },
    {
      "cell_type": "markdown",
      "source": [
        "#### `np.expand_dims`"
      ],
      "metadata": {
        "id": "t_2xBNNe1oMV"
      }
    },
    {
      "cell_type": "markdown",
      "source": [
        "Adicione uma dimensão no eixo 0 de `array_0`.\n",
        "\n",
        "Exiba o array resultante e seu `shape` para observar o efeito que esta operação teve."
      ],
      "metadata": {
        "id": "e5uw2Ze914BY"
      }
    },
    {
      "cell_type": "code",
      "source": [
        "array_0_ed_0 = ..."
      ],
      "metadata": {
        "id": "WcC-YkWH0E-B"
      },
      "execution_count": null,
      "outputs": []
    },
    {
      "cell_type": "code",
      "source": [
        "array_0_ed_0"
      ],
      "metadata": {
        "colab": {
          "base_uri": "https://localhost:8080/"
        },
        "id": "2hVwTtKy2bq3",
        "outputId": "fdd716bf-6825-44e0-d2a4-c8bc3d6442e3"
      },
      "execution_count": null,
      "outputs": [
        {
          "output_type": "execute_result",
          "data": {
            "text/plain": [
              "array([[[0. , 0.1, 0.2, 0.3, 0.4],\n",
              "        [0.5, 0.6, 0.7, 0.8, 0.9]]])"
            ]
          },
          "metadata": {},
          "execution_count": 66
        }
      ]
    },
    {
      "cell_type": "code",
      "source": [
        "..."
      ],
      "metadata": {
        "colab": {
          "base_uri": "https://localhost:8080/"
        },
        "id": "iZTSPgXj2cWf",
        "outputId": "6b18674b-54e3-4335-f37d-04b0bfdc2616"
      },
      "execution_count": null,
      "outputs": [
        {
          "output_type": "execute_result",
          "data": {
            "text/plain": [
              "(1, 2, 5)"
            ]
          },
          "metadata": {},
          "execution_count": 67
        }
      ]
    },
    {
      "cell_type": "markdown",
      "source": [
        "Agora repita para o eixo 1."
      ],
      "metadata": {
        "id": "MkcDIX_y2_C0"
      }
    },
    {
      "cell_type": "code",
      "source": [
        "array_0_ed_1 = ..."
      ],
      "metadata": {
        "id": "8vsiNK1A2FJq"
      },
      "execution_count": null,
      "outputs": []
    },
    {
      "cell_type": "code",
      "source": [
        "array_0_ed_1"
      ],
      "metadata": {
        "colab": {
          "base_uri": "https://localhost:8080/"
        },
        "id": "DTlNxKvy2hCE",
        "outputId": "8f42e6e7-8377-4e90-dae3-67e5f901a3bf"
      },
      "execution_count": null,
      "outputs": [
        {
          "output_type": "execute_result",
          "data": {
            "text/plain": [
              "array([[[0. , 0.1, 0.2, 0.3, 0.4]],\n",
              "\n",
              "       [[0.5, 0.6, 0.7, 0.8, 0.9]]])"
            ]
          },
          "metadata": {},
          "execution_count": 69
        }
      ]
    },
    {
      "cell_type": "code",
      "source": [
        "..."
      ],
      "metadata": {
        "colab": {
          "base_uri": "https://localhost:8080/"
        },
        "id": "FHR4ogWk2jDG",
        "outputId": "b715b91d-9f8d-4012-e62f-9eabf135e372"
      },
      "execution_count": null,
      "outputs": [
        {
          "output_type": "execute_result",
          "data": {
            "text/plain": [
              "(2, 1, 5)"
            ]
          },
          "metadata": {},
          "execution_count": 70
        }
      ]
    },
    {
      "cell_type": "markdown",
      "source": [
        "Repita para o eixo 2."
      ],
      "metadata": {
        "id": "7VY_De26dgeK"
      }
    },
    {
      "cell_type": "code",
      "source": [
        "array_0_ed_2 = ..."
      ],
      "metadata": {
        "id": "FU_Kl6OE2Gxe"
      },
      "execution_count": null,
      "outputs": []
    },
    {
      "cell_type": "code",
      "source": [
        "array_0_ed_2"
      ],
      "metadata": {
        "colab": {
          "base_uri": "https://localhost:8080/"
        },
        "id": "6BV1J0vc2mCo",
        "outputId": "0d4772b2-9236-49bb-fb6b-6bc652dce855"
      },
      "execution_count": null,
      "outputs": [
        {
          "output_type": "execute_result",
          "data": {
            "text/plain": [
              "array([[[0. ],\n",
              "        [0.1],\n",
              "        [0.2],\n",
              "        [0.3],\n",
              "        [0.4]],\n",
              "\n",
              "       [[0.5],\n",
              "        [0.6],\n",
              "        [0.7],\n",
              "        [0.8],\n",
              "        [0.9]]])"
            ]
          },
          "metadata": {},
          "execution_count": 72
        }
      ]
    },
    {
      "cell_type": "code",
      "source": [
        "..."
      ],
      "metadata": {
        "colab": {
          "base_uri": "https://localhost:8080/"
        },
        "id": "gtxMn8gj2qVW",
        "outputId": "e459945f-e6ef-472e-99bf-4ae1c29ef1a6"
      },
      "execution_count": null,
      "outputs": [
        {
          "output_type": "execute_result",
          "data": {
            "text/plain": [
              "(2, 5, 1)"
            ]
          },
          "metadata": {},
          "execution_count": 73
        }
      ]
    },
    {
      "cell_type": "markdown",
      "source": [
        "### Rearranjando elementos"
      ],
      "metadata": {
        "id": "jcOkiasjJPtI"
      }
    },
    {
      "cell_type": "markdown",
      "source": [
        "#### `np.flip`"
      ],
      "metadata": {
        "id": "EpgwbWI0gJkH"
      }
    },
    {
      "cell_type": "markdown",
      "source": [
        "Inverta `array_0` inteiro, exibindo o resultado para visualizar a alteração."
      ],
      "metadata": {
        "id": "PO8PaXwh3ZS1"
      }
    },
    {
      "cell_type": "code",
      "source": [
        "..."
      ],
      "metadata": {
        "colab": {
          "base_uri": "https://localhost:8080/"
        },
        "id": "fKYoq7Db2rOE",
        "outputId": "6362513a-a7b1-41a2-9e77-d0e180cbba54"
      },
      "execution_count": null,
      "outputs": [
        {
          "output_type": "execute_result",
          "data": {
            "text/plain": [
              "array([[0.9, 0.8, 0.7, 0.6, 0.5],\n",
              "       [0.4, 0.3, 0.2, 0.1, 0. ]])"
            ]
          },
          "metadata": {},
          "execution_count": 74
        }
      ]
    },
    {
      "cell_type": "markdown",
      "source": [
        "👆 As linhas e as colunas foram invertidas."
      ],
      "metadata": {
        "id": "0LXL_HVX31hq"
      }
    },
    {
      "cell_type": "markdown",
      "source": [
        "Inverta `array_0` somente no eixo 0."
      ],
      "metadata": {
        "id": "bm2qESfB3io_"
      }
    },
    {
      "cell_type": "code",
      "source": [
        "..."
      ],
      "metadata": {
        "colab": {
          "base_uri": "https://localhost:8080/"
        },
        "id": "9XpG-VdV3hj9",
        "outputId": "aea02638-162b-4f09-bd45-a1f2a9f556d4"
      },
      "execution_count": null,
      "outputs": [
        {
          "output_type": "execute_result",
          "data": {
            "text/plain": [
              "array([[0.5, 0.6, 0.7, 0.8, 0.9],\n",
              "       [0. , 0.1, 0.2, 0.3, 0.4]])"
            ]
          },
          "metadata": {},
          "execution_count": 75
        }
      ]
    },
    {
      "cell_type": "markdown",
      "source": [
        "👆 Somente as linhas foram invertidas."
      ],
      "metadata": {
        "id": "JlobeG0p3q_M"
      }
    },
    {
      "cell_type": "markdown",
      "source": [
        "Inverta `array_0` somente no eixo 1."
      ],
      "metadata": {
        "id": "bnpagBXW3uiz"
      }
    },
    {
      "cell_type": "code",
      "source": [
        "..."
      ],
      "metadata": {
        "colab": {
          "base_uri": "https://localhost:8080/"
        },
        "id": "2s_5VdH63mAx",
        "outputId": "7f5c81f9-b51e-4750-f24d-876d21b379ae"
      },
      "execution_count": null,
      "outputs": [
        {
          "output_type": "execute_result",
          "data": {
            "text/plain": [
              "array([[0.4, 0.3, 0.2, 0.1, 0. ],\n",
              "       [0.9, 0.8, 0.7, 0.6, 0.5]])"
            ]
          },
          "metadata": {},
          "execution_count": 76
        }
      ]
    },
    {
      "cell_type": "markdown",
      "source": [
        "👆 Somente as colunas foram invertidas."
      ],
      "metadata": {
        "id": "fyTGQ-gQ3yFA"
      }
    },
    {
      "cell_type": "markdown",
      "source": [
        "#### `np.resize`"
      ],
      "metadata": {
        "id": "vDMRU2ZI399R"
      }
    },
    {
      "cell_type": "markdown",
      "source": [
        "Redimensione `array_0` para o formato linearizado com 8 elementos."
      ],
      "metadata": {
        "id": "_h4jiJZh4AWD"
      }
    },
    {
      "cell_type": "code",
      "source": [
        "..."
      ],
      "metadata": {
        "colab": {
          "base_uri": "https://localhost:8080/"
        },
        "id": "0rF7Ar0V3wxM",
        "outputId": "9cfcd25d-af85-4beb-fd27-05ec407ade46"
      },
      "execution_count": null,
      "outputs": [
        {
          "output_type": "execute_result",
          "data": {
            "text/plain": [
              "array([0. , 0.1, 0.2, 0.3, 0.4, 0.5, 0.6, 0.7])"
            ]
          },
          "metadata": {},
          "execution_count": 77
        }
      ]
    },
    {
      "cell_type": "markdown",
      "source": [
        "👆 Como o novo tamanho é menor que o anterior, o array original é truncado."
      ],
      "metadata": {
        "id": "nrVhJOEG4S-A"
      }
    },
    {
      "cell_type": "markdown",
      "source": [
        "Redimensione `array_0` para o formato linearizado com 15 elementos."
      ],
      "metadata": {
        "id": "YTZRAsK64Yay"
      }
    },
    {
      "cell_type": "code",
      "source": [
        "..."
      ],
      "metadata": {
        "colab": {
          "base_uri": "https://localhost:8080/"
        },
        "id": "xxBTFiw44YEo",
        "outputId": "e8f50a10-dd00-46ca-836a-bd6f602b0807"
      },
      "execution_count": null,
      "outputs": [
        {
          "output_type": "execute_result",
          "data": {
            "text/plain": [
              "array([0. , 0.1, 0.2, 0.3, 0.4, 0.5, 0.6, 0.7, 0.8, 0.9, 0. , 0.1, 0.2,\n",
              "       0.3, 0.4])"
            ]
          },
          "metadata": {},
          "execution_count": 78
        }
      ]
    },
    {
      "cell_type": "markdown",
      "source": [
        "👆 Como o novo tamanho é maior que o anterior, o array original é repetido até o novo tamanho."
      ],
      "metadata": {
        "id": "Dmna_Ux94eAt"
      }
    },
    {
      "cell_type": "markdown",
      "source": [
        "Redimensione `array_0` para conter 3 linhas e 6 colunas."
      ],
      "metadata": {
        "id": "O_CgsBJy4jbG"
      }
    },
    {
      "cell_type": "code",
      "source": [
        "..."
      ],
      "metadata": {
        "colab": {
          "base_uri": "https://localhost:8080/"
        },
        "id": "PlTIrcp44Rzf",
        "outputId": "7e2c8c08-9eb4-4d44-f87d-c91009a1ef2e"
      },
      "execution_count": null,
      "outputs": [
        {
          "output_type": "execute_result",
          "data": {
            "text/plain": [
              "array([[0. , 0.1, 0.2, 0.3, 0.4, 0.5],\n",
              "       [0.6, 0.7, 0.8, 0.9, 0. , 0.1],\n",
              "       [0.2, 0.3, 0.4, 0.5, 0.6, 0.7]])"
            ]
          },
          "metadata": {},
          "execution_count": 79
        }
      ]
    },
    {
      "cell_type": "markdown",
      "source": [
        "👆 Lembre-se que o array é primeiro linearizado, depois truncado ou completado até o novo tamanho, depois o formato é ajustado."
      ],
      "metadata": {
        "id": "6ZHhKLP64vaS"
      }
    },
    {
      "cell_type": "markdown",
      "source": [
        "### Adicionando ou removendo elementos"
      ],
      "metadata": {
        "id": "bfmQgM-6JWuD"
      }
    },
    {
      "cell_type": "markdown",
      "source": [
        "#### `np.insert`"
      ],
      "metadata": {
        "id": "Yx8tDYf4Jkys"
      }
    },
    {
      "cell_type": "markdown",
      "source": [
        "Insira uma nova coluna (eixo 1) em `array_0` na posição 2 com o valor 9."
      ],
      "metadata": {
        "id": "Qs36vrTp5Ltu"
      }
    },
    {
      "cell_type": "code",
      "source": [
        "..."
      ],
      "metadata": {
        "colab": {
          "base_uri": "https://localhost:8080/"
        },
        "id": "sWSABn9F4okY",
        "outputId": "25838920-c5b9-4be7-b98e-abe9bc6441a1"
      },
      "execution_count": null,
      "outputs": [
        {
          "output_type": "execute_result",
          "data": {
            "text/plain": [
              "array([[0. , 0.1, 9. , 0.2, 0.3, 0.4],\n",
              "       [0.5, 0.6, 9. , 0.7, 0.8, 0.9]])"
            ]
          },
          "metadata": {},
          "execution_count": 80
        }
      ]
    },
    {
      "cell_type": "markdown",
      "source": [
        "Repita a inserção, mas com os valores 8 e 9."
      ],
      "metadata": {
        "id": "EIFru79x5f1B"
      }
    },
    {
      "cell_type": "code",
      "source": [
        "..."
      ],
      "metadata": {
        "colab": {
          "base_uri": "https://localhost:8080/"
        },
        "id": "2Q501NNt5igQ",
        "outputId": "13109ce9-16a3-4ad7-f231-667e30115960"
      },
      "execution_count": null,
      "outputs": [
        {
          "output_type": "execute_result",
          "data": {
            "text/plain": [
              "array([[0. , 0.1, 8. , 0.2, 0.3, 0.4],\n",
              "       [0.5, 0.6, 9. , 0.7, 0.8, 0.9]])"
            ]
          },
          "metadata": {},
          "execution_count": 81
        }
      ]
    },
    {
      "cell_type": "markdown",
      "source": [
        "Agora insira uma linha (eixo 0) em `array_0` na posição 0 com o valor 9."
      ],
      "metadata": {
        "id": "9QWQM-gD5sCY"
      }
    },
    {
      "cell_type": "code",
      "source": [
        "..."
      ],
      "metadata": {
        "colab": {
          "base_uri": "https://localhost:8080/"
        },
        "id": "1GHuLGnB5rtS",
        "outputId": "373582a6-8039-4005-ae81-3a8d264b871f"
      },
      "execution_count": null,
      "outputs": [
        {
          "output_type": "execute_result",
          "data": {
            "text/plain": [
              "array([[9. , 9. , 9. , 9. , 9. ],\n",
              "       [0. , 0.1, 0.2, 0.3, 0.4],\n",
              "       [0.5, 0.6, 0.7, 0.8, 0.9]])"
            ]
          },
          "metadata": {},
          "execution_count": 82
        }
      ]
    },
    {
      "cell_type": "markdown",
      "source": [
        "#### `np.delete`"
      ],
      "metadata": {
        "id": "ec-uUZ38Kjzi"
      }
    },
    {
      "cell_type": "markdown",
      "source": [
        "Delete a coluna 2 de `array_0`."
      ],
      "metadata": {
        "id": "gJ-XbTrK5693"
      }
    },
    {
      "cell_type": "code",
      "source": [
        "..."
      ],
      "metadata": {
        "colab": {
          "base_uri": "https://localhost:8080/"
        },
        "id": "8XbL35bt50Xe",
        "outputId": "311bae84-2ce8-4f1c-934d-bff2d3f563d2"
      },
      "execution_count": null,
      "outputs": [
        {
          "output_type": "execute_result",
          "data": {
            "text/plain": [
              "array([[0. , 0.1, 0.3, 0.4],\n",
              "       [0.5, 0.6, 0.8, 0.9]])"
            ]
          },
          "metadata": {},
          "execution_count": 83
        }
      ]
    },
    {
      "cell_type": "markdown",
      "source": [
        "Delete a linha 1 de `array_1`."
      ],
      "metadata": {
        "id": "7MGl2fp26C6y"
      }
    },
    {
      "cell_type": "code",
      "source": [
        "..."
      ],
      "metadata": {
        "colab": {
          "base_uri": "https://localhost:8080/"
        },
        "id": "AM4TRVVw5_fT",
        "outputId": "596324ab-a91e-4589-8a56-97b219e7e4d0"
      },
      "execution_count": null,
      "outputs": [
        {
          "output_type": "execute_result",
          "data": {
            "text/plain": [
              "array([[1. , 1.1, 1.2, 1.3, 1.4]])"
            ]
          },
          "metadata": {},
          "execution_count": 84
        }
      ]
    },
    {
      "cell_type": "markdown",
      "source": [
        "#### `np.append`"
      ],
      "metadata": {
        "id": "BZRhJI0v6eAL"
      }
    },
    {
      "cell_type": "markdown",
      "source": [
        "Adicione `array_1` ao final de `array_0`, no eixo 0."
      ],
      "metadata": {
        "id": "2qZU328c6gZl"
      }
    },
    {
      "cell_type": "code",
      "source": [
        "..."
      ],
      "metadata": {
        "colab": {
          "base_uri": "https://localhost:8080/"
        },
        "id": "DLTXmpsX6fMX",
        "outputId": "ce947868-4938-45c3-a377-9b6566667375"
      },
      "execution_count": null,
      "outputs": [
        {
          "output_type": "execute_result",
          "data": {
            "text/plain": [
              "array([[0. , 0.1, 0.2, 0.3, 0.4],\n",
              "       [0.5, 0.6, 0.7, 0.8, 0.9],\n",
              "       [1. , 1.1, 1.2, 1.3, 1.4],\n",
              "       [1.5, 1.6, 1.7, 1.8, 1.9]])"
            ]
          },
          "metadata": {},
          "execution_count": 85
        }
      ]
    },
    {
      "cell_type": "markdown",
      "source": [
        "👆 O resultado é o mesmo de `np.concatenate` com `axis=0`."
      ],
      "metadata": {
        "id": "b9q_880W6uPs"
      }
    },
    {
      "cell_type": "markdown",
      "source": [
        "Adicione `array_1` ao final de `array_0`, no eixo 1."
      ],
      "metadata": {
        "id": "blyuyvKS6-ub"
      }
    },
    {
      "cell_type": "code",
      "source": [
        "..."
      ],
      "metadata": {
        "colab": {
          "base_uri": "https://localhost:8080/"
        },
        "outputId": "e2889f4f-e130-4a43-88ab-e099eba76bf0",
        "id": "k54eEvpI6-ui"
      },
      "execution_count": null,
      "outputs": [
        {
          "output_type": "execute_result",
          "data": {
            "text/plain": [
              "array([[0. , 0.1, 0.2, 0.3, 0.4, 1. , 1.1, 1.2, 1.3, 1.4],\n",
              "       [0.5, 0.6, 0.7, 0.8, 0.9, 1.5, 1.6, 1.7, 1.8, 1.9]])"
            ]
          },
          "metadata": {},
          "execution_count": 86
        }
      ]
    },
    {
      "cell_type": "markdown",
      "source": [
        "👆 O resultado é o mesmo de `np.concatenate` com `axis=1`."
      ],
      "metadata": {
        "id": "awoYNDQL7mNp"
      }
    },
    {
      "cell_type": "markdown",
      "source": [
        "#### `np.tile`"
      ],
      "metadata": {
        "id": "48pg9UxwHUHu"
      }
    },
    {
      "cell_type": "markdown",
      "source": [
        "Utilize `np.tile` para repetir `array_0`, 2 vezes no eixo 0, e 4 vezes no eixo 1."
      ],
      "metadata": {
        "id": "oyrNZu7k8JzX"
      }
    },
    {
      "cell_type": "code",
      "source": [
        "..."
      ],
      "metadata": {
        "colab": {
          "base_uri": "https://localhost:8080/"
        },
        "id": "W7KiUNQb64WG",
        "outputId": "1514cbd6-977e-4ba0-b4de-f03a3b995373"
      },
      "execution_count": null,
      "outputs": [
        {
          "output_type": "execute_result",
          "data": {
            "text/plain": [
              "array([[0. , 0.1, 0.2, 0.3, 0.4, 0. , 0.1, 0.2, 0.3, 0.4, 0. , 0.1, 0.2,\n",
              "        0.3, 0.4, 0. , 0.1, 0.2, 0.3, 0.4],\n",
              "       [0.5, 0.6, 0.7, 0.8, 0.9, 0.5, 0.6, 0.7, 0.8, 0.9, 0.5, 0.6, 0.7,\n",
              "        0.8, 0.9, 0.5, 0.6, 0.7, 0.8, 0.9],\n",
              "       [0. , 0.1, 0.2, 0.3, 0.4, 0. , 0.1, 0.2, 0.3, 0.4, 0. , 0.1, 0.2,\n",
              "        0.3, 0.4, 0. , 0.1, 0.2, 0.3, 0.4],\n",
              "       [0.5, 0.6, 0.7, 0.8, 0.9, 0.5, 0.6, 0.7, 0.8, 0.9, 0.5, 0.6, 0.7,\n",
              "        0.8, 0.9, 0.5, 0.6, 0.7, 0.8, 0.9]])"
            ]
          },
          "metadata": {},
          "execution_count": 87
        }
      ]
    },
    {
      "cell_type": "markdown",
      "source": [
        "E se você quiser repetir `array_0` somente 3 vezes no eixo 0?"
      ],
      "metadata": {
        "id": "pkqKEDFv8jBD"
      }
    },
    {
      "cell_type": "code",
      "source": [
        "..."
      ],
      "metadata": {
        "colab": {
          "base_uri": "https://localhost:8080/"
        },
        "id": "yd3oclGS8m_0",
        "outputId": "1d00401a-46e8-4d75-a5af-f1a463db157a"
      },
      "execution_count": null,
      "outputs": [
        {
          "output_type": "execute_result",
          "data": {
            "text/plain": [
              "array([[0. , 0.1, 0.2, 0.3, 0.4],\n",
              "       [0.5, 0.6, 0.7, 0.8, 0.9],\n",
              "       [0. , 0.1, 0.2, 0.3, 0.4],\n",
              "       [0.5, 0.6, 0.7, 0.8, 0.9],\n",
              "       [0. , 0.1, 0.2, 0.3, 0.4],\n",
              "       [0.5, 0.6, 0.7, 0.8, 0.9]])"
            ]
          },
          "metadata": {},
          "execution_count": 88
        }
      ]
    },
    {
      "cell_type": "markdown",
      "source": [
        "#### `np.pad`"
      ],
      "metadata": {
        "id": "9qQomJR68seb"
      }
    },
    {
      "cell_type": "markdown",
      "source": [
        "Preencha `array_1` com 3 valores antes e 4 valores depois. O valor deve ser a constante 0."
      ],
      "metadata": {
        "id": "NgrF8AAE8x09"
      }
    },
    {
      "cell_type": "code",
      "source": [
        "..."
      ],
      "metadata": {
        "colab": {
          "base_uri": "https://localhost:8080/"
        },
        "id": "RvWPJu2W8tnR",
        "outputId": "21b00c40-7973-4bc6-a272-5e2ff88bdd71"
      },
      "execution_count": null,
      "outputs": [
        {
          "output_type": "execute_result",
          "data": {
            "text/plain": [
              "array([[0. , 0. , 0. , 0. , 0. , 0. , 0. , 0. , 0. , 0. , 0. , 0. ],\n",
              "       [0. , 0. , 0. , 0. , 0. , 0. , 0. , 0. , 0. , 0. , 0. , 0. ],\n",
              "       [0. , 0. , 0. , 0. , 0. , 0. , 0. , 0. , 0. , 0. , 0. , 0. ],\n",
              "       [0. , 0. , 0. , 1. , 1.1, 1.2, 1.3, 1.4, 0. , 0. , 0. , 0. ],\n",
              "       [0. , 0. , 0. , 1.5, 1.6, 1.7, 1.8, 1.9, 0. , 0. , 0. , 0. ],\n",
              "       [0. , 0. , 0. , 0. , 0. , 0. , 0. , 0. , 0. , 0. , 0. , 0. ],\n",
              "       [0. , 0. , 0. , 0. , 0. , 0. , 0. , 0. , 0. , 0. , 0. , 0. ],\n",
              "       [0. , 0. , 0. , 0. , 0. , 0. , 0. , 0. , 0. , 0. , 0. , 0. ],\n",
              "       [0. , 0. , 0. , 0. , 0. , 0. , 0. , 0. , 0. , 0. , 0. , 0. ]])"
            ]
          },
          "metadata": {},
          "execution_count": 89
        }
      ]
    },
    {
      "cell_type": "markdown",
      "source": [
        "👆 Foram adicionadas 3 linhas e 3 colunas \"antes\" de `array_1`, e 4 linhas/4 colunas \"depois\"."
      ],
      "metadata": {
        "id": "PQ7Nq8UX9Hvh"
      }
    },
    {
      "cell_type": "markdown",
      "source": [
        "Repita, mas preenchendo com os valores da borda (\"edge\")."
      ],
      "metadata": {
        "id": "sDn8DYCn9aO2"
      }
    },
    {
      "cell_type": "code",
      "source": [
        "..."
      ],
      "metadata": {
        "colab": {
          "base_uri": "https://localhost:8080/"
        },
        "id": "b8Zr1q3z9QHR",
        "outputId": "d699182f-ab8e-4306-e94f-41b232872d56"
      },
      "execution_count": null,
      "outputs": [
        {
          "output_type": "execute_result",
          "data": {
            "text/plain": [
              "array([[1. , 1. , 1. , 1. , 1.1, 1.2, 1.3, 1.4, 1.4, 1.4, 1.4, 1.4],\n",
              "       [1. , 1. , 1. , 1. , 1.1, 1.2, 1.3, 1.4, 1.4, 1.4, 1.4, 1.4],\n",
              "       [1. , 1. , 1. , 1. , 1.1, 1.2, 1.3, 1.4, 1.4, 1.4, 1.4, 1.4],\n",
              "       [1. , 1. , 1. , 1. , 1.1, 1.2, 1.3, 1.4, 1.4, 1.4, 1.4, 1.4],\n",
              "       [1.5, 1.5, 1.5, 1.5, 1.6, 1.7, 1.8, 1.9, 1.9, 1.9, 1.9, 1.9],\n",
              "       [1.5, 1.5, 1.5, 1.5, 1.6, 1.7, 1.8, 1.9, 1.9, 1.9, 1.9, 1.9],\n",
              "       [1.5, 1.5, 1.5, 1.5, 1.6, 1.7, 1.8, 1.9, 1.9, 1.9, 1.9, 1.9],\n",
              "       [1.5, 1.5, 1.5, 1.5, 1.6, 1.7, 1.8, 1.9, 1.9, 1.9, 1.9, 1.9],\n",
              "       [1.5, 1.5, 1.5, 1.5, 1.6, 1.7, 1.8, 1.9, 1.9, 1.9, 1.9, 1.9]])"
            ]
          },
          "metadata": {},
          "execution_count": 90
        }
      ]
    },
    {
      "cell_type": "markdown",
      "source": [
        "Repita com o valor mínimo."
      ],
      "metadata": {
        "id": "aBWUq3tb9iHl"
      }
    },
    {
      "cell_type": "code",
      "source": [
        "..."
      ],
      "metadata": {
        "colab": {
          "base_uri": "https://localhost:8080/"
        },
        "id": "IGqucneF9gPR",
        "outputId": "60634a6e-b93f-4c9f-b4b0-3602237b9d53"
      },
      "execution_count": null,
      "outputs": [
        {
          "output_type": "execute_result",
          "data": {
            "text/plain": [
              "array([[1. , 1. , 1. , 1. , 1.1, 1.2, 1.3, 1.4, 1. , 1. , 1. , 1. ],\n",
              "       [1. , 1. , 1. , 1. , 1.1, 1.2, 1.3, 1.4, 1. , 1. , 1. , 1. ],\n",
              "       [1. , 1. , 1. , 1. , 1.1, 1.2, 1.3, 1.4, 1. , 1. , 1. , 1. ],\n",
              "       [1. , 1. , 1. , 1. , 1.1, 1.2, 1.3, 1.4, 1. , 1. , 1. , 1. ],\n",
              "       [1.5, 1.5, 1.5, 1.5, 1.6, 1.7, 1.8, 1.9, 1.5, 1.5, 1.5, 1.5],\n",
              "       [1. , 1. , 1. , 1. , 1.1, 1.2, 1.3, 1.4, 1. , 1. , 1. , 1. ],\n",
              "       [1. , 1. , 1. , 1. , 1.1, 1.2, 1.3, 1.4, 1. , 1. , 1. , 1. ],\n",
              "       [1. , 1. , 1. , 1. , 1.1, 1.2, 1.3, 1.4, 1. , 1. , 1. , 1. ],\n",
              "       [1. , 1. , 1. , 1. , 1.1, 1.2, 1.3, 1.4, 1. , 1. , 1. , 1. ]])"
            ]
          },
          "metadata": {},
          "execution_count": 91
        }
      ]
    },
    {
      "cell_type": "markdown",
      "source": [
        "Repita com o valor máximo."
      ],
      "metadata": {
        "id": "F_vLc8xG93nt"
      }
    },
    {
      "cell_type": "code",
      "source": [
        "..."
      ],
      "metadata": {
        "colab": {
          "base_uri": "https://localhost:8080/"
        },
        "outputId": "dac4b148-5da5-4a28-8b33-b4b53b6c418a",
        "id": "263NmgtG93nu"
      },
      "execution_count": null,
      "outputs": [
        {
          "output_type": "execute_result",
          "data": {
            "text/plain": [
              "array([[1.9, 1.9, 1.9, 1.5, 1.6, 1.7, 1.8, 1.9, 1.9, 1.9, 1.9, 1.9],\n",
              "       [1.9, 1.9, 1.9, 1.5, 1.6, 1.7, 1.8, 1.9, 1.9, 1.9, 1.9, 1.9],\n",
              "       [1.9, 1.9, 1.9, 1.5, 1.6, 1.7, 1.8, 1.9, 1.9, 1.9, 1.9, 1.9],\n",
              "       [1.4, 1.4, 1.4, 1. , 1.1, 1.2, 1.3, 1.4, 1.4, 1.4, 1.4, 1.4],\n",
              "       [1.9, 1.9, 1.9, 1.5, 1.6, 1.7, 1.8, 1.9, 1.9, 1.9, 1.9, 1.9],\n",
              "       [1.9, 1.9, 1.9, 1.5, 1.6, 1.7, 1.8, 1.9, 1.9, 1.9, 1.9, 1.9],\n",
              "       [1.9, 1.9, 1.9, 1.5, 1.6, 1.7, 1.8, 1.9, 1.9, 1.9, 1.9, 1.9],\n",
              "       [1.9, 1.9, 1.9, 1.5, 1.6, 1.7, 1.8, 1.9, 1.9, 1.9, 1.9, 1.9],\n",
              "       [1.9, 1.9, 1.9, 1.5, 1.6, 1.7, 1.8, 1.9, 1.9, 1.9, 1.9, 1.9]])"
            ]
          },
          "metadata": {},
          "execution_count": 92
        }
      ]
    },
    {
      "cell_type": "markdown",
      "source": [
        "#### `np.trim_zeros`"
      ],
      "metadata": {
        "id": "uI01s8HKMKUB"
      }
    },
    {
      "cell_type": "markdown",
      "source": [
        "Esta função só funciona com arrays 1D."
      ],
      "metadata": {
        "id": "yj1rpgBE905Z"
      }
    },
    {
      "cell_type": "markdown",
      "source": [
        "Primeiro crie um array 1D com valores entre 1 e 5, e step = 0.5. Utilize `np.arange` para isso."
      ],
      "metadata": {
        "id": "kS1aXNT8-qfM"
      }
    },
    {
      "cell_type": "code",
      "source": [
        "array = ..."
      ],
      "metadata": {
        "id": "olMlUl_h-3Vs"
      },
      "execution_count": null,
      "outputs": []
    },
    {
      "cell_type": "code",
      "source": [
        "array"
      ],
      "metadata": {
        "colab": {
          "base_uri": "https://localhost:8080/"
        },
        "id": "Hfm8oevY-7rS",
        "outputId": "1236d136-aa6b-4752-b210-8962dd83a548"
      },
      "execution_count": null,
      "outputs": [
        {
          "output_type": "execute_result",
          "data": {
            "text/plain": [
              "array([1. , 1.5, 2. , 2.5, 3. , 3.5, 4. , 4.5])"
            ]
          },
          "metadata": {},
          "execution_count": 94
        }
      ]
    },
    {
      "cell_type": "markdown",
      "source": [
        "Agora utilize `np.pad` para adicionar 6 valores 0 à esquerda e 4 valores 0 à direita de `array`."
      ],
      "metadata": {
        "id": "jLxw1ZFV-9VZ"
      }
    },
    {
      "cell_type": "code",
      "source": [
        "array_pad = ..."
      ],
      "metadata": {
        "id": "RdQ-Yvl9_Eex"
      },
      "execution_count": null,
      "outputs": []
    },
    {
      "cell_type": "code",
      "source": [
        "array_pad"
      ],
      "metadata": {
        "colab": {
          "base_uri": "https://localhost:8080/"
        },
        "id": "QWMP6B-S_LDq",
        "outputId": "5855aac3-7bbe-4ebb-e5aa-c4782070e2f9"
      },
      "execution_count": null,
      "outputs": [
        {
          "output_type": "execute_result",
          "data": {
            "text/plain": [
              "array([0. , 0. , 0. , 0. , 0. , 0. , 1. , 1.5, 2. , 2.5, 3. , 3.5, 4. ,\n",
              "       4.5, 0. , 0. , 0. , 0. ])"
            ]
          },
          "metadata": {},
          "execution_count": 96
        }
      ]
    },
    {
      "cell_type": "markdown",
      "source": [
        "Aplique `np.trim` em `array_pad` para retirar os valores 0 das extremidades, assim recuperando `array`."
      ],
      "metadata": {
        "id": "P6K-854P_NVQ"
      }
    },
    {
      "cell_type": "code",
      "source": [
        "array_trim = ..."
      ],
      "metadata": {
        "id": "j1wX-YWW9oWc"
      },
      "execution_count": null,
      "outputs": []
    },
    {
      "cell_type": "code",
      "source": [
        "array_trim"
      ],
      "metadata": {
        "colab": {
          "base_uri": "https://localhost:8080/"
        },
        "id": "-Fseqx_W-MsR",
        "outputId": "13445e8d-fc0b-471e-efb9-d6043f1fd654"
      },
      "execution_count": null,
      "outputs": [
        {
          "output_type": "execute_result",
          "data": {
            "text/plain": [
              "array([1. , 1.5, 2. , 2.5, 3. , 3.5, 4. , 4.5])"
            ]
          },
          "metadata": {},
          "execution_count": 98
        }
      ]
    },
    {
      "cell_type": "markdown",
      "source": [
        "Repita a operação utilizando o parâmetro `trim` para remover somente os valores 0 da \"frente\" (`f`) de `array_pad`."
      ],
      "metadata": {
        "id": "En1yDEwD-OMW"
      }
    },
    {
      "cell_type": "code",
      "source": [
        "array_trim = ..."
      ],
      "metadata": {
        "id": "OUlmIfCU-NOf"
      },
      "execution_count": null,
      "outputs": []
    },
    {
      "cell_type": "code",
      "source": [
        "array_trim"
      ],
      "metadata": {
        "colab": {
          "base_uri": "https://localhost:8080/"
        },
        "id": "JqMz2UoU_nhK",
        "outputId": "9bbc8b18-9cef-487c-c75d-a7de2d14b637"
      },
      "execution_count": null,
      "outputs": [
        {
          "output_type": "execute_result",
          "data": {
            "text/plain": [
              "array([1. , 1.5, 2. , 2.5, 3. , 3.5, 4. , 4.5, 0. , 0. , 0. , 0. ])"
            ]
          },
          "metadata": {},
          "execution_count": 100
        }
      ]
    },
    {
      "cell_type": "markdown",
      "source": [
        "#### `np.unique`"
      ],
      "metadata": {
        "id": "VthvAkSZNnXx"
      }
    },
    {
      "cell_type": "markdown",
      "source": [
        "Vamos começar criando um array grande de números inteiros aleatórios, onde certamente vão existir repetições."
      ],
      "metadata": {
        "id": "uPxJHTNF_zsx"
      }
    },
    {
      "cell_type": "markdown",
      "source": [
        "Primeiro, instancie um gerador de números aleatórios com `np.random.default_rng`. Configure a `seed` para o valor 75."
      ],
      "metadata": {
        "id": "wU2J1ABWADq8"
      }
    },
    {
      "cell_type": "code",
      "source": [
        "rng = ..."
      ],
      "metadata": {
        "id": "2GjNUl3I_yd0"
      },
      "execution_count": null,
      "outputs": []
    },
    {
      "cell_type": "markdown",
      "source": [
        "Agora gere um array com 200 valores inteiros aleatórios no intervalo [50, 75)."
      ],
      "metadata": {
        "id": "upy21f1jARRV"
      }
    },
    {
      "cell_type": "code",
      "source": [
        "array_unique = ..."
      ],
      "metadata": {
        "id": "U1pMqPQaAQRj"
      },
      "execution_count": null,
      "outputs": []
    },
    {
      "cell_type": "code",
      "source": [
        "array_unique"
      ],
      "metadata": {
        "colab": {
          "base_uri": "https://localhost:8080/"
        },
        "id": "wVMHQQkUAhx9",
        "outputId": "1b2188a7-b41b-46cc-f8f8-9777f5e06c0a"
      },
      "execution_count": null,
      "outputs": [
        {
          "output_type": "execute_result",
          "data": {
            "text/plain": [
              "array([66, 55, 55, 53, 73, 66, 58, 67, 68, 73, 58, 68, 69, 73, 69, 73, 67,\n",
              "       71, 50, 50, 66, 60, 54, 70, 63, 50, 63, 53, 67, 74, 65, 74, 51, 70,\n",
              "       50, 71, 60, 60, 73, 66, 59, 70, 62, 74, 71, 55, 53, 58, 67, 60, 50,\n",
              "       54, 69, 74, 68, 72, 69, 56, 67, 52, 51, 70, 68, 54, 71, 54, 57, 69,\n",
              "       66, 69, 62, 61, 64, 74, 73, 70, 63, 64, 55, 50, 71, 63, 67, 60, 56,\n",
              "       61, 66, 61, 70, 56, 67, 53, 68, 61, 69, 69, 58, 68, 65, 58, 67, 67,\n",
              "       57, 69, 63, 68, 66, 70, 68, 74, 60, 62, 50, 66, 72, 66, 66, 55, 73,\n",
              "       51, 69, 58, 72, 67, 57, 67, 52, 72, 61, 55, 65, 73, 50, 66, 63, 69,\n",
              "       59, 50, 69, 51, 72, 67, 64, 58, 71, 64, 52, 67, 60, 60, 62, 63, 61,\n",
              "       67, 61, 57, 60, 57, 73, 62, 74, 71, 57, 62, 58, 59, 72, 71, 62, 67,\n",
              "       52, 68, 74, 55, 61, 67, 62, 61, 55, 54, 57, 63, 51, 55, 72, 55, 70,\n",
              "       52, 55, 51, 52, 51, 66, 74, 62, 53, 50, 70, 50, 52])"
            ]
          },
          "metadata": {},
          "execution_count": 103
        }
      ]
    },
    {
      "cell_type": "markdown",
      "source": [
        "Com uma única chamada de `np.unique`, recupere:\n",
        "- os valores únicos\n",
        "- os índices onde cada valor aparece pela primeira vez (parâmetro `return_index`)\n",
        "- os índices que podem ser utilizados para reconstruir o array original a partir dos valores únicos (parâmetro `return_inverse`)\n",
        "- a contagem dos valores únicos (parâmetro `return_counts`)"
      ],
      "metadata": {
        "id": "9mfPAMf8Avps"
      }
    },
    {
      "cell_type": "code",
      "source": [
        "unique_values, indices_first, indices_redo, counts = ..."
      ],
      "metadata": {
        "id": "aa8VH9RXAmao"
      },
      "execution_count": null,
      "outputs": []
    },
    {
      "cell_type": "code",
      "source": [
        "unique_values"
      ],
      "metadata": {
        "colab": {
          "base_uri": "https://localhost:8080/"
        },
        "id": "q8gopUkLBKBA",
        "outputId": "70fea32d-0ff2-42b9-9a06-10a1949a4e34"
      },
      "execution_count": null,
      "outputs": [
        {
          "output_type": "execute_result",
          "data": {
            "text/plain": [
              "array([50, 51, 52, 53, 54, 55, 56, 57, 58, 59, 60, 61, 62, 63, 64, 65, 66,\n",
              "       67, 68, 69, 70, 71, 72, 73, 74])"
            ]
          },
          "metadata": {},
          "execution_count": 105
        }
      ]
    },
    {
      "cell_type": "code",
      "source": [
        "indices_first"
      ],
      "metadata": {
        "colab": {
          "base_uri": "https://localhost:8080/"
        },
        "id": "7RCHdy4Deok3",
        "outputId": "ee994613-82a9-484a-c304-dcb8dd0036c0"
      },
      "execution_count": null,
      "outputs": [
        {
          "output_type": "execute_result",
          "data": {
            "text/plain": [
              "array([18, 32, 59,  3, 22,  1, 57, 66,  6, 40, 21, 71, 42, 24, 72, 30,  0,\n",
              "        7,  8, 12, 23, 17, 55,  4, 29])"
            ]
          },
          "metadata": {},
          "execution_count": 106
        }
      ]
    },
    {
      "cell_type": "code",
      "source": [
        "indices_redo"
      ],
      "metadata": {
        "colab": {
          "base_uri": "https://localhost:8080/"
        },
        "id": "nTQeSjWfer6g",
        "outputId": "c729203e-5242-4c74-c051-ffa0e231b3b0"
      },
      "execution_count": null,
      "outputs": [
        {
          "output_type": "execute_result",
          "data": {
            "text/plain": [
              "array([16,  5,  5,  3, 23, 16,  8, 17, 18, 23,  8, 18, 19, 23, 19, 23, 17,\n",
              "       21,  0,  0, 16, 10,  4, 20, 13,  0, 13,  3, 17, 24, 15, 24,  1, 20,\n",
              "        0, 21, 10, 10, 23, 16,  9, 20, 12, 24, 21,  5,  3,  8, 17, 10,  0,\n",
              "        4, 19, 24, 18, 22, 19,  6, 17,  2,  1, 20, 18,  4, 21,  4,  7, 19,\n",
              "       16, 19, 12, 11, 14, 24, 23, 20, 13, 14,  5,  0, 21, 13, 17, 10,  6,\n",
              "       11, 16, 11, 20,  6, 17,  3, 18, 11, 19, 19,  8, 18, 15,  8, 17, 17,\n",
              "        7, 19, 13, 18, 16, 20, 18, 24, 10, 12,  0, 16, 22, 16, 16,  5, 23,\n",
              "        1, 19,  8, 22, 17,  7, 17,  2, 22, 11,  5, 15, 23,  0, 16, 13, 19,\n",
              "        9,  0, 19,  1, 22, 17, 14,  8, 21, 14,  2, 17, 10, 10, 12, 13, 11,\n",
              "       17, 11,  7, 10,  7, 23, 12, 24, 21,  7, 12,  8,  9, 22, 21, 12, 17,\n",
              "        2, 18, 24,  5, 11, 17, 12, 11,  5,  4,  7, 13,  1,  5, 22,  5, 20,\n",
              "        2,  5,  1,  2,  1, 16, 24, 12,  3,  0, 20,  0,  2])"
            ]
          },
          "metadata": {},
          "execution_count": 107
        }
      ]
    },
    {
      "cell_type": "code",
      "source": [
        "counts"
      ],
      "metadata": {
        "colab": {
          "base_uri": "https://localhost:8080/"
        },
        "id": "uj4-_3ixeu71",
        "outputId": "2cfe7f54-a0cf-48a2-8d98-dc73d1ac8a1b"
      },
      "execution_count": null,
      "outputs": [
        {
          "output_type": "execute_result",
          "data": {
            "text/plain": [
              "array([11,  7,  7,  5,  5, 11,  3,  7,  8,  3,  9,  9,  9,  8,  4,  3, 12,\n",
              "       16,  9, 12,  9,  8,  7,  9,  9])"
            ]
          },
          "metadata": {},
          "execution_count": 108
        }
      ]
    },
    {
      "cell_type": "markdown",
      "source": [
        "Utilize `unique_values` e `indices_redo` para reconstruir o array original."
      ],
      "metadata": {
        "id": "foJqnlnYBW9p"
      }
    },
    {
      "cell_type": "code",
      "source": [
        "..."
      ],
      "metadata": {
        "id": "YCKLIqRCBamk",
        "outputId": "994fb3d0-b652-4751-fb91-5298f0b30872",
        "colab": {
          "base_uri": "https://localhost:8080/"
        }
      },
      "execution_count": null,
      "outputs": [
        {
          "output_type": "execute_result",
          "data": {
            "text/plain": [
              "array([66, 55, 55, 53, 73, 66, 58, 67, 68, 73, 58, 68, 69, 73, 69, 73, 67,\n",
              "       71, 50, 50, 66, 60, 54, 70, 63, 50, 63, 53, 67, 74, 65, 74, 51, 70,\n",
              "       50, 71, 60, 60, 73, 66, 59, 70, 62, 74, 71, 55, 53, 58, 67, 60, 50,\n",
              "       54, 69, 74, 68, 72, 69, 56, 67, 52, 51, 70, 68, 54, 71, 54, 57, 69,\n",
              "       66, 69, 62, 61, 64, 74, 73, 70, 63, 64, 55, 50, 71, 63, 67, 60, 56,\n",
              "       61, 66, 61, 70, 56, 67, 53, 68, 61, 69, 69, 58, 68, 65, 58, 67, 67,\n",
              "       57, 69, 63, 68, 66, 70, 68, 74, 60, 62, 50, 66, 72, 66, 66, 55, 73,\n",
              "       51, 69, 58, 72, 67, 57, 67, 52, 72, 61, 55, 65, 73, 50, 66, 63, 69,\n",
              "       59, 50, 69, 51, 72, 67, 64, 58, 71, 64, 52, 67, 60, 60, 62, 63, 61,\n",
              "       67, 61, 57, 60, 57, 73, 62, 74, 71, 57, 62, 58, 59, 72, 71, 62, 67,\n",
              "       52, 68, 74, 55, 61, 67, 62, 61, 55, 54, 57, 63, 51, 55, 72, 55, 70,\n",
              "       52, 55, 51, 52, 51, 66, 74, 62, 53, 50, 70, 50, 52])"
            ]
          },
          "metadata": {},
          "execution_count": 109
        }
      ]
    }
  ]
}