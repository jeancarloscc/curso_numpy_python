{
  "nbformat": 4,
  "nbformat_minor": 0,
  "metadata": {
    "colab": {
      "provenance": []
    },
    "kernelspec": {
      "name": "python3",
      "display_name": "Python 3"
    },
    "language_info": {
      "name": "python"
    }
  },
  "cells": [
    {
      "cell_type": "code",
      "execution_count": null,
      "metadata": {
        "colab": {
          "base_uri": "https://localhost:8080/",
          "height": 56
        },
        "id": "IBRti16i-IgV",
        "outputId": "63d3dd84-8a4c-4b9a-978c-98339d9e2db8"
      },
      "outputs": [
        {
          "output_type": "execute_result",
          "data": {
            "text/plain": [
              "'1.25.2'"
            ],
            "application/vnd.google.colaboratory.intrinsic+json": {
              "type": "string"
            }
          },
          "metadata": {},
          "execution_count": 1
        }
      ],
      "source": [
        "import numpy as np\n",
        "np.__version__"
      ]
    },
    {
      "cell_type": "markdown",
      "source": [
        "### Agrupando e dividindo arrays"
      ],
      "metadata": {
        "id": "RSD5vTUpYcWp"
      }
    },
    {
      "cell_type": "markdown",
      "source": [
        "#### `np.concatenate` / `np.stack` / `np.vstack` / `np.hstack`"
      ],
      "metadata": {
        "id": "IP6872izYf-N"
      }
    },
    {
      "cell_type": "markdown",
      "source": [
        "Primeiro utilize `np.arange` e `reshape` para criar um array 2D com valores entre 0 e 1, e step igual a 0.1, organizados como uma matriz de 2 linhas e 5 colunas."
      ],
      "metadata": {
        "id": "ldlUbGEQxyW9"
      }
    },
    {
      "cell_type": "code",
      "source": [
        "array_0 = np.arange(0, 1, step=0.1).reshape(2, 5)"
      ],
      "metadata": {
        "id": "RLMIckfxxvt5"
      },
      "execution_count": null,
      "outputs": []
    },
    {
      "cell_type": "code",
      "source": [
        "array_0"
      ],
      "metadata": {
        "colab": {
          "base_uri": "https://localhost:8080/"
        },
        "id": "3BZAjFveyKrE",
        "outputId": "04de3e0f-db7a-4914-b209-7f581daea23c"
      },
      "execution_count": null,
      "outputs": [
        {
          "output_type": "execute_result",
          "data": {
            "text/plain": [
              "array([[0. , 0.1, 0.2, 0.3, 0.4],\n",
              "       [0.5, 0.6, 0.7, 0.8, 0.9]])"
            ]
          },
          "metadata": {},
          "execution_count": 3
        }
      ]
    },
    {
      "cell_type": "markdown",
      "source": [
        "Agora crie um segundo array com valores entre 1 e 2, e step 0.1, no mesmo formato."
      ],
      "metadata": {
        "id": "XfjFIlqTyNx_"
      }
    },
    {
      "cell_type": "code",
      "source": [
        "array_1 = np.arange(1, 2, step=0.1).reshape(2, 5)"
      ],
      "metadata": {
        "id": "1QKxHt6cyLvM"
      },
      "execution_count": null,
      "outputs": []
    },
    {
      "cell_type": "code",
      "source": [
        "array_1"
      ],
      "metadata": {
        "colab": {
          "base_uri": "https://localhost:8080/"
        },
        "id": "9EJvejQEyVur",
        "outputId": "ffa96ee5-d449-41ba-bacb-367961c31d81"
      },
      "execution_count": null,
      "outputs": [
        {
          "output_type": "execute_result",
          "data": {
            "text/plain": [
              "array([[1. , 1.1, 1.2, 1.3, 1.4],\n",
              "       [1.5, 1.6, 1.7, 1.8, 1.9]])"
            ]
          },
          "metadata": {},
          "execution_count": 5
        }
      ]
    },
    {
      "cell_type": "markdown",
      "source": [
        "Utilize `np.concatenate` para concatenar os dois arrays ao longo das linhas, ou seja, do eixo 0."
      ],
      "metadata": {
        "id": "cmSLqRzqyYde"
      }
    },
    {
      "cell_type": "code",
      "source": [
        "np.concatenate([array_0, array_1], axis=0)"
      ],
      "metadata": {
        "colab": {
          "base_uri": "https://localhost:8080/"
        },
        "id": "hnq6ad-3yWJ8",
        "outputId": "12c454c6-4a4b-45be-fc0b-7fd853a3a647"
      },
      "execution_count": null,
      "outputs": [
        {
          "output_type": "execute_result",
          "data": {
            "text/plain": [
              "array([[0. , 0.1, 0.2, 0.3, 0.4],\n",
              "       [0.5, 0.6, 0.7, 0.8, 0.9],\n",
              "       [1. , 1.1, 1.2, 1.3, 1.4],\n",
              "       [1.5, 1.6, 1.7, 1.8, 1.9]])"
            ]
          },
          "metadata": {},
          "execution_count": 6
        }
      ]
    },
    {
      "cell_type": "markdown",
      "source": [
        "👆 Observe que o novo array tem agora 4 linhas e 5 colunas."
      ],
      "metadata": {
        "id": "08UAYchOyz0V"
      }
    },
    {
      "cell_type": "markdown",
      "source": [
        "Utilize `np.vstack` para empilhar os dois arrays verticalmente, e observe que o resultado é o mesmo que aquele de `np.concatenate` com `axis=0`."
      ],
      "metadata": {
        "id": "s8Ciz_2GzbvA"
      }
    },
    {
      "cell_type": "code",
      "source": [
        "np.vstack([array_0, array_1])"
      ],
      "metadata": {
        "colab": {
          "base_uri": "https://localhost:8080/"
        },
        "id": "JqGtVFj4yrfD",
        "outputId": "ed899f88-c0aa-4225-82a1-b3de7aa06371"
      },
      "execution_count": null,
      "outputs": [
        {
          "output_type": "execute_result",
          "data": {
            "text/plain": [
              "array([[0. , 0.1, 0.2, 0.3, 0.4],\n",
              "       [0.5, 0.6, 0.7, 0.8, 0.9],\n",
              "       [1. , 1.1, 1.2, 1.3, 1.4],\n",
              "       [1.5, 1.6, 1.7, 1.8, 1.9]])"
            ]
          },
          "metadata": {},
          "execution_count": 7
        }
      ]
    },
    {
      "cell_type": "markdown",
      "source": [
        "Utilize `np.stack` para empilhar os dois arrays no eixo 0, mas observe que neste caso, uma nova dimensão é criada."
      ],
      "metadata": {
        "id": "VSXBKH2Dy5BJ"
      }
    },
    {
      "cell_type": "code",
      "source": [
        "np.stack([array_0, array_1], axis=0)"
      ],
      "metadata": {
        "colab": {
          "base_uri": "https://localhost:8080/"
        },
        "id": "v0LCroyIynve",
        "outputId": "3dbed355-26f1-4912-b4f1-4a0b16fb7d56"
      },
      "execution_count": null,
      "outputs": [
        {
          "output_type": "execute_result",
          "data": {
            "text/plain": [
              "array([[[0. , 0.1, 0.2, 0.3, 0.4],\n",
              "        [0.5, 0.6, 0.7, 0.8, 0.9]],\n",
              "\n",
              "       [[1. , 1.1, 1.2, 1.3, 1.4],\n",
              "        [1.5, 1.6, 1.7, 1.8, 1.9]]])"
            ]
          },
          "metadata": {},
          "execution_count": 8
        }
      ]
    },
    {
      "cell_type": "markdown",
      "source": [
        "Agora repita o procedimento em relação ao eixo 1. Neste caso, você deve usar `np.hstack`."
      ],
      "metadata": {
        "id": "ZMyzjtYVzP1D"
      }
    },
    {
      "cell_type": "code",
      "source": [
        "np.concatenate([array_0, array_1], axis=1)"
      ],
      "metadata": {
        "colab": {
          "base_uri": "https://localhost:8080/"
        },
        "id": "5AAOgUyVz77o",
        "outputId": "007b789c-0453-469c-d73e-19e3fb3c115c"
      },
      "execution_count": null,
      "outputs": [
        {
          "output_type": "execute_result",
          "data": {
            "text/plain": [
              "array([[0. , 0.1, 0.2, 0.3, 0.4, 1. , 1.1, 1.2, 1.3, 1.4],\n",
              "       [0.5, 0.6, 0.7, 0.8, 0.9, 1.5, 1.6, 1.7, 1.8, 1.9]])"
            ]
          },
          "metadata": {},
          "execution_count": 9
        }
      ]
    },
    {
      "cell_type": "code",
      "source": [
        "np.hstack([array_0, array_1])"
      ],
      "metadata": {
        "colab": {
          "base_uri": "https://localhost:8080/"
        },
        "id": "gxVrK25Az_wu",
        "outputId": "7e4e7298-d6ed-4a71-9c25-fa61a3330440"
      },
      "execution_count": null,
      "outputs": [
        {
          "output_type": "execute_result",
          "data": {
            "text/plain": [
              "array([[0. , 0.1, 0.2, 0.3, 0.4, 1. , 1.1, 1.2, 1.3, 1.4],\n",
              "       [0.5, 0.6, 0.7, 0.8, 0.9, 1.5, 1.6, 1.7, 1.8, 1.9]])"
            ]
          },
          "metadata": {},
          "execution_count": 10
        }
      ]
    },
    {
      "cell_type": "code",
      "source": [
        "np.stack([array_0, array_1], axis=1)"
      ],
      "metadata": {
        "colab": {
          "base_uri": "https://localhost:8080/"
        },
        "id": "1O9Ygtn50Cnz",
        "outputId": "e2dd940f-2e3d-410e-9866-eca45d706fda"
      },
      "execution_count": null,
      "outputs": [
        {
          "output_type": "execute_result",
          "data": {
            "text/plain": [
              "array([[[0. , 0.1, 0.2, 0.3, 0.4],\n",
              "        [1. , 1.1, 1.2, 1.3, 1.4]],\n",
              "\n",
              "       [[0.5, 0.6, 0.7, 0.8, 0.9],\n",
              "        [1.5, 1.6, 1.7, 1.8, 1.9]]])"
            ]
          },
          "metadata": {},
          "execution_count": 11
        }
      ]
    },
    {
      "cell_type": "markdown",
      "source": [
        "### Adicionando eixos"
      ],
      "metadata": {
        "id": "dN7s90XVdoCU"
      }
    },
    {
      "cell_type": "markdown",
      "source": [
        "#### `np.expand_dims`"
      ],
      "metadata": {
        "id": "t_2xBNNe1oMV"
      }
    },
    {
      "cell_type": "markdown",
      "source": [
        "Adicione uma dimensão no eixo 0 de `array_0`.\n",
        "\n",
        "Exiba o array resultante e seu `shape` para observar o efeito que esta operação teve."
      ],
      "metadata": {
        "id": "e5uw2Ze914BY"
      }
    },
    {
      "cell_type": "code",
      "source": [
        "array_0_ed_0 = np.expand_dims(array_0, axis=0)"
      ],
      "metadata": {
        "id": "WcC-YkWH0E-B"
      },
      "execution_count": null,
      "outputs": []
    },
    {
      "cell_type": "code",
      "source": [
        "array_0_ed_0"
      ],
      "metadata": {
        "colab": {
          "base_uri": "https://localhost:8080/"
        },
        "id": "2hVwTtKy2bq3",
        "outputId": "4b047586-432f-4bd3-8678-38eb4d2c5897"
      },
      "execution_count": null,
      "outputs": [
        {
          "output_type": "execute_result",
          "data": {
            "text/plain": [
              "array([[[0. , 0.1, 0.2, 0.3, 0.4],\n",
              "        [0.5, 0.6, 0.7, 0.8, 0.9]]])"
            ]
          },
          "metadata": {},
          "execution_count": 13
        }
      ]
    },
    {
      "cell_type": "code",
      "source": [
        "array_0_ed_0.shape"
      ],
      "metadata": {
        "colab": {
          "base_uri": "https://localhost:8080/"
        },
        "id": "iZTSPgXj2cWf",
        "outputId": "43d25fb3-ca4b-41fe-b8f1-d2cbfc07e5cf"
      },
      "execution_count": null,
      "outputs": [
        {
          "output_type": "execute_result",
          "data": {
            "text/plain": [
              "(1, 2, 5)"
            ]
          },
          "metadata": {},
          "execution_count": 14
        }
      ]
    },
    {
      "cell_type": "markdown",
      "source": [
        "Agora repita para o eixo 1."
      ],
      "metadata": {
        "id": "MkcDIX_y2_C0"
      }
    },
    {
      "cell_type": "code",
      "source": [
        "array_0_ed_1 = np.expand_dims(array_0, axis=1)"
      ],
      "metadata": {
        "id": "8vsiNK1A2FJq"
      },
      "execution_count": null,
      "outputs": []
    },
    {
      "cell_type": "code",
      "source": [
        "array_0_ed_1"
      ],
      "metadata": {
        "colab": {
          "base_uri": "https://localhost:8080/"
        },
        "id": "DTlNxKvy2hCE",
        "outputId": "aa1f06f6-59af-475d-832b-074c80764921"
      },
      "execution_count": null,
      "outputs": [
        {
          "output_type": "execute_result",
          "data": {
            "text/plain": [
              "array([[[0. , 0.1, 0.2, 0.3, 0.4]],\n",
              "\n",
              "       [[0.5, 0.6, 0.7, 0.8, 0.9]]])"
            ]
          },
          "metadata": {},
          "execution_count": 16
        }
      ]
    },
    {
      "cell_type": "code",
      "source": [
        "array_0_ed_1.shape"
      ],
      "metadata": {
        "colab": {
          "base_uri": "https://localhost:8080/"
        },
        "id": "FHR4ogWk2jDG",
        "outputId": "e8236bcd-b4cc-48e6-9ba4-f08ed81d5b66"
      },
      "execution_count": null,
      "outputs": [
        {
          "output_type": "execute_result",
          "data": {
            "text/plain": [
              "(2, 1, 5)"
            ]
          },
          "metadata": {},
          "execution_count": 17
        }
      ]
    },
    {
      "cell_type": "markdown",
      "source": [
        "Repita para o eixo 2."
      ],
      "metadata": {
        "id": "7VY_De26dgeK"
      }
    },
    {
      "cell_type": "code",
      "source": [
        "array_0_ed_2 = np.expand_dims(array_0, axis=2)"
      ],
      "metadata": {
        "id": "FU_Kl6OE2Gxe"
      },
      "execution_count": null,
      "outputs": []
    },
    {
      "cell_type": "code",
      "source": [
        "array_0_ed_2"
      ],
      "metadata": {
        "colab": {
          "base_uri": "https://localhost:8080/"
        },
        "id": "6BV1J0vc2mCo",
        "outputId": "efce7ae5-b44a-4a2d-a75c-cd03ccb1bd50"
      },
      "execution_count": null,
      "outputs": [
        {
          "output_type": "execute_result",
          "data": {
            "text/plain": [
              "array([[[0. ],\n",
              "        [0.1],\n",
              "        [0.2],\n",
              "        [0.3],\n",
              "        [0.4]],\n",
              "\n",
              "       [[0.5],\n",
              "        [0.6],\n",
              "        [0.7],\n",
              "        [0.8],\n",
              "        [0.9]]])"
            ]
          },
          "metadata": {},
          "execution_count": 19
        }
      ]
    },
    {
      "cell_type": "code",
      "source": [
        "array_0_ed_2.shape"
      ],
      "metadata": {
        "colab": {
          "base_uri": "https://localhost:8080/"
        },
        "id": "gtxMn8gj2qVW",
        "outputId": "6a1c2042-c4b0-408d-8c70-e156cc11032f"
      },
      "execution_count": null,
      "outputs": [
        {
          "output_type": "execute_result",
          "data": {
            "text/plain": [
              "(2, 5, 1)"
            ]
          },
          "metadata": {},
          "execution_count": 20
        }
      ]
    },
    {
      "cell_type": "markdown",
      "source": [
        "### Rearranjando elementos"
      ],
      "metadata": {
        "id": "jcOkiasjJPtI"
      }
    },
    {
      "cell_type": "markdown",
      "source": [
        "#### `np.flip`"
      ],
      "metadata": {
        "id": "EpgwbWI0gJkH"
      }
    },
    {
      "cell_type": "markdown",
      "source": [
        "Inverta `array_0` inteiro, exibindo o resultado para visualizar a alteração."
      ],
      "metadata": {
        "id": "PO8PaXwh3ZS1"
      }
    },
    {
      "cell_type": "code",
      "source": [
        "np.flip(array_0)"
      ],
      "metadata": {
        "colab": {
          "base_uri": "https://localhost:8080/"
        },
        "id": "fKYoq7Db2rOE",
        "outputId": "d94bb060-07b2-418d-a8b3-62d66712c782"
      },
      "execution_count": null,
      "outputs": [
        {
          "output_type": "execute_result",
          "data": {
            "text/plain": [
              "array([[0.9, 0.8, 0.7, 0.6, 0.5],\n",
              "       [0.4, 0.3, 0.2, 0.1, 0. ]])"
            ]
          },
          "metadata": {},
          "execution_count": 21
        }
      ]
    },
    {
      "cell_type": "markdown",
      "source": [
        "👆 As linhas e as colunas foram invertidas."
      ],
      "metadata": {
        "id": "0LXL_HVX31hq"
      }
    },
    {
      "cell_type": "markdown",
      "source": [
        "Inverta `array_0` somente no eixo 0."
      ],
      "metadata": {
        "id": "bm2qESfB3io_"
      }
    },
    {
      "cell_type": "code",
      "source": [
        "np.flip(array_0, axis=0)"
      ],
      "metadata": {
        "colab": {
          "base_uri": "https://localhost:8080/"
        },
        "id": "9XpG-VdV3hj9",
        "outputId": "8c338382-da6d-4bc1-e946-c43681e77373"
      },
      "execution_count": null,
      "outputs": [
        {
          "output_type": "execute_result",
          "data": {
            "text/plain": [
              "array([[0.5, 0.6, 0.7, 0.8, 0.9],\n",
              "       [0. , 0.1, 0.2, 0.3, 0.4]])"
            ]
          },
          "metadata": {},
          "execution_count": 22
        }
      ]
    },
    {
      "cell_type": "markdown",
      "source": [
        "👆 Somente as linhas foram invertidas."
      ],
      "metadata": {
        "id": "JlobeG0p3q_M"
      }
    },
    {
      "cell_type": "markdown",
      "source": [
        "Inverta `array_0` somente no eixo 1."
      ],
      "metadata": {
        "id": "bnpagBXW3uiz"
      }
    },
    {
      "cell_type": "code",
      "source": [
        "np.flip(array_0, axis=1)"
      ],
      "metadata": {
        "colab": {
          "base_uri": "https://localhost:8080/"
        },
        "id": "2s_5VdH63mAx",
        "outputId": "f0a393b3-8a67-4fb0-e641-97887c710a15"
      },
      "execution_count": null,
      "outputs": [
        {
          "output_type": "execute_result",
          "data": {
            "text/plain": [
              "array([[0.4, 0.3, 0.2, 0.1, 0. ],\n",
              "       [0.9, 0.8, 0.7, 0.6, 0.5]])"
            ]
          },
          "metadata": {},
          "execution_count": 23
        }
      ]
    },
    {
      "cell_type": "markdown",
      "source": [
        "👆 Somente as colunas foram invertidas."
      ],
      "metadata": {
        "id": "fyTGQ-gQ3yFA"
      }
    },
    {
      "cell_type": "markdown",
      "source": [
        "#### `np.resize`"
      ],
      "metadata": {
        "id": "vDMRU2ZI399R"
      }
    },
    {
      "cell_type": "markdown",
      "source": [
        "Redimensione `array_0` para o formato linearizado com 8 elementos."
      ],
      "metadata": {
        "id": "_h4jiJZh4AWD"
      }
    },
    {
      "cell_type": "code",
      "source": [
        "np.resize(a=array_0, new_shape=8)"
      ],
      "metadata": {
        "colab": {
          "base_uri": "https://localhost:8080/"
        },
        "id": "0rF7Ar0V3wxM",
        "outputId": "b03fdb6f-6e62-4fcd-df40-c920ae82924c"
      },
      "execution_count": null,
      "outputs": [
        {
          "output_type": "execute_result",
          "data": {
            "text/plain": [
              "array([0. , 0.1, 0.2, 0.3, 0.4, 0.5, 0.6, 0.7])"
            ]
          },
          "metadata": {},
          "execution_count": 24
        }
      ]
    },
    {
      "cell_type": "markdown",
      "source": [
        "👆 Como o novo tamanho é menor que o anterior, o array original é truncado."
      ],
      "metadata": {
        "id": "nrVhJOEG4S-A"
      }
    },
    {
      "cell_type": "markdown",
      "source": [
        "Redimensione `array_0` para o formato linearizado com 15 elementos."
      ],
      "metadata": {
        "id": "YTZRAsK64Yay"
      }
    },
    {
      "cell_type": "code",
      "source": [
        "np.resize(a=array_0, new_shape=15)"
      ],
      "metadata": {
        "colab": {
          "base_uri": "https://localhost:8080/"
        },
        "id": "xxBTFiw44YEo",
        "outputId": "57bf5681-72ee-49b8-be60-6ccb25d1a663"
      },
      "execution_count": null,
      "outputs": [
        {
          "output_type": "execute_result",
          "data": {
            "text/plain": [
              "array([0. , 0.1, 0.2, 0.3, 0.4, 0.5, 0.6, 0.7, 0.8, 0.9, 0. , 0.1, 0.2,\n",
              "       0.3, 0.4])"
            ]
          },
          "metadata": {},
          "execution_count": 25
        }
      ]
    },
    {
      "cell_type": "markdown",
      "source": [
        "👆 Como o novo tamanho é maior que o anterior, o array original é repetido até o novo tamanho."
      ],
      "metadata": {
        "id": "Dmna_Ux94eAt"
      }
    },
    {
      "cell_type": "markdown",
      "source": [
        "Redimensione `array_0` para conter 3 linhas e 6 colunas."
      ],
      "metadata": {
        "id": "O_CgsBJy4jbG"
      }
    },
    {
      "cell_type": "code",
      "source": [
        "np.resize(a=array_0, new_shape=(3, 6))"
      ],
      "metadata": {
        "colab": {
          "base_uri": "https://localhost:8080/"
        },
        "id": "PlTIrcp44Rzf",
        "outputId": "2604a7bb-2976-495e-cd7f-370d774d559f"
      },
      "execution_count": null,
      "outputs": [
        {
          "output_type": "execute_result",
          "data": {
            "text/plain": [
              "array([[0. , 0.1, 0.2, 0.3, 0.4, 0.5],\n",
              "       [0.6, 0.7, 0.8, 0.9, 0. , 0.1],\n",
              "       [0.2, 0.3, 0.4, 0.5, 0.6, 0.7]])"
            ]
          },
          "metadata": {},
          "execution_count": 26
        }
      ]
    },
    {
      "cell_type": "markdown",
      "source": [
        "👆 Lembre-se que o array é primeiro linearizado, depois truncado ou completado até o novo tamanho, depois o formato é ajustado."
      ],
      "metadata": {
        "id": "6ZHhKLP64vaS"
      }
    },
    {
      "cell_type": "markdown",
      "source": [
        "### Adicionando ou removendo elementos"
      ],
      "metadata": {
        "id": "bfmQgM-6JWuD"
      }
    },
    {
      "cell_type": "markdown",
      "source": [
        "#### `np.insert`"
      ],
      "metadata": {
        "id": "Yx8tDYf4Jkys"
      }
    },
    {
      "cell_type": "markdown",
      "source": [
        "Insira uma nova coluna (eixo 1) em `array_0` na posição 2 com o valor 9."
      ],
      "metadata": {
        "id": "Qs36vrTp5Ltu"
      }
    },
    {
      "cell_type": "code",
      "source": [
        "np.insert(arr=array_0, obj=2, values=9, axis=1)"
      ],
      "metadata": {
        "colab": {
          "base_uri": "https://localhost:8080/"
        },
        "id": "sWSABn9F4okY",
        "outputId": "c23ea0a8-65b5-4f35-9bff-57fe1ac0a54a"
      },
      "execution_count": null,
      "outputs": [
        {
          "output_type": "execute_result",
          "data": {
            "text/plain": [
              "array([[0. , 0.1, 9. , 0.2, 0.3, 0.4],\n",
              "       [0.5, 0.6, 9. , 0.7, 0.8, 0.9]])"
            ]
          },
          "metadata": {},
          "execution_count": 27
        }
      ]
    },
    {
      "cell_type": "markdown",
      "source": [
        "Repita a inserção, mas com os valores 8 e 9."
      ],
      "metadata": {
        "id": "EIFru79x5f1B"
      }
    },
    {
      "cell_type": "code",
      "source": [
        "np.insert(arr=array_0, obj=2, values=[8, 9], axis=1)"
      ],
      "metadata": {
        "colab": {
          "base_uri": "https://localhost:8080/"
        },
        "id": "2Q501NNt5igQ",
        "outputId": "b1ecb88e-2478-43c8-b8d3-8e704f7b5c35"
      },
      "execution_count": null,
      "outputs": [
        {
          "output_type": "execute_result",
          "data": {
            "text/plain": [
              "array([[0. , 0.1, 8. , 0.2, 0.3, 0.4],\n",
              "       [0.5, 0.6, 9. , 0.7, 0.8, 0.9]])"
            ]
          },
          "metadata": {},
          "execution_count": 28
        }
      ]
    },
    {
      "cell_type": "markdown",
      "source": [
        "Agora insira uma linha (eixo 0) em `array_0` na posição 0 com o valor 9."
      ],
      "metadata": {
        "id": "9QWQM-gD5sCY"
      }
    },
    {
      "cell_type": "code",
      "source": [
        "np.insert(arr=array_0, obj=0, values=9, axis=0)"
      ],
      "metadata": {
        "colab": {
          "base_uri": "https://localhost:8080/"
        },
        "id": "1GHuLGnB5rtS",
        "outputId": "1be5eae8-10a3-43a7-fc28-5adbfcca5114"
      },
      "execution_count": null,
      "outputs": [
        {
          "output_type": "execute_result",
          "data": {
            "text/plain": [
              "array([[9. , 9. , 9. , 9. , 9. ],\n",
              "       [0. , 0.1, 0.2, 0.3, 0.4],\n",
              "       [0.5, 0.6, 0.7, 0.8, 0.9]])"
            ]
          },
          "metadata": {},
          "execution_count": 29
        }
      ]
    },
    {
      "cell_type": "markdown",
      "source": [
        "#### `np.delete`"
      ],
      "metadata": {
        "id": "ec-uUZ38Kjzi"
      }
    },
    {
      "cell_type": "markdown",
      "source": [
        "Delete a coluna 2 de `array_0`."
      ],
      "metadata": {
        "id": "gJ-XbTrK5693"
      }
    },
    {
      "cell_type": "code",
      "source": [
        "np.delete(arr=array_0, obj=2, axis=1)"
      ],
      "metadata": {
        "colab": {
          "base_uri": "https://localhost:8080/"
        },
        "id": "8XbL35bt50Xe",
        "outputId": "936daed8-076b-41a2-cbb8-9b60de488cb9"
      },
      "execution_count": null,
      "outputs": [
        {
          "output_type": "execute_result",
          "data": {
            "text/plain": [
              "array([[0. , 0.1, 0.3, 0.4],\n",
              "       [0.5, 0.6, 0.8, 0.9]])"
            ]
          },
          "metadata": {},
          "execution_count": 30
        }
      ]
    },
    {
      "cell_type": "markdown",
      "source": [
        "Delete a linha 1 de `array_1`."
      ],
      "metadata": {
        "id": "7MGl2fp26C6y"
      }
    },
    {
      "cell_type": "code",
      "source": [
        "np.delete(arr=array_1, obj=1, axis=0)"
      ],
      "metadata": {
        "colab": {
          "base_uri": "https://localhost:8080/"
        },
        "id": "AM4TRVVw5_fT",
        "outputId": "87c6f1ae-990a-4cd2-ea5f-0e5f8a22a2d4"
      },
      "execution_count": null,
      "outputs": [
        {
          "output_type": "execute_result",
          "data": {
            "text/plain": [
              "array([[1. , 1.1, 1.2, 1.3, 1.4]])"
            ]
          },
          "metadata": {},
          "execution_count": 31
        }
      ]
    },
    {
      "cell_type": "markdown",
      "source": [
        "#### `np.append`"
      ],
      "metadata": {
        "id": "BZRhJI0v6eAL"
      }
    },
    {
      "cell_type": "markdown",
      "source": [
        "Adicione `array_1` ao final de `array_0`, no eixo 0."
      ],
      "metadata": {
        "id": "2qZU328c6gZl"
      }
    },
    {
      "cell_type": "code",
      "source": [
        "np.append(arr=array_0, values=array_1, axis=0)"
      ],
      "metadata": {
        "colab": {
          "base_uri": "https://localhost:8080/"
        },
        "id": "DLTXmpsX6fMX",
        "outputId": "6fb5651f-f2c7-48b8-ea44-c9d4b4a2708e"
      },
      "execution_count": null,
      "outputs": [
        {
          "output_type": "execute_result",
          "data": {
            "text/plain": [
              "array([[0. , 0.1, 0.2, 0.3, 0.4],\n",
              "       [0.5, 0.6, 0.7, 0.8, 0.9],\n",
              "       [1. , 1.1, 1.2, 1.3, 1.4],\n",
              "       [1.5, 1.6, 1.7, 1.8, 1.9]])"
            ]
          },
          "metadata": {},
          "execution_count": 32
        }
      ]
    },
    {
      "cell_type": "markdown",
      "source": [
        "👆 O resultado é o mesmo de `np.concatenate` com `axis=0`."
      ],
      "metadata": {
        "id": "b9q_880W6uPs"
      }
    },
    {
      "cell_type": "markdown",
      "source": [
        "Adicione `array_1` ao final de `array_0`, no eixo 1."
      ],
      "metadata": {
        "id": "blyuyvKS6-ub"
      }
    },
    {
      "cell_type": "code",
      "source": [
        "np.append(arr=array_0, values=array_1, axis=1)"
      ],
      "metadata": {
        "colab": {
          "base_uri": "https://localhost:8080/"
        },
        "outputId": "91326026-237d-4c35-e46c-fa742559bb87",
        "id": "k54eEvpI6-ui"
      },
      "execution_count": null,
      "outputs": [
        {
          "output_type": "execute_result",
          "data": {
            "text/plain": [
              "array([[0. , 0.1, 0.2, 0.3, 0.4, 1. , 1.1, 1.2, 1.3, 1.4],\n",
              "       [0.5, 0.6, 0.7, 0.8, 0.9, 1.5, 1.6, 1.7, 1.8, 1.9]])"
            ]
          },
          "metadata": {},
          "execution_count": 33
        }
      ]
    },
    {
      "cell_type": "markdown",
      "source": [
        "👆 O resultado é o mesmo de `np.concatenate` com `axis=1`."
      ],
      "metadata": {
        "id": "awoYNDQL7mNp"
      }
    },
    {
      "cell_type": "markdown",
      "source": [
        "#### `np.tile`"
      ],
      "metadata": {
        "id": "48pg9UxwHUHu"
      }
    },
    {
      "cell_type": "markdown",
      "source": [
        "Utilize `np.tile` para repetir `array_0`, 2 vezes no eixo 0, e 4 vezes no eixo 1."
      ],
      "metadata": {
        "id": "oyrNZu7k8JzX"
      }
    },
    {
      "cell_type": "code",
      "source": [
        "np.tile(A=array_0, reps=(2, 4))"
      ],
      "metadata": {
        "colab": {
          "base_uri": "https://localhost:8080/"
        },
        "id": "W7KiUNQb64WG",
        "outputId": "59448899-73a2-401e-ea79-312463d9b48a"
      },
      "execution_count": null,
      "outputs": [
        {
          "output_type": "execute_result",
          "data": {
            "text/plain": [
              "array([[0. , 0.1, 0.2, 0.3, 0.4, 0. , 0.1, 0.2, 0.3, 0.4, 0. , 0.1, 0.2,\n",
              "        0.3, 0.4, 0. , 0.1, 0.2, 0.3, 0.4],\n",
              "       [0.5, 0.6, 0.7, 0.8, 0.9, 0.5, 0.6, 0.7, 0.8, 0.9, 0.5, 0.6, 0.7,\n",
              "        0.8, 0.9, 0.5, 0.6, 0.7, 0.8, 0.9],\n",
              "       [0. , 0.1, 0.2, 0.3, 0.4, 0. , 0.1, 0.2, 0.3, 0.4, 0. , 0.1, 0.2,\n",
              "        0.3, 0.4, 0. , 0.1, 0.2, 0.3, 0.4],\n",
              "       [0.5, 0.6, 0.7, 0.8, 0.9, 0.5, 0.6, 0.7, 0.8, 0.9, 0.5, 0.6, 0.7,\n",
              "        0.8, 0.9, 0.5, 0.6, 0.7, 0.8, 0.9]])"
            ]
          },
          "metadata": {},
          "execution_count": 34
        }
      ]
    },
    {
      "cell_type": "markdown",
      "source": [
        "E se você quiser repetir `array_0` somente 3 vezes no eixo 0?"
      ],
      "metadata": {
        "id": "pkqKEDFv8jBD"
      }
    },
    {
      "cell_type": "code",
      "source": [
        "np.tile(A=array_0, reps=(3, 1))"
      ],
      "metadata": {
        "colab": {
          "base_uri": "https://localhost:8080/"
        },
        "id": "yd3oclGS8m_0",
        "outputId": "934c6f02-a7d2-49ac-c173-1793b00a2237"
      },
      "execution_count": null,
      "outputs": [
        {
          "output_type": "execute_result",
          "data": {
            "text/plain": [
              "array([[0. , 0.1, 0.2, 0.3, 0.4],\n",
              "       [0.5, 0.6, 0.7, 0.8, 0.9],\n",
              "       [0. , 0.1, 0.2, 0.3, 0.4],\n",
              "       [0.5, 0.6, 0.7, 0.8, 0.9],\n",
              "       [0. , 0.1, 0.2, 0.3, 0.4],\n",
              "       [0.5, 0.6, 0.7, 0.8, 0.9]])"
            ]
          },
          "metadata": {},
          "execution_count": 35
        }
      ]
    },
    {
      "cell_type": "markdown",
      "source": [
        "#### `np.pad`"
      ],
      "metadata": {
        "id": "9qQomJR68seb"
      }
    },
    {
      "cell_type": "markdown",
      "source": [
        "Preencha `array_1` com 3 valores antes e 4 valores depois. O valor deve ser a constante 0."
      ],
      "metadata": {
        "id": "NgrF8AAE8x09"
      }
    },
    {
      "cell_type": "code",
      "source": [
        "np.pad(array=array_1, pad_width=(3, 4), mode='constant', constant_values=0)"
      ],
      "metadata": {
        "colab": {
          "base_uri": "https://localhost:8080/"
        },
        "id": "RvWPJu2W8tnR",
        "outputId": "64aa0f72-2200-4a92-85bc-30a29f819e23"
      },
      "execution_count": null,
      "outputs": [
        {
          "output_type": "execute_result",
          "data": {
            "text/plain": [
              "array([[0. , 0. , 0. , 0. , 0. , 0. , 0. , 0. , 0. , 0. , 0. , 0. ],\n",
              "       [0. , 0. , 0. , 0. , 0. , 0. , 0. , 0. , 0. , 0. , 0. , 0. ],\n",
              "       [0. , 0. , 0. , 0. , 0. , 0. , 0. , 0. , 0. , 0. , 0. , 0. ],\n",
              "       [0. , 0. , 0. , 1. , 1.1, 1.2, 1.3, 1.4, 0. , 0. , 0. , 0. ],\n",
              "       [0. , 0. , 0. , 1.5, 1.6, 1.7, 1.8, 1.9, 0. , 0. , 0. , 0. ],\n",
              "       [0. , 0. , 0. , 0. , 0. , 0. , 0. , 0. , 0. , 0. , 0. , 0. ],\n",
              "       [0. , 0. , 0. , 0. , 0. , 0. , 0. , 0. , 0. , 0. , 0. , 0. ],\n",
              "       [0. , 0. , 0. , 0. , 0. , 0. , 0. , 0. , 0. , 0. , 0. , 0. ],\n",
              "       [0. , 0. , 0. , 0. , 0. , 0. , 0. , 0. , 0. , 0. , 0. , 0. ]])"
            ]
          },
          "metadata": {},
          "execution_count": 36
        }
      ]
    },
    {
      "cell_type": "markdown",
      "source": [
        "👆 Foram adicionadas 3 linhas e 3 colunas \"antes\" de `array_1`, e 4 linhas/4 colunas \"depois\"."
      ],
      "metadata": {
        "id": "PQ7Nq8UX9Hvh"
      }
    },
    {
      "cell_type": "markdown",
      "source": [
        "Repita, mas preenchendo com os valores da borda (\"edge\")."
      ],
      "metadata": {
        "id": "sDn8DYCn9aO2"
      }
    },
    {
      "cell_type": "code",
      "source": [
        "np.pad(array=array_1, pad_width=(3, 4), mode='edge')"
      ],
      "metadata": {
        "colab": {
          "base_uri": "https://localhost:8080/"
        },
        "id": "b8Zr1q3z9QHR",
        "outputId": "b9dd7c83-bac9-458d-a9ed-ce98e4340373"
      },
      "execution_count": null,
      "outputs": [
        {
          "output_type": "execute_result",
          "data": {
            "text/plain": [
              "array([[1. , 1. , 1. , 1. , 1.1, 1.2, 1.3, 1.4, 1.4, 1.4, 1.4, 1.4],\n",
              "       [1. , 1. , 1. , 1. , 1.1, 1.2, 1.3, 1.4, 1.4, 1.4, 1.4, 1.4],\n",
              "       [1. , 1. , 1. , 1. , 1.1, 1.2, 1.3, 1.4, 1.4, 1.4, 1.4, 1.4],\n",
              "       [1. , 1. , 1. , 1. , 1.1, 1.2, 1.3, 1.4, 1.4, 1.4, 1.4, 1.4],\n",
              "       [1.5, 1.5, 1.5, 1.5, 1.6, 1.7, 1.8, 1.9, 1.9, 1.9, 1.9, 1.9],\n",
              "       [1.5, 1.5, 1.5, 1.5, 1.6, 1.7, 1.8, 1.9, 1.9, 1.9, 1.9, 1.9],\n",
              "       [1.5, 1.5, 1.5, 1.5, 1.6, 1.7, 1.8, 1.9, 1.9, 1.9, 1.9, 1.9],\n",
              "       [1.5, 1.5, 1.5, 1.5, 1.6, 1.7, 1.8, 1.9, 1.9, 1.9, 1.9, 1.9],\n",
              "       [1.5, 1.5, 1.5, 1.5, 1.6, 1.7, 1.8, 1.9, 1.9, 1.9, 1.9, 1.9]])"
            ]
          },
          "metadata": {},
          "execution_count": 37
        }
      ]
    },
    {
      "cell_type": "markdown",
      "source": [
        "Repita com o valor mínimo."
      ],
      "metadata": {
        "id": "aBWUq3tb9iHl"
      }
    },
    {
      "cell_type": "code",
      "source": [
        "np.pad(array=array_1, pad_width=(3, 4), mode='minimum')"
      ],
      "metadata": {
        "colab": {
          "base_uri": "https://localhost:8080/"
        },
        "id": "IGqucneF9gPR",
        "outputId": "ef8e5f7c-1d08-4fe5-9c20-2d77b37306ac"
      },
      "execution_count": null,
      "outputs": [
        {
          "output_type": "execute_result",
          "data": {
            "text/plain": [
              "array([[1. , 1. , 1. , 1. , 1.1, 1.2, 1.3, 1.4, 1. , 1. , 1. , 1. ],\n",
              "       [1. , 1. , 1. , 1. , 1.1, 1.2, 1.3, 1.4, 1. , 1. , 1. , 1. ],\n",
              "       [1. , 1. , 1. , 1. , 1.1, 1.2, 1.3, 1.4, 1. , 1. , 1. , 1. ],\n",
              "       [1. , 1. , 1. , 1. , 1.1, 1.2, 1.3, 1.4, 1. , 1. , 1. , 1. ],\n",
              "       [1.5, 1.5, 1.5, 1.5, 1.6, 1.7, 1.8, 1.9, 1.5, 1.5, 1.5, 1.5],\n",
              "       [1. , 1. , 1. , 1. , 1.1, 1.2, 1.3, 1.4, 1. , 1. , 1. , 1. ],\n",
              "       [1. , 1. , 1. , 1. , 1.1, 1.2, 1.3, 1.4, 1. , 1. , 1. , 1. ],\n",
              "       [1. , 1. , 1. , 1. , 1.1, 1.2, 1.3, 1.4, 1. , 1. , 1. , 1. ],\n",
              "       [1. , 1. , 1. , 1. , 1.1, 1.2, 1.3, 1.4, 1. , 1. , 1. , 1. ]])"
            ]
          },
          "metadata": {},
          "execution_count": 38
        }
      ]
    },
    {
      "cell_type": "markdown",
      "source": [
        "Repita com o valor máximo."
      ],
      "metadata": {
        "id": "F_vLc8xG93nt"
      }
    },
    {
      "cell_type": "code",
      "source": [
        "np.pad(array=array_1, pad_width=(3, 4), mode='maximum')"
      ],
      "metadata": {
        "colab": {
          "base_uri": "https://localhost:8080/"
        },
        "outputId": "bee6717f-c364-4f5b-b793-516e95bf3ecc",
        "id": "263NmgtG93nu"
      },
      "execution_count": null,
      "outputs": [
        {
          "output_type": "execute_result",
          "data": {
            "text/plain": [
              "array([[1.9, 1.9, 1.9, 1.5, 1.6, 1.7, 1.8, 1.9, 1.9, 1.9, 1.9, 1.9],\n",
              "       [1.9, 1.9, 1.9, 1.5, 1.6, 1.7, 1.8, 1.9, 1.9, 1.9, 1.9, 1.9],\n",
              "       [1.9, 1.9, 1.9, 1.5, 1.6, 1.7, 1.8, 1.9, 1.9, 1.9, 1.9, 1.9],\n",
              "       [1.4, 1.4, 1.4, 1. , 1.1, 1.2, 1.3, 1.4, 1.4, 1.4, 1.4, 1.4],\n",
              "       [1.9, 1.9, 1.9, 1.5, 1.6, 1.7, 1.8, 1.9, 1.9, 1.9, 1.9, 1.9],\n",
              "       [1.9, 1.9, 1.9, 1.5, 1.6, 1.7, 1.8, 1.9, 1.9, 1.9, 1.9, 1.9],\n",
              "       [1.9, 1.9, 1.9, 1.5, 1.6, 1.7, 1.8, 1.9, 1.9, 1.9, 1.9, 1.9],\n",
              "       [1.9, 1.9, 1.9, 1.5, 1.6, 1.7, 1.8, 1.9, 1.9, 1.9, 1.9, 1.9],\n",
              "       [1.9, 1.9, 1.9, 1.5, 1.6, 1.7, 1.8, 1.9, 1.9, 1.9, 1.9, 1.9]])"
            ]
          },
          "metadata": {},
          "execution_count": 39
        }
      ]
    },
    {
      "cell_type": "markdown",
      "source": [
        "#### `np.trim_zeros`"
      ],
      "metadata": {
        "id": "uI01s8HKMKUB"
      }
    },
    {
      "cell_type": "markdown",
      "source": [
        "Esta função só funciona com arrays 1D."
      ],
      "metadata": {
        "id": "yj1rpgBE905Z"
      }
    },
    {
      "cell_type": "markdown",
      "source": [
        "Primeiro crie um array 1D com valores entre 1 e 5, e step = 0.5. Utilize `np.arange` para isso."
      ],
      "metadata": {
        "id": "kS1aXNT8-qfM"
      }
    },
    {
      "cell_type": "code",
      "source": [
        "array = np.arange(1, 5, step=0.5)"
      ],
      "metadata": {
        "id": "olMlUl_h-3Vs"
      },
      "execution_count": null,
      "outputs": []
    },
    {
      "cell_type": "code",
      "source": [
        "array"
      ],
      "metadata": {
        "colab": {
          "base_uri": "https://localhost:8080/"
        },
        "id": "Hfm8oevY-7rS",
        "outputId": "65abb1f3-4e0a-49bf-e7de-fe128a4bc72f"
      },
      "execution_count": null,
      "outputs": [
        {
          "output_type": "execute_result",
          "data": {
            "text/plain": [
              "array([1. , 1.5, 2. , 2.5, 3. , 3.5, 4. , 4.5])"
            ]
          },
          "metadata": {},
          "execution_count": 41
        }
      ]
    },
    {
      "cell_type": "markdown",
      "source": [
        "Agora utilize `np.pad` para adicionar 6 valores 0 à esquerda e 4 valores 0 à direita de `array`."
      ],
      "metadata": {
        "id": "jLxw1ZFV-9VZ"
      }
    },
    {
      "cell_type": "code",
      "source": [
        "array_pad = np.pad(array=array, pad_width=(6, 4), mode='constant', constant_values=0)"
      ],
      "metadata": {
        "id": "RdQ-Yvl9_Eex"
      },
      "execution_count": null,
      "outputs": []
    },
    {
      "cell_type": "code",
      "source": [
        "array_pad"
      ],
      "metadata": {
        "colab": {
          "base_uri": "https://localhost:8080/"
        },
        "id": "QWMP6B-S_LDq",
        "outputId": "85bd425e-be2c-4df7-a7d5-b209d5e1196c"
      },
      "execution_count": null,
      "outputs": [
        {
          "output_type": "execute_result",
          "data": {
            "text/plain": [
              "array([0. , 0. , 0. , 0. , 0. , 0. , 1. , 1.5, 2. , 2.5, 3. , 3.5, 4. ,\n",
              "       4.5, 0. , 0. , 0. , 0. ])"
            ]
          },
          "metadata": {},
          "execution_count": 43
        }
      ]
    },
    {
      "cell_type": "markdown",
      "source": [
        "Aplique `np.trim` em `array_pad` para retirar os valores 0 das extremidades, assim recuperando `array`."
      ],
      "metadata": {
        "id": "P6K-854P_NVQ"
      }
    },
    {
      "cell_type": "code",
      "source": [
        "array_trim = np.trim_zeros(filt=array_pad)"
      ],
      "metadata": {
        "id": "j1wX-YWW9oWc"
      },
      "execution_count": null,
      "outputs": []
    },
    {
      "cell_type": "code",
      "source": [
        "array_trim"
      ],
      "metadata": {
        "colab": {
          "base_uri": "https://localhost:8080/"
        },
        "id": "-Fseqx_W-MsR",
        "outputId": "1b8df1e6-2dda-44e5-8913-96d0c74e3b92"
      },
      "execution_count": null,
      "outputs": [
        {
          "output_type": "execute_result",
          "data": {
            "text/plain": [
              "array([1. , 1.5, 2. , 2.5, 3. , 3.5, 4. , 4.5])"
            ]
          },
          "metadata": {},
          "execution_count": 45
        }
      ]
    },
    {
      "cell_type": "markdown",
      "source": [
        "Repita a operação utilizando o parâmetro `trim` para remover somente os valores 0 da \"frente\" (`f`) de `array_pad`."
      ],
      "metadata": {
        "id": "En1yDEwD-OMW"
      }
    },
    {
      "cell_type": "code",
      "source": [
        "array_trim = np.trim_zeros(filt=array_pad, trim='f') # b"
      ],
      "metadata": {
        "id": "OUlmIfCU-NOf"
      },
      "execution_count": null,
      "outputs": []
    },
    {
      "cell_type": "code",
      "source": [
        "array_trim"
      ],
      "metadata": {
        "colab": {
          "base_uri": "https://localhost:8080/"
        },
        "id": "JqMz2UoU_nhK",
        "outputId": "7069d501-8550-4516-96ee-6fa39d4ff8c3"
      },
      "execution_count": null,
      "outputs": [
        {
          "output_type": "execute_result",
          "data": {
            "text/plain": [
              "array([1. , 1.5, 2. , 2.5, 3. , 3.5, 4. , 4.5, 0. , 0. , 0. , 0. ])"
            ]
          },
          "metadata": {},
          "execution_count": 47
        }
      ]
    },
    {
      "cell_type": "markdown",
      "source": [
        "#### `np.unique`"
      ],
      "metadata": {
        "id": "VthvAkSZNnXx"
      }
    },
    {
      "cell_type": "markdown",
      "source": [
        "Vamos começar criando um array grande de números inteiros aleatórios, onde certamente vão existir repetições."
      ],
      "metadata": {
        "id": "uPxJHTNF_zsx"
      }
    },
    {
      "cell_type": "markdown",
      "source": [
        "Primeiro, instancie um gerador de números aleatórios com `np.random.default_rng`. Configure a `seed` para o valor 75."
      ],
      "metadata": {
        "id": "wU2J1ABWADq8"
      }
    },
    {
      "cell_type": "code",
      "source": [
        "rng = np.random.default_rng(seed=75)"
      ],
      "metadata": {
        "id": "2GjNUl3I_yd0"
      },
      "execution_count": null,
      "outputs": []
    },
    {
      "cell_type": "markdown",
      "source": [
        "Agora gere um array com 200 valores inteiros aleatórios no intervalo [50, 75)."
      ],
      "metadata": {
        "id": "upy21f1jARRV"
      }
    },
    {
      "cell_type": "code",
      "source": [
        "array_unique = rng.integers(low=50, high=75, size=200)"
      ],
      "metadata": {
        "id": "U1pMqPQaAQRj"
      },
      "execution_count": null,
      "outputs": []
    },
    {
      "cell_type": "code",
      "source": [
        "array_unique"
      ],
      "metadata": {
        "colab": {
          "base_uri": "https://localhost:8080/"
        },
        "id": "wVMHQQkUAhx9",
        "outputId": "62985a0a-daa9-4d14-cd03-3e87e7a5ec60"
      },
      "execution_count": null,
      "outputs": [
        {
          "output_type": "execute_result",
          "data": {
            "text/plain": [
              "array([66, 55, 55, 53, 73, 66, 58, 67, 68, 73, 58, 68, 69, 73, 69, 73, 67,\n",
              "       71, 50, 50, 66, 60, 54, 70, 63, 50, 63, 53, 67, 74, 65, 74, 51, 70,\n",
              "       50, 71, 60, 60, 73, 66, 59, 70, 62, 74, 71, 55, 53, 58, 67, 60, 50,\n",
              "       54, 69, 74, 68, 72, 69, 56, 67, 52, 51, 70, 68, 54, 71, 54, 57, 69,\n",
              "       66, 69, 62, 61, 64, 74, 73, 70, 63, 64, 55, 50, 71, 63, 67, 60, 56,\n",
              "       61, 66, 61, 70, 56, 67, 53, 68, 61, 69, 69, 58, 68, 65, 58, 67, 67,\n",
              "       57, 69, 63, 68, 66, 70, 68, 74, 60, 62, 50, 66, 72, 66, 66, 55, 73,\n",
              "       51, 69, 58, 72, 67, 57, 67, 52, 72, 61, 55, 65, 73, 50, 66, 63, 69,\n",
              "       59, 50, 69, 51, 72, 67, 64, 58, 71, 64, 52, 67, 60, 60, 62, 63, 61,\n",
              "       67, 61, 57, 60, 57, 73, 62, 74, 71, 57, 62, 58, 59, 72, 71, 62, 67,\n",
              "       52, 68, 74, 55, 61, 67, 62, 61, 55, 54, 57, 63, 51, 55, 72, 55, 70,\n",
              "       52, 55, 51, 52, 51, 66, 74, 62, 53, 50, 70, 50, 52])"
            ]
          },
          "metadata": {},
          "execution_count": 50
        }
      ]
    },
    {
      "cell_type": "markdown",
      "source": [
        "Com uma única chamada de `np.unique`, recupere:\n",
        "- os valores únicos\n",
        "- os índices onde cada valor aparece pela primeira vez (parâmetro `return_index`)\n",
        "- os índices que podem ser utilizados para reconstruir o array original a partir dos valores únicos (parâmetro `return_inverse`)\n",
        "- a contagem dos valores únicos (parâmetro `return_counts`)"
      ],
      "metadata": {
        "id": "9mfPAMf8Avps"
      }
    },
    {
      "cell_type": "code",
      "source": [
        "unique_values, indices_first, indices_redo, counts = np.unique(ar=array_unique, return_index=True, return_inverse=True, return_counts=True)"
      ],
      "metadata": {
        "id": "aa8VH9RXAmao"
      },
      "execution_count": null,
      "outputs": []
    },
    {
      "cell_type": "code",
      "source": [
        "unique_values"
      ],
      "metadata": {
        "colab": {
          "base_uri": "https://localhost:8080/"
        },
        "id": "q8gopUkLBKBA",
        "outputId": "e33922f6-7da5-4e44-f73d-9917c106501f"
      },
      "execution_count": null,
      "outputs": [
        {
          "output_type": "execute_result",
          "data": {
            "text/plain": [
              "array([50, 51, 52, 53, 54, 55, 56, 57, 58, 59, 60, 61, 62, 63, 64, 65, 66,\n",
              "       67, 68, 69, 70, 71, 72, 73, 74])"
            ]
          },
          "metadata": {},
          "execution_count": 52
        }
      ]
    },
    {
      "cell_type": "code",
      "source": [
        "indices_first"
      ],
      "metadata": {
        "colab": {
          "base_uri": "https://localhost:8080/"
        },
        "id": "7RCHdy4Deok3",
        "outputId": "667fc549-6caa-4d67-8196-95deba12ce71"
      },
      "execution_count": null,
      "outputs": [
        {
          "output_type": "execute_result",
          "data": {
            "text/plain": [
              "array([18, 32, 59,  3, 22,  1, 57, 66,  6, 40, 21, 71, 42, 24, 72, 30,  0,\n",
              "        7,  8, 12, 23, 17, 55,  4, 29])"
            ]
          },
          "metadata": {},
          "execution_count": 53
        }
      ]
    },
    {
      "cell_type": "code",
      "source": [
        "indices_redo"
      ],
      "metadata": {
        "colab": {
          "base_uri": "https://localhost:8080/"
        },
        "id": "nTQeSjWfer6g",
        "outputId": "0ef330ad-dcd8-43b6-cc73-47b88e6eef0b"
      },
      "execution_count": null,
      "outputs": [
        {
          "output_type": "execute_result",
          "data": {
            "text/plain": [
              "array([16,  5,  5,  3, 23, 16,  8, 17, 18, 23,  8, 18, 19, 23, 19, 23, 17,\n",
              "       21,  0,  0, 16, 10,  4, 20, 13,  0, 13,  3, 17, 24, 15, 24,  1, 20,\n",
              "        0, 21, 10, 10, 23, 16,  9, 20, 12, 24, 21,  5,  3,  8, 17, 10,  0,\n",
              "        4, 19, 24, 18, 22, 19,  6, 17,  2,  1, 20, 18,  4, 21,  4,  7, 19,\n",
              "       16, 19, 12, 11, 14, 24, 23, 20, 13, 14,  5,  0, 21, 13, 17, 10,  6,\n",
              "       11, 16, 11, 20,  6, 17,  3, 18, 11, 19, 19,  8, 18, 15,  8, 17, 17,\n",
              "        7, 19, 13, 18, 16, 20, 18, 24, 10, 12,  0, 16, 22, 16, 16,  5, 23,\n",
              "        1, 19,  8, 22, 17,  7, 17,  2, 22, 11,  5, 15, 23,  0, 16, 13, 19,\n",
              "        9,  0, 19,  1, 22, 17, 14,  8, 21, 14,  2, 17, 10, 10, 12, 13, 11,\n",
              "       17, 11,  7, 10,  7, 23, 12, 24, 21,  7, 12,  8,  9, 22, 21, 12, 17,\n",
              "        2, 18, 24,  5, 11, 17, 12, 11,  5,  4,  7, 13,  1,  5, 22,  5, 20,\n",
              "        2,  5,  1,  2,  1, 16, 24, 12,  3,  0, 20,  0,  2])"
            ]
          },
          "metadata": {},
          "execution_count": 54
        }
      ]
    },
    {
      "cell_type": "code",
      "source": [
        "counts"
      ],
      "metadata": {
        "colab": {
          "base_uri": "https://localhost:8080/"
        },
        "id": "uj4-_3ixeu71",
        "outputId": "3ce1a37a-62da-4c46-c67c-abbc2624115a"
      },
      "execution_count": null,
      "outputs": [
        {
          "output_type": "execute_result",
          "data": {
            "text/plain": [
              "array([11,  7,  7,  5,  5, 11,  3,  7,  8,  3,  9,  9,  9,  8,  4,  3, 12,\n",
              "       16,  9, 12,  9,  8,  7,  9,  9])"
            ]
          },
          "metadata": {},
          "execution_count": 55
        }
      ]
    },
    {
      "cell_type": "markdown",
      "source": [
        "Utilize `unique_values` e `indices_redo` para reconstruir o array original."
      ],
      "metadata": {
        "id": "foJqnlnYBW9p"
      }
    },
    {
      "cell_type": "code",
      "source": [
        "unique_values[indices_redo]"
      ],
      "metadata": {
        "id": "YCKLIqRCBamk",
        "outputId": "1bbeae99-0d7f-4e65-cdaf-5fd44ab03edb",
        "colab": {
          "base_uri": "https://localhost:8080/"
        }
      },
      "execution_count": null,
      "outputs": [
        {
          "output_type": "execute_result",
          "data": {
            "text/plain": [
              "array([66, 55, 55, 53, 73, 66, 58, 67, 68, 73, 58, 68, 69, 73, 69, 73, 67,\n",
              "       71, 50, 50, 66, 60, 54, 70, 63, 50, 63, 53, 67, 74, 65, 74, 51, 70,\n",
              "       50, 71, 60, 60, 73, 66, 59, 70, 62, 74, 71, 55, 53, 58, 67, 60, 50,\n",
              "       54, 69, 74, 68, 72, 69, 56, 67, 52, 51, 70, 68, 54, 71, 54, 57, 69,\n",
              "       66, 69, 62, 61, 64, 74, 73, 70, 63, 64, 55, 50, 71, 63, 67, 60, 56,\n",
              "       61, 66, 61, 70, 56, 67, 53, 68, 61, 69, 69, 58, 68, 65, 58, 67, 67,\n",
              "       57, 69, 63, 68, 66, 70, 68, 74, 60, 62, 50, 66, 72, 66, 66, 55, 73,\n",
              "       51, 69, 58, 72, 67, 57, 67, 52, 72, 61, 55, 65, 73, 50, 66, 63, 69,\n",
              "       59, 50, 69, 51, 72, 67, 64, 58, 71, 64, 52, 67, 60, 60, 62, 63, 61,\n",
              "       67, 61, 57, 60, 57, 73, 62, 74, 71, 57, 62, 58, 59, 72, 71, 62, 67,\n",
              "       52, 68, 74, 55, 61, 67, 62, 61, 55, 54, 57, 63, 51, 55, 72, 55, 70,\n",
              "       52, 55, 51, 52, 51, 66, 74, 62, 53, 50, 70, 50, 52])"
            ]
          },
          "metadata": {},
          "execution_count": 57
        }
      ]
    }
  ]
}