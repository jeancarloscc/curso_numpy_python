{
 "cells": [
  {
   "cell_type": "code",
   "execution_count": 3,
   "id": "238616a0-99a5-49b2-ab8e-e207c7e4d1bc",
   "metadata": {},
   "outputs": [],
   "source": [
    "import numpy as np"
   ]
  },
  {
   "cell_type": "markdown",
   "id": "2c5679ec-6b5c-4ad7-bd39-a66605973658",
   "metadata": {},
   "source": [
    "# Agrupamento e dividindo arrays"
   ]
  },
  {
   "cell_type": "code",
   "execution_count": 4,
   "id": "a40d6f37-7a9c-465d-ac88-947c716da613",
   "metadata": {},
   "outputs": [
    {
     "data": {
      "text/plain": [
       "array([0, 1, 2, 3, 4, 5, 6, 7, 8, 9])"
      ]
     },
     "execution_count": 4,
     "metadata": {},
     "output_type": "execute_result"
    }
   ],
   "source": [
    "array_1d = np.arange(0, 10)\n",
    "array_1d"
   ]
  },
  {
   "cell_type": "code",
   "execution_count": 5,
   "id": "89552a85-1151-443d-b459-64bc01ca107c",
   "metadata": {},
   "outputs": [
    {
     "data": {
      "text/plain": [
       "array([[ 0,  1,  2,  3,  4,  5],\n",
       "       [ 6,  7,  8,  9, 10, 11],\n",
       "       [12, 13, 14, 15, 16, 17]])"
      ]
     },
     "execution_count": 5,
     "metadata": {},
     "output_type": "execute_result"
    }
   ],
   "source": [
    "array_2d_0 = np.arange(0, 18).reshape(3, 6)\n",
    "array_2d_0"
   ]
  },
  {
   "cell_type": "code",
   "execution_count": 6,
   "id": "4618d752-5e47-4860-8574-3bd36cc5f7e1",
   "metadata": {},
   "outputs": [
    {
     "data": {
      "text/plain": [
       "array([[18, 19, 20, 21, 22, 23],\n",
       "       [24, 25, 26, 27, 28, 29],\n",
       "       [30, 31, 32, 33, 34, 35]])"
      ]
     },
     "execution_count": 6,
     "metadata": {},
     "output_type": "execute_result"
    }
   ],
   "source": [
    "array_2d_1 = np.arange(18, 36).reshape(3, 6)\n",
    "array_2d_1"
   ]
  },
  {
   "cell_type": "markdown",
   "id": "4b84726a-7b74-4d09-bb85-06cae286803d",
   "metadata": {},
   "source": [
    "## `np.concatenate`"
   ]
  },
  {
   "cell_type": "code",
   "execution_count": 7,
   "id": "c034d579-d8d1-468c-9356-e7fe26736276",
   "metadata": {},
   "outputs": [
    {
     "data": {
      "text/plain": [
       "array([[ 0,  1,  2,  3,  4,  5],\n",
       "       [ 6,  7,  8,  9, 10, 11],\n",
       "       [12, 13, 14, 15, 16, 17],\n",
       "       [18, 19, 20, 21, 22, 23],\n",
       "       [24, 25, 26, 27, 28, 29],\n",
       "       [30, 31, 32, 33, 34, 35]])"
      ]
     },
     "execution_count": 7,
     "metadata": {},
     "output_type": "execute_result"
    }
   ],
   "source": [
    "np.concatenate([array_2d_0, array_2d_1])"
   ]
  },
  {
   "cell_type": "code",
   "execution_count": 8,
   "id": "6cab14cc-994a-432f-b44e-f15bab6c7488",
   "metadata": {},
   "outputs": [
    {
     "data": {
      "text/plain": [
       "array([[ 0,  1,  2,  3,  4,  5, 18, 19, 20, 21, 22, 23],\n",
       "       [ 6,  7,  8,  9, 10, 11, 24, 25, 26, 27, 28, 29],\n",
       "       [12, 13, 14, 15, 16, 17, 30, 31, 32, 33, 34, 35]])"
      ]
     },
     "execution_count": 8,
     "metadata": {},
     "output_type": "execute_result"
    }
   ],
   "source": [
    "np.concatenate([array_2d_0, array_2d_1], axis = 1)"
   ]
  },
  {
   "cell_type": "markdown",
   "id": "5c6122cf-5093-4832-8f7b-b6bb2d112323",
   "metadata": {},
   "source": [
    "## `np.stack`"
   ]
  },
  {
   "cell_type": "code",
   "execution_count": 9,
   "id": "b340401b-99e3-4cf0-b08e-c44da50b8e1f",
   "metadata": {},
   "outputs": [
    {
     "data": {
      "text/plain": [
       "array([[[ 0,  1,  2,  3,  4,  5],\n",
       "        [ 6,  7,  8,  9, 10, 11],\n",
       "        [12, 13, 14, 15, 16, 17]],\n",
       "\n",
       "       [[18, 19, 20, 21, 22, 23],\n",
       "        [24, 25, 26, 27, 28, 29],\n",
       "        [30, 31, 32, 33, 34, 35]]])"
      ]
     },
     "execution_count": 9,
     "metadata": {},
     "output_type": "execute_result"
    }
   ],
   "source": [
    "array_stacked = np.stack(arrays= [array_2d_0, array_2d_1])\n",
    "array_stacked"
   ]
  },
  {
   "cell_type": "code",
   "execution_count": 10,
   "id": "58ad9209-3fe6-4bd3-a7a4-0c6cef9c6d2b",
   "metadata": {},
   "outputs": [
    {
     "data": {
      "text/plain": [
       "(2, 3, 6)"
      ]
     },
     "execution_count": 10,
     "metadata": {},
     "output_type": "execute_result"
    }
   ],
   "source": [
    "array_stacked.shape"
   ]
  },
  {
   "cell_type": "code",
   "execution_count": 11,
   "id": "f1351150-bfad-4887-90c0-74e540ddec68",
   "metadata": {},
   "outputs": [
    {
     "data": {
      "text/plain": [
       "array([[[ 0,  1,  2,  3,  4,  5],\n",
       "        [18, 19, 20, 21, 22, 23]],\n",
       "\n",
       "       [[ 6,  7,  8,  9, 10, 11],\n",
       "        [24, 25, 26, 27, 28, 29]],\n",
       "\n",
       "       [[12, 13, 14, 15, 16, 17],\n",
       "        [30, 31, 32, 33, 34, 35]]])"
      ]
     },
     "execution_count": 11,
     "metadata": {},
     "output_type": "execute_result"
    }
   ],
   "source": [
    "array_stacked = np.stack(arrays= [array_2d_0, array_2d_1], axis = 1)\n",
    "array_stacked"
   ]
  },
  {
   "cell_type": "code",
   "execution_count": 12,
   "id": "015222e8-fea6-425f-b1d1-e4689945af59",
   "metadata": {},
   "outputs": [
    {
     "data": {
      "text/plain": [
       "(3, 2, 6)"
      ]
     },
     "execution_count": 12,
     "metadata": {},
     "output_type": "execute_result"
    }
   ],
   "source": [
    "array_stacked.shape"
   ]
  },
  {
   "cell_type": "code",
   "execution_count": 13,
   "id": "92da99b3-d8ff-4021-bdd7-663a3a0540ae",
   "metadata": {},
   "outputs": [
    {
     "data": {
      "text/plain": [
       "array([[[ 0, 18],\n",
       "        [ 1, 19],\n",
       "        [ 2, 20],\n",
       "        [ 3, 21],\n",
       "        [ 4, 22],\n",
       "        [ 5, 23]],\n",
       "\n",
       "       [[ 6, 24],\n",
       "        [ 7, 25],\n",
       "        [ 8, 26],\n",
       "        [ 9, 27],\n",
       "        [10, 28],\n",
       "        [11, 29]],\n",
       "\n",
       "       [[12, 30],\n",
       "        [13, 31],\n",
       "        [14, 32],\n",
       "        [15, 33],\n",
       "        [16, 34],\n",
       "        [17, 35]]])"
      ]
     },
     "execution_count": 13,
     "metadata": {},
     "output_type": "execute_result"
    }
   ],
   "source": [
    "array_stacked = np.stack(arrays= [array_2d_0, array_2d_1], axis = -1)\n",
    "array_stacked"
   ]
  },
  {
   "cell_type": "code",
   "execution_count": 14,
   "id": "7e401009-7e29-4365-8703-ee119cb91b97",
   "metadata": {},
   "outputs": [
    {
     "data": {
      "text/plain": [
       "(3, 6, 2)"
      ]
     },
     "execution_count": 14,
     "metadata": {},
     "output_type": "execute_result"
    }
   ],
   "source": [
    "array_stacked.shape"
   ]
  },
  {
   "cell_type": "markdown",
   "id": "a45880dd-2874-44ee-ab10-7ad81f8b16c9",
   "metadata": {},
   "source": [
    "## `np.vstack e np.hstack`"
   ]
  },
  {
   "cell_type": "code",
   "execution_count": 15,
   "id": "c718de4c-000c-495a-a73d-4ae60d0900ef",
   "metadata": {},
   "outputs": [
    {
     "data": {
      "text/plain": [
       "array([[ 0,  1,  2,  3,  4,  5],\n",
       "       [ 6,  7,  8,  9, 10, 11],\n",
       "       [12, 13, 14, 15, 16, 17],\n",
       "       [18, 19, 20, 21, 22, 23],\n",
       "       [24, 25, 26, 27, 28, 29],\n",
       "       [30, 31, 32, 33, 34, 35]])"
      ]
     },
     "execution_count": 15,
     "metadata": {},
     "output_type": "execute_result"
    }
   ],
   "source": [
    "np.vstack(tup = [array_2d_0, array_2d_1]) # np.concatenate axis = 0"
   ]
  },
  {
   "cell_type": "code",
   "execution_count": 16,
   "id": "f12ee825-b6e4-4fd0-b7dc-87e78d3c911e",
   "metadata": {},
   "outputs": [
    {
     "data": {
      "text/plain": [
       "array([[ 0,  1,  2,  3,  4,  5, 18, 19, 20, 21, 22, 23],\n",
       "       [ 6,  7,  8,  9, 10, 11, 24, 25, 26, 27, 28, 29],\n",
       "       [12, 13, 14, 15, 16, 17, 30, 31, 32, 33, 34, 35]])"
      ]
     },
     "execution_count": 16,
     "metadata": {},
     "output_type": "execute_result"
    }
   ],
   "source": [
    "np.hstack(tup = [array_2d_0, array_2d_1]) # np.concatenate axis = 1"
   ]
  },
  {
   "cell_type": "markdown",
   "id": "63636b3e-3a6e-4c5a-bc92-668392e79f9f",
   "metadata": {},
   "source": [
    "## `np.split`"
   ]
  },
  {
   "cell_type": "code",
   "execution_count": 17,
   "id": "f419e0df-4ffd-4758-a827-2e89369cd9db",
   "metadata": {},
   "outputs": [
    {
     "data": {
      "text/plain": [
       "[array([0, 1, 2, 3, 4]), array([5, 6, 7, 8, 9])]"
      ]
     },
     "execution_count": 17,
     "metadata": {},
     "output_type": "execute_result"
    }
   ],
   "source": [
    "np.split(ary=array_1d, indices_or_sections=2)"
   ]
  },
  {
   "cell_type": "code",
   "execution_count": 18,
   "id": "9a158a44-31e0-4b7c-a401-4ce30e9a9237",
   "metadata": {},
   "outputs": [
    {
     "data": {
      "text/plain": [
       "[array([[0, 1, 2, 3, 4, 5]]),\n",
       " array([[ 6,  7,  8,  9, 10, 11]]),\n",
       " array([[12, 13, 14, 15, 16, 17]])]"
      ]
     },
     "execution_count": 18,
     "metadata": {},
     "output_type": "execute_result"
    }
   ],
   "source": [
    "np.split(ary=array_2d_0, indices_or_sections=3)"
   ]
  },
  {
   "cell_type": "code",
   "execution_count": 19,
   "id": "6c3ae0e3-c28c-4a51-bfc6-f8b757ec8c4c",
   "metadata": {},
   "outputs": [
    {
     "data": {
      "text/plain": [
       "[array([[ 0,  1],\n",
       "        [ 6,  7],\n",
       "        [12, 13]]),\n",
       " array([[ 2,  3],\n",
       "        [ 8,  9],\n",
       "        [14, 15]]),\n",
       " array([[ 4,  5],\n",
       "        [10, 11],\n",
       "        [16, 17]])]"
      ]
     },
     "execution_count": 19,
     "metadata": {},
     "output_type": "execute_result"
    }
   ],
   "source": [
    "np.split(ary=array_2d_0, indices_or_sections=3, axis=1)"
   ]
  },
  {
   "cell_type": "code",
   "execution_count": 20,
   "id": "4ae03be3-8ab9-474a-8cec-74eca98c27a9",
   "metadata": {},
   "outputs": [
    {
     "data": {
      "text/plain": [
       "[array([[ 0,  1],\n",
       "        [ 6,  7],\n",
       "        [12, 13]]),\n",
       " array([[ 2],\n",
       "        [ 8],\n",
       "        [14]]),\n",
       " array([[ 3,  4,  5],\n",
       "        [ 9, 10, 11],\n",
       "        [15, 16, 17]])]"
      ]
     },
     "execution_count": 20,
     "metadata": {},
     "output_type": "execute_result"
    }
   ],
   "source": [
    "np.split(ary=array_2d_0, indices_or_sections= [2, 3], axis=1)"
   ]
  },
  {
   "cell_type": "markdown",
   "id": "71089204-5c7d-4ecf-85e1-28bfad52e498",
   "metadata": {},
   "source": [
    "## `np.vsplit e np.hsplit`"
   ]
  },
  {
   "cell_type": "code",
   "execution_count": 21,
   "id": "8fabb76d-5884-4f81-aff7-3daaa1d70532",
   "metadata": {},
   "outputs": [
    {
     "data": {
      "text/plain": [
       "[array([[0, 1, 2, 3, 4, 5]]),\n",
       " array([[ 6,  7,  8,  9, 10, 11]]),\n",
       " array([[12, 13, 14, 15, 16, 17]])]"
      ]
     },
     "execution_count": 21,
     "metadata": {},
     "output_type": "execute_result"
    }
   ],
   "source": [
    "np.vsplit(ary= array_2d_0, indices_or_sections= 3)"
   ]
  },
  {
   "cell_type": "code",
   "execution_count": 22,
   "id": "5e97e143-3b53-430f-9979-ad5b64569a6d",
   "metadata": {},
   "outputs": [
    {
     "data": {
      "text/plain": [
       "[array([[ 0,  1],\n",
       "        [ 6,  7],\n",
       "        [12, 13]]),\n",
       " array([[ 2,  3],\n",
       "        [ 8,  9],\n",
       "        [14, 15]]),\n",
       " array([[ 4,  5],\n",
       "        [10, 11],\n",
       "        [16, 17]])]"
      ]
     },
     "execution_count": 22,
     "metadata": {},
     "output_type": "execute_result"
    }
   ],
   "source": [
    "np.hsplit(ary= array_2d_0, indices_or_sections= 3)"
   ]
  },
  {
   "cell_type": "code",
   "execution_count": 23,
   "id": "9e7f9107-8da7-4c00-a95c-ead99e1f7789",
   "metadata": {},
   "outputs": [
    {
     "data": {
      "text/plain": [
       "[array([[ 0,  1],\n",
       "        [ 6,  7],\n",
       "        [12, 13]]),\n",
       " array([[ 2],\n",
       "        [ 8],\n",
       "        [14]]),\n",
       " array([[ 3,  4,  5],\n",
       "        [ 9, 10, 11],\n",
       "        [15, 16, 17]])]"
      ]
     },
     "execution_count": 23,
     "metadata": {},
     "output_type": "execute_result"
    }
   ],
   "source": [
    "np.hsplit(ary= array_2d_0, indices_or_sections= [2,3])"
   ]
  },
  {
   "cell_type": "markdown",
   "id": "e8073056-4e34-47bd-a329-cdb4efb93e9d",
   "metadata": {},
   "source": [
    "# Adicionando eixos"
   ]
  },
  {
   "cell_type": "markdown",
   "id": "ac6d6d5d-74bb-4f0f-9209-72a2fa49b79a",
   "metadata": {},
   "source": [
    "## `np.expand_dims`"
   ]
  },
  {
   "cell_type": "code",
   "execution_count": 24,
   "id": "835d2f9c-ada1-45ea-87b2-4a50b0ce2d3c",
   "metadata": {},
   "outputs": [
    {
     "data": {
      "text/plain": [
       "2"
      ]
     },
     "execution_count": 24,
     "metadata": {},
     "output_type": "execute_result"
    }
   ],
   "source": [
    "array_2d_0.ndim"
   ]
  },
  {
   "cell_type": "code",
   "execution_count": 25,
   "id": "2dc2afa5-52d5-4e02-ac03-47e0bdbcbc1a",
   "metadata": {},
   "outputs": [
    {
     "data": {
      "text/plain": [
       "(3, 6)"
      ]
     },
     "execution_count": 25,
     "metadata": {},
     "output_type": "execute_result"
    }
   ],
   "source": [
    "array_2d_0.shape"
   ]
  },
  {
   "cell_type": "code",
   "execution_count": 27,
   "id": "1a346fbf-527c-45b9-99d8-d445845ffbe1",
   "metadata": {},
   "outputs": [
    {
     "data": {
      "text/plain": [
       "array([[[ 0,  1,  2,  3,  4,  5],\n",
       "        [ 6,  7,  8,  9, 10, 11],\n",
       "        [12, 13, 14, 15, 16, 17]]])"
      ]
     },
     "execution_count": 27,
     "metadata": {},
     "output_type": "execute_result"
    }
   ],
   "source": [
    "new_array_2d_0 = np.expand_dims(a = array_2d_0, axis = 0)\n",
    "new_array_2d_0"
   ]
  },
  {
   "cell_type": "code",
   "execution_count": 28,
   "id": "cace8f30-cceb-4042-9345-7f1ed20588bb",
   "metadata": {},
   "outputs": [
    {
     "data": {
      "text/plain": [
       "(3, (1, 3, 6))"
      ]
     },
     "execution_count": 28,
     "metadata": {},
     "output_type": "execute_result"
    }
   ],
   "source": [
    "new_array_2d_0.ndim, new_array_2d_0.shape"
   ]
  },
  {
   "cell_type": "code",
   "execution_count": 29,
   "id": "d96f3b89-5fd5-4d58-a9f5-f5af136f849a",
   "metadata": {},
   "outputs": [
    {
     "data": {
      "text/plain": [
       "(3, 6)"
      ]
     },
     "execution_count": 29,
     "metadata": {},
     "output_type": "execute_result"
    }
   ],
   "source": [
    "np.squeeze(new_array_2d_0).shape"
   ]
  },
  {
   "cell_type": "code",
   "execution_count": 30,
   "id": "7517c516-2302-4242-b777-674637752031",
   "metadata": {},
   "outputs": [
    {
     "data": {
      "text/plain": [
       "array([[[ 0,  1,  2,  3,  4,  5]],\n",
       "\n",
       "       [[ 6,  7,  8,  9, 10, 11]],\n",
       "\n",
       "       [[12, 13, 14, 15, 16, 17]]])"
      ]
     },
     "execution_count": 30,
     "metadata": {},
     "output_type": "execute_result"
    }
   ],
   "source": [
    "new_array_2d_0 = np.expand_dims(a = array_2d_0, axis = 1)\n",
    "new_array_2d_0"
   ]
  },
  {
   "cell_type": "code",
   "execution_count": 31,
   "id": "a3e8b36d-a202-4e22-b71a-5ada0c615d6f",
   "metadata": {},
   "outputs": [
    {
     "data": {
      "text/plain": [
       "(3, (3, 1, 6))"
      ]
     },
     "execution_count": 31,
     "metadata": {},
     "output_type": "execute_result"
    }
   ],
   "source": [
    "new_array_2d_0.ndim, new_array_2d_0.shape"
   ]
  },
  {
   "cell_type": "code",
   "execution_count": 34,
   "id": "5abf06e2-4131-4eff-8753-555ba2abb556",
   "metadata": {},
   "outputs": [
    {
     "data": {
      "text/plain": [
       "(array([[[ 0,  1,  2,  3,  4,  5],\n",
       "         [ 6,  7,  8,  9, 10, 11],\n",
       "         [12, 13, 14, 15, 16, 17]]]),\n",
       " (1, 3, 6))"
      ]
     },
     "execution_count": 34,
     "metadata": {},
     "output_type": "execute_result"
    }
   ],
   "source": [
    "array_2d_0[np.newaxis, :], array_2d_0[np.newaxis, :].shape"
   ]
  },
  {
   "cell_type": "code",
   "execution_count": 35,
   "id": "e9d369ed-dcaa-4dc9-88d9-6fb8cc36ac74",
   "metadata": {},
   "outputs": [
    {
     "data": {
      "text/plain": [
       "(array([[[ 0,  1,  2,  3,  4,  5]],\n",
       " \n",
       "        [[ 6,  7,  8,  9, 10, 11]],\n",
       " \n",
       "        [[12, 13, 14, 15, 16, 17]]]),\n",
       " (3, 1, 6))"
      ]
     },
     "execution_count": 35,
     "metadata": {},
     "output_type": "execute_result"
    }
   ],
   "source": [
    "array_2d_0[:, np.newaxis, :], array_2d_0[:, np.newaxis, :].shape"
   ]
  },
  {
   "cell_type": "code",
   "execution_count": 36,
   "id": "fb64689e-a1ed-472e-917b-f29b655901c3",
   "metadata": {},
   "outputs": [
    {
     "data": {
      "text/plain": [
       "array([[[ 0,  1,  2,  3,  4,  5]],\n",
       "\n",
       "       [[ 6,  7,  8,  9, 10, 11]],\n",
       "\n",
       "       [[12, 13, 14, 15, 16, 17]]])"
      ]
     },
     "execution_count": 36,
     "metadata": {},
     "output_type": "execute_result"
    }
   ],
   "source": [
    "array_2d_0.reshape(3, 1, 6)"
   ]
  },
  {
   "cell_type": "markdown",
   "id": "70e1ca35-ccce-4c0b-982b-21076caf8aa2",
   "metadata": {},
   "source": [
    "# Rearranjando elementos"
   ]
  },
  {
   "cell_type": "markdown",
   "id": "e6ba859f-fc37-4296-9a65-1f7519a8a5d6",
   "metadata": {},
   "source": [
    "## `np.flip`"
   ]
  },
  {
   "cell_type": "code",
   "execution_count": 39,
   "id": "b2e20766-7117-40fb-9d25-86376cf54545",
   "metadata": {},
   "outputs": [
    {
     "data": {
      "text/plain": [
       "array([0, 1, 2, 3, 4, 5, 6, 7, 8, 9])"
      ]
     },
     "execution_count": 39,
     "metadata": {},
     "output_type": "execute_result"
    }
   ],
   "source": [
    "array_1d"
   ]
  },
  {
   "cell_type": "code",
   "execution_count": 38,
   "id": "43804689-3a49-4968-a098-f48ee8152e0b",
   "metadata": {},
   "outputs": [
    {
     "data": {
      "text/plain": [
       "array([9, 8, 7, 6, 5, 4, 3, 2, 1, 0])"
      ]
     },
     "execution_count": 38,
     "metadata": {},
     "output_type": "execute_result"
    }
   ],
   "source": [
    "np.flip(array_1d)"
   ]
  },
  {
   "cell_type": "code",
   "execution_count": 40,
   "id": "3116d014-b9e8-4ae3-957e-9ab83d6d2a18",
   "metadata": {},
   "outputs": [
    {
     "data": {
      "text/plain": [
       "array([9, 8, 7, 6, 5, 4, 3, 2, 1, 0])"
      ]
     },
     "execution_count": 40,
     "metadata": {},
     "output_type": "execute_result"
    }
   ],
   "source": [
    "array_1d[::-1]"
   ]
  },
  {
   "cell_type": "code",
   "execution_count": 41,
   "id": "ae48d20c-9897-427c-92b6-8038fc57f9b1",
   "metadata": {},
   "outputs": [
    {
     "data": {
      "text/plain": [
       "array([[17, 16, 15, 14, 13, 12],\n",
       "       [11, 10,  9,  8,  7,  6],\n",
       "       [ 5,  4,  3,  2,  1,  0]])"
      ]
     },
     "execution_count": 41,
     "metadata": {},
     "output_type": "execute_result"
    }
   ],
   "source": [
    "np.flip(array_2d_0)"
   ]
  },
  {
   "cell_type": "code",
   "execution_count": 42,
   "id": "05c9fb41-719b-4473-8c6b-be0feb40a5a8",
   "metadata": {},
   "outputs": [
    {
     "data": {
      "text/plain": [
       "array([[12, 13, 14, 15, 16, 17],\n",
       "       [ 6,  7,  8,  9, 10, 11],\n",
       "       [ 0,  1,  2,  3,  4,  5]])"
      ]
     },
     "execution_count": 42,
     "metadata": {},
     "output_type": "execute_result"
    }
   ],
   "source": [
    "np.flip(array_2d_0, axis = 0)"
   ]
  },
  {
   "cell_type": "code",
   "execution_count": 43,
   "id": "17f1b51e-4812-4396-9cde-0d160b64f74f",
   "metadata": {},
   "outputs": [
    {
     "data": {
      "text/plain": [
       "array([[ 5,  4,  3,  2,  1,  0],\n",
       "       [11, 10,  9,  8,  7,  6],\n",
       "       [17, 16, 15, 14, 13, 12]])"
      ]
     },
     "execution_count": 43,
     "metadata": {},
     "output_type": "execute_result"
    }
   ],
   "source": [
    "np.flip(array_2d_0, axis = 1)"
   ]
  },
  {
   "cell_type": "markdown",
   "id": "223b70c5-f745-46c2-89a9-cd94b67f18a7",
   "metadata": {},
   "source": [
    "## `np.resize`"
   ]
  },
  {
   "cell_type": "code",
   "execution_count": 44,
   "id": "48ad2944-d969-4ecd-bf56-8103ff704c71",
   "metadata": {},
   "outputs": [
    {
     "data": {
      "text/plain": [
       "array([[ 0,  1,  2,  3,  4,  5],\n",
       "       [ 6,  7,  8,  9, 10, 11],\n",
       "       [12, 13, 14, 15, 16, 17]])"
      ]
     },
     "execution_count": 44,
     "metadata": {},
     "output_type": "execute_result"
    }
   ],
   "source": [
    "array_2d_0"
   ]
  },
  {
   "cell_type": "code",
   "execution_count": 45,
   "id": "3f8092d8-d8c2-49e5-9698-88d2dc1e5090",
   "metadata": {},
   "outputs": [
    {
     "data": {
      "text/plain": [
       "array([0, 1, 2, 3, 4, 5, 6, 7, 8, 9])"
      ]
     },
     "execution_count": 45,
     "metadata": {},
     "output_type": "execute_result"
    }
   ],
   "source": [
    "np.resize(a = array_2d_0, new_shape=10)"
   ]
  },
  {
   "cell_type": "code",
   "execution_count": 46,
   "id": "1f2ca2be-66af-45db-a4d8-c511def17205",
   "metadata": {},
   "outputs": [
    {
     "data": {
      "text/plain": [
       "array([[0, 1],\n",
       "       [2, 3],\n",
       "       [4, 5],\n",
       "       [6, 7]])"
      ]
     },
     "execution_count": 46,
     "metadata": {},
     "output_type": "execute_result"
    }
   ],
   "source": [
    "np.resize(a = array_2d_0, new_shape= (4, 2))"
   ]
  },
  {
   "cell_type": "code",
   "execution_count": 47,
   "id": "1bd11b62-ac54-4916-8cf2-0be04fe82093",
   "metadata": {},
   "outputs": [
    {
     "data": {
      "text/plain": [
       "array([[ 0,  1,  2,  3],\n",
       "       [ 4,  5,  6,  7],\n",
       "       [ 8,  9, 10, 11],\n",
       "       [12, 13, 14, 15],\n",
       "       [16, 17,  0,  1],\n",
       "       [ 2,  3,  4,  5],\n",
       "       [ 6,  7,  8,  9],\n",
       "       [10, 11, 12, 13]])"
      ]
     },
     "execution_count": 47,
     "metadata": {},
     "output_type": "execute_result"
    }
   ],
   "source": [
    "np.resize(a = array_2d_0, new_shape= (8, 4))"
   ]
  },
  {
   "cell_type": "markdown",
   "id": "52df644a-2ed6-4c64-8961-0bfa95031d61",
   "metadata": {},
   "source": [
    "# Adicionando ou removendo elementos"
   ]
  },
  {
   "cell_type": "markdown",
   "id": "d50e8fe9-e282-4191-87d0-ea4ed146f9aa",
   "metadata": {},
   "source": [
    "## `np.insert`"
   ]
  },
  {
   "cell_type": "code",
   "execution_count": 48,
   "id": "1da506fb-4521-4fbf-88bc-170a553c3c15",
   "metadata": {},
   "outputs": [
    {
     "data": {
      "text/plain": [
       "array([0, 1, 2, 3, 4, 5, 6, 7, 8, 9])"
      ]
     },
     "execution_count": 48,
     "metadata": {},
     "output_type": "execute_result"
    }
   ],
   "source": [
    "array_1d"
   ]
  },
  {
   "cell_type": "code",
   "execution_count": 50,
   "id": "60c5e964-781d-4bd9-9684-426531661724",
   "metadata": {},
   "outputs": [
    {
     "data": {
      "text/plain": [
       "array([ 0,  1,  2,  3, -1,  4,  5,  6,  7,  8,  9])"
      ]
     },
     "execution_count": 50,
     "metadata": {},
     "output_type": "execute_result"
    }
   ],
   "source": [
    "np.insert(arr = array_1d, obj=4, values= -1)"
   ]
  },
  {
   "cell_type": "code",
   "execution_count": 51,
   "id": "9e27603a-0064-4569-9cf4-b4e47b09519a",
   "metadata": {},
   "outputs": [
    {
     "data": {
      "text/plain": [
       "array([[ 0,  1,  2,  3,  4,  5],\n",
       "       [ 6,  7,  8,  9, 10, 11],\n",
       "       [12, 13, 14, 15, 16, 17]])"
      ]
     },
     "execution_count": 51,
     "metadata": {},
     "output_type": "execute_result"
    }
   ],
   "source": [
    "array_2d_0"
   ]
  },
  {
   "cell_type": "code",
   "execution_count": 52,
   "id": "9ceb3202-6c74-4d9c-8ca8-8ddaac5718c5",
   "metadata": {},
   "outputs": [
    {
     "data": {
      "text/plain": [
       "array([[ 0, -1,  1,  2,  3,  4,  5],\n",
       "       [ 6, -1,  7,  8,  9, 10, 11],\n",
       "       [12, -1, 13, 14, 15, 16, 17]])"
      ]
     },
     "execution_count": 52,
     "metadata": {},
     "output_type": "execute_result"
    }
   ],
   "source": [
    "np.insert(arr=array_2d_0, obj=1, values=-1, axis=1)"
   ]
  },
  {
   "cell_type": "code",
   "execution_count": 53,
   "id": "eec5fde3-6a3d-4836-9131-8d295ffae2cb",
   "metadata": {},
   "outputs": [
    {
     "data": {
      "text/plain": [
       "array([[ 0, -1,  1,  2,  3,  4,  5],\n",
       "       [ 6, -2,  7,  8,  9, 10, 11],\n",
       "       [12, -3, 13, 14, 15, 16, 17]])"
      ]
     },
     "execution_count": 53,
     "metadata": {},
     "output_type": "execute_result"
    }
   ],
   "source": [
    "np.insert(arr=array_2d_0, obj=1, values= [-1, -2, -3], axis=1)"
   ]
  },
  {
   "cell_type": "markdown",
   "id": "60ff0da6-5105-43c6-87c3-146fe89303d2",
   "metadata": {},
   "source": [
    "## `np.delete`"
   ]
  },
  {
   "cell_type": "code",
   "execution_count": 54,
   "id": "b65a64b5-1844-4cd1-8c4e-49d6c0d29448",
   "metadata": {},
   "outputs": [
    {
     "data": {
      "text/plain": [
       "array([0, 1, 2, 3, 4, 5, 6, 7, 8, 9])"
      ]
     },
     "execution_count": 54,
     "metadata": {},
     "output_type": "execute_result"
    }
   ],
   "source": [
    "array_1d"
   ]
  },
  {
   "cell_type": "code",
   "execution_count": 55,
   "id": "14093f69-8f74-41b3-be9e-48dd689499a8",
   "metadata": {},
   "outputs": [
    {
     "data": {
      "text/plain": [
       "array([0, 1, 2, 3, 5, 6, 7, 8, 9])"
      ]
     },
     "execution_count": 55,
     "metadata": {},
     "output_type": "execute_result"
    }
   ],
   "source": [
    "np.delete(arr=array_1d, obj = 4)"
   ]
  },
  {
   "cell_type": "code",
   "execution_count": 56,
   "id": "00d82fb0-4bfd-449e-a117-8f803e7e993c",
   "metadata": {},
   "outputs": [
    {
     "data": {
      "text/plain": [
       "array([[ 0,  1,  2,  3,  4,  5],\n",
       "       [ 6,  7,  8,  9, 10, 11],\n",
       "       [12, 13, 14, 15, 16, 17]])"
      ]
     },
     "execution_count": 56,
     "metadata": {},
     "output_type": "execute_result"
    }
   ],
   "source": [
    "array_2d_0"
   ]
  },
  {
   "cell_type": "code",
   "execution_count": 57,
   "id": "2aca78c1-7b73-4858-810b-84cfb3cc8255",
   "metadata": {},
   "outputs": [
    {
     "data": {
      "text/plain": [
       "array([[ 0,  2,  3,  4,  5],\n",
       "       [ 6,  8,  9, 10, 11],\n",
       "       [12, 14, 15, 16, 17]])"
      ]
     },
     "execution_count": 57,
     "metadata": {},
     "output_type": "execute_result"
    }
   ],
   "source": [
    "np.delete(arr = array_2d_0, obj = 1, axis=1)"
   ]
  },
  {
   "cell_type": "markdown",
   "id": "0ccbcf50-d577-490e-a99a-105622b09050",
   "metadata": {},
   "source": [
    "## `np.append`"
   ]
  },
  {
   "cell_type": "code",
   "execution_count": 58,
   "id": "cbc83432-abc0-40e4-b11e-599155e9c772",
   "metadata": {},
   "outputs": [
    {
     "data": {
      "text/plain": [
       "array([0, 1, 2, 3, 4, 5, 6, 7, 8, 9])"
      ]
     },
     "execution_count": 58,
     "metadata": {},
     "output_type": "execute_result"
    }
   ],
   "source": [
    "array_1d"
   ]
  },
  {
   "cell_type": "code",
   "execution_count": 60,
   "id": "c25aa010-13ce-4c95-a8f1-e461be4c09a2",
   "metadata": {},
   "outputs": [
    {
     "data": {
      "text/plain": [
       "array([0, 1, 2, 3, 4, 5, 6, 7, 8, 9, 0, 1, 2])"
      ]
     },
     "execution_count": 60,
     "metadata": {},
     "output_type": "execute_result"
    }
   ],
   "source": [
    "np.append(arr=array_1d, values=[0,1,2])"
   ]
  },
  {
   "cell_type": "code",
   "execution_count": 61,
   "id": "5d3b80fb-61b8-4206-b667-042cc26946bc",
   "metadata": {},
   "outputs": [
    {
     "data": {
      "text/plain": [
       "array([[ 0,  1,  2,  3,  4,  5],\n",
       "       [ 6,  7,  8,  9, 10, 11],\n",
       "       [12, 13, 14, 15, 16, 17]])"
      ]
     },
     "execution_count": 61,
     "metadata": {},
     "output_type": "execute_result"
    }
   ],
   "source": [
    "array_2d_0"
   ]
  },
  {
   "cell_type": "code",
   "execution_count": 64,
   "id": "c68e44d5-f57c-4a43-bf0f-4e00deca70bf",
   "metadata": {},
   "outputs": [
    {
     "data": {
      "text/plain": [
       "array([[ 0,  1,  2,  3,  4,  5],\n",
       "       [ 6,  7,  8,  9, 10, 11],\n",
       "       [12, 13, 14, 15, 16, 17],\n",
       "       [ 0,  1,  2,  3,  4,  5]])"
      ]
     },
     "execution_count": 64,
     "metadata": {},
     "output_type": "execute_result"
    }
   ],
   "source": [
    "np.append(arr=array_2d_0, values=[[0, 1, 2, 3, 4, 5]], axis=0)"
   ]
  },
  {
   "cell_type": "code",
   "execution_count": 65,
   "id": "b1c7eb8b-5903-4a5b-8995-79e737de078e",
   "metadata": {},
   "outputs": [
    {
     "data": {
      "text/plain": [
       "array([[ 0,  1,  2,  3,  4,  5,  0],\n",
       "       [ 6,  7,  8,  9, 10, 11,  6],\n",
       "       [12, 13, 14, 15, 16, 17, 12]])"
      ]
     },
     "execution_count": 65,
     "metadata": {},
     "output_type": "execute_result"
    }
   ],
   "source": [
    "np.append(arr=array_2d_0, values=[[0], [6], [12]], axis=1)"
   ]
  },
  {
   "cell_type": "markdown",
   "id": "913f42d7-4743-4d73-bf7f-c7ca7de3d85e",
   "metadata": {},
   "source": [
    "## `np.tile`"
   ]
  },
  {
   "cell_type": "code",
   "execution_count": 66,
   "id": "d82cc6d9-047f-48b6-8a63-97e0ab70420e",
   "metadata": {},
   "outputs": [
    {
     "data": {
      "text/plain": [
       "array([0, 1, 2, 3, 4, 5, 6, 7, 8, 9])"
      ]
     },
     "execution_count": 66,
     "metadata": {},
     "output_type": "execute_result"
    }
   ],
   "source": [
    "array_1d"
   ]
  },
  {
   "cell_type": "code",
   "execution_count": 67,
   "id": "90b8d106-da3a-41c9-872a-e68cc40c8673",
   "metadata": {},
   "outputs": [
    {
     "data": {
      "text/plain": [
       "array([0, 1, 2, 3, 4, 5, 6, 7, 8, 9, 0, 1, 2, 3, 4, 5, 6, 7, 8, 9])"
      ]
     },
     "execution_count": 67,
     "metadata": {},
     "output_type": "execute_result"
    }
   ],
   "source": [
    "np.tile(A= array_1d, reps=2)"
   ]
  },
  {
   "cell_type": "code",
   "execution_count": 68,
   "id": "fbfa0659-2c00-4229-a351-e97434961af3",
   "metadata": {},
   "outputs": [
    {
     "data": {
      "text/plain": [
       "array([[0, 1, 2, 3, 4, 5, 6, 7, 8, 9, 0, 1, 2, 3, 4, 5, 6, 7, 8, 9],\n",
       "       [0, 1, 2, 3, 4, 5, 6, 7, 8, 9, 0, 1, 2, 3, 4, 5, 6, 7, 8, 9]])"
      ]
     },
     "execution_count": 68,
     "metadata": {},
     "output_type": "execute_result"
    }
   ],
   "source": [
    "np.tile(A = array_1d, reps=(2, 2))"
   ]
  },
  {
   "cell_type": "code",
   "execution_count": 70,
   "id": "15ab300f-6145-45fd-a87c-250611222294",
   "metadata": {},
   "outputs": [
    {
     "data": {
      "text/plain": [
       "array([[ 0,  1,  2,  3,  4,  5],\n",
       "       [ 6,  7,  8,  9, 10, 11],\n",
       "       [12, 13, 14, 15, 16, 17]])"
      ]
     },
     "execution_count": 70,
     "metadata": {},
     "output_type": "execute_result"
    }
   ],
   "source": [
    "array_2d_0"
   ]
  },
  {
   "cell_type": "code",
   "execution_count": 71,
   "id": "ecb4c06b-06ff-4f5d-9c4f-b3516376e10d",
   "metadata": {},
   "outputs": [
    {
     "data": {
      "text/plain": [
       "array([[ 0,  1,  2,  3,  4,  5,  0,  1,  2,  3,  4,  5],\n",
       "       [ 6,  7,  8,  9, 10, 11,  6,  7,  8,  9, 10, 11],\n",
       "       [12, 13, 14, 15, 16, 17, 12, 13, 14, 15, 16, 17],\n",
       "       [ 0,  1,  2,  3,  4,  5,  0,  1,  2,  3,  4,  5],\n",
       "       [ 6,  7,  8,  9, 10, 11,  6,  7,  8,  9, 10, 11],\n",
       "       [12, 13, 14, 15, 16, 17, 12, 13, 14, 15, 16, 17],\n",
       "       [ 0,  1,  2,  3,  4,  5,  0,  1,  2,  3,  4,  5],\n",
       "       [ 6,  7,  8,  9, 10, 11,  6,  7,  8,  9, 10, 11],\n",
       "       [12, 13, 14, 15, 16, 17, 12, 13, 14, 15, 16, 17]])"
      ]
     },
     "execution_count": 71,
     "metadata": {},
     "output_type": "execute_result"
    }
   ],
   "source": [
    "np.tile(A = array_2d_0, reps=(3, 2))"
   ]
  },
  {
   "cell_type": "markdown",
   "id": "2e022731-dfbd-428a-b537-60c6838c0701",
   "metadata": {},
   "source": [
    "## `np.pad`"
   ]
  },
  {
   "cell_type": "code",
   "execution_count": 72,
   "id": "7ec7bc0e-52b3-425a-8ebc-de273f235f6e",
   "metadata": {},
   "outputs": [],
   "source": [
    "array_pad_1d = np.array([1,2,3])\n"
   ]
  },
  {
   "cell_type": "code",
   "execution_count": 74,
   "id": "de832600-ee46-42e8-90a9-a7f0fb1aad29",
   "metadata": {},
   "outputs": [
    {
     "data": {
      "text/plain": [
       "array([10,  1,  2,  3, 20, 20])"
      ]
     },
     "execution_count": 74,
     "metadata": {},
     "output_type": "execute_result"
    }
   ],
   "source": [
    "np.pad(array = array_pad_1d, pad_width=(1, 2), mode='constant', constant_values = (10, 20))"
   ]
  },
  {
   "cell_type": "code",
   "execution_count": 75,
   "id": "29279a5c-725b-4b90-b2eb-f72bb765be21",
   "metadata": {},
   "outputs": [
    {
     "data": {
      "text/plain": [
       "array([1, 1, 2, 3, 3, 3])"
      ]
     },
     "execution_count": 75,
     "metadata": {},
     "output_type": "execute_result"
    }
   ],
   "source": [
    "np.pad(array = array_pad_1d, pad_width=(1, 2), mode='edge')"
   ]
  },
  {
   "cell_type": "code",
   "execution_count": 76,
   "id": "991c907e-b40f-45a2-9844-e56d1f19b7d6",
   "metadata": {},
   "outputs": [
    {
     "data": {
      "text/plain": [
       "array([1, 1, 2, 3, 1, 1])"
      ]
     },
     "execution_count": 76,
     "metadata": {},
     "output_type": "execute_result"
    }
   ],
   "source": [
    "np.pad(array = array_pad_1d, pad_width=(1, 2), mode='minimum')"
   ]
  },
  {
   "cell_type": "code",
   "execution_count": 78,
   "id": "53502af6-f74c-4f0d-a95d-8c5ba9ddcac1",
   "metadata": {},
   "outputs": [
    {
     "data": {
      "text/plain": [
       "array([3, 1, 2, 3, 3, 3])"
      ]
     },
     "execution_count": 78,
     "metadata": {},
     "output_type": "execute_result"
    }
   ],
   "source": [
    "np.pad(array = array_pad_1d, pad_width=(1, 2), mode='maximum')"
   ]
  },
  {
   "cell_type": "code",
   "execution_count": 79,
   "id": "705724a4-4dd0-4e92-915a-f9f669634cfc",
   "metadata": {},
   "outputs": [
    {
     "data": {
      "text/plain": [
       "array([2, 1, 2, 3, 2, 2])"
      ]
     },
     "execution_count": 79,
     "metadata": {},
     "output_type": "execute_result"
    }
   ],
   "source": [
    "np.pad(array = array_pad_1d, pad_width=(1, 2), mode='mean')"
   ]
  },
  {
   "cell_type": "markdown",
   "id": "74e7f8b2-c942-4cdd-a3be-465d06dd60f0",
   "metadata": {},
   "source": [
    "## `np.trim_zeros`"
   ]
  },
  {
   "cell_type": "code",
   "execution_count": 81,
   "id": "c8293b46-c968-4a77-8cb2-495650ee8a68",
   "metadata": {},
   "outputs": [
    {
     "data": {
      "text/plain": [
       "array([0, 0, 1, 2, 3, 4, 0, 0, 0])"
      ]
     },
     "execution_count": 81,
     "metadata": {},
     "output_type": "execute_result"
    }
   ],
   "source": [
    "array_with_zeros = np.array([0,0,1,2,3,4,0,0,0])\n",
    "array_with_zeros"
   ]
  },
  {
   "cell_type": "code",
   "execution_count": 82,
   "id": "9dc39173-4e47-4374-a79d-eff6bc64ccaa",
   "metadata": {},
   "outputs": [
    {
     "data": {
      "text/plain": [
       "array([1, 2, 3, 4])"
      ]
     },
     "execution_count": 82,
     "metadata": {},
     "output_type": "execute_result"
    }
   ],
   "source": [
    "np.trim_zeros(filt=array_with_zeros)"
   ]
  },
  {
   "cell_type": "code",
   "execution_count": 83,
   "id": "968fac4e-f238-445b-b312-8c4659e47ad2",
   "metadata": {},
   "outputs": [
    {
     "data": {
      "text/plain": [
       "array([1, 2, 3, 4, 0, 0, 0])"
      ]
     },
     "execution_count": 83,
     "metadata": {},
     "output_type": "execute_result"
    }
   ],
   "source": [
    "np.trim_zeros(filt=array_with_zeros, trim='f')"
   ]
  },
  {
   "cell_type": "code",
   "execution_count": 84,
   "id": "49a2520f-575a-4ae1-863a-0026ad9b0577",
   "metadata": {},
   "outputs": [
    {
     "data": {
      "text/plain": [
       "array([0, 0, 1, 2, 3, 4])"
      ]
     },
     "execution_count": 84,
     "metadata": {},
     "output_type": "execute_result"
    }
   ],
   "source": [
    "np.trim_zeros(filt=array_with_zeros, trim='b')"
   ]
  },
  {
   "cell_type": "markdown",
   "id": "de313ed9-a465-4d2d-ba49-b604d68f86df",
   "metadata": {},
   "source": [
    "# Obtendo valores únicos"
   ]
  },
  {
   "cell_type": "markdown",
   "id": "1841b879-b3b6-4555-a87d-bfcd420d7203",
   "metadata": {},
   "source": [
    "## `np.unique`"
   ]
  },
  {
   "cell_type": "code",
   "execution_count": 85,
   "id": "bfd0ef10-6930-4aba-96ce-75007813052a",
   "metadata": {},
   "outputs": [],
   "source": [
    "array_unique = np.array([7,8,8,6,8,7,7])"
   ]
  },
  {
   "cell_type": "code",
   "execution_count": 86,
   "id": "134ef7ce-c2e4-4d89-8279-9cdb23a37782",
   "metadata": {},
   "outputs": [
    {
     "data": {
      "text/plain": [
       "array([6, 7, 8])"
      ]
     },
     "execution_count": 86,
     "metadata": {},
     "output_type": "execute_result"
    }
   ],
   "source": [
    "np.unique(ar=array_unique)"
   ]
  },
  {
   "cell_type": "code",
   "execution_count": 87,
   "id": "63c2eacb-3c04-4f8f-8bb6-fd2af72fc5f4",
   "metadata": {},
   "outputs": [
    {
     "data": {
      "text/plain": [
       "(array([6, 7, 8]), array([3, 0, 1]))"
      ]
     },
     "execution_count": 87,
     "metadata": {},
     "output_type": "execute_result"
    }
   ],
   "source": [
    "np.unique(ar=array_unique, return_index=True)"
   ]
  },
  {
   "cell_type": "code",
   "execution_count": 89,
   "id": "3333f7f1-50e0-45ca-8550-7fb398862e40",
   "metadata": {},
   "outputs": [
    {
     "data": {
      "text/plain": [
       "(array([6, 7, 8]), array([1, 2, 2, 0, 2, 1, 1]))"
      ]
     },
     "execution_count": 89,
     "metadata": {},
     "output_type": "execute_result"
    }
   ],
   "source": [
    "unique_values, indices = np.unique(ar=array_unique, return_inverse=True)\n",
    "unique_values, indices"
   ]
  },
  {
   "cell_type": "code",
   "execution_count": 92,
   "id": "83ae5cbd-2a1c-430e-b311-89723bc14da8",
   "metadata": {},
   "outputs": [
    {
     "data": {
      "text/plain": [
       "array([7, 8, 8, 6, 8, 7, 7])"
      ]
     },
     "execution_count": 92,
     "metadata": {},
     "output_type": "execute_result"
    }
   ],
   "source": [
    "unique_values[indices]"
   ]
  },
  {
   "cell_type": "code",
   "execution_count": 93,
   "id": "404e95dc-9d89-4ba5-b128-0e8ad56ed041",
   "metadata": {},
   "outputs": [
    {
     "data": {
      "text/plain": [
       "(array([6, 7, 8]), array([1, 3, 3]))"
      ]
     },
     "execution_count": 93,
     "metadata": {},
     "output_type": "execute_result"
    }
   ],
   "source": [
    "np.unique(ar=array_unique, return_counts=True)"
   ]
  },
  {
   "cell_type": "code",
   "execution_count": 94,
   "id": "edc15965-17be-4848-9213-d460619fe1aa",
   "metadata": {},
   "outputs": [],
   "source": [
    "array_unique_2d = np.array([[0,1,2],\n",
    "                            [3,4,5],\n",
    "                            [0,1,2]])"
   ]
  },
  {
   "cell_type": "code",
   "execution_count": 95,
   "id": "b93fb18f-e345-4c22-af8f-ebacecbd41a7",
   "metadata": {},
   "outputs": [
    {
     "data": {
      "text/plain": [
       "(array([0, 1, 2, 3, 4, 5]), array([2, 2, 2, 1, 1, 1]))"
      ]
     },
     "execution_count": 95,
     "metadata": {},
     "output_type": "execute_result"
    }
   ],
   "source": [
    "np.unique(ar = array_unique_2d, return_counts=True)"
   ]
  },
  {
   "cell_type": "code",
   "execution_count": 96,
   "id": "d8d4402d-4341-4ede-b1dc-6a5b8ab9ec7a",
   "metadata": {},
   "outputs": [
    {
     "data": {
      "text/plain": [
       "(array([[0, 1, 2],\n",
       "        [3, 4, 5]]),\n",
       " array([2, 1]))"
      ]
     },
     "execution_count": 96,
     "metadata": {},
     "output_type": "execute_result"
    }
   ],
   "source": [
    "np.unique(ar = array_unique_2d, return_counts=True, axis=0)"
   ]
  }
 ],
 "metadata": {
  "kernelspec": {
   "display_name": "Python 3 (ipykernel)",
   "language": "python",
   "name": "python3"
  },
  "language_info": {
   "codemirror_mode": {
    "name": "ipython",
    "version": 3
   },
   "file_extension": ".py",
   "mimetype": "text/x-python",
   "name": "python",
   "nbconvert_exporter": "python",
   "pygments_lexer": "ipython3",
   "version": "3.12.8"
  }
 },
 "nbformat": 4,
 "nbformat_minor": 5
}
