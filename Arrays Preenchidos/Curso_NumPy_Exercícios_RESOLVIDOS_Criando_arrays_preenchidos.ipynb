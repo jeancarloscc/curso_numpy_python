{
  "nbformat": 4,
  "nbformat_minor": 0,
  "metadata": {
    "colab": {
      "provenance": []
    },
    "kernelspec": {
      "name": "python3",
      "display_name": "Python 3"
    },
    "language_info": {
      "name": "python"
    }
  },
  "cells": [
    {
      "cell_type": "code",
      "execution_count": null,
      "metadata": {
        "id": "sgYgpXPEmTmW"
      },
      "outputs": [],
      "source": [
        "import numpy as np"
      ]
    },
    {
      "cell_type": "code",
      "source": [
        "np.__version__"
      ],
      "metadata": {
        "colab": {
          "base_uri": "https://localhost:8080/",
          "height": 56
        },
        "id": "WToUoFxfmkqS",
        "outputId": "e35cbeaa-2f10-464c-8890-c5aa2495468c"
      },
      "execution_count": null,
      "outputs": [
        {
          "output_type": "execute_result",
          "data": {
            "text/plain": [
              "'1.25.2'"
            ],
            "application/vnd.google.colaboratory.intrinsic+json": {
              "type": "string"
            }
          },
          "metadata": {},
          "execution_count": 2
        }
      ]
    },
    {
      "cell_type": "markdown",
      "source": [
        "### Instanciando um array a partir do `shape` e de um valor"
      ],
      "metadata": {
        "id": "tKQH6nl9SpaJ"
      }
    },
    {
      "cell_type": "markdown",
      "source": [
        "Abaixo vamos definir um `shape` para utilizar nos próximos exercícios."
      ],
      "metadata": {
        "id": "jIf-zOPSgVes"
      }
    },
    {
      "cell_type": "markdown",
      "source": [
        "#### `np.zeros`"
      ],
      "metadata": {
        "id": "yBbHjylQjIj4"
      }
    },
    {
      "cell_type": "code",
      "source": [
        "shape = (4, 3)"
      ],
      "metadata": {
        "id": "Z7NWIdKAgc5F"
      },
      "execution_count": null,
      "outputs": []
    },
    {
      "cell_type": "markdown",
      "source": [
        "Utilizando a função `np.zeros`, instancie um array com o shape informado, utilizando o objeto criado acima na chamada da função. Não é preciso armazenar o resultado em um novo objeto, pode exibi-lo diretamente na tela."
      ],
      "metadata": {
        "id": "-9X3MV0pgfb_"
      }
    },
    {
      "cell_type": "code",
      "source": [
        "np.zeros(shape=shape)"
      ],
      "metadata": {
        "colab": {
          "base_uri": "https://localhost:8080/"
        },
        "id": "thc0WD5lgetC",
        "outputId": "93194740-916b-49e5-84a1-b240b69f3486"
      },
      "execution_count": null,
      "outputs": [
        {
          "output_type": "execute_result",
          "data": {
            "text/plain": [
              "array([[0., 0., 0.],\n",
              "       [0., 0., 0.],\n",
              "       [0., 0., 0.],\n",
              "       [0., 0., 0.]])"
            ]
          },
          "metadata": {},
          "execution_count": 4
        }
      ]
    },
    {
      "cell_type": "markdown",
      "source": [
        "#### `np.ones`"
      ],
      "metadata": {
        "id": "z6ggzouLQydZ"
      }
    },
    {
      "cell_type": "markdown",
      "source": [
        "Repita o procedimento com a função `np.ones`."
      ],
      "metadata": {
        "id": "z9uPoB02g3lB"
      }
    },
    {
      "cell_type": "code",
      "source": [
        "np.ones(shape=shape)"
      ],
      "metadata": {
        "colab": {
          "base_uri": "https://localhost:8080/"
        },
        "id": "2OEXV85Rg2jM",
        "outputId": "3a181a57-6667-43d2-a13c-c93402ca03a8"
      },
      "execution_count": null,
      "outputs": [
        {
          "output_type": "execute_result",
          "data": {
            "text/plain": [
              "array([[1., 1., 1.],\n",
              "       [1., 1., 1.],\n",
              "       [1., 1., 1.],\n",
              "       [1., 1., 1.]])"
            ]
          },
          "metadata": {},
          "execution_count": 5
        }
      ]
    },
    {
      "cell_type": "markdown",
      "source": [
        "#### `np.full`"
      ],
      "metadata": {
        "id": "XmVJlmJRRD_j"
      }
    },
    {
      "cell_type": "markdown",
      "source": [
        "Agora instancie 3 arrays com a função `np.full`, o primeiro com o valor `7`, o segundo com o valor `8.9` e o terceiro com o valor `False`."
      ],
      "metadata": {
        "id": "0ZR9mKd-g-o-"
      }
    },
    {
      "cell_type": "code",
      "source": [
        "np.full(shape=shape, fill_value=7)"
      ],
      "metadata": {
        "colab": {
          "base_uri": "https://localhost:8080/"
        },
        "id": "4D3yMiSEg8uX",
        "outputId": "cdc2d833-452d-4079-9f44-e5b975837618"
      },
      "execution_count": null,
      "outputs": [
        {
          "output_type": "execute_result",
          "data": {
            "text/plain": [
              "array([[7, 7, 7],\n",
              "       [7, 7, 7],\n",
              "       [7, 7, 7],\n",
              "       [7, 7, 7]])"
            ]
          },
          "metadata": {},
          "execution_count": 6
        }
      ]
    },
    {
      "cell_type": "code",
      "source": [
        "np.full(shape=shape, fill_value=8.9)"
      ],
      "metadata": {
        "colab": {
          "base_uri": "https://localhost:8080/"
        },
        "id": "xGVDavaThMIx",
        "outputId": "84d179f5-df64-4c68-949e-68c94c0227b6"
      },
      "execution_count": null,
      "outputs": [
        {
          "output_type": "execute_result",
          "data": {
            "text/plain": [
              "array([[8.9, 8.9, 8.9],\n",
              "       [8.9, 8.9, 8.9],\n",
              "       [8.9, 8.9, 8.9],\n",
              "       [8.9, 8.9, 8.9]])"
            ]
          },
          "metadata": {},
          "execution_count": 7
        }
      ]
    },
    {
      "cell_type": "code",
      "source": [
        "np.full(shape=shape, fill_value=False)"
      ],
      "metadata": {
        "colab": {
          "base_uri": "https://localhost:8080/"
        },
        "id": "74J213PihONy",
        "outputId": "22e813b3-dffc-4a5e-f521-a0f1433acd7e"
      },
      "execution_count": null,
      "outputs": [
        {
          "output_type": "execute_result",
          "data": {
            "text/plain": [
              "array([[False, False, False],\n",
              "       [False, False, False],\n",
              "       [False, False, False],\n",
              "       [False, False, False]])"
            ]
          },
          "metadata": {},
          "execution_count": 8
        }
      ]
    },
    {
      "cell_type": "markdown",
      "source": [
        "#### `np.identity` / `np.eye`"
      ],
      "metadata": {
        "id": "F6k4riWVVGk5"
      }
    },
    {
      "cell_type": "markdown",
      "source": [
        "No domínio das matrizes, a matriz identidade tem como propriedade que, multiplicando uma matriz `A` qualquer pela matriz identidade `I`, o resultado é a própria matriz original `A`.\n",
        "```\n",
        "A * I = A\n",
        "```\n",
        "Ou seja, ela á análoga ao valor 1 na multiplicação simples.\n",
        "\n",
        "Utilizando a função `np.identity`, instancie uma matriz identidade de tamanho 4x4."
      ],
      "metadata": {
        "id": "gohGjeeGh545"
      }
    },
    {
      "cell_type": "code",
      "source": [
        "np.identity(n=4)"
      ],
      "metadata": {
        "colab": {
          "base_uri": "https://localhost:8080/"
        },
        "id": "sp4l4oUOhQPz",
        "outputId": "8e4d0c67-0a8d-4d8a-b2f7-454e06e70d20"
      },
      "execution_count": null,
      "outputs": [
        {
          "output_type": "execute_result",
          "data": {
            "text/plain": [
              "array([[1., 0., 0., 0.],\n",
              "       [0., 1., 0., 0.],\n",
              "       [0., 0., 1., 0.],\n",
              "       [0., 0., 0., 1.]])"
            ]
          },
          "metadata": {},
          "execution_count": 9
        }
      ]
    },
    {
      "cell_type": "markdown",
      "source": [
        "Você pode obter o mesmo resultado com a função `np.eye`, informando somente o primeiro parâmetro, `N`. Faça isso abaixo:"
      ],
      "metadata": {
        "id": "ADUiSkiSilWq"
      }
    },
    {
      "cell_type": "code",
      "source": [
        "np.eye(N=4)"
      ],
      "metadata": {
        "colab": {
          "base_uri": "https://localhost:8080/"
        },
        "id": "73srZEN9ij1U",
        "outputId": "13dbb6bc-01e0-4697-99a1-a02367eb60bc"
      },
      "execution_count": null,
      "outputs": [
        {
          "output_type": "execute_result",
          "data": {
            "text/plain": [
              "array([[1., 0., 0., 0.],\n",
              "       [0., 1., 0., 0.],\n",
              "       [0., 0., 1., 0.],\n",
              "       [0., 0., 0., 1.]])"
            ]
          },
          "metadata": {},
          "execution_count": 10
        }
      ]
    },
    {
      "cell_type": "markdown",
      "source": [
        "#### `np.arange`"
      ],
      "metadata": {
        "id": "KAy87geDjaxq"
      }
    },
    {
      "cell_type": "markdown",
      "source": [
        "Utilizando a função `np.arange`, crie e exiba um array contendo todos os números pares entre 4 e 20. Lembre-se que o valor do parâmetro `stop` deve ser **maior** que o último valor desejado, já que ele **não é incluído** no intervalo."
      ],
      "metadata": {
        "id": "gOH-oFr8i6Gd"
      }
    },
    {
      "cell_type": "code",
      "source": [
        "np.arange(start=4, stop=21, step=2)"
      ],
      "metadata": {
        "colab": {
          "base_uri": "https://localhost:8080/"
        },
        "id": "4CvHoR98isAA",
        "outputId": "5c6fea2f-47d6-4486-c230-b35edb34afcd"
      },
      "execution_count": null,
      "outputs": [
        {
          "output_type": "execute_result",
          "data": {
            "text/plain": [
              "array([ 4,  6,  8, 10, 12, 14, 16, 18, 20])"
            ]
          },
          "metadata": {},
          "execution_count": 13
        }
      ]
    },
    {
      "cell_type": "markdown",
      "source": [
        "Agora exiba um array com os valores ímpares entre 49 e 27, ou seja, em ordem decrescente."
      ],
      "metadata": {
        "id": "EQ-dPHokjyIz"
      }
    },
    {
      "cell_type": "code",
      "source": [
        "np.arange(start=49, stop=26, step=-2)"
      ],
      "metadata": {
        "colab": {
          "base_uri": "https://localhost:8080/"
        },
        "id": "Z9cV8R7Nj6hE",
        "outputId": "c8894ee2-e9cf-4afc-d863-a7beeca6f103"
      },
      "execution_count": null,
      "outputs": [
        {
          "output_type": "execute_result",
          "data": {
            "text/plain": [
              "array([49, 47, 45, 43, 41, 39, 37, 35, 33, 31, 29, 27])"
            ]
          },
          "metadata": {},
          "execution_count": 14
        }
      ]
    },
    {
      "cell_type": "markdown",
      "source": [
        "Suponha que você precise de um array representando o intervalo de 0 a 1 metro, dividido em intervalos de 1 cm (expressos em metros, ou seja, 0.01, 0.02...). Crie e exiba este array utilizando `np.arange`. Novamente, lembre-se que `stop` deve ser 1 `step` maior que o último valor desejado."
      ],
      "metadata": {
        "id": "q4On2LGFj-3K"
      }
    },
    {
      "cell_type": "code",
      "source": [
        "np.arange(start=0, stop=1.01, step=0.01)"
      ],
      "metadata": {
        "colab": {
          "base_uri": "https://localhost:8080/"
        },
        "id": "_tGS2PrmkiQh",
        "outputId": "d23da5bb-a61e-4c06-d596-87a0d2b62216"
      },
      "execution_count": null,
      "outputs": [
        {
          "output_type": "execute_result",
          "data": {
            "text/plain": [
              "array([0.  , 0.01, 0.02, 0.03, 0.04, 0.05, 0.06, 0.07, 0.08, 0.09, 0.1 ,\n",
              "       0.11, 0.12, 0.13, 0.14, 0.15, 0.16, 0.17, 0.18, 0.19, 0.2 , 0.21,\n",
              "       0.22, 0.23, 0.24, 0.25, 0.26, 0.27, 0.28, 0.29, 0.3 , 0.31, 0.32,\n",
              "       0.33, 0.34, 0.35, 0.36, 0.37, 0.38, 0.39, 0.4 , 0.41, 0.42, 0.43,\n",
              "       0.44, 0.45, 0.46, 0.47, 0.48, 0.49, 0.5 , 0.51, 0.52, 0.53, 0.54,\n",
              "       0.55, 0.56, 0.57, 0.58, 0.59, 0.6 , 0.61, 0.62, 0.63, 0.64, 0.65,\n",
              "       0.66, 0.67, 0.68, 0.69, 0.7 , 0.71, 0.72, 0.73, 0.74, 0.75, 0.76,\n",
              "       0.77, 0.78, 0.79, 0.8 , 0.81, 0.82, 0.83, 0.84, 0.85, 0.86, 0.87,\n",
              "       0.88, 0.89, 0.9 , 0.91, 0.92, 0.93, 0.94, 0.95, 0.96, 0.97, 0.98,\n",
              "       0.99, 1.  ])"
            ]
          },
          "metadata": {},
          "execution_count": 15
        }
      ]
    },
    {
      "cell_type": "markdown",
      "source": [
        "#### `np.linspace`"
      ],
      "metadata": {
        "id": "mpCbKzUsXQY0"
      }
    },
    {
      "cell_type": "markdown",
      "source": [
        "Dada uma folha de papel de 38 cm, suponha que você deva dividi-la em 5 partes iguais. Utilizando `np.linspace`, exiba um array que demostre as marcações que você deve fazer na folha, em centímetros, para obter o resultado desejado."
      ],
      "metadata": {
        "id": "6swI8i6Ek4el"
      }
    },
    {
      "cell_type": "code",
      "source": [
        "np.linspace(start=0, stop=38, num=5)"
      ],
      "metadata": {
        "colab": {
          "base_uri": "https://localhost:8080/"
        },
        "id": "YtE34UWmk3Zm",
        "outputId": "e2cad0d7-6e6b-4bf2-abd6-0e85a7145db1"
      },
      "execution_count": null,
      "outputs": [
        {
          "output_type": "execute_result",
          "data": {
            "text/plain": [
              "array([ 0. ,  9.5, 19. , 28.5, 38. ])"
            ]
          },
          "metadata": {},
          "execution_count": 16
        }
      ]
    },
    {
      "cell_type": "markdown",
      "source": [
        "#### `np.logspace`\n",
        "\n",
        "Valores que têm crescimento exponencial costumam ser plotados em gráficos com escala logarítmica, onde cada unidade do eixo representa uma potência de 10.\n",
        "\n",
        "![image.png](data:image/png;base64,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)"
      ],
      "metadata": {
        "id": "c1vo7ebjnS4U"
      }
    },
    {
      "cell_type": "markdown",
      "source": [
        "Utilizando `np.logspace`, demonstre que valor corresponde a cada unidade de um eixo representando 6 unidades logarítmicas, iniciando da origem (valor 0).\n",
        "\n",
        "Para facilitar a interpretação, no final da chamada da função, converta o resultado para inteiro com o método `astype(int)`."
      ],
      "metadata": {
        "id": "T_YMgihtp5O1"
      }
    },
    {
      "cell_type": "code",
      "source": [
        "np.logspace(start=0, stop=5, num=6).astype(int)"
      ],
      "metadata": {
        "colab": {
          "base_uri": "https://localhost:8080/"
        },
        "id": "2yHLuj5gnxlq",
        "outputId": "a1daadd5-491b-4da3-904e-124a38540af5"
      },
      "execution_count": null,
      "outputs": [
        {
          "output_type": "execute_result",
          "data": {
            "text/plain": [
              "array([     1,     10,    100,   1000,  10000, 100000])"
            ]
          },
          "metadata": {},
          "execution_count": 15
        }
      ]
    },
    {
      "cell_type": "markdown",
      "source": [
        "#### `np.geomspace`"
      ],
      "metadata": {
        "id": "DrJ8zMvQlpTs"
      }
    },
    {
      "cell_type": "markdown",
      "source": [
        "Células se reproduzem de forma exponencial: 1 se divide em 2, 2 se dividem em 4, depois 4 em 8, 8 em 16 e assim por diante. O gráfico abaixo representa essa curva de crescimento.\n",
        "\n",
        "![image.png](data:image/png;base64,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)"
      ],
      "metadata": {
        "id": "b7ezEIDhmUE6"
      }
    },
    {
      "cell_type": "markdown",
      "source": [
        "Imagine um experimento de 5 horas que inicia com 35 células e termina com 48 mil células.\n",
        "\n",
        "Utilizando `np.geomspace`, exiba um array que represente o número de células no início, e no final de cada hora do experimento. Também converta os valores para inteiros."
      ],
      "metadata": {
        "id": "zYFWoIdltzQe"
      }
    },
    {
      "cell_type": "code",
      "source": [
        "np.geomspace(start=35, stop=48_000, num=5).astype(int)"
      ],
      "metadata": {
        "colab": {
          "base_uri": "https://localhost:8080/"
        },
        "id": "61zDULFmlc5G",
        "outputId": "b53e0d4b-ee11-4943-b0d5-763c66c73a6f"
      },
      "execution_count": null,
      "outputs": [
        {
          "output_type": "execute_result",
          "data": {
            "text/plain": [
              "array([   35,   212,  1296,  7887, 48000])"
            ]
          },
          "metadata": {},
          "execution_count": 16
        }
      ]
    }
  ]
}