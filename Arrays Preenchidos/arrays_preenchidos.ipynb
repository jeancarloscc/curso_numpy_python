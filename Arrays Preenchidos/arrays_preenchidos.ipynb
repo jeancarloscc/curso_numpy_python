{
 "cells": [
  {
   "cell_type": "code",
   "execution_count": 2,
   "id": "0d645aff-deeb-467c-8809-9856da6fd881",
   "metadata": {},
   "outputs": [],
   "source": [
    "import numpy as np"
   ]
  },
  {
   "cell_type": "markdown",
   "id": "9705dff0-f9e6-4119-87c9-a481ace56132",
   "metadata": {},
   "source": [
    "# Arrays preenchidas"
   ]
  },
  {
   "cell_type": "markdown",
   "id": "93096a6e-0663-4f37-b298-37b1c023a6f3",
   "metadata": {},
   "source": [
    "## `np.zeros`"
   ]
  },
  {
   "cell_type": "code",
   "execution_count": 3,
   "id": "a002a480-f68a-46e0-98df-1fca46701079",
   "metadata": {},
   "outputs": [
    {
     "data": {
      "text/plain": [
       "array([0., 0., 0.])"
      ]
     },
     "execution_count": 3,
     "metadata": {},
     "output_type": "execute_result"
    }
   ],
   "source": [
    "np.zeros(shape = 3)"
   ]
  },
  {
   "cell_type": "code",
   "execution_count": 5,
   "id": "cf90602c-4b54-452b-96c5-11af81d1874e",
   "metadata": {},
   "outputs": [
    {
     "data": {
      "text/plain": [
       "array([[0., 0., 0.],\n",
       "       [0., 0., 0.]])"
      ]
     },
     "execution_count": 5,
     "metadata": {},
     "output_type": "execute_result"
    }
   ],
   "source": [
    "np.zeros(shape = (2,3))"
   ]
  },
  {
   "cell_type": "code",
   "execution_count": 6,
   "id": "75e65d65-44ba-4977-999c-e92897047f17",
   "metadata": {},
   "outputs": [
    {
     "data": {
      "text/plain": [
       "dtype('float64')"
      ]
     },
     "execution_count": 6,
     "metadata": {},
     "output_type": "execute_result"
    }
   ],
   "source": [
    "np.zeros(shape = (2,3)).dtype"
   ]
  },
  {
   "cell_type": "markdown",
   "id": "aeaeae17-b78e-480f-826c-316b0d94c436",
   "metadata": {},
   "source": [
    "## `np.ones`"
   ]
  },
  {
   "cell_type": "code",
   "execution_count": 7,
   "id": "64ca7393-508a-4817-b8e4-cabb5441a387",
   "metadata": {},
   "outputs": [
    {
     "data": {
      "text/plain": [
       "array([[1., 1., 1.],\n",
       "       [1., 1., 1.]])"
      ]
     },
     "execution_count": 7,
     "metadata": {},
     "output_type": "execute_result"
    }
   ],
   "source": [
    "np.ones(shape = (2, 3))"
   ]
  },
  {
   "cell_type": "code",
   "execution_count": null,
   "id": "28748dfd-8f45-4e10-97ab-98917b5e4426",
   "metadata": {},
   "outputs": [],
   "source": []
  },
  {
   "cell_type": "markdown",
   "id": "4f282549-57f5-4e80-b43f-856869179a11",
   "metadata": {},
   "source": [
    "## `np.full`"
   ]
  },
  {
   "cell_type": "code",
   "execution_count": 8,
   "id": "d1ec8b08-d695-401b-8a45-2ffcf7257ccc",
   "metadata": {},
   "outputs": [
    {
     "data": {
      "text/plain": [
       "array([[4, 4, 4],\n",
       "       [4, 4, 4]])"
      ]
     },
     "execution_count": 8,
     "metadata": {},
     "output_type": "execute_result"
    }
   ],
   "source": [
    "np.full(shape = (2, 3), fill_value=4)"
   ]
  },
  {
   "cell_type": "code",
   "execution_count": 9,
   "id": "9d062914-5d6c-4eb9-a0ff-2bf066b8382a",
   "metadata": {},
   "outputs": [],
   "source": [
    "array = np.array([[1,2,3],\n",
    "                 [4,5,6]])"
   ]
  },
  {
   "cell_type": "code",
   "execution_count": 10,
   "id": "4656ff89-a76e-4f7a-93e9-30ea8d483ee3",
   "metadata": {},
   "outputs": [
    {
     "data": {
      "text/plain": [
       "(2, 3)"
      ]
     },
     "execution_count": 10,
     "metadata": {},
     "output_type": "execute_result"
    }
   ],
   "source": [
    "array.shape"
   ]
  },
  {
   "cell_type": "code",
   "execution_count": 12,
   "id": "f32a5534-c9fd-4bec-a3cb-526dededb6d2",
   "metadata": {},
   "outputs": [
    {
     "data": {
      "text/plain": [
       "array([[0, 0, 0],\n",
       "       [0, 0, 0]])"
      ]
     },
     "execution_count": 12,
     "metadata": {},
     "output_type": "execute_result"
    }
   ],
   "source": [
    "np.zeros_like(a=array)"
   ]
  },
  {
   "cell_type": "code",
   "execution_count": 13,
   "id": "8e8a9ab9-2b7f-4ab7-aeb3-73a78ca70ded",
   "metadata": {},
   "outputs": [
    {
     "data": {
      "text/plain": [
       "array([[1, 1, 1],\n",
       "       [1, 1, 1]])"
      ]
     },
     "execution_count": 13,
     "metadata": {},
     "output_type": "execute_result"
    }
   ],
   "source": [
    "np.ones_like(a=array)"
   ]
  },
  {
   "cell_type": "code",
   "execution_count": 14,
   "id": "84a9a3fd-f61d-4c04-a932-3199d420837c",
   "metadata": {},
   "outputs": [
    {
     "data": {
      "text/plain": [
       "array([[4, 4, 4],\n",
       "       [4, 4, 4]])"
      ]
     },
     "execution_count": 14,
     "metadata": {},
     "output_type": "execute_result"
    }
   ],
   "source": [
    "np.full_like(a=array, fill_value=4)"
   ]
  },
  {
   "cell_type": "markdown",
   "id": "460939f4-caba-4f50-aded-17fe581b4ea5",
   "metadata": {},
   "source": [
    "## `np.empty`"
   ]
  },
  {
   "cell_type": "code",
   "execution_count": 17,
   "id": "7c6b9495-bc5e-47ff-8a11-f5efef131506",
   "metadata": {},
   "outputs": [
    {
     "data": {
      "text/plain": [
       "array([[3.39100397e-315, 0.00000000e+000, 0.00000000e+000],\n",
       "       [0.00000000e+000, 0.00000000e+000, 0.00000000e+000]])"
      ]
     },
     "execution_count": 17,
     "metadata": {},
     "output_type": "execute_result"
    }
   ],
   "source": [
    "np.empty(shape = (2, 3))"
   ]
  },
  {
   "cell_type": "markdown",
   "id": "8ee94a84-07c0-4af8-a220-0476ce0b9b13",
   "metadata": {},
   "source": [
    "## `np.eye`"
   ]
  },
  {
   "cell_type": "code",
   "execution_count": 19,
   "id": "6c7eb753-e549-4988-9b39-f5eee9cd2248",
   "metadata": {},
   "outputs": [
    {
     "data": {
      "text/plain": [
       "array([[1., 0., 0., 0.],\n",
       "       [0., 1., 0., 0.],\n",
       "       [0., 0., 1., 0.],\n",
       "       [0., 0., 0., 1.]])"
      ]
     },
     "execution_count": 19,
     "metadata": {},
     "output_type": "execute_result"
    }
   ],
   "source": [
    "np.eye(N=4)"
   ]
  },
  {
   "cell_type": "code",
   "execution_count": 20,
   "id": "e8be97ff-d998-48e0-8b53-8a462bbffa2d",
   "metadata": {},
   "outputs": [
    {
     "data": {
      "text/plain": [
       "array([[1., 0., 0.],\n",
       "       [0., 1., 0.],\n",
       "       [0., 0., 1.],\n",
       "       [0., 0., 0.],\n",
       "       [0., 0., 0.]])"
      ]
     },
     "execution_count": 20,
     "metadata": {},
     "output_type": "execute_result"
    }
   ],
   "source": [
    "np.eye(N=5, M=3)"
   ]
  },
  {
   "cell_type": "markdown",
   "id": "1da3d1e8-4759-4ac3-a028-630219d997a9",
   "metadata": {},
   "source": [
    "## `np.identity`"
   ]
  },
  {
   "cell_type": "code",
   "execution_count": 21,
   "id": "bde2a323-9919-4b78-9ceb-7a69bb59c792",
   "metadata": {},
   "outputs": [
    {
     "data": {
      "text/plain": [
       "array([[1., 0., 0., 0., 0.],\n",
       "       [0., 1., 0., 0., 0.],\n",
       "       [0., 0., 1., 0., 0.],\n",
       "       [0., 0., 0., 1., 0.],\n",
       "       [0., 0., 0., 0., 1.]])"
      ]
     },
     "execution_count": 21,
     "metadata": {},
     "output_type": "execute_result"
    }
   ],
   "source": [
    "np.identity(n = 5)"
   ]
  },
  {
   "cell_type": "markdown",
   "id": "ca969847-f978-4e23-8529-4e0a1856797a",
   "metadata": {},
   "source": [
    "## `np.arange`"
   ]
  },
  {
   "cell_type": "code",
   "execution_count": 22,
   "id": "2aa06895-1c08-44ab-b1ea-e02beb728d1d",
   "metadata": {},
   "outputs": [
    {
     "data": {
      "text/plain": [
       "array([0, 1, 2, 3, 4, 5, 6, 7, 8, 9])"
      ]
     },
     "execution_count": 22,
     "metadata": {},
     "output_type": "execute_result"
    }
   ],
   "source": [
    "np.arange(stop = 10)"
   ]
  },
  {
   "cell_type": "code",
   "execution_count": 24,
   "id": "874cecaf-c79b-4ac5-80f2-80f6f9d8f499",
   "metadata": {},
   "outputs": [
    {
     "data": {
      "text/plain": [
       "array([3, 4, 5, 6, 7, 8, 9])"
      ]
     },
     "execution_count": 24,
     "metadata": {},
     "output_type": "execute_result"
    }
   ],
   "source": [
    "np.arange(start = 3, stop = 10)"
   ]
  },
  {
   "cell_type": "code",
   "execution_count": 26,
   "id": "b12f25cf-9860-4aeb-b3f6-52f8ce9332a6",
   "metadata": {},
   "outputs": [
    {
     "data": {
      "text/plain": [
       "array([3, 6, 9])"
      ]
     },
     "execution_count": 26,
     "metadata": {},
     "output_type": "execute_result"
    }
   ],
   "source": [
    "np.arange(start = 3, stop = 10, step = 3)"
   ]
  },
  {
   "cell_type": "code",
   "execution_count": 27,
   "id": "a47a74af-d83d-46ec-80d0-a373807b8627",
   "metadata": {},
   "outputs": [
    {
     "data": {
      "text/plain": [
       "array([10,  8,  6,  4])"
      ]
     },
     "execution_count": 27,
     "metadata": {},
     "output_type": "execute_result"
    }
   ],
   "source": [
    "np.arange(start = 10, stop = 3, step = -2)"
   ]
  },
  {
   "cell_type": "code",
   "execution_count": 28,
   "id": "4b5ce1d6-4ba8-4c78-8769-4db4628d621e",
   "metadata": {},
   "outputs": [
    {
     "data": {
      "text/plain": [
       "array([3.  , 3.25, 3.5 , 3.75, 4.  , 4.25, 4.5 , 4.75])"
      ]
     },
     "execution_count": 28,
     "metadata": {},
     "output_type": "execute_result"
    }
   ],
   "source": [
    "np.arange(start = 3, stop = 5, step = 0.25)"
   ]
  },
  {
   "cell_type": "markdown",
   "id": "fb1e4a13-f2c9-46d8-aefb-f360fba8b47e",
   "metadata": {},
   "source": [
    "## `np.linspace`"
   ]
  },
  {
   "cell_type": "code",
   "execution_count": 30,
   "id": "3aa2b760-f906-4f67-8986-a36070470df9",
   "metadata": {},
   "outputs": [
    {
     "data": {
      "text/plain": [
       "array([ 1.,  4.,  7., 10.])"
      ]
     },
     "execution_count": 30,
     "metadata": {},
     "output_type": "execute_result"
    }
   ],
   "source": [
    "np.linspace(start = 1, stop = 10, num = 4)"
   ]
  },
  {
   "cell_type": "code",
   "execution_count": 32,
   "id": "e4be8a56-4f5f-471f-9762-de4d309b92d7",
   "metadata": {},
   "outputs": [
    {
     "data": {
      "text/plain": [
       "array([ 1. ,  2.5,  4. ,  5.5,  7. ,  8.5, 10. ])"
      ]
     },
     "execution_count": 32,
     "metadata": {},
     "output_type": "execute_result"
    }
   ],
   "source": [
    "np.linspace(start = 1, stop = 10, num = 7)"
   ]
  },
  {
   "cell_type": "markdown",
   "id": "492be5ae-dfa7-4132-b875-dd2fed9df695",
   "metadata": {},
   "source": [
    "## `np.logspace`"
   ]
  },
  {
   "cell_type": "code",
   "execution_count": 33,
   "id": "e2cee26e-c0d5-4444-b10d-78acb96c5d8b",
   "metadata": {},
   "outputs": [
    {
     "data": {
      "text/plain": [
       "array([   10.,   100.,  1000., 10000.])"
      ]
     },
     "execution_count": 33,
     "metadata": {},
     "output_type": "execute_result"
    }
   ],
   "source": [
    "np.logspace(start = 1, stop = 4, num = 4)"
   ]
  },
  {
   "cell_type": "markdown",
   "id": "1002165e-ab52-4d49-a486-9f904f806bf2",
   "metadata": {},
   "source": [
    "## `np.geomspace`"
   ]
  },
  {
   "cell_type": "code",
   "execution_count": 34,
   "id": "636f50f8-6a5d-4c84-b002-e6cdfe950dcf",
   "metadata": {},
   "outputs": [
    {
     "data": {
      "text/plain": [
       "array([   10.,   100.,  1000., 10000.])"
      ]
     },
     "execution_count": 34,
     "metadata": {},
     "output_type": "execute_result"
    }
   ],
   "source": [
    "np.geomspace(start = 10, stop = 10000, num = 4)"
   ]
  }
 ],
 "metadata": {
  "kernelspec": {
   "display_name": "Python 3 (ipykernel)",
   "language": "python",
   "name": "python3"
  },
  "language_info": {
   "codemirror_mode": {
    "name": "ipython",
    "version": 3
   },
   "file_extension": ".py",
   "mimetype": "text/x-python",
   "name": "python",
   "nbconvert_exporter": "python",
   "pygments_lexer": "ipython3",
   "version": "3.12.8"
  }
 },
 "nbformat": 4,
 "nbformat_minor": 5
}
